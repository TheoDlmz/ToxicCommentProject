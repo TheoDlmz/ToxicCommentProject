{
  "nbformat": 4,
  "nbformat_minor": 0,
  "metadata": {
    "colab": {
      "name": "toxic_classification.ipynb",
      "provenance": [],
      "collapsed_sections": [
        "_8qL5KJ1kc88",
        "Ctay4c5Rv0dl",
        "dTVCfeomv6Dv",
        "Dexgbb0evEqP",
        "SPgyv5a3v-fI",
        "jsxSmb53wC_A",
        "s0gK7u2XxDLM",
        "E9KPM-qi6OuD",
        "Mwngiqd8kocK",
        "hQJv4-62_Ixn"
      ],
      "machine_shape": "hm"
    },
    "kernelspec": {
      "name": "python3",
      "display_name": "Python 3"
    },
    "accelerator": "GPU",
    "widgets": {
      "application/vnd.jupyter.widget-state+json": {
        "88360ae646084e15ab617a553dc411c1": {
          "model_module": "@jupyter-widgets/controls",
          "model_name": "HBoxModel",
          "state": {
            "_view_name": "HBoxView",
            "_dom_classes": [],
            "_model_name": "HBoxModel",
            "_view_module": "@jupyter-widgets/controls",
            "_model_module_version": "1.5.0",
            "_view_count": null,
            "_view_module_version": "1.5.0",
            "box_style": "",
            "layout": "IPY_MODEL_c4c106e8bac946c4950a0416f55dfd27",
            "_model_module": "@jupyter-widgets/controls",
            "children": [
              "IPY_MODEL_7af1cb1a6ddf45489f81c42303e5802e",
              "IPY_MODEL_9d4c760dc7f74696b58f5d3831be1940"
            ]
          }
        },
        "c4c106e8bac946c4950a0416f55dfd27": {
          "model_module": "@jupyter-widgets/base",
          "model_name": "LayoutModel",
          "state": {
            "_view_name": "LayoutView",
            "grid_template_rows": null,
            "right": null,
            "justify_content": null,
            "_view_module": "@jupyter-widgets/base",
            "overflow": null,
            "_model_module_version": "1.2.0",
            "_view_count": null,
            "flex_flow": null,
            "width": null,
            "min_width": null,
            "border": null,
            "align_items": null,
            "bottom": null,
            "_model_module": "@jupyter-widgets/base",
            "top": null,
            "grid_column": null,
            "overflow_y": null,
            "overflow_x": null,
            "grid_auto_flow": null,
            "grid_area": null,
            "grid_template_columns": null,
            "flex": null,
            "_model_name": "LayoutModel",
            "justify_items": null,
            "grid_row": null,
            "max_height": null,
            "align_content": null,
            "visibility": null,
            "align_self": null,
            "height": null,
            "min_height": null,
            "padding": null,
            "grid_auto_rows": null,
            "grid_gap": null,
            "max_width": null,
            "order": null,
            "_view_module_version": "1.2.0",
            "grid_template_areas": null,
            "object_position": null,
            "object_fit": null,
            "grid_auto_columns": null,
            "margin": null,
            "display": null,
            "left": null
          }
        },
        "7af1cb1a6ddf45489f81c42303e5802e": {
          "model_module": "@jupyter-widgets/controls",
          "model_name": "FloatProgressModel",
          "state": {
            "_view_name": "ProgressView",
            "style": "IPY_MODEL_2b07d5eedb6248e4812eef32f25dfa40",
            "_dom_classes": [],
            "description": "training routine:   0%",
            "_model_name": "FloatProgressModel",
            "bar_style": "",
            "max": 10,
            "_view_module": "@jupyter-widgets/controls",
            "_model_module_version": "1.5.0",
            "value": 0,
            "_view_count": null,
            "_view_module_version": "1.5.0",
            "orientation": "horizontal",
            "min": 0,
            "description_tooltip": null,
            "_model_module": "@jupyter-widgets/controls",
            "layout": "IPY_MODEL_c3c6bc422fce459c9cc405819a25cb41"
          }
        },
        "9d4c760dc7f74696b58f5d3831be1940": {
          "model_module": "@jupyter-widgets/controls",
          "model_name": "HTMLModel",
          "state": {
            "_view_name": "HTMLView",
            "style": "IPY_MODEL_c1df7b3ceb3a4a87910c83023d86c36a",
            "_dom_classes": [],
            "description": "",
            "_model_name": "HTMLModel",
            "placeholder": "​",
            "_view_module": "@jupyter-widgets/controls",
            "_model_module_version": "1.5.0",
            "value": " 0/10 [00:00&lt;?, ?it/s]",
            "_view_count": null,
            "_view_module_version": "1.5.0",
            "description_tooltip": null,
            "_model_module": "@jupyter-widgets/controls",
            "layout": "IPY_MODEL_baa0e8764b124ba69cc565c4c642ef37"
          }
        },
        "2b07d5eedb6248e4812eef32f25dfa40": {
          "model_module": "@jupyter-widgets/controls",
          "model_name": "ProgressStyleModel",
          "state": {
            "_view_name": "StyleView",
            "_model_name": "ProgressStyleModel",
            "description_width": "initial",
            "_view_module": "@jupyter-widgets/base",
            "_model_module_version": "1.5.0",
            "_view_count": null,
            "_view_module_version": "1.2.0",
            "bar_color": null,
            "_model_module": "@jupyter-widgets/controls"
          }
        },
        "c3c6bc422fce459c9cc405819a25cb41": {
          "model_module": "@jupyter-widgets/base",
          "model_name": "LayoutModel",
          "state": {
            "_view_name": "LayoutView",
            "grid_template_rows": null,
            "right": null,
            "justify_content": null,
            "_view_module": "@jupyter-widgets/base",
            "overflow": null,
            "_model_module_version": "1.2.0",
            "_view_count": null,
            "flex_flow": null,
            "width": null,
            "min_width": null,
            "border": null,
            "align_items": null,
            "bottom": null,
            "_model_module": "@jupyter-widgets/base",
            "top": null,
            "grid_column": null,
            "overflow_y": null,
            "overflow_x": null,
            "grid_auto_flow": null,
            "grid_area": null,
            "grid_template_columns": null,
            "flex": null,
            "_model_name": "LayoutModel",
            "justify_items": null,
            "grid_row": null,
            "max_height": null,
            "align_content": null,
            "visibility": null,
            "align_self": null,
            "height": null,
            "min_height": null,
            "padding": null,
            "grid_auto_rows": null,
            "grid_gap": null,
            "max_width": null,
            "order": null,
            "_view_module_version": "1.2.0",
            "grid_template_areas": null,
            "object_position": null,
            "object_fit": null,
            "grid_auto_columns": null,
            "margin": null,
            "display": null,
            "left": null
          }
        },
        "c1df7b3ceb3a4a87910c83023d86c36a": {
          "model_module": "@jupyter-widgets/controls",
          "model_name": "DescriptionStyleModel",
          "state": {
            "_view_name": "StyleView",
            "_model_name": "DescriptionStyleModel",
            "description_width": "",
            "_view_module": "@jupyter-widgets/base",
            "_model_module_version": "1.5.0",
            "_view_count": null,
            "_view_module_version": "1.2.0",
            "_model_module": "@jupyter-widgets/controls"
          }
        },
        "baa0e8764b124ba69cc565c4c642ef37": {
          "model_module": "@jupyter-widgets/base",
          "model_name": "LayoutModel",
          "state": {
            "_view_name": "LayoutView",
            "grid_template_rows": null,
            "right": null,
            "justify_content": null,
            "_view_module": "@jupyter-widgets/base",
            "overflow": null,
            "_model_module_version": "1.2.0",
            "_view_count": null,
            "flex_flow": null,
            "width": null,
            "min_width": null,
            "border": null,
            "align_items": null,
            "bottom": null,
            "_model_module": "@jupyter-widgets/base",
            "top": null,
            "grid_column": null,
            "overflow_y": null,
            "overflow_x": null,
            "grid_auto_flow": null,
            "grid_area": null,
            "grid_template_columns": null,
            "flex": null,
            "_model_name": "LayoutModel",
            "justify_items": null,
            "grid_row": null,
            "max_height": null,
            "align_content": null,
            "visibility": null,
            "align_self": null,
            "height": null,
            "min_height": null,
            "padding": null,
            "grid_auto_rows": null,
            "grid_gap": null,
            "max_width": null,
            "order": null,
            "_view_module_version": "1.2.0",
            "grid_template_areas": null,
            "object_position": null,
            "object_fit": null,
            "grid_auto_columns": null,
            "margin": null,
            "display": null,
            "left": null
          }
        },
        "389d9b04e50b4029b08ff07063692c03": {
          "model_module": "@jupyter-widgets/controls",
          "model_name": "HBoxModel",
          "state": {
            "_view_name": "HBoxView",
            "_dom_classes": [],
            "_model_name": "HBoxModel",
            "_view_module": "@jupyter-widgets/controls",
            "_model_module_version": "1.5.0",
            "_view_count": null,
            "_view_module_version": "1.5.0",
            "box_style": "",
            "layout": "IPY_MODEL_36fd162b4b824ab1ae318a114e003f7a",
            "_model_module": "@jupyter-widgets/controls",
            "children": [
              "IPY_MODEL_78347e09293b478cb89c558113bc8ada",
              "IPY_MODEL_4dd2e0354550419996b6f3b1fff2d43e"
            ]
          }
        },
        "36fd162b4b824ab1ae318a114e003f7a": {
          "model_module": "@jupyter-widgets/base",
          "model_name": "LayoutModel",
          "state": {
            "_view_name": "LayoutView",
            "grid_template_rows": null,
            "right": null,
            "justify_content": null,
            "_view_module": "@jupyter-widgets/base",
            "overflow": null,
            "_model_module_version": "1.2.0",
            "_view_count": null,
            "flex_flow": null,
            "width": null,
            "min_width": null,
            "border": null,
            "align_items": null,
            "bottom": null,
            "_model_module": "@jupyter-widgets/base",
            "top": null,
            "grid_column": null,
            "overflow_y": null,
            "overflow_x": null,
            "grid_auto_flow": null,
            "grid_area": null,
            "grid_template_columns": null,
            "flex": null,
            "_model_name": "LayoutModel",
            "justify_items": null,
            "grid_row": null,
            "max_height": null,
            "align_content": null,
            "visibility": null,
            "align_self": null,
            "height": null,
            "min_height": null,
            "padding": null,
            "grid_auto_rows": null,
            "grid_gap": null,
            "max_width": null,
            "order": null,
            "_view_module_version": "1.2.0",
            "grid_template_areas": null,
            "object_position": null,
            "object_fit": null,
            "grid_auto_columns": null,
            "margin": null,
            "display": null,
            "left": null
          }
        },
        "78347e09293b478cb89c558113bc8ada": {
          "model_module": "@jupyter-widgets/controls",
          "model_name": "FloatProgressModel",
          "state": {
            "_view_name": "ProgressView",
            "style": "IPY_MODEL_7947704ce7f74f5f826d6eabe8615805",
            "_dom_classes": [],
            "description": "split=train:   9%",
            "_model_name": "FloatProgressModel",
            "bar_style": "",
            "max": 1745,
            "_view_module": "@jupyter-widgets/controls",
            "_model_module_version": "1.5.0",
            "value": 149,
            "_view_count": null,
            "_view_module_version": "1.5.0",
            "orientation": "horizontal",
            "min": 0,
            "description_tooltip": null,
            "_model_module": "@jupyter-widgets/controls",
            "layout": "IPY_MODEL_fd309f4b3ee94c9aa98892d5552af1c4"
          }
        },
        "4dd2e0354550419996b6f3b1fff2d43e": {
          "model_module": "@jupyter-widgets/controls",
          "model_name": "HTMLModel",
          "state": {
            "_view_name": "HTMLView",
            "style": "IPY_MODEL_dfdaf8e5589e43cf9ac6c39c68efa3b1",
            "_dom_classes": [],
            "description": "",
            "_model_name": "HTMLModel",
            "placeholder": "​",
            "_view_module": "@jupyter-widgets/controls",
            "_model_module_version": "1.5.0",
            "value": " 149/1745 [00:19&lt;03:20,  7.97it/s, acc=82.4, epoch=0, loss=0.391]",
            "_view_count": null,
            "_view_module_version": "1.5.0",
            "description_tooltip": null,
            "_model_module": "@jupyter-widgets/controls",
            "layout": "IPY_MODEL_2c2eb91bfa9647cfbe07017930a92655"
          }
        },
        "7947704ce7f74f5f826d6eabe8615805": {
          "model_module": "@jupyter-widgets/controls",
          "model_name": "ProgressStyleModel",
          "state": {
            "_view_name": "StyleView",
            "_model_name": "ProgressStyleModel",
            "description_width": "initial",
            "_view_module": "@jupyter-widgets/base",
            "_model_module_version": "1.5.0",
            "_view_count": null,
            "_view_module_version": "1.2.0",
            "bar_color": null,
            "_model_module": "@jupyter-widgets/controls"
          }
        },
        "fd309f4b3ee94c9aa98892d5552af1c4": {
          "model_module": "@jupyter-widgets/base",
          "model_name": "LayoutModel",
          "state": {
            "_view_name": "LayoutView",
            "grid_template_rows": null,
            "right": null,
            "justify_content": null,
            "_view_module": "@jupyter-widgets/base",
            "overflow": null,
            "_model_module_version": "1.2.0",
            "_view_count": null,
            "flex_flow": null,
            "width": null,
            "min_width": null,
            "border": null,
            "align_items": null,
            "bottom": null,
            "_model_module": "@jupyter-widgets/base",
            "top": null,
            "grid_column": null,
            "overflow_y": null,
            "overflow_x": null,
            "grid_auto_flow": null,
            "grid_area": null,
            "grid_template_columns": null,
            "flex": null,
            "_model_name": "LayoutModel",
            "justify_items": null,
            "grid_row": null,
            "max_height": null,
            "align_content": null,
            "visibility": null,
            "align_self": null,
            "height": null,
            "min_height": null,
            "padding": null,
            "grid_auto_rows": null,
            "grid_gap": null,
            "max_width": null,
            "order": null,
            "_view_module_version": "1.2.0",
            "grid_template_areas": null,
            "object_position": null,
            "object_fit": null,
            "grid_auto_columns": null,
            "margin": null,
            "display": null,
            "left": null
          }
        },
        "dfdaf8e5589e43cf9ac6c39c68efa3b1": {
          "model_module": "@jupyter-widgets/controls",
          "model_name": "DescriptionStyleModel",
          "state": {
            "_view_name": "StyleView",
            "_model_name": "DescriptionStyleModel",
            "description_width": "",
            "_view_module": "@jupyter-widgets/base",
            "_model_module_version": "1.5.0",
            "_view_count": null,
            "_view_module_version": "1.2.0",
            "_model_module": "@jupyter-widgets/controls"
          }
        },
        "2c2eb91bfa9647cfbe07017930a92655": {
          "model_module": "@jupyter-widgets/base",
          "model_name": "LayoutModel",
          "state": {
            "_view_name": "LayoutView",
            "grid_template_rows": null,
            "right": null,
            "justify_content": null,
            "_view_module": "@jupyter-widgets/base",
            "overflow": null,
            "_model_module_version": "1.2.0",
            "_view_count": null,
            "flex_flow": null,
            "width": null,
            "min_width": null,
            "border": null,
            "align_items": null,
            "bottom": null,
            "_model_module": "@jupyter-widgets/base",
            "top": null,
            "grid_column": null,
            "overflow_y": null,
            "overflow_x": null,
            "grid_auto_flow": null,
            "grid_area": null,
            "grid_template_columns": null,
            "flex": null,
            "_model_name": "LayoutModel",
            "justify_items": null,
            "grid_row": null,
            "max_height": null,
            "align_content": null,
            "visibility": null,
            "align_self": null,
            "height": null,
            "min_height": null,
            "padding": null,
            "grid_auto_rows": null,
            "grid_gap": null,
            "max_width": null,
            "order": null,
            "_view_module_version": "1.2.0",
            "grid_template_areas": null,
            "object_position": null,
            "object_fit": null,
            "grid_auto_columns": null,
            "margin": null,
            "display": null,
            "left": null
          }
        },
        "d558b60f475a4f5aaa86d3e255e409cc": {
          "model_module": "@jupyter-widgets/controls",
          "model_name": "HBoxModel",
          "state": {
            "_view_name": "HBoxView",
            "_dom_classes": [],
            "_model_name": "HBoxModel",
            "_view_module": "@jupyter-widgets/controls",
            "_model_module_version": "1.5.0",
            "_view_count": null,
            "_view_module_version": "1.5.0",
            "box_style": "",
            "layout": "IPY_MODEL_cf2584f426544db78c5147b96457adbb",
            "_model_module": "@jupyter-widgets/controls",
            "children": [
              "IPY_MODEL_79464192d77b4730944d0e23090ff0a6",
              "IPY_MODEL_62c345e5bf3d4008a7f12bc4cbfc90dd"
            ]
          }
        },
        "cf2584f426544db78c5147b96457adbb": {
          "model_module": "@jupyter-widgets/base",
          "model_name": "LayoutModel",
          "state": {
            "_view_name": "LayoutView",
            "grid_template_rows": null,
            "right": null,
            "justify_content": null,
            "_view_module": "@jupyter-widgets/base",
            "overflow": null,
            "_model_module_version": "1.2.0",
            "_view_count": null,
            "flex_flow": null,
            "width": null,
            "min_width": null,
            "border": null,
            "align_items": null,
            "bottom": null,
            "_model_module": "@jupyter-widgets/base",
            "top": null,
            "grid_column": null,
            "overflow_y": null,
            "overflow_x": null,
            "grid_auto_flow": null,
            "grid_area": null,
            "grid_template_columns": null,
            "flex": null,
            "_model_name": "LayoutModel",
            "justify_items": null,
            "grid_row": null,
            "max_height": null,
            "align_content": null,
            "visibility": null,
            "align_self": null,
            "height": null,
            "min_height": null,
            "padding": null,
            "grid_auto_rows": null,
            "grid_gap": null,
            "max_width": null,
            "order": null,
            "_view_module_version": "1.2.0",
            "grid_template_areas": null,
            "object_position": null,
            "object_fit": null,
            "grid_auto_columns": null,
            "margin": null,
            "display": null,
            "left": null
          }
        },
        "79464192d77b4730944d0e23090ff0a6": {
          "model_module": "@jupyter-widgets/controls",
          "model_name": "FloatProgressModel",
          "state": {
            "_view_name": "ProgressView",
            "style": "IPY_MODEL_aee3f757910942dcaedcc8bdfdb42f87",
            "_dom_classes": [],
            "description": "split=val:   0%",
            "_model_name": "FloatProgressModel",
            "bar_style": "",
            "max": 498,
            "_view_module": "@jupyter-widgets/controls",
            "_model_module_version": "1.5.0",
            "value": 0,
            "_view_count": null,
            "_view_module_version": "1.5.0",
            "orientation": "horizontal",
            "min": 0,
            "description_tooltip": null,
            "_model_module": "@jupyter-widgets/controls",
            "layout": "IPY_MODEL_4dd4ca1c81de4ff392560349f463c378"
          }
        },
        "62c345e5bf3d4008a7f12bc4cbfc90dd": {
          "model_module": "@jupyter-widgets/controls",
          "model_name": "HTMLModel",
          "state": {
            "_view_name": "HTMLView",
            "style": "IPY_MODEL_8f669ff328694e049fa208794617b893",
            "_dom_classes": [],
            "description": "",
            "_model_name": "HTMLModel",
            "placeholder": "​",
            "_view_module": "@jupyter-widgets/controls",
            "_model_module_version": "1.5.0",
            "value": " 0/498 [00:00&lt;?, ?it/s]",
            "_view_count": null,
            "_view_module_version": "1.5.0",
            "description_tooltip": null,
            "_model_module": "@jupyter-widgets/controls",
            "layout": "IPY_MODEL_bcd557aef58e4fd6bfbc1b00594a8498"
          }
        },
        "aee3f757910942dcaedcc8bdfdb42f87": {
          "model_module": "@jupyter-widgets/controls",
          "model_name": "ProgressStyleModel",
          "state": {
            "_view_name": "StyleView",
            "_model_name": "ProgressStyleModel",
            "description_width": "initial",
            "_view_module": "@jupyter-widgets/base",
            "_model_module_version": "1.5.0",
            "_view_count": null,
            "_view_module_version": "1.2.0",
            "bar_color": null,
            "_model_module": "@jupyter-widgets/controls"
          }
        },
        "4dd4ca1c81de4ff392560349f463c378": {
          "model_module": "@jupyter-widgets/base",
          "model_name": "LayoutModel",
          "state": {
            "_view_name": "LayoutView",
            "grid_template_rows": null,
            "right": null,
            "justify_content": null,
            "_view_module": "@jupyter-widgets/base",
            "overflow": null,
            "_model_module_version": "1.2.0",
            "_view_count": null,
            "flex_flow": null,
            "width": null,
            "min_width": null,
            "border": null,
            "align_items": null,
            "bottom": null,
            "_model_module": "@jupyter-widgets/base",
            "top": null,
            "grid_column": null,
            "overflow_y": null,
            "overflow_x": null,
            "grid_auto_flow": null,
            "grid_area": null,
            "grid_template_columns": null,
            "flex": null,
            "_model_name": "LayoutModel",
            "justify_items": null,
            "grid_row": null,
            "max_height": null,
            "align_content": null,
            "visibility": null,
            "align_self": null,
            "height": null,
            "min_height": null,
            "padding": null,
            "grid_auto_rows": null,
            "grid_gap": null,
            "max_width": null,
            "order": null,
            "_view_module_version": "1.2.0",
            "grid_template_areas": null,
            "object_position": null,
            "object_fit": null,
            "grid_auto_columns": null,
            "margin": null,
            "display": null,
            "left": null
          }
        },
        "8f669ff328694e049fa208794617b893": {
          "model_module": "@jupyter-widgets/controls",
          "model_name": "DescriptionStyleModel",
          "state": {
            "_view_name": "StyleView",
            "_model_name": "DescriptionStyleModel",
            "description_width": "",
            "_view_module": "@jupyter-widgets/base",
            "_model_module_version": "1.5.0",
            "_view_count": null,
            "_view_module_version": "1.2.0",
            "_model_module": "@jupyter-widgets/controls"
          }
        },
        "bcd557aef58e4fd6bfbc1b00594a8498": {
          "model_module": "@jupyter-widgets/base",
          "model_name": "LayoutModel",
          "state": {
            "_view_name": "LayoutView",
            "grid_template_rows": null,
            "right": null,
            "justify_content": null,
            "_view_module": "@jupyter-widgets/base",
            "overflow": null,
            "_model_module_version": "1.2.0",
            "_view_count": null,
            "flex_flow": null,
            "width": null,
            "min_width": null,
            "border": null,
            "align_items": null,
            "bottom": null,
            "_model_module": "@jupyter-widgets/base",
            "top": null,
            "grid_column": null,
            "overflow_y": null,
            "overflow_x": null,
            "grid_auto_flow": null,
            "grid_area": null,
            "grid_template_columns": null,
            "flex": null,
            "_model_name": "LayoutModel",
            "justify_items": null,
            "grid_row": null,
            "max_height": null,
            "align_content": null,
            "visibility": null,
            "align_self": null,
            "height": null,
            "min_height": null,
            "padding": null,
            "grid_auto_rows": null,
            "grid_gap": null,
            "max_width": null,
            "order": null,
            "_view_module_version": "1.2.0",
            "grid_template_areas": null,
            "object_position": null,
            "object_fit": null,
            "grid_auto_columns": null,
            "margin": null,
            "display": null,
            "left": null
          }
        }
      }
    }
  },
  "cells": [
    {
      "cell_type": "markdown",
      "metadata": {
        "id": "s0iBFE3ykw5F",
        "colab_type": "text"
      },
      "source": [
        "# 1. Some imports\n"
      ]
    },
    {
      "cell_type": "code",
      "metadata": {
        "id": "Sne6MmP98n44",
        "colab_type": "code",
        "colab": {}
      },
      "source": [
        "from argparse import Namespace\n",
        "from collections import Counter\n",
        "import json\n",
        "import re\n",
        "import string\n",
        "import os\n",
        "import sys\n",
        "import nltk \n",
        "import re\n",
        "\n",
        "import numpy as np\n",
        "import pandas as pd\n",
        "import torch\n",
        "import torch.nn as nn\n",
        "import torch.nn.functional as F\n",
        "import torch.optim as optim\n",
        "from torch.utils.data import Dataset, DataLoader\n",
        "from torch.utils.data.sampler import WeightedRandomSampler\n",
        "from torch.nn.utils.rnn import pack_padded_sequence, pad_packed_sequence, PackedSequence\n",
        "from torch.distributions import Bernoulli\n",
        "from torch.autograd import Variable\n",
        "from tqdm import tqdm_notebook\n",
        "import matplotlib.pyplot as plt\n",
        "import seaborn as sns\n",
        "from matplotlib import rcParams\n",
        "\n",
        "\n",
        "from sklearn.ensemble import GradientBoostingClassifier, RandomForestClassifier\n",
        "from sklearn.linear_model import LogisticRegression\n",
        "from sklearn.naive_bayes import MultinomialNB\n",
        "from sklearn.svm import LinearSVC\n",
        "from sklearn.pipeline import Pipeline\n",
        "from sklearn import metrics\n",
        "from sklearn.feature_extraction.text import CountVectorizer, TfidfVectorizer\n",
        "from sklearn.feature_extraction.text import TfidfTransformer\n",
        "from sklearn.metrics import roc_auc_score\n",
        "from sklearn.metrics import f1_score, accuracy_score, recall_score"
      ],
      "execution_count": 0,
      "outputs": []
    },
    {
      "cell_type": "code",
      "metadata": {
        "id": "SiEmokyq3rG4",
        "colab_type": "code",
        "outputId": "e569cba6-3099-4775-e998-d3fba19de662",
        "colab": {
          "base_uri": "https://localhost:8080/",
          "height": 52
        }
      },
      "source": [
        "nltk.download('stopwords')\n",
        "sys.setrecursionlimit(10000)"
      ],
      "execution_count": 0,
      "outputs": [
        {
          "output_type": "stream",
          "text": [
            "[nltk_data] Downloading package stopwords to /root/nltk_data...\n",
            "[nltk_data]   Package stopwords is already up-to-date!\n"
          ],
          "name": "stdout"
        }
      ]
    },
    {
      "cell_type": "code",
      "metadata": {
        "id": "0CPC90lB9OR9",
        "colab_type": "code",
        "outputId": "8e1dbea7-c1cc-4422-f547-6ae9fccdc487",
        "colab": {
          "base_uri": "https://localhost:8080/",
          "height": 976
        }
      },
      "source": [
        "!pip install transformers\n",
        "!pip install tensorboardx\n",
        "!pip install simpletransformers"
      ],
      "execution_count": 0,
      "outputs": [
        {
          "output_type": "stream",
          "text": [
            "Requirement already satisfied: transformers in /usr/local/lib/python3.6/dist-packages (2.9.1)\n",
            "Requirement already satisfied: dataclasses; python_version < \"3.7\" in /usr/local/lib/python3.6/dist-packages (from transformers) (0.7)\n",
            "Requirement already satisfied: numpy in /usr/local/lib/python3.6/dist-packages (from transformers) (1.18.4)\n",
            "Requirement already satisfied: tqdm>=4.27 in /usr/local/lib/python3.6/dist-packages (from transformers) (4.41.1)\n",
            "Requirement already satisfied: requests in /usr/local/lib/python3.6/dist-packages (from transformers) (2.23.0)\n",
            "Requirement already satisfied: sacremoses in /usr/local/lib/python3.6/dist-packages (from transformers) (0.0.43)\n",
            "Requirement already satisfied: sentencepiece in /usr/local/lib/python3.6/dist-packages (from transformers) (0.1.90)\n",
            "Requirement already satisfied: regex!=2019.12.17 in /usr/local/lib/python3.6/dist-packages (from transformers) (2019.12.20)\n",
            "Requirement already satisfied: tokenizers==0.7.0 in /usr/local/lib/python3.6/dist-packages (from transformers) (0.7.0)\n",
            "Requirement already satisfied: filelock in /usr/local/lib/python3.6/dist-packages (from transformers) (3.0.12)\n",
            "Requirement already satisfied: chardet<4,>=3.0.2 in /usr/local/lib/python3.6/dist-packages (from requests->transformers) (3.0.4)\n",
            "Requirement already satisfied: urllib3!=1.25.0,!=1.25.1,<1.26,>=1.21.1 in /usr/local/lib/python3.6/dist-packages (from requests->transformers) (1.24.3)\n",
            "Requirement already satisfied: certifi>=2017.4.17 in /usr/local/lib/python3.6/dist-packages (from requests->transformers) (2020.4.5.1)\n",
            "Requirement already satisfied: idna<3,>=2.5 in /usr/local/lib/python3.6/dist-packages (from requests->transformers) (2.9)\n",
            "Requirement already satisfied: click in /usr/local/lib/python3.6/dist-packages (from sacremoses->transformers) (7.1.2)\n",
            "Requirement already satisfied: joblib in /usr/local/lib/python3.6/dist-packages (from sacremoses->transformers) (0.14.1)\n",
            "Requirement already satisfied: six in /usr/local/lib/python3.6/dist-packages (from sacremoses->transformers) (1.12.0)\n",
            "Requirement already satisfied: tensorboardx in /usr/local/lib/python3.6/dist-packages (2.0)\n",
            "Requirement already satisfied: six in /usr/local/lib/python3.6/dist-packages (from tensorboardx) (1.12.0)\n",
            "Requirement already satisfied: protobuf>=3.8.0 in /usr/local/lib/python3.6/dist-packages (from tensorboardx) (3.10.0)\n",
            "Requirement already satisfied: numpy in /usr/local/lib/python3.6/dist-packages (from tensorboardx) (1.18.4)\n",
            "Requirement already satisfied: setuptools in /usr/local/lib/python3.6/dist-packages (from protobuf>=3.8.0->tensorboardx) (46.3.0)\n",
            "Requirement already satisfied: simpletransformers in /usr/local/lib/python3.6/dist-packages (0.28.4)\n",
            "Requirement already satisfied: seqeval in /usr/local/lib/python3.6/dist-packages (from simpletransformers) (0.0.12)\n",
            "Requirement already satisfied: scikit-learn in /usr/local/lib/python3.6/dist-packages (from simpletransformers) (0.22.2.post1)\n",
            "Requirement already satisfied: tensorboardx in /usr/local/lib/python3.6/dist-packages (from simpletransformers) (2.0)\n",
            "Requirement already satisfied: pandas in /usr/local/lib/python3.6/dist-packages (from simpletransformers) (1.0.3)\n",
            "Requirement already satisfied: scipy in /usr/local/lib/python3.6/dist-packages (from simpletransformers) (1.4.1)\n",
            "Requirement already satisfied: transformers>=2.9.1 in /usr/local/lib/python3.6/dist-packages (from simpletransformers) (2.9.1)\n",
            "Requirement already satisfied: tqdm in /usr/local/lib/python3.6/dist-packages (from simpletransformers) (4.41.1)\n",
            "Requirement already satisfied: regex in /usr/local/lib/python3.6/dist-packages (from simpletransformers) (2019.12.20)\n",
            "Requirement already satisfied: requests in /usr/local/lib/python3.6/dist-packages (from simpletransformers) (2.23.0)\n",
            "Requirement already satisfied: numpy in /usr/local/lib/python3.6/dist-packages (from simpletransformers) (1.18.4)\n",
            "Requirement already satisfied: tokenizers in /usr/local/lib/python3.6/dist-packages (from simpletransformers) (0.7.0)\n",
            "Requirement already satisfied: Keras>=2.2.4 in /usr/local/lib/python3.6/dist-packages (from seqeval->simpletransformers) (2.3.1)\n",
            "Requirement already satisfied: joblib>=0.11 in /usr/local/lib/python3.6/dist-packages (from scikit-learn->simpletransformers) (0.14.1)\n",
            "Requirement already satisfied: protobuf>=3.8.0 in /usr/local/lib/python3.6/dist-packages (from tensorboardx->simpletransformers) (3.10.0)\n",
            "Requirement already satisfied: six in /usr/local/lib/python3.6/dist-packages (from tensorboardx->simpletransformers) (1.12.0)\n",
            "Requirement already satisfied: python-dateutil>=2.6.1 in /usr/local/lib/python3.6/dist-packages (from pandas->simpletransformers) (2.8.1)\n",
            "Requirement already satisfied: pytz>=2017.2 in /usr/local/lib/python3.6/dist-packages (from pandas->simpletransformers) (2018.9)\n",
            "Requirement already satisfied: sacremoses in /usr/local/lib/python3.6/dist-packages (from transformers>=2.9.1->simpletransformers) (0.0.43)\n",
            "Requirement already satisfied: sentencepiece in /usr/local/lib/python3.6/dist-packages (from transformers>=2.9.1->simpletransformers) (0.1.90)\n",
            "Requirement already satisfied: filelock in /usr/local/lib/python3.6/dist-packages (from transformers>=2.9.1->simpletransformers) (3.0.12)\n",
            "Requirement already satisfied: dataclasses; python_version < \"3.7\" in /usr/local/lib/python3.6/dist-packages (from transformers>=2.9.1->simpletransformers) (0.7)\n",
            "Requirement already satisfied: urllib3!=1.25.0,!=1.25.1,<1.26,>=1.21.1 in /usr/local/lib/python3.6/dist-packages (from requests->simpletransformers) (1.24.3)\n",
            "Requirement already satisfied: idna<3,>=2.5 in /usr/local/lib/python3.6/dist-packages (from requests->simpletransformers) (2.9)\n",
            "Requirement already satisfied: chardet<4,>=3.0.2 in /usr/local/lib/python3.6/dist-packages (from requests->simpletransformers) (3.0.4)\n",
            "Requirement already satisfied: certifi>=2017.4.17 in /usr/local/lib/python3.6/dist-packages (from requests->simpletransformers) (2020.4.5.1)\n",
            "Requirement already satisfied: keras-preprocessing>=1.0.5 in /usr/local/lib/python3.6/dist-packages (from Keras>=2.2.4->seqeval->simpletransformers) (1.1.0)\n",
            "Requirement already satisfied: h5py in /usr/local/lib/python3.6/dist-packages (from Keras>=2.2.4->seqeval->simpletransformers) (2.10.0)\n",
            "Requirement already satisfied: keras-applications>=1.0.6 in /usr/local/lib/python3.6/dist-packages (from Keras>=2.2.4->seqeval->simpletransformers) (1.0.8)\n",
            "Requirement already satisfied: pyyaml in /usr/local/lib/python3.6/dist-packages (from Keras>=2.2.4->seqeval->simpletransformers) (3.13)\n",
            "Requirement already satisfied: setuptools in /usr/local/lib/python3.6/dist-packages (from protobuf>=3.8.0->tensorboardx->simpletransformers) (46.3.0)\n",
            "Requirement already satisfied: click in /usr/local/lib/python3.6/dist-packages (from sacremoses->transformers>=2.9.1->simpletransformers) (7.1.2)\n"
          ],
          "name": "stdout"
        }
      ]
    },
    {
      "cell_type": "markdown",
      "metadata": {
        "id": "0SQ6rHbnMPBa",
        "colab_type": "text"
      },
      "source": [
        "Un pre-requis pour les transformers (installation un peu longue)"
      ]
    },
    {
      "cell_type": "code",
      "metadata": {
        "id": "G1sEXR9b0lTo",
        "colab_type": "code",
        "colab": {}
      },
      "source": [
        "!git clone https://github.com/NVIDIA/apex\n",
        "%cd apex\n",
        "!pip install -v --no-cache-dir --global-option=\"--cpp_ext\" --global-option=\"--cuda_ext\" ./"
      ],
      "execution_count": 0,
      "outputs": []
    },
    {
      "cell_type": "markdown",
      "metadata": {
        "id": "Ry1ZKPItMVaJ",
        "colab_type": "text"
      },
      "source": [
        "Données et embeddings GloVe"
      ]
    },
    {
      "cell_type": "code",
      "metadata": {
        "id": "mdX050178bk9",
        "colab_type": "code",
        "outputId": "8dcf0739-aa72-4d90-d6b4-a5f9267ebe8e",
        "colab": {
          "base_uri": "https://localhost:8080/",
          "height": 212
        }
      },
      "source": [
        "!wget http://theo.delemazure.fr/perso/toxic_comments.csv\n",
        "!wget http://nlp.stanford.edu/data/glove.twitter.27B.zip\n",
        "!unzip glove.twitter.27B.zip"
      ],
      "execution_count": 0,
      "outputs": [
        {
          "output_type": "stream",
          "text": [
            "--2020-05-16 01:40:12--  http://theo.delemazure.fr/perso/toxic_comments.csv\n",
            "Resolving theo.delemazure.fr (theo.delemazure.fr)... 217.160.0.80, 2001:8d8:100f:f000::267\n",
            "Connecting to theo.delemazure.fr (theo.delemazure.fr)|217.160.0.80|:80... connected.\n",
            "HTTP request sent, awaiting response... 200 OK\n",
            "Length: 65817304 (63M) [text/csv]\n",
            "Saving to: ‘toxic_comments.csv.1’\n",
            "\n",
            "toxic_comments.csv. 100%[===================>]  62.77M  2.38MB/s    in 28s     \n",
            "\n",
            "2020-05-16 01:40:40 (2.28 MB/s) - ‘toxic_comments.csv.1’ saved [65817304/65817304]\n",
            "\n"
          ],
          "name": "stdout"
        }
      ]
    },
    {
      "cell_type": "code",
      "metadata": {
        "id": "mmsWFYMdaGzl",
        "colab_type": "code",
        "colab": {}
      },
      "source": [
        "from simpletransformers.classification import ClassificationModel\n",
        "from simpletransformers.classification import MultiLabelClassificationModel"
      ],
      "execution_count": 0,
      "outputs": []
    },
    {
      "cell_type": "markdown",
      "metadata": {
        "id": "t0IEeKudvQAd",
        "colab_type": "text"
      },
      "source": [
        "## 1.a. Playing with data"
      ]
    },
    {
      "cell_type": "code",
      "metadata": {
        "id": "OMXqM37ajlZV",
        "colab_type": "code",
        "colab": {}
      },
      "source": [
        "sns.set()\n",
        "data = pd.read_csv('toxic_comments.csv')\n",
        "for index, row in data.iterrows():\n",
        "  if row.clean and (row.toxic == 1 or row.identity_hate == 1 or row.insult == 1 or row.obscene == 1 or row.severe_toxic == 1 or row.threat == 1):\n",
        "    print(row)\n"
      ],
      "execution_count": 0,
      "outputs": []
    },
    {
      "cell_type": "code",
      "metadata": {
        "id": "lyZ0GZIejzRE",
        "colab_type": "code",
        "outputId": "8af2b384-e53b-4065-82ae-dc8cba15241f",
        "colab": {
          "base_uri": "https://localhost:8080/",
          "height": 197
        }
      },
      "source": [
        "data.head()"
      ],
      "execution_count": 0,
      "outputs": [
        {
          "output_type": "execute_result",
          "data": {
            "text/html": [
              "<div>\n",
              "<style scoped>\n",
              "    .dataframe tbody tr th:only-of-type {\n",
              "        vertical-align: middle;\n",
              "    }\n",
              "\n",
              "    .dataframe tbody tr th {\n",
              "        vertical-align: top;\n",
              "    }\n",
              "\n",
              "    .dataframe thead th {\n",
              "        text-align: right;\n",
              "    }\n",
              "</style>\n",
              "<table border=\"1\" class=\"dataframe\">\n",
              "  <thead>\n",
              "    <tr style=\"text-align: right;\">\n",
              "      <th></th>\n",
              "      <th>clean</th>\n",
              "      <th>comment_text</th>\n",
              "      <th>identity_hate</th>\n",
              "      <th>insult</th>\n",
              "      <th>obscene</th>\n",
              "      <th>severe_toxic</th>\n",
              "      <th>split</th>\n",
              "      <th>threat</th>\n",
              "      <th>toxic</th>\n",
              "    </tr>\n",
              "  </thead>\n",
              "  <tbody>\n",
              "    <tr>\n",
              "      <th>0</th>\n",
              "      <td>False</td>\n",
              "      <td>i am only going to fucking say this once those...</td>\n",
              "      <td>0</td>\n",
              "      <td>0</td>\n",
              "      <td>1</td>\n",
              "      <td>0</td>\n",
              "      <td>train</td>\n",
              "      <td>0</td>\n",
              "      <td>1</td>\n",
              "    </tr>\n",
              "    <tr>\n",
              "      <th>1</th>\n",
              "      <td>False</td>\n",
              "      <td>2010 's arthur rubin i want to thank but i lik...</td>\n",
              "      <td>0</td>\n",
              "      <td>1</td>\n",
              "      <td>1</td>\n",
              "      <td>0</td>\n",
              "      <td>train</td>\n",
              "      <td>0</td>\n",
              "      <td>1</td>\n",
              "    </tr>\n",
              "    <tr>\n",
              "      <th>2</th>\n",
              "      <td>False</td>\n",
              "      <td>anonymous you gay afambro fuck you</td>\n",
              "      <td>1</td>\n",
              "      <td>1</td>\n",
              "      <td>1</td>\n",
              "      <td>0</td>\n",
              "      <td>train</td>\n",
              "      <td>0</td>\n",
              "      <td>1</td>\n",
              "    </tr>\n",
              "    <tr>\n",
              "      <th>3</th>\n",
              "      <td>False</td>\n",
              "      <td>putting stupid comments in articles will resul...</td>\n",
              "      <td>0</td>\n",
              "      <td>0</td>\n",
              "      <td>0</td>\n",
              "      <td>0</td>\n",
              "      <td>train</td>\n",
              "      <td>0</td>\n",
              "      <td>1</td>\n",
              "    </tr>\n",
              "    <tr>\n",
              "      <th>4</th>\n",
              "      <td>False</td>\n",
              "      <td>boobies tatas taters hooters funbags tits hoot...</td>\n",
              "      <td>0</td>\n",
              "      <td>0</td>\n",
              "      <td>1</td>\n",
              "      <td>0</td>\n",
              "      <td>train</td>\n",
              "      <td>0</td>\n",
              "      <td>1</td>\n",
              "    </tr>\n",
              "  </tbody>\n",
              "</table>\n",
              "</div>"
            ],
            "text/plain": [
              "   clean                                       comment_text  ...  threat  toxic\n",
              "0  False  i am only going to fucking say this once those...  ...       0      1\n",
              "1  False  2010 's arthur rubin i want to thank but i lik...  ...       0      1\n",
              "2  False                 anonymous you gay afambro fuck you  ...       0      1\n",
              "3  False  putting stupid comments in articles will resul...  ...       0      1\n",
              "4  False  boobies tatas taters hooters funbags tits hoot...  ...       0      1\n",
              "\n",
              "[5 rows x 9 columns]"
            ]
          },
          "metadata": {
            "tags": []
          },
          "execution_count": 49
        }
      ]
    },
    {
      "cell_type": "code",
      "metadata": {
        "id": "-wRoWYhp9m1A",
        "colab_type": "code",
        "outputId": "afc0f10e-ddb3-4c2c-f6ff-46c492775e39",
        "colab": {
          "base_uri": "https://localhost:8080/",
          "height": 925
        }
      },
      "source": [
        "lcom = []\n",
        "for com in data[\"comment_text\"]:\n",
        "  lcom.append((len(com.split(\" \")), com))\n",
        "\n",
        "lcom = sorted(lcom)[::-1]\n",
        "\n",
        "for i in range(50):\n",
        "  print(lcom[i][0], lcom[i][1])"
      ],
      "execution_count": 0,
      "outputs": [
        {
          "output_type": "stream",
          "text": [
            "4949 you ! you blocked me worm why ! ! ! ! ! ! ! ! ! ! ! ! ! ! ! ! ! ! ! ! ! ! ! ! ! ! ! ! ! ! ! ! ! ! ! ! ! ! ! ! ! ! ! ! ! ! ! ! ! ! ! ! ! ! ! ! ! ! ! ! ! ! ! ! ! ! ! ! ! ! ! ! ! ! ! ! ! ! ! ! ! ! ! ! ! ! ! ! ! ! ! ! ! ! ! ! ! ! ! ! ! ! ! ! ! ! ! ! ! ! ! ! ! ! ! ! ! ! ! ! ! ! ! ! ! ! ! ! ! ! ! ! ! ! ! ! ! ! ! ! ! ! ! ! ! ! ! ! ! ! ! ! ! ! ! ! ! ! ! ! ! ! ! ! ! ! ! ! ! ! ! ! ! ! ! ! ! ! ! ! ! ! ! ! ! ! ! ! ! ! ! ! ! ! ! ! ! ! ! ! ! ! ! ! ! ! ! ! ! ! ! ! ! ! ! ! ! ! ! ! ! ! ! ! ! ! ! ! ! ! ! ! ! ! ! ! ! ! ! ! ! ! ! ! ! ! ! ! ! ! ! ! ! ! ! ! ! ! ! ! ! ! ! ! ! ! ! ! ! ! ! ! ! ! ! ! ! ! ! ! ! ! ! ! ! ! ! ! ! ! ! ! ! ! ! ! ! ! ! ! ! ! ! ! ! ! ! ! ! ! ! ! ! ! ! ! ! ! ! ! ! ! ! ! ! ! ! ! ! ! ! ! ! ! ! ! ! ! ! ! ! ! ! ! ! ! ! ! ! ! ! ! ! ! ! ! ! ! ! ! ! ! ! ! ! ! ! ! ! ! ! ! ! ! ! ! ! ! ! ! ! ! ! ! ! ! ! ! ! ! ! ! ! ! ! ! ! ! ! ! ! ! ! ! ! ! ! ! ! ! ! ! ! ! ! ! ! ! ! ! ! ! ! ! ! ! ! ! ! ! ! ! ! ! ! ! ! ! ! ! ! ! ! ! ! ! ! ! ! ! ! ! ! ! ! ! ! ! ! ! ! ! ! ! ! ! ! ! ! ! ! ! ! ! ! ! ! ! ! ! ! ! ! ! ! ! ! ! ! ! ! ! ! ! ! ! ! ! ! ! ! ! ! ! ! ! ! ! ! ! ! ! ! ! ! ! ! ! ! ! ! ! ! ! ! ! ! ! ! ! ! ! ! ! ! ! ! ! ! ! ! ! ! ! ! ! ! ! ! ! ! ! ! ! ! ! ! ! ! ! ! ! ! ! ! ! ! ! ! ! ! ! ! ! ! ! ! ! ! ! ! ! ! ! ! ! ! ! ! ! ! ! ! ! ! ! ! ! ! ! ! ! ! ! ! ! ! ! ! ! ! ! ! ! ! ! ! ! ! ! ! ! ! ! ! ! ! ! ! ! ! ! ! ! ! ! ! ! ! ! ! ! ! ! ! ! ! ! ! ! ! ! ! ! ! ! ! ! ! ! ! ! ! ! ! ! ! ! ! ! ! ! ! ! ! ! ! ! ! ! ! ! ! ! ! ! ! ! ! ! ! ! ! ! ! ! ! ! ! ! ! ! ! ! ! ! ! ! ! ! ! ! ! ! ! ! ! ! ! ! ! ! ! ! ! ! ! ! ! ! ! ! ! ! ! ! ! ! ! ! ! ! ! ! ! ! ! ! ! ! ! ! ! ! ! ! ! ! ! ! ! ! ! ! ! ! ! ! ! ! ! ! ! ! ! ! ! ! ! ! ! ! ! ! ! ! ! ! ! ! ! ! ! ! ! ! ! ! ! ! ! ! ! ! ! ! ! ! ! ! ! ! ! ! ! ! ! ! ! ! ! ! ! ! ! ! ! ! ! ! ! ! ! ! ! ! ! ! ! ! ! ! ! ! ! ! ! ! ! ! ! ! ! ! ! ! ! ! ! ! ! ! ! ! ! ! ! ! ! ! ! ! ! ! ! ! ! ! ! ! ! ! ! ! ! ! ! ! ! ! ! ! ! ! ! ! ! ! ! ! ! ! ! ! ! ! ! ! ! ! ! ! ! ! ! ! ! ! ! ! ! ! ! ! ! ! ! ! ! ! ! ! ! ! ! ! ! ! ! ! ! ! ! ! ! ! ! ! ! ! ! ! ! ! ! ! ! ! ! ! ! ! ! ! ! ! ! ! ! ! ! ! ! ! ! ! ! ! ! ! ! ! ! ! ! ! ! ! ! ! ! ! ! ! ! ! ! ! ! ! ! ! ! ! ! ! ! ! ! ! ! ! ! ! ! ! ! ! ! ! ! ! ! ! ! ! ! ! ! ! ! ! ! ! ! ! ! ! ! ! ! ! ! ! ! ! ! ! ! ! ! ! ! ! ! ! ! ! ! ! ! ! ! ! ! ! ! ! ! ! ! ! ! ! ! ! ! ! ! ! ! ! ! ! ! ! ! ! ! ! ! ! ! ! ! ! ! ! ! ! ! ! ! ! ! ! ! ! ! ! ! ! ! ! ! ! ! ! ! ! ! ! ! ! ! ! ! ! ! ! ! ! ! ! ! ! ! ! ! ! ! ! ! ! ! ! ! ! ! ! ! ! ! ! ! ! ! ! ! ! ! ! ! ! ! ! ! ! ! ! ! ! ! ! ! ! ! ! ! ! ! ! ! ! ! ! ! ! ! ! ! ! ! ! ! ! ! ! ! ! ! ! ! ! ! ! ! ! ! ! ! ! ! ! ! ! ! ! ! ! ! ! ! ! ! ! ! ! ! ! ! ! ! ! ! ! ! ! ! ! ! ! ! ! ! ! ! ! ! ! ! ! ! ! ! ! ! ! ! ! ! ! ! ! ! ! ! ! ! ! ! ! ! ! ! ! ! ! ! ! ! ! ! ! ! ! ! ! ! ! ! ! ! ! ! ! ! ! ! ! ! ! ! ! ! ! ! ! ! ! ! ! ! ! ! ! ! ! ! ! ! ! ! ! ! ! ! ! ! ! ! ! ! ! ! ! ! ! ! ! ! ! ! ! ! ! ! ! ! ! ! ! ! ! ! ! ! ! ! ! ! ! ! ! ! ! ! ! ! ! ! ! ! ! ! ! ! ! ! ! ! ! ! ! ! ! ! ! ! ! ! ! ! ! ! ! ! ! ! ! ! ! ! ! ! ! ! ! ! ! ! ! ! ! ! ! ! ! ! ! ! ! ! ! ! ! ! ! ! ! ! ! ! ! ! ! ! ! ! ! ! ! ! ! ! ! ! ! ! ! ! ! ! ! ! ! ! ! ! ! ! ! ! ! ! ! ! ! ! ! ! ! ! ! ! ! ! ! ! ! ! ! ! ! ! ! ! ! ! ! ! ! ! ! ! ! ! ! ! ! ! ! ! ! ! ! ! ! ! ! ! ! ! ! ! ! ! ! ! ! ! ! ! ! ! ! ! ! ! ! ! ! ! ! ! ! ! ! ! ! ! ! ! ! ! ! ! ! ! ! ! ! ! ! ! ! ! ! ! ! ! ! ! ! ! ! ! ! ! ! ! ! ! ! ! ! ! ! ! ! ! ! ! ! ! ! ! ! ! ! ! ! ! ! ! ! ! ! ! ! ! ! ! ! ! ! ! ! ! ! ! ! ! ! ! ! ! ! ! ! ! ! ! ! ! ! ! ! ! ! ! ! ! ! ! ! ! ! ! ! ! ! ! ! ! ! ! ! ! ! ! ! ! ! ! ! ! ! ! ! ! ! ! ! ! ! ! ! ! ! ! ! ! ! ! ! ! ! ! ! ! ! ! ! ! ! ! ! ! ! ! ! ! ! ! ! ! ! ! ! ! ! ! ! ! ! ! ! ! ! ! ! ! ! ! ! ! ! ! ! ! ! ! ! ! ! ! ! ! ! ! ! ! ! ! ! ! ! ! ! ! ! ! ! ! ! ! ! ! ! ! ! ! ! ! ! ! ! ! ! ! ! ! ! ! ! ! ! ! ! ! ! ! ! ! ! ! ! ! ! ! ! ! ! ! ! ! ! ! ! ! ! ! ! ! ! ! ! ! ! ! ! ! ! ! ! ! ! ! ! ! ! ! ! ! ! ! ! ! ! ! ! ! ! ! ! ! ! ! ! ! ! ! ! ! ! ! ! ! ! ! ! ! ! ! ! ! ! ! ! ! ! ! ! ! ! ! ! ! ! ! ! ! ! ! ! ! ! ! ! ! ! ! ! ! ! ! ! ! ! ! ! ! ! ! ! ! ! ! ! ! ! ! ! ! ! ! ! ! ! ! ! ! ! ! ! ! ! ! ! ! ! ! ! ! ! ! ! ! ! ! ! ! ! ! ! ! ! ! ! ! ! ! ! ! ! ! ! ! ! ! ! ! ! ! ! ! ! ! ! ! ! ! ! ! ! ! ! ! ! ! ! ! ! ! ! ! ! ! ! ! ! ! ! ! ! ! ! ! ! ! ! ! ! ! ! ! ! ! ! ! ! ! ! ! ! ! ! ! ! ! ! ! ! ! ! ! ! ! ! ! ! ! ! ! ! ! ! ! ! ! ! ! ! ! ! ! ! ! ! ! ! ! ! ! ! ! ! ! ! ! ! ! ! ! ! ! ! ! ! ! ! ! ! ! ! ! ! ! ! ! ! ! ! ! ! ! ! ! ! ! ! ! ! ! ! ! ! ! ! ! ! ! ! ! ! ! ! ! ! ! ! ! ! ! ! ! ! ! ! ! ! ! ! ! ! ! ! ! ! ! ! ! ! ! ! ! ! ! ! ! ! ! ! ! ! ! ! ! ! ! ! ! ! ! ! ! ! ! ! ! ! ! ! ! ! ! ! ! ! ! ! ! ! ! ! ! ! ! ! ! ! ! ! ! ! ! ! ! ! ! ! ! ! ! ! ! ! ! ! ! ! ! ! ! ! ! ! ! ! ! ! ! ! ! ! ! ! ! ! ! ! ! ! ! ! ! ! ! ! ! ! ! ! ! ! ! ! ! ! ! ! ! ! ! ! ! ! ! ! ! ! ! ! ! ! ! ! ! ! ! ! ! ! ! ! ! ! ! ! ! ! ! ! ! ! ! ! ! ! ! ! ! ! ! ! ! ! ! ! ! ! ! ! ! ! ! ! ! ! ! ! ! ! ! ! ! ! ! ! ! ! ! ! ! ! ! ! ! ! ! ! ! ! ! ! ! ! ! ! ! ! ! ! ! ! ! ! ! ! ! ! ! ! ! ! ! ! ! ! ! ! ! ! ! ! ! ! ! ! ! ! ! ! ! ! ! ! ! ! ! ! ! ! ! ! ! ! ! ! ! ! ! ! ! ! ! ! ! ! ! ! ! ! ! ! ! ! ! ! ! ! ! ! ! ! ! ! ! ! ! ! ! ! ! ! ! ! ! ! ! ! ! ! ! ! ! ! ! ! ! ! ! ! ! ! ! ! ! ! ! ! ! ! ! ! ! ! ! ! ! ! ! ! ! ! ! ! ! ! ! ! ! ! ! ! ! ! ! ! ! ! ! ! ! ! ! ! ! ! ! ! ! ! ! ! ! ! ! ! ! ! ! ! ! ! ! ! ! ! ! ! ! ! ! ! ! ! ! ! ! ! ! ! ! ! ! ! ! ! ! ! ! ! ! ! ! ! ! ! ! ! ! ! ! ! ! ! ! ! ! ! ! ! ! ! ! ! ! ! ! ! ! ! ! ! ! ! ! ! ! ! ! ! ! ! ! ! ! ! ! ! ! ! ! ! ! ! ! ! ! ! ! ! ! ! ! ! ! ! ! ! ! ! ! ! ! ! ! ! ! ! ! ! ! ! ! ! ! ! ! ! ! ! ! ! ! ! ! ! ! ! ! ! ! ! ! ! ! ! ! ! ! ! ! ! ! ! ! ! ! ! ! ! ! ! ! ! ! ! ! ! ! ! ! ! ! ! ! ! ! ! ! ! ! ! ! ! ! ! ! ! ! ! ! ! ! ! ! ! ! ! ! ! ! ! ! ! ! ! ! ! ! ! ! ! ! ! ! ! ! ! ! ! ! ! ! ! ! ! ! ! ! ! ! ! ! ! ! ! ! ! ! ! ! ! ! ! ! ! ! ! ! ! ! ! ! ! ! ! ! ! ! ! ! ! ! ! ! ! ! ! ! ! ! ! ! ! ! ! ! ! ! ! ! ! ! ! ! ! ! ! ! ! ! ! ! ! ! ! ! ! ! ! ! ! ! ! ! ! ! ! ! ! ! ! ! ! ! ! ! ! ! ! ! ! ! ! ! ! ! ! ! ! ! ! ! ! ! ! ! ! ! ! ! ! ! ! ! ! ! ! ! ! ! ! ! ! ! ! ! ! ! ! ! ! ! ! ! ! ! ! ! ! ! ! ! ! ! ! ! ! ! ! ! ! ! ! ! ! ! ! ! ! ! ! ! ! ! ! ! ! ! ! ! ! ! ! ! ! ! ! ! ! ! ! ! ! ! ! ! ! ! ! ! ! ! ! ! ! ! ! ! ! ! ! ! ! ! ! ! ! ! ! ! ! ! ! ! ! ! ! ! ! ! ! ! ! ! ! ! ! ! ! ! ! ! ! ! ! ! ! ! ! ! ! ! ! ! ! ! ! ! ! ! ! ! ! ! ! ! ! ! ! ! ! ! ! ! ! ! ! ! ! ! ! ! ! ! ! ! ! ! ! ! ! ! ! ! ! ! ! ! ! ! ! ! ! ! ! ! ! ! ! ! ! ! ! ! ! ! ! ! ! ! ! ! ! ! ! ! ! ! ! ! ! ! ! ! ! ! ! ! ! ! ! ! ! ! ! ! ! ! ! ! ! ! ! ! ! ! ! ! ! ! ! ! ! ! ! ! ! ! ! ! ! ! ! ! ! ! ! ! ! ! ! ! ! ! ! ! ! ! ! ! ! ! ! ! ! ! ! ! ! ! ! ! ! ! ! ! ! ! ! ! ! ! ! ! ! ! ! ! ! ! ! ! ! ! ! ! ! ! ! ! ! ! ! ! ! ! ! ! ! ! ! ! ! ! ! ! ! ! ! ! ! ! ! ! ! ! ! ! ! ! ! ! ! ! ! ! ! ! ! ! ! ! ! ! ! ! ! ! ! ! ! ! ! ! ! ! ! ! ! ! ! ! ! ! ! ! ! ! ! ! ! ! ! ! ! ! ! ! ! ! ! ! ! ! ! ! ! ! ! ! ! ! ! ! ! ! ! ! ! ! ! ! ! ! ! ! ! ! ! ! ! ! ! ! ! ! ! ! ! ! ! ! ! ! ! ! ! ! ! ! ! ! ! ! ! ! ! ! ! ! ! ! ! ! ! ! ! ! ! ! ! ! ! ! ! ! ! ! ! ! ! ! ! ! ! ! ! ! ! ! ! ! ! ! ! ! ! ! ! ! ! ! ! ! ! ! ! ! ! ! ! ! ! ! ! ! ! ! ! ! ! ! ! ! ! ! ! ! ! ! ! ! ! ! ! ! ! ! ! ! ! ! ! ! ! ! ! ! ! ! ! ! ! ! ! ! ! ! ! ! ! ! ! ! ! ! ! ! ! ! ! ! ! ! ! ! ! ! ! ! ! ! ! ! ! ! ! ! ! ! ! ! ! ! ! ! ! ! ! ! ! ! ! ! ! ! ! ! ! ! ! ! ! ! ! ! ! ! ! ! ! ! ! ! ! ! ! ! ! ! ! ! ! ! ! ! ! ! ! ! ! ! ! ! ! ! ! ! ! ! ! ! ! ! ! ! ! ! ! ! ! ! ! ! ! ! ! ! ! ! ! ! ! ! ! ! ! ! ! ! ! ! ! ! ! ! ! ! ! ! ! ! ! ! ! ! ! ! ! ! ! ! ! ! ! ! ! ! ! ! ! ! ! ! ! ! ! ! ! ! ! ! ! ! ! ! ! ! ! ! ! ! ! ! ! ! ! ! ! ! ! ! ! ! ! ! ! ! ! ! ! ! ! ! ! ! ! ! ! ! ! ! ! ! ! ! ! ! ! ! ! ! ! ! ! ! ! ! ! ! ! ! ! ! ! ! ! ! ! ! ! ! ! ! ! ! ! ! ! ! ! ! ! ! ! ! ! ! ! ! ! ! ! ! ! ! ! ! ! ! ! ! ! ! ! ! ! ! ! ! ! ! ! ! ! ! ! ! ! ! ! ! ! ! ! ! ! ! ! ! ! ! ! ! ! ! ! ! ! ! ! ! ! ! ! ! ! ! ! ! ! ! ! ! ! ! ! ! ! ! ! ! ! ! ! ! ! ! ! ! ! ! ! ! ! ! ! ! ! ! ! ! ! ! ! ! ! ! ! ! ! ! ! ! ! ! ! ! ! ! ! ! ! ! ! ! ! ! ! ! ! ! ! ! ! ! ! ! ! ! ! ! ! ! ! ! ! ! ! ! ! ! ! ! ! ! ! ! ! ! ! ! ! ! ! ! ! ! ! ! ! ! ! ! ! ! ! ! ! ! ! ! ! ! ! ! ! ! ! ! ! ! ! ! ! ! ! ! ! ! ! ! ! ! ! ! ! ! ! ! ! ! ! ! ! ! ! ! ! ! ! ! ! ! ! ! ! ! ! ! ! ! ! ! ! ! ! ! ! ! ! ! ! ! ! ! ! ! ! ! ! ! ! ! ! ! ! ! ! ! ! ! ! ! ! ! ! ! ! ! ! ! ! ! ! ! ! ! ! ! ! ! ! ! ! ! ! ! ! ! ! ! ! ! ! ! ! ! ! ! ! ! ! ! ! ! ! ! ! ! ! ! ! ! ! ! ! ! ! ! ! ! ! ! ! ! ! ! ! ! ! ! ! ! ! ! ! ! ! ! ! ! ! ! ! ! ! ! ! ! ! ! ! ! ! ! ! ! ! ! ! ! ! ! ! ! ! ! ! ! ! ! ! ! ! ! ! ! ! ! ! ! ! ! ! ! ! ! ! ! ! ! ! ! ! ! ! ! ! ! ! ! ! ! ! ! ! ! ! ! ! ! ! ! ! ! ! ! ! ! ! ! ! ! ! ! ! ! ! ! ! ! ! ! ! ! ! ! ! ! ! ! ! ! ! ! ! ! ! ! ! ! ! ! ! ! ! ! ! ! ! ! ! ! ! ! ! ! ! ! ! ! ! ! ! ! ! ! ! ! ! ! ! ! ! ! ! ! ! ! ! ! ! ! ! ! ! ! ! ! ! ! ! ! ! ! ! ! ! ! ! ! ! ! ! ! ! ! ! ! ! ! ! ! ! ! ! ! ! ! ! ! ! ! ! ! ! ! ! ! ! ! ! ! ! ! ! ! ! ! ! ! ! ! ! ! ! ! ! ! ! ! ! ! ! ! ! ! ! ! ! ! ! ! ! ! ! ! ! ! ! ! ! ! ! ! ! ! ! ! ! ! ! ! ! ! ! ! ! ! ! ! ! ! ! ! ! ! ! ! ! ! ! ! ! ! ! ! ! ! ! ! ! ! ! ! ! ! ! ! ! ! ! ! ! ! ! ! ! ! ! ! ! ! ! ! ! ! ! ! ! ! ! ! ! ! ! ! ! ! ! ! ! ! ! ! ! ! ! ! ! ! ! ! ! ! ! ! ! ! ! ! ! ! ! ! ! ! ! ! ! ! ! ! ! ! ! ! ! ! ! ! ! ! ! ! ! ! ! ! ! ! ! ! ! ! ! ! ! ! ! ! ! ! ! ! ! ! ! ! ! ! ! ! ! ! ! ! ! ! ! ! ! ! ! ! ! ! ! ! ! ! ! ! ! ! ! ! ! ! ! ! ! ! ! ! ! ! ! ! ! ! ! ! ! ! ! ! ! ! ! ! ! ! ! ! ! ! ! ! ! ! ! ! ! ! ! ! ! ! ! ! ! ! ! ! ! ! ! ! ! ! ! ! ! ! ! ! ! ! ! ! ! ! ! ! ! ! ! ! ! ! ! ! ! ! ! ! ! ! ! ! ! ! ! ! ! ! ! ! ! ! ! ! ! ! ! ! ! ! ! ! ! ! ! ! ! ! ! ! ! ! ! ! ! ! ! ! ! ! ! ! ! ! ! ! ! ! ! ! ! ! ! ! ! ! ! ! ! ! ! ! ! ! ! ! ! ! ! ! ! ! ! ! ! ! ! ! ! ! ! ! ! ! ! ! ! ! ! ! ! ! ! ! ! ! ! ! ! ! ! ! ! ! ! ! ! ! ! ! ! ! ! ! ! ! ! ! ! ! ! ! ! ! ! ! ! ! ! ! ! ! ! ! ! ! ! ! ! ! ! ! ! ! ! ! ! ! ! ! ! ! ! ! ! ! ! ! ! ! ! ! ! ! ! ! ! ! ! ! ! ! ! ! ! ! ! ! ! ! ! ! ! ! ! ! ! ! ! ! ! ! ! ! ! ! ! ! ! ! ! ! ! ! ! ! ! ! ! ! ! ! ! ! ! ! ! ! ! ! ! ! ! ! ! ! ! ! ! ! ! ! ! ! ! ! ! ! ! ! ! ! ! ! ! ! ! ! ! ! ! ! ! ! ! ! ! ! ! ! ! ! ! ! ! ! ! ! ! ! ! ! ! ! ! ! ! ! ! ! ! ! ! ! ! ! ! ! ! ! ! ! ! ! ! ! ! ! ! ! ! ! ! ! ! ! ! ! ! ! ! ! ! ! ! ! ! ! ! ! ! ! ! ! ! ! ! ! ! ! ! ! ! ! ! ! ! ! ! ! ! ! ! ! ! ! ! ! ! ! ! ! ! ! ! ! ! ! ! ! ! ! ! ! ! ! ! ! ! ! ! ! ! ! ! ! ! ! ! ! ! ! ! ! ! ! ! ! ! ! ! ! ! ! ! ! ! ! ! ! ! ! ! ! ! ! ! ! ! ! ! ! ! ! ! ! ! ! ! ! ! ! ! ! ! ! ! ! ! ! ! ! ! ! ! ! ! ! ! ! ! ! ! ! ! ! ! ! ! ! ! ! ! ! ! ! ! ! ! ! ! ! ! ! ! ! ! ! ! ! ! ! ! ! ! ! ! ! ! ! ! ! ! ! ! ! ! ! ! ! ! ! ! ! ! ! ! ! ! ! ! ! ! ! ! ! \n",
            "4850 why do n't you suck my ass until your lips bleed ? congrats ! now you 've lost a good article as well as a reader ! i will never come back to wikishit again ! ! ! ! ! ! ! ! ! ! ! ! ! ! ! ! ! ! ! ! ! ! ! ! ! ! ! ! ! ! ! ! ! ! ! ! ! ! ! ! ! ! ! ! ! ! ! ! ! ! ! ! ! ! ! ! ! ! ! ! ! ! ! ! ! ! ! ! ! ! ! ! ! ! ! ! ! ! ! ! ! ! ! ! ! ! ! ! ! ! ! ! ! ! ! ! ! ! ! ! ! ! ! ! ! ! ! ! ! ! ! ! ! ! ! ! ! ! ! ! ! ! ! ! ! ! ! ! ! ! ! ! ! ! ! ! ! ! ! ! ! ! ! ! ! ! ! ! ! ! ! ! ! ! ! ! ! ! ! ! ! ! ! ! ! ! ! ! ! ! ! ! ! ! ! ! ! ! ! ! ! ! ! ! ! ! ! ! ! ! ! ! ! ! ! ! ! ! ! ! ! ! ! ! ! ! ! ! ! ! ! ! ! ! ! ! ! ! ! ! ! ! ! ! ! ! ! ! ! ! ! ! ! ! ! ! ! ! ! ! ! ! ! ! ! ! ! ! ! ! ! ! ! ! ! ! ! ! ! ! ! ! ! ! ! ! ! ! ! ! ! ! ! ! ! ! ! ! ! ! ! ! ! ! ! ! ! ! ! ! ! ! ! ! ! ! ! ! ! ! ! ! ! ! ! ! ! ! ! ! ! ! ! ! ! ! ! ! ! ! ! ! ! ! ! ! ! ! ! ! ! ! ! ! ! ! ! ! ! ! ! ! ! ! ! ! ! ! ! ! ! ! ! ! ! ! ! ! ! ! ! ! ! ! ! ! ! ! ! ! ! ! ! ! ! ! ! ! ! ! ! ! ! ! ! ! ! ! ! ! ! ! ! ! ! ! ! ! ! ! ! ! ! ! ! ! ! ! ! ! ! ! ! ! ! ! ! ! ! ! ! ! ! ! ! ! ! ! ! ! ! ! ! ! ! ! ! ! ! ! ! ! ! ! ! ! ! ! ! ! ! ! ! ! ! ! ! ! ! ! ! ! ! ! ! ! ! ! ! ! ! ! ! ! ! ! ! ! ! ! ! ! ! ! ! ! ! ! ! ! ! ! ! ! ! ! ! ! ! ! ! ! ! ! ! ! ! ! ! ! ! ! ! ! ! ! ! ! ! ! ! ! ! ! ! ! ! ! ! ! ! ! ! ! ! ! ! ! ! ! ! ! ! ! ! ! ! ! ! ! ! ! ! ! ! ! ! ! ! ! ! ! ! ! ! ! ! ! ! ! ! ! ! ! ! ! ! ! ! ! ! ! ! ! ! ! ! ! ! ! ! ! ! ! ! ! ! ! ! ! ! ! ! ! ! ! ! ! ! ! ! ! ! ! ! ! ! ! ! ! ! ! ! ! ! ! ! ! ! ! ! ! ! ! ! ! ! ! ! ! ! ! ! ! ! ! ! ! ! ! ! ! ! ! ! ! ! ! ! ! ! ! ! ! ! ! ! ! ! ! ! ! ! ! ! ! ! ! ! ! ! ! ! ! ! ! ! ! ! ! ! ! ! ! ! ! ! ! ! ! ! ! ! ! ! ! ! ! ! ! ! ! ! ! ! ! ! ! ! ! ! ! ! ! ! ! ! ! ! ! ! ! ! ! ! ! ! ! ! ! ! ! ! ! ! ! ! ! ! ! ! ! ! ! ! ! ! ! ! ! ! ! ! ! ! ! ! ! ! ! ! ! ! ! ! ! ! ! ! ! ! ! ! ! ! ! ! ! ! ! ! ! ! ! ! ! ! ! ! ! ! ! ! ! ! ! ! ! ! ! ! ! ! ! ! ! ! ! ! ! ! ! ! ! ! ! ! ! ! ! ! ! ! ! ! ! ! ! ! ! ! ! ! ! ! ! ! ! ! ! ! ! ! ! ! ! ! ! ! ! ! ! ! ! ! ! ! ! ! ! ! ! ! ! ! ! ! ! ! ! ! ! ! ! ! ! ! ! ! ! ! ! ! ! ! ! ! ! ! ! ! ! ! ! ! ! ! ! ! ! ! ! ! ! ! ! ! ! ! ! ! ! ! ! ! ! ! ! ! ! ! ! ! ! ! ! ! ! ! ! ! ! ! ! ! ! ! ! ! ! ! ! ! ! ! ! ! ! ! ! ! ! ! ! ! ! ! ! ! ! ! ! ! ! ! ! ! ! ! ! ! ! ! ! ! ! ! ! ! ! ! ! ! ! ! ! ! ! ! ! ! ! ! ! ! ! ! ! ! ! ! ! ! ! ! ! ! ! ! ! ! ! ! ! ! ! ! ! ! ! ! ! ! ! ! ! ! ! ! ! ! ! ! ! ! ! ! ! ! ! ! ! ! ! ! ! ! ! ! ! ! ! ! ! ! ! ! ! ! ! ! ! ! ! ! ! ! ! ! ! ! ! ! ! ! ! ! ! ! ! ! ! ! ! ! ! ! ! ! ! ! ! ! ! ! ! ! ! ! ! ! ! ! ! ! ! ! ! ! ! ! ! ! ! ! ! ! ! ! ! ! ! ! ! ! ! ! ! ! ! ! ! ! ! ! ! ! ! ! ! ! ! ! ! ! ! ! ! ! ! ! ! ! ! ! ! ! ! ! ! ! ! ! ! ! ! ! ! ! ! ! ! ! ! ! ! ! ! ! ! ! ! ! ! ! ! ! ! ! ! ! ! ! ! ! ! ! ! ! ! ! ! ! ! ! ! ! ! ! ! ! ! ! ! ! ! ! ! ! ! ! ! ! ! ! ! ! ! ! ! ! ! ! ! ! ! ! ! ! ! ! ! ! ! ! ! ! ! ! ! ! ! ! ! ! ! ! ! ! ! ! ! ! ! ! ! ! ! ! ! ! ! ! ! ! ! ! ! ! ! ! ! ! ! ! ! ! ! ! ! ! ! ! ! ! ! ! ! ! ! ! ! ! ! ! ! ! ! ! ! ! ! ! ! ! ! ! ! ! ! ! ! ! ! ! ! ! ! ! ! ! ! ! ! ! ! ! ! ! ! ! ! ! ! ! ! ! ! ! ! ! ! ! ! ! ! ! ! ! ! ! ! ! ! ! ! ! ! ! ! ! ! ! ! ! ! ! ! ! ! ! ! ! ! ! ! ! ! ! ! ! ! ! ! ! ! ! ! ! ! ! ! ! ! ! ! ! ! ! ! ! ! ! ! ! ! ! ! ! ! ! ! ! ! ! ! ! ! ! ! ! ! ! ! ! ! ! ! ! ! ! ! ! ! ! ! ! ! ! ! ! ! ! ! ! ! ! ! ! ! ! ! ! ! ! ! ! ! ! ! ! ! ! ! ! ! ! ! ! ! ! ! ! ! ! ! ! ! ! ! ! ! ! ! ! ! ! ! ! ! ! ! ! ! ! ! ! ! ! ! ! ! ! ! ! ! ! ! ! ! ! ! ! ! ! ! ! ! ! ! ! ! ! ! ! ! ! ! ! ! ! ! ! ! ! ! ! ! ! ! ! ! ! ! ! ! ! ! ! ! ! ! ! ! ! ! ! ! ! ! ! ! ! ! ! ! ! ! ! ! ! ! ! ! ! ! ! ! ! ! ! ! ! ! ! ! ! ! ! ! ! ! ! ! ! ! ! ! ! ! ! ! ! ! ! ! ! ! ! ! ! ! ! ! ! ! ! ! ! ! ! ! ! ! ! ! ! ! ! ! ! ! ! ! ! ! ! ! ! ! ! ! ! ! ! ! ! ! ! ! ! ! ! ! ! ! ! ! ! ! ! ! ! ! ! ! ! ! ! ! ! ! ! ! ! ! ! ! ! ! ! ! ! ! ! ! ! ! ! ! ! ! ! ! ! ! ! ! ! ! ! ! ! ! ! ! ! ! ! ! ! ! ! ! ! ! ! ! ! ! ! ! ! ! ! ! ! ! ! ! ! ! ! ! ! ! ! ! ! ! ! ! ! ! ! ! ! ! ! ! ! ! ! ! ! ! ! ! ! ! ! ! ! ! ! ! ! ! ! ! ! ! ! ! ! ! ! ! ! ! ! ! ! ! ! ! ! ! ! ! ! ! ! ! ! ! ! ! ! ! ! ! ! ! ! ! ! ! ! ! ! ! ! ! ! ! ! ! ! ! ! ! ! ! ! ! ! ! ! ! ! ! ! ! ! ! ! ! ! ! ! ! ! ! ! ! ! ! ! ! ! ! ! ! ! ! ! ! ! ! ! ! ! ! ! ! ! ! ! ! ! ! ! ! ! ! ! ! ! ! ! ! ! ! ! ! ! ! ! ! ! ! ! ! ! ! ! ! ! ! ! ! ! ! ! ! ! ! ! ! ! ! ! ! ! ! ! ! ! ! ! ! ! ! ! ! ! ! ! ! ! ! ! ! ! ! ! ! ! ! ! ! ! ! ! ! ! ! ! ! ! ! ! ! ! ! ! ! ! ! ! ! ! ! ! ! ! ! ! ! ! ! ! ! ! ! ! ! ! ! ! ! ! ! ! ! ! ! ! ! ! ! ! ! ! ! ! ! ! ! ! ! ! ! ! ! ! ! ! ! ! ! ! ! ! ! ! ! ! ! ! ! ! ! ! ! ! ! ! ! ! ! ! ! ! ! ! ! ! ! ! ! ! ! ! ! ! ! ! ! ! ! ! ! ! ! ! ! ! ! ! ! ! ! ! ! ! ! ! ! ! ! ! ! ! ! ! ! ! ! ! ! ! ! ! ! ! ! ! ! ! ! ! ! ! ! ! ! ! ! ! ! ! ! ! ! ! ! ! ! ! ! ! ! ! ! ! ! ! ! ! ! ! ! ! ! ! ! ! ! ! ! ! ! ! ! ! ! ! ! ! ! ! ! ! ! ! ! ! ! ! ! ! ! ! ! ! ! ! ! ! ! ! ! ! ! ! ! ! ! ! ! ! ! ! ! ! ! ! ! ! ! ! ! ! ! ! ! ! ! ! ! ! ! ! ! ! ! ! ! ! ! ! ! ! ! ! ! ! ! ! ! ! ! ! ! ! ! ! ! ! ! ! ! ! ! ! ! ! ! ! ! ! ! ! ! ! ! ! ! ! ! ! ! ! ! ! ! ! ! ! ! ! ! ! ! ! ! ! ! ! ! ! ! ! ! ! ! ! ! ! ! ! ! ! ! ! ! ! ! ! ! ! ! ! ! ! ! ! ! ! ! ! ! ! ! ! ! ! ! ! ! ! ! ! ! ! ! ! ! ! ! ! ! ! ! ! ! ! ! ! ! ! ! ! ! ! ! ! ! ! ! ! ! ! ! ! ! ! ! ! ! ! ! ! ! ! ! ! ! ! ! ! ! ! ! ! ! ! ! ! ! ! ! ! ! ! ! ! ! ! ! ! ! ! ! ! ! ! ! ! ! ! ! ! ! ! ! ! ! ! ! ! ! ! ! ! ! ! ! ! ! ! ! ! ! ! ! ! ! ! ! ! ! ! ! ! ! ! ! ! ! ! ! ! ! ! ! ! ! ! ! ! ! ! ! ! ! ! ! ! ! ! ! ! ! ! ! ! ! ! ! ! ! ! ! ! ! ! ! ! ! ! ! ! ! ! ! ! ! ! ! ! ! ! ! ! ! ! ! ! ! ! ! ! ! ! ! ! ! ! ! ! ! ! ! ! ! ! ! ! ! ! ! ! ! ! ! ! ! ! ! ! ! ! ! ! ! ! ! ! ! ! ! ! ! ! ! ! ! ! ! ! ! ! ! ! ! ! ! ! ! ! ! ! ! ! ! ! ! ! ! ! ! ! ! ! ! ! ! ! ! ! ! ! ! ! ! ! ! ! ! ! ! ! ! ! ! ! ! ! ! ! ! ! ! ! ! ! ! ! ! ! ! ! ! ! ! ! ! ! ! ! ! ! ! ! ! ! ! ! ! ! ! ! ! ! ! ! ! ! ! ! ! ! ! ! ! ! ! ! ! ! ! ! ! ! ! ! ! ! ! ! ! ! ! ! ! ! ! ! ! ! ! ! ! ! ! ! ! ! ! ! ! ! ! ! ! ! ! ! ! ! ! ! ! ! ! ! ! ! ! ! ! ! ! ! ! ! ! ! ! ! ! ! ! ! ! ! ! ! ! ! ! ! ! ! ! ! ! ! ! ! ! ! ! ! ! ! ! ! ! ! ! ! ! ! ! ! ! ! ! ! ! ! ! ! ! ! ! ! ! ! ! ! ! ! ! ! ! ! ! ! ! ! ! ! ! ! ! ! ! ! ! ! ! ! ! ! ! ! ! ! ! ! ! ! ! ! ! ! ! ! ! ! ! ! ! ! ! ! ! ! ! ! ! ! ! ! ! ! ! ! ! ! ! ! ! ! ! ! ! ! ! ! ! ! ! ! ! ! ! ! ! ! ! ! ! ! ! ! ! ! ! ! ! ! ! ! ! ! ! ! ! ! ! ! ! ! ! ! ! ! ! ! ! ! ! ! ! ! ! ! ! ! ! ! ! ! ! ! ! ! ! ! ! ! ! ! ! ! ! ! ! ! ! ! ! ! ! ! ! ! ! ! ! ! ! ! ! ! ! ! ! ! ! ! ! ! ! ! ! ! ! ! ! ! ! ! ! ! ! ! ! ! ! ! ! ! ! ! ! ! ! ! ! ! ! ! ! ! ! ! ! ! ! ! ! ! ! ! ! ! ! ! ! ! ! ! ! ! ! ! ! ! ! ! ! ! ! ! ! ! ! ! ! ! ! ! ! ! ! ! ! ! ! ! ! ! ! ! ! ! ! ! ! ! ! ! ! ! ! ! ! ! ! ! ! ! ! ! ! ! ! ! ! ! ! ! ! ! ! ! ! ! ! ! ! ! ! ! ! ! ! ! ! ! ! ! ! ! ! ! ! ! ! ! ! ! ! ! ! ! ! ! ! ! ! ! ! ! ! ! ! ! ! ! ! ! ! ! ! ! ! ! ! ! ! ! ! ! ! ! ! ! ! ! ! ! ! ! ! ! ! ! ! ! ! ! ! ! ! ! ! ! ! ! ! ! ! ! ! ! ! ! ! ! ! ! ! ! ! ! ! ! ! ! ! ! ! ! ! ! ! ! ! ! ! ! ! ! ! ! ! ! ! ! ! ! ! ! ! ! ! ! ! ! ! ! ! ! ! ! ! ! ! ! ! ! ! ! ! ! ! ! ! ! ! ! ! ! ! ! ! ! ! ! ! ! ! ! ! ! ! ! ! ! ! ! ! ! ! ! ! ! ! ! ! ! ! ! ! ! ! ! ! ! ! ! ! ! ! ! ! ! ! ! ! ! ! ! ! ! ! ! ! ! ! ! ! ! ! ! ! ! ! ! ! ! ! ! ! ! ! ! ! ! ! ! ! ! ! ! ! ! ! ! ! ! ! ! ! ! ! ! ! ! ! ! ! ! ! ! ! ! ! ! ! ! ! ! ! ! ! ! ! ! ! ! ! ! ! ! ! ! ! ! ! ! ! ! ! ! ! ! ! ! ! ! ! ! ! ! ! ! ! ! ! ! ! ! ! ! ! ! ! ! ! ! ! ! ! ! ! ! ! ! ! ! ! ! ! ! ! ! ! ! ! ! ! ! ! ! ! ! ! ! ! ! ! ! ! ! ! ! ! ! ! ! ! ! ! ! ! ! ! ! ! ! ! ! ! ! ! ! ! ! ! ! ! ! ! ! ! ! ! ! ! ! ! ! ! ! ! ! ! ! ! ! ! ! ! ! ! ! ! ! ! ! ! ! ! ! ! ! ! ! ! ! ! ! ! ! ! ! ! ! ! ! ! ! ! ! ! ! ! ! ! ! ! ! ! ! ! ! ! ! ! ! ! ! ! ! ! ! ! ! ! ! ! ! ! ! ! ! ! ! ! ! ! ! ! ! ! ! ! ! ! ! ! ! ! ! ! ! ! ! ! ! ! ! ! ! ! ! ! ! ! ! ! ! ! ! ! ! ! ! ! ! ! ! ! ! ! ! ! ! ! ! ! ! ! ! ! ! ! ! ! ! ! ! ! ! ! ! ! ! ! ! ! ! ! ! ! ! ! ! ! ! ! ! ! ! ! ! ! ! ! ! ! ! ! ! ! ! ! ! ! ! ! ! ! ! ! ! ! ! ! ! ! ! ! ! ! ! ! ! ! ! ! ! ! ! ! ! ! ! ! ! ! ! ! ! ! ! ! ! ! ! ! ! ! ! ! ! ! ! ! ! ! ! ! ! ! ! ! ! ! ! ! ! ! ! ! ! ! ! ! ! ! ! ! ! ! ! ! ! ! ! ! ! ! ! ! ! ! ! ! ! ! ! ! ! ! ! ! ! ! ! ! ! ! ! ! ! ! ! ! ! ! ! ! ! ! ! ! ! ! ! ! ! ! ! ! ! ! ! ! ! ! ! ! ! ! ! ! ! ! ! ! ! ! ! ! ! ! ! ! ! ! ! ! ! ! ! ! ! ! ! ! ! ! ! ! ! ! ! ! ! ! ! ! ! ! ! ! ! ! ! ! ! ! ! ! ! ! ! ! ! ! ! ! ! ! ! ! ! ! ! ! ! ! ! ! ! ! ! ! ! ! ! ! ! ! ! ! ! ! ! ! ! ! ! ! ! ! ! ! ! ! ! ! ! ! ! ! ! ! ! ! ! ! ! ! ! ! ! ! ! ! ! ! ! ! ! ! ! ! ! ! ! ! ! ! ! ! ! ! ! ! ! ! ! ! ! ! ! ! ! ! ! ! ! ! ! ! ! ! ! ! ! ! ! ! ! ! ! ! ! ! ! ! ! ! ! ! ! ! ! ! ! ! ! ! ! ! ! ! ! ! ! ! ! ! ! ! ! ! ! ! ! ! ! ! ! ! ! ! ! ! ! ! ! ! ! ! ! ! ! ! ! ! ! ! ! ! ! ! ! ! ! ! ! ! ! ! ! ! ! ! ! ! ! ! ! ! ! ! ! ! ! ! ! ! ! ! ! ! ! ! ! ! ! ! ! ! ! ! ! ! ! ! ! ! ! ! ! ! ! ! ! ! ! ! ! ! ! ! ! ! ! ! ! ! ! ! ! ! ! ! ! ! ! ! ! ! ! ! ! ! ! ! ! ! ! ! ! ! ! ! ! ! ! ! ! ! ! ! ! ! ! ! ! ! ! ! ! ! ! ! ! ! ! ! ! ! ! ! ! ! ! ! ! ! ! ! ! ! ! ! ! ! ! ! ! ! ! ! ! ! ! ! ! ! ! ! ! ! ! ! ! ! ! ! ! ! ! ! ! ! ! ! ! ! ! ! ! ! ! ! ! ! ! ! ! ! ! ! ! ! ! ! ! ! ! ! ! ! ! ! ! ! ! ! ! ! ! ! ! ! ! ! ! ! ! ! ! ! ! ! ! ! ! ! ! ! ! ! ! ! ! ! ! ! ! ! ! ! ! ! ! ! ! ! ! ! ! ! ! ! ! ! ! ! ! ! ! ! ! ! ! ! ! ! ! ! ! ! ! ! ! ! ! ! ! ! ! ! ! ! ! ! ! ! ! ! ! ! ! ! ! ! ! ! ! ! ! ! ! ! ! ! ! ! ! ! ! ! ! ! ! ! ! ! ! ! ! ! ! ! ! ! ! ! ! ! ! ! ! ! ! ! ! ! ! ! ! ! ! ! ! ! ! ! ! ! ! ! ! ! ! ! ! ! ! ! ! ! ! ! ! ! ! ! ! ! ! ! ! ! ! ! ! ! ! ! ! ! ! ! ! ! ! ! ! ! ! ! ! ! ! ! ! ! ! ! ! ! ! ! ! ! ! ! ! ! ! ! ! ! ! ! ! ! ! ! ! ! ! ! ! ! ! ! ! ! ! ! ! ! ! ! ! ! ! ! ! ! ! ! ! ! ! ! ! ! ! ! ! ! ! ! ! ! ! ! ! ! ! ! ! ! ! ! ! ! ! ! ! ! ! ! ! ! ! ! ! ! ! ! ! ! ! ! ! ! ! ! ! ! ! ! ! ! ! ! ! ! ! ! ! ! ! ! ! ! ! ! ! ! ! ! ! ! ! ! ! ! ! ! ! ! ! ! ! ! ! ! ! ! ! ! ! ! ! ! ! ! ! ! ! ! ! ! ! ! ! ! ! ! ! ! ! ! ! ! ! ! ! ! ! ! ! ! ! ! ! ! ! ! ! ! ! ! ! ! ! ! ! ! ! ! ! ! ! ! ! ! ! ! ! ! ! ! ! ! ! ! ! ! ! ! ! ! ! ! ! ! ! ! ! ! ! ! ! ! ! ! ! ! ! ! ! ! ! ! ! ! ! ! ! ! ! ! ! ! ! ! ! ! ! ! ! ! ! ! ! ! ! ! ! ! ! ! ! ! ! ! ! ! ! ! ! ! ! ! ! ! ! ! ! ! ! ! ! ! ! ! ! ! ! ! ! ! ! ! ! ! ! ! ! ! ! ! ! ! ! ! ! ! ! ! ! ! ! ! ! ! ! ! ! ! ! ! ! ! ! ! ! ! ! ! ! ! ! ! ! ! ! ! ! ! ! ! ! ! ! ! ! ! ! ! ! ! ! ! ! ! ! ! ! ! ! ! ! ! ! ! ! ! ! ! ! ! ! ! ! ! ! ! ! ! ! ! ! ! ! ! ! ! ! ! ! ! ! ! ! ! ! ! ! ! ! ! ! ! ! ! ! ! ! ! ! ! ! ! ! ! ! ! ! ! ! ! ! ! ! ! ! ! ! ! ! ! ! ! ! ! ! ! ! ! ! ! ! ! ! ! ! ! ! ! ! ! ! ! ! ! ! ! ! ! ! ! \n",
            "4619 i 'm gonna kill you ! ! ! ! ! ! ! ! ! ! ! ! ! ! ! ! ! ! ! ! ! ! ! ! ! ! ! ! ! ! ! ! ! ! ! ! ! ! ! ! ! ! ! ! ! ! ! ! ! ! ! ! ! ! ! ! ! ! ! ! ! ! ! ! ! ! ! ! ! ! ! ! ! ! ! ! ! ! ! ! ! ! ! ! ! ! ! ! ! ! ! ! ! ! ! ! ! ! ! ! ! ! ! ! ! ! ! ! ! ! ! ! ! ! ! ! ! ! ! ! ! ! ! ! ! ! ! ! ! ! ! ! ! ! ! ! ! ! ! ! ! ! ! ! ! ! ! ! ! ! ! ! ! ! ! ! ! ! ! ! ! ! ! ! ! ! ! ! ! ! ! ! ! ! ! ! ! ! ! ! ! ! i 'm gonna kill you ! ! ! ! ! ! ! ! ! ! ! ! ! ! ! ! ! ! ! ! ! ! ! ! ! ! ! ! ! ! ! ! ! ! ! ! ! ! ! ! ! ! ! ! ! ! ! ! ! ! ! ! ! ! ! ! ! ! ! ! ! ! ! ! ! ! ! ! ! ! ! ! ! ! ! ! ! ! ! ! ! ! ! ! ! ! ! ! ! ! ! ! ! ! ! ! ! ! ! ! ! ! ! ! ! ! ! ! ! ! ! ! ! ! ! ! ! ! ! ! ! ! ! ! ! ! ! ! ! ! ! ! ! ! ! ! ! ! ! ! ! ! ! ! ! ! ! ! ! ! ! ! ! ! ! ! ! ! ! ! ! ! ! ! ! ! ! ! ! ! ! ! ! ! ! ! ! ! ! ! ! ! i 'm gonna kill you ! ! ! ! ! ! ! ! ! ! ! ! ! ! ! ! ! ! ! ! ! ! ! ! ! ! ! ! ! ! ! ! ! ! ! ! ! ! ! ! ! ! ! ! ! ! ! ! ! ! ! ! ! ! ! ! ! ! ! ! ! ! ! ! ! ! ! ! ! ! ! ! ! ! ! ! ! ! ! ! ! ! ! ! ! ! ! ! ! ! ! ! ! ! ! ! ! ! ! ! ! ! ! ! ! ! ! ! ! ! ! ! ! ! ! ! ! ! ! ! ! ! ! ! ! ! ! ! ! ! ! ! ! ! ! ! ! ! ! ! ! ! ! ! ! ! ! ! ! ! ! ! ! ! ! ! ! ! ! ! ! ! ! ! ! ! ! ! ! ! ! ! ! ! ! ! ! ! ! ! ! ! i 'm gonna kill you ! ! ! ! ! ! ! ! ! ! ! ! ! ! ! ! ! ! ! ! ! ! ! ! ! ! ! ! ! ! ! ! ! ! ! ! ! ! ! ! ! ! ! ! ! ! ! ! ! ! ! ! ! ! ! ! ! ! ! ! ! ! ! ! ! ! ! ! ! ! ! ! ! ! ! ! ! ! ! ! ! ! ! ! ! ! ! ! ! ! ! ! ! ! ! ! ! ! ! ! ! ! ! ! ! ! ! ! ! ! ! ! ! ! ! ! ! ! ! ! ! ! ! ! ! ! ! ! ! ! ! ! ! ! ! ! ! ! ! ! ! ! ! ! ! ! ! ! ! ! ! ! ! ! ! ! ! ! ! ! ! ! ! ! ! ! ! ! ! ! ! ! ! ! ! ! ! ! ! ! ! ! i 'm gonna kill you ! ! ! ! ! ! ! ! ! ! ! ! ! ! ! ! ! ! ! ! ! ! ! ! ! ! ! ! ! ! ! ! ! ! ! ! ! ! ! ! ! ! ! ! ! ! ! ! ! ! ! ! ! ! ! ! ! ! ! ! ! ! ! ! ! ! ! ! ! ! ! ! ! ! ! ! ! ! ! ! ! ! ! ! ! ! ! ! ! ! ! ! ! ! ! ! ! ! ! ! ! ! ! ! ! ! ! ! ! ! ! ! ! ! ! ! ! ! ! ! ! ! ! ! ! ! ! ! ! ! ! ! ! ! ! ! ! ! ! ! ! ! ! ! ! ! ! ! ! ! ! ! ! ! ! ! ! ! ! ! ! ! ! ! ! ! ! ! ! ! ! ! ! ! ! ! ! ! ! ! ! ! i 'm gonna kill you ! ! ! ! ! ! ! ! ! ! ! ! ! ! ! ! ! ! ! ! ! ! ! ! ! ! ! ! ! ! ! ! ! ! ! ! ! ! ! ! ! ! ! ! ! ! ! ! ! ! ! ! ! ! ! ! ! ! ! ! ! ! ! ! ! ! ! ! ! ! ! ! ! ! ! ! ! ! ! ! ! ! ! ! ! ! ! ! ! ! ! ! ! ! ! ! ! ! ! ! ! ! ! ! ! ! ! ! ! ! ! ! ! ! ! ! ! ! ! ! ! ! ! ! ! ! ! ! ! ! ! ! ! ! ! ! ! ! ! ! ! ! ! ! ! ! ! ! ! ! ! ! ! ! ! ! ! ! ! ! ! ! ! ! ! ! ! ! ! ! ! ! ! ! ! ! ! ! ! ! ! ! i 'm gonna kill you ! ! ! ! ! ! ! ! ! ! ! ! ! ! ! ! ! ! ! ! ! ! ! ! ! ! ! ! ! ! ! ! ! ! ! ! ! ! ! ! ! ! ! ! ! ! ! ! ! ! ! ! ! ! ! ! ! ! ! ! ! ! ! ! ! ! ! ! ! ! ! ! ! ! ! ! ! ! ! ! ! ! ! ! ! ! ! ! ! ! ! ! ! ! ! ! ! ! ! ! ! ! ! ! ! ! ! ! ! ! ! ! ! ! ! ! ! ! ! ! ! ! ! ! ! ! ! ! ! ! ! ! ! ! ! ! ! ! ! ! ! ! ! ! ! ! ! ! ! ! ! ! ! ! ! ! ! ! ! ! ! ! ! ! ! ! ! ! ! ! ! ! ! ! ! ! ! ! ! ! ! ! i 'm gonna kill you ! ! ! ! ! ! ! ! ! ! ! ! ! ! ! ! ! ! ! ! ! ! ! ! ! ! ! ! ! ! ! ! ! ! ! ! ! ! ! ! ! ! ! ! ! ! ! ! ! ! ! ! ! ! ! ! ! ! ! ! ! ! ! ! ! ! ! ! ! ! ! ! ! ! ! ! ! ! ! ! ! ! ! ! ! ! ! ! ! ! ! ! ! ! ! ! ! ! ! ! ! ! ! ! ! ! ! ! ! ! ! ! ! ! ! ! ! ! ! ! ! ! ! ! ! ! ! ! ! ! ! ! ! ! ! ! ! ! ! ! ! ! ! ! ! ! ! ! ! ! ! ! ! ! ! ! ! ! ! ! ! ! ! ! ! ! ! ! ! ! ! ! ! ! ! ! ! ! ! ! ! ! i 'm gonna kill you ! ! ! ! ! ! ! ! ! ! ! ! ! ! ! ! ! ! ! ! ! ! ! ! ! ! ! ! ! ! ! ! ! ! ! ! ! ! ! ! ! ! ! ! ! ! ! ! ! ! ! ! ! ! ! ! ! ! ! ! ! ! ! ! ! ! ! ! ! ! ! ! ! ! ! ! ! ! ! ! ! ! ! ! ! ! ! ! ! ! ! ! ! ! ! ! ! ! ! ! ! ! ! ! ! ! ! ! ! ! ! ! ! ! ! ! ! ! ! ! ! ! ! ! ! ! ! ! ! ! ! ! ! ! ! ! ! ! ! ! ! ! ! ! ! ! ! ! ! ! ! ! ! ! ! ! ! ! ! ! ! ! ! ! ! ! ! ! ! ! ! ! ! ! ! ! ! ! ! ! ! ! i 'm gonna kill you ! ! ! ! ! ! ! ! ! ! ! ! ! ! ! ! ! ! ! ! ! ! ! ! ! ! ! ! ! ! ! ! ! ! ! ! ! ! ! ! ! ! ! ! ! ! ! ! ! ! ! ! ! ! ! ! ! ! ! ! ! ! ! ! ! ! ! ! ! ! ! ! ! ! ! ! ! ! ! ! ! ! ! ! ! ! ! ! ! ! ! ! ! ! ! ! ! ! ! ! ! ! ! ! ! ! ! ! ! ! ! ! ! ! ! ! ! ! ! ! ! ! ! ! ! ! ! ! ! ! ! ! ! ! ! ! ! ! ! ! ! ! ! ! ! ! ! ! ! ! ! ! ! ! ! ! ! ! ! ! ! ! ! ! ! ! ! ! ! ! ! ! ! ! ! ! ! ! ! ! ! ! i 'm gonna kill you ! ! ! ! ! ! ! ! ! ! ! ! ! ! ! ! ! ! ! ! ! ! ! ! ! ! ! ! ! ! ! ! ! ! ! ! ! ! ! ! ! ! ! ! ! ! ! ! ! ! ! ! ! ! ! ! ! ! ! ! ! ! ! ! ! ! ! ! ! ! ! ! ! ! ! ! ! ! ! ! ! ! ! ! ! ! ! ! ! ! ! ! ! ! ! ! ! ! ! ! ! ! ! ! ! ! ! ! ! ! ! ! ! ! ! ! ! ! ! ! ! ! ! ! ! ! ! ! ! ! ! ! ! ! ! ! ! ! ! ! ! ! ! ! ! ! ! ! ! ! ! ! ! ! ! ! ! ! ! ! ! ! ! ! ! ! ! ! ! ! ! ! ! ! ! ! ! ! ! ! ! ! i 'm gonna kill you ! ! ! ! ! ! ! ! ! ! ! ! ! ! ! ! ! ! ! ! ! ! ! ! ! ! ! ! ! ! ! ! ! ! ! ! ! ! ! ! ! ! ! ! ! ! ! ! ! ! ! ! ! ! ! ! ! ! ! ! ! ! ! ! ! ! ! ! ! ! ! ! ! ! ! ! ! ! ! ! ! ! ! ! ! ! ! ! ! ! ! ! ! ! ! ! ! ! ! ! ! ! ! ! ! ! ! ! ! ! ! ! ! ! ! ! ! ! ! ! ! ! ! ! ! ! ! ! ! ! ! ! ! ! ! ! ! ! ! ! ! ! ! ! ! ! ! ! ! ! ! ! ! ! ! ! ! ! ! ! ! ! ! ! ! ! ! ! ! ! ! ! ! ! ! ! ! ! ! ! ! ! i 'm gonna kill you ! ! ! ! ! ! ! ! ! ! ! ! ! ! ! ! ! ! ! ! ! ! ! ! ! ! ! ! ! ! ! ! ! ! ! ! ! ! ! ! ! ! ! ! ! ! ! ! ! ! ! ! ! ! ! ! ! ! ! ! ! ! ! ! ! ! ! ! ! ! ! ! ! ! ! ! ! ! ! ! ! ! ! ! ! ! ! ! ! ! ! ! ! ! ! ! ! ! ! ! ! ! ! ! ! ! ! ! ! ! ! ! ! ! ! ! ! ! ! ! ! ! ! ! ! ! ! ! ! ! ! ! ! ! ! ! ! ! ! ! ! ! ! ! ! ! ! ! ! ! ! ! ! ! ! ! ! ! ! ! ! ! ! ! ! ! ! ! ! ! ! ! ! ! ! ! ! ! ! ! ! ! i 'm gonna kill you ! ! ! ! ! ! ! ! ! ! ! ! ! ! ! ! ! ! ! ! ! ! ! ! ! ! ! ! ! ! ! ! ! ! ! ! ! ! ! ! ! ! ! ! ! ! ! ! ! ! ! ! ! ! ! ! ! ! ! ! ! ! ! ! ! ! ! ! ! ! ! ! ! ! ! ! ! ! ! ! ! ! ! ! ! ! ! ! ! ! ! ! ! ! ! ! ! ! ! ! ! ! ! ! ! ! ! ! ! ! ! ! ! ! ! ! ! ! ! ! ! ! ! ! ! ! ! ! ! ! ! ! ! ! ! ! ! ! ! ! ! ! ! ! ! ! ! ! ! ! ! ! ! ! ! ! ! ! ! ! ! ! ! ! ! ! ! ! ! ! ! ! ! ! ! ! ! ! ! ! ! ! i 'm gonna kill you ! ! ! ! ! ! ! ! ! ! ! ! ! ! ! ! ! ! ! ! ! ! ! ! ! ! ! ! ! ! ! ! ! ! ! ! ! ! ! ! ! ! ! ! ! ! ! ! ! ! ! ! ! ! ! ! ! ! ! ! ! ! ! ! ! ! ! ! ! ! ! ! ! ! ! ! ! ! ! ! ! ! ! ! ! ! ! ! ! ! ! ! ! ! ! ! ! ! ! ! ! ! ! ! ! ! ! ! ! ! ! ! ! ! ! ! ! ! ! ! ! ! ! ! ! ! ! ! ! ! ! ! ! ! ! ! ! ! ! ! ! ! ! ! ! ! ! ! ! ! ! ! ! ! ! ! ! ! ! ! ! ! ! ! ! ! ! ! ! ! ! ! ! ! ! ! ! ! ! ! ! ! i 'm gonna kill you ! ! ! ! ! ! ! ! ! ! ! ! ! ! ! ! ! ! ! ! ! ! ! ! ! ! ! ! ! ! ! ! ! ! ! ! ! ! ! ! ! ! ! ! ! ! ! ! ! ! ! ! ! ! ! ! ! ! ! ! ! ! ! ! ! ! ! ! ! ! ! ! ! ! ! ! ! ! ! ! ! ! ! ! ! ! ! ! ! ! ! ! ! ! ! ! ! ! ! ! ! ! ! ! ! ! ! ! ! ! ! ! ! ! ! ! ! ! ! ! ! ! ! ! ! ! ! ! ! ! ! ! ! ! ! ! ! ! ! ! ! ! ! ! ! ! ! ! ! ! ! ! ! ! ! ! ! ! ! ! ! ! ! ! ! ! ! ! ! ! ! ! ! ! ! ! ! ! ! ! ! ! i 'm gonna kill you ! ! ! ! ! ! ! ! ! ! ! ! ! ! ! ! ! ! ! ! ! ! ! ! ! ! ! ! ! ! ! ! ! ! ! ! ! ! ! ! ! ! ! ! ! ! ! ! ! ! ! ! ! ! ! ! ! ! ! ! ! ! ! ! ! ! ! ! ! ! ! ! ! ! ! ! ! ! ! ! ! ! ! ! ! ! ! ! ! ! ! ! ! ! ! ! ! ! ! ! ! ! ! ! ! ! ! ! ! ! ! ! ! ! ! ! ! ! ! ! ! ! ! ! ! ! ! ! ! ! ! ! ! ! ! ! ! ! ! ! ! ! ! ! ! ! ! ! ! ! ! ! ! ! ! ! ! ! ! ! ! ! ! ! ! ! ! ! ! ! ! ! ! ! ! ! ! ! ! ! ! ! i 'm gonna kill you ! ! ! ! ! ! ! ! ! ! ! ! ! ! ! ! ! ! ! ! ! ! ! ! ! ! ! ! ! ! ! ! ! ! ! ! ! ! ! ! ! ! ! ! ! ! ! ! ! ! ! ! ! ! ! ! ! ! ! ! ! ! ! ! ! ! ! ! ! ! ! ! ! ! ! ! ! ! ! ! ! ! ! ! ! ! ! ! ! ! ! ! ! ! ! ! ! ! ! ! ! ! ! ! ! ! ! ! ! ! ! ! ! ! ! ! ! ! ! ! ! ! ! ! ! ! ! ! ! ! ! ! ! ! ! ! ! ! ! ! ! ! ! ! ! ! ! ! ! ! ! ! ! ! ! ! ! ! ! ! ! ! ! ! ! ! ! ! ! ! ! ! ! ! ! ! ! ! ! ! ! ! i 'm gonna kill you ! ! ! ! ! ! ! ! ! ! ! ! ! ! ! ! ! ! ! ! ! ! ! ! ! ! ! ! ! ! ! ! ! ! ! ! ! ! ! ! ! ! ! ! ! ! ! ! ! ! ! ! ! ! ! ! ! ! ! ! ! ! ! ! ! ! ! ! ! ! ! ! ! ! ! ! ! ! ! ! ! ! ! ! ! ! ! ! ! ! ! ! ! ! ! ! ! ! ! ! ! ! ! ! ! ! ! ! ! ! ! ! ! ! ! ! ! ! ! ! ! ! ! ! ! ! ! ! ! ! ! ! ! ! ! ! ! ! ! ! ! ! ! ! ! ! ! ! ! ! ! ! ! ! ! ! ! ! ! ! ! ! ! ! ! ! ! ! ! ! ! ! ! ! ! ! ! ! ! ! ! ! i 'm gonna kill you ! ! ! ! ! ! ! ! ! ! ! ! ! ! ! ! ! ! ! ! ! ! ! ! ! ! ! ! ! ! ! ! ! ! ! ! ! ! ! ! ! ! ! ! ! ! ! ! ! ! ! ! ! ! ! ! ! ! ! ! ! ! ! ! ! ! ! ! ! ! ! ! ! ! ! ! ! ! ! ! ! ! ! ! ! ! ! ! ! ! ! ! ! ! ! ! ! ! ! ! ! ! ! ! ! ! ! ! ! ! ! ! ! ! ! ! ! ! ! ! ! ! ! ! ! ! ! ! ! ! ! ! ! ! ! ! ! ! ! ! ! ! ! ! ! ! ! ! ! ! ! ! ! ! ! ! ! ! ! ! ! ! ! ! ! ! ! ! ! ! ! ! ! ! ! ! ! ! ! ! ! ! i 'm gonna kill you ! ! ! ! ! ! ! ! ! ! ! ! ! ! ! ! ! ! ! ! ! ! ! ! ! ! ! ! ! ! ! ! ! ! ! ! ! ! ! ! ! ! ! ! ! ! ! ! ! ! ! ! ! ! ! ! ! ! ! ! ! ! ! ! ! ! ! ! ! ! ! ! ! ! ! ! ! ! ! ! ! ! ! ! ! ! ! ! ! ! ! ! ! ! ! ! ! ! ! ! ! ! ! ! ! ! ! ! ! ! ! ! ! ! ! ! ! ! ! ! ! ! ! ! ! ! ! ! ! ! ! ! ! ! ! ! ! ! ! ! ! ! ! ! ! ! ! ! ! ! ! ! ! ! ! ! ! ! ! ! ! ! ! ! ! ! ! ! ! ! ! ! ! ! ! ! ! ! ! ! ! ! i 'm gonna kill you ! ! ! ! ! ! ! ! ! ! ! ! ! ! ! ! ! ! ! ! ! ! ! ! ! ! ! ! ! ! ! ! ! ! ! ! ! ! ! ! ! ! ! ! ! ! ! ! ! ! ! ! ! ! ! ! ! ! ! ! ! ! ! ! ! ! ! ! ! ! ! ! ! ! ! ! ! ! ! ! ! ! ! ! ! ! ! ! ! ! ! ! ! ! ! ! ! ! ! ! ! ! ! ! ! ! ! ! ! ! ! ! ! ! ! ! ! ! ! ! ! ! ! ! ! ! ! ! ! ! ! ! ! ! ! ! ! ! ! ! ! ! ! ! ! ! ! ! ! ! ! ! ! ! ! ! ! ! ! ! ! ! ! ! ! ! ! ! ! ! ! ! ! ! ! ! ! ! ! ! ! ! i 'm gonna kill you ! ! ! ! ! ! ! ! ! ! ! ! ! ! ! ! ! ! ! ! ! ! ! ! ! ! ! ! ! ! ! ! ! ! ! ! ! ! ! ! ! ! ! ! ! ! ! ! ! ! ! ! ! ! ! ! ! ! ! ! ! ! ! ! ! ! ! ! ! ! ! ! ! ! ! ! ! ! ! ! ! ! ! ! ! ! ! ! ! ! ! ! ! ! ! ! ! ! ! ! ! ! ! ! ! ! ! ! ! ! ! ! ! ! ! ! ! ! ! ! ! ! ! ! ! ! ! ! ! ! ! ! ! ! ! ! ! ! ! ! ! ! ! ! ! ! ! ! ! ! ! ! ! ! ! ! ! ! ! ! ! ! ! ! ! ! ! ! ! ! ! ! ! ! ! ! ! ! ! ! ! ! i 'm gonna kill you ! ! ! ! ! ! ! ! ! ! ! ! ! ! ! ! ! ! ! ! ! ! ! ! ! ! ! ! ! ! ! ! ! ! ! ! ! ! ! ! ! ! ! ! ! ! ! ! ! ! ! ! ! ! ! ! ! ! ! ! ! ! ! ! ! ! ! ! ! ! ! ! ! ! ! ! ! ! ! ! ! ! ! ! ! ! ! ! ! ! ! ! ! ! ! ! ! ! ! ! ! ! ! ! ! ! ! ! ! ! ! ! ! ! ! ! ! ! ! ! ! ! ! ! ! ! ! ! ! ! ! ! ! ! ! ! ! ! ! ! ! ! ! ! ! ! ! ! ! ! ! ! ! ! ! ! ! ! ! ! ! ! ! ! ! ! ! ! ! ! ! ! ! ! ! ! ! ! ! ! ! ! i 'm gonna kill you ! ! ! ! ! ! ! ! ! ! ! ! ! ! ! ! ! ! ! ! ! ! ! ! ! ! ! ! ! ! ! ! ! ! ! ! ! ! ! ! ! ! ! ! ! ! ! ! ! ! ! ! ! ! ! ! ! ! ! ! ! ! ! ! ! ! ! ! ! ! ! ! ! ! ! ! ! ! ! ! ! ! ! ! ! ! ! ! ! ! ! ! ! ! ! ! ! ! ! ! ! ! ! ! ! ! ! ! ! ! ! ! ! ! ! ! ! ! ! ! ! ! ! ! ! \n",
            "3470 lunchables ! ! ! ! ! ! ! ! ! ! ! ! ! ! ! ! ! ! ! ! ! ! ! ! ! ! ! ! ! ! ! ! ! ! ! ! ! ! ! ! ! ! ! ! ! ! ! ! ! ! ! ! ! ! ! ! ! ! ! ! ! ! 1lol imma donkey lunchables ! ! ! ! ! ! ! ! ! ! ! ! ! ! ! ! ! ! ! ! ! ! ! ! ! ! ! ! ! ! ! ! ! ! ! ! ! ! ! ! ! ! ! ! ! ! ! ! ! ! ! ! ! ! ! ! ! ! ! ! ! ! 1lol imma donkey lunchables ! ! ! ! ! ! ! ! ! ! ! ! ! ! ! ! ! ! ! ! ! ! ! ! ! ! ! ! ! ! ! ! ! ! ! ! ! ! ! ! ! ! ! ! ! ! ! ! ! ! ! ! ! ! ! ! ! ! ! ! ! ! 1lol imma donkey lunchables ! ! ! ! ! ! ! ! ! ! ! ! ! ! ! ! ! ! ! ! ! ! ! ! ! ! ! ! ! ! ! ! ! ! ! ! ! ! ! ! ! ! ! ! ! ! ! ! ! ! ! ! ! ! ! ! ! ! ! ! ! ! 1lol imma donkey lunchables ! ! ! ! ! ! ! ! ! ! ! ! ! ! ! ! ! ! ! ! ! ! ! ! ! ! ! ! ! ! ! ! ! ! ! ! ! ! ! ! ! ! ! ! ! ! ! ! ! ! ! ! ! ! ! ! ! ! ! ! ! ! 1lol imma donkey lunchables ! ! ! ! ! ! ! ! ! ! ! ! ! ! ! ! ! ! ! ! ! ! ! ! ! ! ! ! ! ! ! ! ! ! ! ! ! ! ! ! ! ! ! ! ! ! ! ! ! ! ! ! ! ! ! ! ! ! ! ! ! ! 1lol imma donkey lunchables ! ! ! ! ! ! ! ! ! ! ! ! ! ! ! ! ! ! ! ! ! ! ! ! ! ! ! ! ! ! ! ! ! ! ! ! ! ! ! ! ! ! ! ! ! ! ! ! ! ! ! ! ! ! ! ! ! ! ! ! ! ! 1lol imma donkey lunchables ! ! ! ! ! ! ! ! ! ! ! ! ! ! ! ! ! ! ! ! ! ! ! ! ! ! ! ! ! ! ! ! ! ! ! ! ! ! ! ! ! ! ! ! ! ! ! ! ! ! ! ! ! ! ! ! ! ! ! ! ! ! 1lol imma donkey lunchables ! ! ! ! ! ! ! ! ! ! ! ! ! ! ! ! ! ! ! ! ! ! ! ! ! ! ! ! ! ! ! ! ! ! ! ! ! ! ! ! ! ! ! ! ! ! ! ! ! ! ! ! ! ! ! ! ! ! ! ! ! ! 1lol imma donkey lunchables ! ! ! ! ! ! ! ! ! ! ! ! ! ! ! ! ! ! ! ! ! ! ! ! ! ! ! ! ! ! ! ! ! ! ! ! ! ! ! ! ! ! ! ! ! ! ! ! ! ! ! ! ! ! ! ! ! ! ! ! ! ! 1lol imma donkey lunchables ! ! ! ! ! ! ! ! ! ! ! ! ! ! ! ! ! ! ! ! ! ! ! ! ! ! ! ! ! ! ! ! ! ! ! ! ! ! ! ! ! ! ! ! ! ! ! ! ! ! ! ! ! ! ! ! ! ! ! ! ! ! 1lol imma donkey lunchables ! ! ! ! ! ! ! ! ! ! ! ! ! ! ! ! ! ! ! ! ! ! ! ! ! ! ! ! ! ! ! ! ! ! ! ! ! ! ! ! ! ! ! ! ! ! ! ! ! ! ! ! ! ! ! ! ! ! ! ! ! ! 1lol imma donkey lunchables ! ! ! ! ! ! ! ! ! ! ! ! ! ! ! ! ! ! ! ! ! ! ! ! ! ! ! ! ! ! ! ! ! ! ! ! ! ! ! ! ! ! ! ! ! ! ! ! ! ! ! ! ! ! ! ! ! ! ! ! ! ! 1lol imma donkey lunchables ! ! ! ! ! ! ! ! ! ! ! ! ! ! ! ! ! ! ! ! ! ! ! ! ! ! ! ! ! ! ! ! ! ! ! ! ! ! ! ! ! ! ! ! ! ! ! ! ! ! ! ! ! ! ! ! ! ! ! ! ! ! 1lol imma donkey lunchables ! ! ! ! ! ! ! ! ! ! ! ! ! ! ! ! ! ! ! ! ! ! ! ! ! ! ! ! ! ! ! ! ! ! ! ! ! ! ! ! ! ! ! ! ! ! ! ! ! ! ! ! ! ! ! ! ! ! ! ! ! ! 1lol imma donkey lunchables ! ! ! ! ! ! ! ! ! ! ! ! ! ! ! ! ! ! ! ! ! ! ! ! ! ! ! ! ! ! ! ! ! ! ! ! ! ! ! ! ! ! ! ! ! ! ! ! ! ! ! ! ! ! ! ! ! ! ! ! ! ! 1lol imma donkey lunchables ! ! ! ! ! ! ! ! ! ! ! ! ! ! ! ! ! ! ! ! ! ! ! ! ! ! ! ! ! ! ! ! ! ! ! ! ! ! ! ! ! ! ! ! ! ! ! ! ! ! ! ! ! ! ! ! ! ! ! ! ! ! 1lol imma donkey lunchables ! ! ! ! ! ! ! ! ! ! ! ! ! ! ! ! ! ! ! ! ! ! ! ! ! ! ! ! ! ! ! ! ! ! ! ! ! ! ! ! ! ! ! ! ! ! ! ! ! ! ! ! ! ! ! ! ! ! ! ! ! ! 1lol imma donkey lunchables ! ! ! ! ! ! ! ! ! ! ! ! ! ! ! ! ! ! ! ! ! ! ! ! ! ! ! ! ! ! ! ! ! ! ! ! ! ! ! ! ! ! ! ! ! ! ! ! ! ! ! ! ! ! ! ! ! ! ! ! ! ! 1lol imma donkey lunchables ! ! ! ! ! ! ! ! ! ! ! ! ! ! ! ! ! ! ! ! ! ! ! ! ! ! ! ! ! ! ! ! ! ! ! ! ! ! ! ! ! ! ! ! ! ! ! ! ! ! ! ! ! ! ! ! ! ! ! ! ! ! 1lol imma donkey lunchables ! ! ! ! ! ! ! ! ! ! ! ! ! ! ! ! ! ! ! ! ! ! ! ! ! ! ! ! ! ! ! ! ! ! ! ! ! ! ! ! ! ! ! ! ! ! ! ! ! ! ! ! ! ! ! ! ! ! ! ! ! ! 1lol imma donkey lunchables ! ! ! ! ! ! ! ! ! ! ! ! ! ! ! ! ! ! ! ! ! ! ! ! ! ! ! ! ! ! ! ! ! ! ! ! ! ! ! ! ! ! ! ! ! ! ! ! ! ! ! ! ! ! ! ! ! ! ! ! ! ! 1lol imma donkey lunchables ! ! ! ! ! ! ! ! ! ! ! ! ! ! ! ! ! ! ! ! ! ! ! ! ! ! ! ! ! ! ! ! ! ! ! ! ! ! ! ! ! ! ! ! ! ! ! ! ! ! ! ! ! ! ! ! ! ! ! ! ! ! 1lol imma donkey lunchables ! ! ! ! ! ! ! ! ! ! ! ! ! ! ! ! ! ! ! ! ! ! ! ! ! ! ! ! ! ! ! ! ! ! ! ! ! ! ! ! ! ! ! ! ! ! ! ! ! ! ! ! ! ! ! ! ! ! ! ! ! ! 1lol imma donkey lunchables ! ! ! ! ! ! ! ! ! ! ! ! ! ! ! ! ! ! ! ! ! ! ! ! ! ! ! ! ! ! ! ! ! ! ! ! ! ! ! ! ! ! ! ! ! ! ! ! ! ! ! ! ! ! ! ! ! ! ! ! ! ! 1lol imma donkey lunchables ! ! ! ! ! ! ! ! ! ! ! ! ! ! ! ! ! ! ! ! ! ! ! ! ! ! ! ! ! ! ! ! ! ! ! ! ! ! ! ! ! ! ! ! ! ! ! ! ! ! ! ! ! ! ! ! ! ! ! ! ! ! 1lol imma donkey lunchables ! ! ! ! ! ! ! ! ! ! ! ! ! ! ! ! ! ! ! ! ! ! ! ! ! ! ! ! ! ! ! ! ! ! ! ! ! ! ! ! ! ! ! ! ! ! ! ! ! ! ! ! ! ! ! ! ! ! ! ! ! ! 1lol imma donkey lunchables ! ! ! ! ! ! ! ! ! ! ! ! ! ! ! ! ! ! ! ! ! ! ! ! ! ! ! ! ! ! ! ! ! ! ! ! ! ! ! ! ! ! ! ! ! ! ! ! ! ! ! ! ! ! ! ! ! ! ! ! ! ! 1lol imma donkey lunchables ! ! ! ! ! ! ! ! ! ! ! ! ! ! ! ! ! ! ! ! ! ! ! ! ! ! ! ! ! ! ! ! ! ! ! ! ! ! ! ! ! ! ! ! ! ! ! ! ! ! ! ! ! ! ! ! ! ! ! ! ! ! 1lol imma donkey lunchables ! ! ! ! ! ! ! ! ! ! ! ! ! ! ! ! ! ! ! ! ! ! ! ! ! ! ! ! ! ! ! ! ! ! ! ! ! ! ! ! ! ! ! ! ! ! ! ! ! ! ! ! ! ! ! ! ! ! ! ! ! ! 1lol imma donkey lunchables ! ! ! ! ! ! ! ! ! ! ! ! ! ! ! ! ! ! ! ! ! ! ! ! ! ! ! ! ! ! ! ! ! ! ! ! ! ! ! ! ! ! ! ! ! ! ! ! ! ! ! ! ! ! ! ! ! ! ! ! ! ! 1lol imma donkey lunchables ! ! ! ! ! ! ! ! ! ! ! ! ! ! ! ! ! ! ! ! ! ! ! ! ! ! ! ! ! ! ! ! ! ! ! ! ! ! ! ! ! ! ! ! ! ! ! ! ! ! ! ! ! ! ! ! ! ! ! ! ! ! 1lol imma donkey lunchables ! ! ! ! ! ! ! ! ! ! ! ! ! ! ! ! ! ! ! ! ! ! ! ! ! ! ! ! ! ! ! ! ! ! ! ! ! ! ! ! ! ! ! ! ! ! ! ! ! ! ! ! ! ! ! ! ! ! ! ! ! ! 1lol imma donkey lunchables ! ! ! ! ! ! ! ! ! ! ! ! ! ! ! ! ! ! ! ! ! ! ! ! ! ! ! ! ! ! ! ! ! ! ! ! ! ! ! ! ! ! ! ! ! ! ! ! ! ! ! ! ! ! ! ! ! ! ! ! ! ! 1lol imma donkey lunchables ! ! ! ! ! ! ! ! ! ! ! ! ! ! ! ! ! ! ! ! ! ! ! ! ! ! ! ! ! ! ! ! ! ! ! ! ! ! ! ! ! ! ! ! ! ! ! ! ! ! ! ! ! ! ! ! ! ! ! ! ! ! 1lol imma donkey lunchables ! ! ! ! ! ! ! ! ! ! ! ! ! ! ! ! ! ! ! ! ! ! ! ! ! ! ! ! ! ! ! ! ! ! ! ! ! ! ! ! ! ! ! ! ! ! ! ! ! ! ! ! ! ! ! ! ! ! ! ! ! ! 1lol imma donkey lunchables ! ! ! ! ! ! ! ! ! ! ! ! ! ! ! ! ! ! ! ! ! ! ! ! ! ! ! ! ! ! ! ! ! ! ! ! ! ! ! ! ! ! ! ! ! ! ! ! ! ! ! ! ! ! ! ! ! ! ! ! ! ! 1lol imma donkey lunchables ! ! ! ! ! ! ! ! ! ! ! ! ! ! ! ! ! ! ! ! ! ! ! ! ! ! ! ! ! ! ! ! ! ! ! ! ! ! ! ! ! ! ! ! ! ! ! ! ! ! ! ! ! ! ! ! ! ! ! ! ! ! 1lol imma donkey lunchables ! ! ! ! ! ! ! ! ! ! ! ! ! ! ! ! ! ! ! ! ! ! ! ! ! ! ! ! ! ! ! ! ! ! ! ! ! ! ! ! ! ! ! ! ! ! ! ! ! ! ! ! ! ! ! ! ! ! ! ! ! ! 1lol imma donkey lunchables ! ! ! ! ! ! ! ! ! ! ! ! ! ! ! ! ! ! ! ! ! ! ! ! ! ! ! ! ! ! ! ! ! ! ! ! ! ! ! ! ! ! ! ! ! ! ! ! ! ! ! ! ! ! ! ! ! ! ! ! ! ! 1lol imma donkey lunchables ! ! ! ! ! ! ! ! ! ! ! ! ! ! ! ! ! ! ! ! ! ! ! ! ! ! ! ! ! ! ! ! ! ! ! ! ! ! ! ! ! ! ! ! ! ! ! ! ! ! ! ! ! ! ! ! ! ! ! ! ! ! 1lol imma donkey lunchables ! ! ! ! ! ! ! ! ! ! ! ! ! ! ! ! ! ! ! ! ! ! ! ! ! ! ! ! ! ! ! ! ! ! ! ! ! ! ! ! ! ! ! ! ! ! ! ! ! ! ! ! ! ! ! ! ! ! ! ! ! ! 1lol imma donkey lunchables ! ! ! ! ! ! ! ! ! ! ! ! ! ! ! ! ! ! ! ! ! ! ! ! ! ! ! ! ! ! ! ! ! ! ! ! ! ! ! ! ! ! ! ! ! ! ! ! ! ! ! ! ! ! ! ! ! ! ! ! ! ! 1lol imma donkey lunchables ! ! ! ! ! ! ! ! ! ! ! ! ! ! ! ! ! ! ! ! ! ! ! ! ! ! ! ! ! ! ! ! ! ! ! ! ! ! ! ! ! ! ! ! ! ! ! ! ! ! ! ! ! ! ! ! ! ! ! ! ! ! 1lol imma donkey lunchables ! ! ! ! ! ! ! ! ! ! ! ! ! ! ! ! ! ! ! ! ! ! ! ! ! ! ! ! ! ! ! ! ! ! ! ! ! ! ! ! ! ! ! ! ! ! ! ! ! ! ! ! ! ! ! ! ! ! ! ! ! ! 1lol imma donkey lunchables ! ! ! ! ! ! ! ! ! ! ! ! ! ! ! ! ! ! ! ! ! ! ! ! ! ! ! ! ! ! ! ! ! ! ! ! ! ! ! ! ! ! ! ! ! ! ! ! ! ! ! ! ! ! ! ! ! ! ! ! ! ! 1lol imma donkey lunchables ! ! ! ! ! ! ! ! ! ! ! ! ! ! ! ! ! ! ! ! ! ! ! ! ! ! ! ! ! ! ! ! ! ! ! ! ! ! ! ! ! ! ! ! ! ! ! ! ! ! ! ! ! ! ! ! ! ! ! ! ! ! 1lol imma donkey lunchables ! ! ! ! ! ! ! ! ! ! ! ! ! ! ! ! ! ! ! ! ! ! ! ! ! ! ! ! ! ! ! ! ! ! ! ! ! ! ! ! ! ! ! ! ! ! ! ! ! ! ! ! ! ! ! ! ! ! ! ! ! ! 1lol imma donkey lunchables ! ! ! ! ! ! ! ! ! ! ! ! ! ! ! ! ! ! ! ! ! ! ! ! ! ! ! ! ! ! ! ! ! ! ! ! ! ! ! ! ! ! ! ! ! ! ! ! ! ! ! ! ! ! ! ! ! ! ! ! ! ! 1lol imma donkey lunchables ! ! ! ! ! ! ! ! ! ! ! ! ! ! ! ! ! ! ! ! ! ! ! ! ! ! ! ! ! ! ! ! ! ! ! ! ! ! ! ! ! ! ! ! ! ! ! ! ! ! ! ! ! ! ! ! ! ! ! ! ! ! 1lol imma donkey lunchables ! ! ! ! ! ! ! ! ! ! ! ! ! ! ! ! ! ! ! ! ! ! ! ! ! ! ! ! ! ! ! ! ! ! ! ! ! ! ! ! ! ! ! ! ! ! ! ! ! ! ! ! ! ! ! ! ! ! ! ! ! ! 1lol imma donkey lunchables ! ! ! ! ! ! ! ! ! ! ! ! ! ! ! ! ! ! ! ! ! ! ! ! ! ! ! ! ! ! ! ! ! ! ! ! ! ! ! ! ! ! ! ! ! ! ! ! ! ! ! ! ! ! ! ! ! ! ! ! ! ! 1lol imma donkey lunchables ! ! ! ! ! ! ! ! ! ! ! ! ! ! ! ! ! ! ! ! ! ! ! ! ! ! ! ! ! ! ! ! ! ! ! ! \n",
            "3043 wikipedia teh free enyclopedia ! ! ! ! ! ! ! ! ! ! ! ! ! ! ! ! ! ! ! ! ! ! ! ! ! ! ! ! ! ! ! ! ! ! ! ! ! ! ! ! wikipedia teh free enyclopedia ! ! ! ! ! ! ! ! ! ! ! ! ! ! ! ! ! ! ! ! ! ! ! ! ! ! ! ! ! ! ! ! ! ! ! ! ! ! ! ! wikipedia teh free enyclopedia ! ! ! ! ! ! ! ! ! ! ! ! ! ! ! ! ! ! ! ! ! ! ! ! ! ! ! ! ! ! ! ! ! ! ! ! ! ! ! ! wikipedia teh free enyclopedia ! ! ! ! ! ! ! ! ! ! ! ! ! ! ! ! ! ! ! ! ! ! ! ! ! ! ! ! ! ! ! ! ! ! ! ! ! ! ! ! wikipedia teh free enyclopedia ! ! ! ! ! ! ! ! ! ! ! ! ! ! ! ! ! ! ! ! ! ! ! ! ! ! ! ! ! ! ! ! ! ! ! ! ! ! ! ! wikipedia teh free enyclopedia ! ! ! ! ! ! ! ! ! ! ! ! ! ! ! ! ! ! ! ! ! ! ! ! ! ! ! ! ! ! ! ! ! ! ! ! ! ! ! ! wikipedia teh free enyclopedia ! ! ! ! ! ! ! ! ! ! ! ! ! ! ! ! ! ! ! ! ! ! ! ! ! ! ! ! ! ! ! ! ! ! ! ! ! ! ! ! wikipedia teh free enyclopedia ! ! ! ! ! ! ! ! ! ! ! ! ! ! ! ! ! ! ! ! ! ! ! ! ! ! ! ! ! ! ! ! ! ! ! ! ! ! ! ! wikipedia teh free enyclopedia ! ! ! ! ! ! ! ! ! ! ! ! ! ! ! ! ! ! ! ! ! ! ! ! ! ! ! ! ! ! ! ! ! ! ! ! ! ! ! ! wikipedia teh free enyclopedia ! ! ! ! ! ! ! ! ! ! ! ! ! ! ! ! ! ! ! ! ! ! ! ! ! ! ! ! ! ! ! ! ! ! ! ! ! ! ! ! wikipedia teh free enyclopedia ! ! ! ! ! ! ! ! ! ! ! ! ! ! ! ! ! ! ! ! ! ! ! ! ! ! ! ! ! ! ! ! ! ! ! ! ! ! ! ! wikipedia teh free enyclopedia ! ! ! ! ! ! ! ! ! ! ! ! ! ! ! ! ! ! ! ! ! ! ! ! ! ! ! ! ! ! ! ! ! ! ! ! ! ! ! ! wikipedia teh free enyclopedia ! ! ! ! ! ! ! ! ! ! ! ! ! ! ! ! ! ! ! ! ! ! ! ! ! ! ! ! ! ! ! ! ! ! ! ! ! ! ! ! wikipedia teh free enyclopedia ! ! ! ! ! ! ! ! ! ! ! ! ! ! ! ! ! ! ! ! ! ! ! ! ! ! ! ! ! ! ! ! ! ! ! ! ! ! ! ! wikipedia teh free enyclopedia ! ! ! ! ! ! ! ! ! ! ! ! ! ! ! ! ! ! ! ! ! ! ! ! ! ! ! ! ! ! ! ! ! ! ! ! ! ! ! ! wikipedia teh free enyclopedia ! ! ! ! ! ! ! ! ! ! ! ! ! ! ! ! ! ! ! ! ! ! ! ! ! ! ! ! ! ! ! ! ! ! ! ! ! ! ! ! wikipedia teh free enyclopedia ! ! ! ! ! ! ! ! ! ! ! ! ! ! ! ! ! ! ! ! ! ! ! ! ! ! ! ! ! ! ! ! ! ! ! ! ! ! ! ! wikipedia teh free enyclopedia ! ! ! ! ! ! ! ! ! ! ! ! ! ! ! ! ! ! ! ! ! ! ! ! ! ! ! ! ! ! ! ! ! ! ! ! ! ! ! ! wikipedia teh free enyclopedia ! ! ! ! ! ! ! ! ! ! ! ! ! ! ! ! ! ! ! ! ! ! ! ! ! ! ! ! ! ! ! ! ! ! ! ! ! ! ! ! wikipedia teh free enyclopedia ! ! ! ! ! ! ! ! ! ! ! ! ! ! ! ! ! ! ! ! ! ! ! ! ! ! ! ! ! ! ! ! ! ! ! ! ! ! ! ! wikipedia teh free enyclopedia ! ! ! ! ! ! ! ! ! ! ! ! ! ! ! ! ! ! ! ! ! ! ! ! ! ! ! ! ! ! ! ! ! ! ! ! ! ! ! ! wikipedia teh free enyclopedia ! ! ! ! ! ! ! ! ! ! ! ! ! ! ! ! ! ! ! ! ! ! ! ! ! ! ! ! ! ! ! ! ! ! ! ! ! ! ! ! wikipedia teh free enyclopedia ! ! ! ! ! ! ! ! ! ! ! ! ! ! ! ! ! ! ! ! ! ! ! ! ! ! ! ! ! ! ! ! ! ! ! ! ! ! ! ! wikipedia teh free enyclopedia ! ! ! ! ! ! ! ! ! ! ! ! ! ! ! ! ! ! ! ! ! ! ! ! ! ! ! ! ! ! ! ! ! ! ! ! ! ! ! ! wikipedia teh free enyclopedia ! ! ! ! ! ! ! ! ! ! ! ! ! ! ! ! ! ! ! ! ! ! ! ! ! ! ! ! ! ! ! ! ! ! ! ! ! ! ! ! wikipedia teh free enyclopedia ! ! ! ! ! ! ! ! ! ! ! ! ! ! ! ! ! ! ! ! ! ! ! ! ! ! ! ! ! ! ! ! ! ! ! ! ! ! ! ! wikipedia teh free enyclopedia ! ! ! ! ! ! ! ! ! ! ! ! ! ! ! ! ! ! ! ! ! ! ! ! ! ! ! ! ! ! ! ! ! ! ! ! ! ! ! ! wikipedia teh free enyclopedia ! ! ! ! ! ! ! ! ! ! ! ! ! ! ! ! ! ! ! ! ! ! ! ! ! ! ! ! ! ! ! ! ! ! ! ! ! ! ! ! wikipedia teh free enyclopedia ! ! ! ! ! ! ! ! ! ! ! ! ! ! ! ! ! ! ! ! ! ! ! ! ! ! ! ! ! ! ! ! ! ! ! ! ! ! ! ! wikipedia teh free enyclopedia ! ! ! ! ! ! ! ! ! ! ! ! ! ! ! ! ! ! ! ! ! ! ! ! ! ! ! ! ! ! ! ! ! ! ! ! ! ! ! ! wikipedia teh free enyclopedia ! ! ! ! ! ! ! ! ! ! ! ! ! ! ! ! ! ! ! ! ! ! ! ! ! ! ! ! ! ! ! ! ! ! ! ! ! ! ! ! wikipedia teh free enyclopedia ! ! ! ! ! ! ! ! ! ! ! ! ! ! ! ! ! ! ! ! ! ! ! ! ! ! ! ! ! ! ! ! ! ! ! ! ! ! ! ! wikipedia teh free enyclopedia ! ! ! ! ! ! ! ! ! ! ! ! ! ! ! ! ! ! ! ! ! ! ! ! ! ! ! ! ! ! ! ! ! ! ! ! ! ! ! ! wikipedia teh free enyclopedia ! ! ! ! ! ! ! ! ! ! ! ! ! ! ! ! ! ! ! ! ! ! ! ! ! ! ! ! ! ! ! ! ! ! ! ! ! ! ! ! wikipedia teh free enyclopedia ! ! ! ! ! ! ! ! ! ! ! ! ! ! ! ! ! ! ! ! ! ! ! ! ! ! ! ! ! ! ! ! ! ! ! ! ! ! ! ! wikipedia teh free enyclopedia ! ! ! ! ! ! ! ! ! ! ! ! ! ! ! ! ! ! ! ! ! ! ! ! ! ! ! ! ! ! ! ! ! ! ! ! ! ! ! ! wikipedia teh free enyclopedia ! ! ! ! ! ! ! ! ! ! ! ! ! ! ! ! ! ! ! ! ! ! ! ! ! ! ! ! ! ! ! ! ! ! ! ! ! ! ! ! wikipedia teh free enyclopedia ! ! ! ! ! ! ! ! ! ! ! ! ! ! ! ! ! ! ! ! ! ! ! ! ! ! ! ! ! ! ! ! ! ! ! ! ! ! ! ! wikipedia teh free enyclopedia ! ! ! ! ! ! ! ! ! ! ! ! ! ! ! ! ! ! ! ! ! ! ! ! ! ! ! ! ! ! ! ! ! ! ! ! ! ! ! ! wikipedia teh free enyclopedia ! ! ! ! ! ! ! ! ! ! ! ! ! ! ! ! ! ! ! ! ! ! ! ! ! ! ! ! ! ! ! ! ! ! ! ! ! ! ! ! wikipedia teh free enyclopedia ! ! ! ! ! ! ! ! ! ! ! ! ! ! ! ! ! ! ! ! ! ! ! ! ! ! ! ! ! ! ! ! ! ! ! ! ! ! ! ! wikipedia teh free enyclopedia ! ! ! ! ! ! ! ! ! ! ! ! ! ! ! ! ! ! ! ! ! ! ! ! ! ! ! ! ! ! ! ! ! ! ! ! ! ! ! ! wikipedia teh free enyclopedia ! ! ! ! ! ! ! ! ! ! ! ! ! ! ! ! ! ! ! ! ! ! ! ! ! ! ! ! ! ! ! ! ! ! ! ! ! ! ! ! wikipedia teh free enyclopedia ! ! ! ! ! ! ! ! ! ! ! ! ! ! ! ! ! ! ! ! ! ! ! ! ! ! ! ! ! ! ! ! ! ! ! ! ! ! ! ! wikipedia teh free enyclopedia ! ! ! ! ! ! ! ! ! ! ! ! ! ! ! ! ! ! ! ! ! ! ! ! ! ! ! ! ! ! ! ! ! ! ! ! ! ! ! ! wikipedia teh free enyclopedia ! ! ! ! ! ! ! ! ! ! ! ! ! ! ! ! ! ! ! ! ! ! ! ! ! ! ! ! ! ! ! ! ! ! ! ! ! ! ! ! wikipedia teh free enyclopedia ! ! ! ! ! ! ! ! ! ! ! ! ! ! ! ! ! ! ! ! ! ! ! ! ! ! ! ! ! ! ! ! ! ! ! ! ! ! ! ! wikipedia teh free enyclopedia ! ! ! ! ! ! ! ! ! ! ! ! ! ! ! ! ! ! ! ! ! ! ! ! ! ! ! ! ! ! ! ! ! ! ! ! ! ! ! ! wikipedia teh free enyclopedia ! ! ! ! ! ! ! ! ! ! ! ! ! ! ! ! ! ! ! ! ! ! ! ! ! ! ! ! ! ! ! ! ! ! ! ! ! ! ! ! wikipedia teh free enyclopedia ! ! ! ! ! ! ! ! ! ! ! ! ! ! ! ! ! ! ! ! ! ! ! ! ! ! ! ! ! ! ! ! ! ! ! ! ! ! ! ! wikipedia teh free enyclopedia ! ! ! ! ! ! ! ! ! ! ! ! ! ! ! ! ! ! ! ! ! ! ! ! ! ! ! ! ! ! ! ! ! ! ! ! ! ! ! ! wikipedia teh free enyclopedia ! ! ! ! ! ! ! ! ! ! ! ! ! ! ! ! ! ! ! ! ! ! ! ! ! ! ! ! ! ! ! ! ! ! ! ! ! ! ! ! wikipedia teh free enyclopedia ! ! ! ! ! ! ! ! ! ! ! ! ! ! ! ! ! ! ! ! ! ! ! ! ! ! ! ! ! ! ! ! ! ! ! ! ! ! ! ! wikipedia teh free enyclopedia ! ! ! ! ! ! ! ! ! ! ! ! ! ! ! ! ! ! ! ! ! ! ! ! ! ! ! ! ! ! ! ! ! ! ! ! ! ! ! ! wikipedia teh free enyclopedia ! ! ! ! ! ! ! ! ! ! ! ! ! ! ! ! ! ! ! ! ! ! ! ! ! ! ! ! ! ! ! ! ! ! ! ! ! ! ! ! wikipedia teh free enyclopedia ! ! ! ! ! ! ! ! ! ! ! ! ! ! ! ! ! ! ! ! ! ! ! ! ! ! ! ! ! ! ! ! ! ! ! ! ! ! ! ! wikipedia teh free enyclopedia ! ! ! ! ! ! ! ! ! ! ! ! ! ! ! ! ! ! ! ! ! ! ! ! ! ! ! ! ! ! ! ! ! ! ! ! ! ! ! ! wikipedia teh free enyclopedia ! ! ! ! ! ! ! ! ! ! ! ! ! ! ! ! ! ! ! ! ! ! ! ! ! ! ! ! ! ! ! ! ! ! ! ! ! ! ! ! wikipedia teh free enyclopedia ! ! ! ! ! ! ! ! ! ! ! ! ! ! ! ! ! ! ! ! ! ! ! ! ! ! ! ! ! ! ! ! ! ! ! ! ! ! ! ! wikipedia teh free enyclopedia ! ! ! ! ! ! ! ! ! ! ! ! ! ! ! ! ! ! ! ! ! ! ! ! ! ! ! ! ! ! ! ! ! ! ! ! ! ! ! ! wikipedia teh free enyclopedia ! ! ! ! ! ! ! ! ! ! ! ! ! ! ! ! ! ! ! ! ! ! ! ! ! ! ! ! ! ! ! ! ! ! ! ! ! ! ! ! wikipedia teh free enyclopedia ! ! ! ! ! ! ! ! ! ! ! ! ! ! ! ! ! ! ! ! ! ! ! ! ! ! ! ! ! ! ! ! ! ! ! ! ! ! ! ! wikipedia teh free enyclopedia ! ! ! ! ! ! ! ! ! ! ! ! ! ! ! ! ! ! ! ! ! ! ! ! ! ! ! ! ! ! ! ! ! ! ! ! ! ! ! ! wikipedia teh free enyclopedia ! ! ! ! ! ! ! ! ! ! ! ! ! ! ! ! ! ! ! ! ! ! ! ! ! ! ! ! ! ! ! ! ! ! ! ! ! ! ! ! wikipedia teh free enyclopedia ! ! ! ! ! ! ! ! ! ! ! ! ! ! ! ! ! ! ! ! ! ! ! ! ! ! ! ! ! ! ! ! ! ! ! ! ! ! ! ! wikipedia teh free enyclopedia ! ! ! ! ! ! ! ! ! ! ! ! ! ! ! ! ! ! ! ! ! ! ! ! ! ! ! ! ! ! ! ! ! ! ! ! ! ! ! ! wikipedia teh free enyclopedia ! ! ! ! ! ! ! ! ! ! ! ! ! ! ! ! ! ! ! ! ! ! ! ! ! ! ! ! ! ! ! ! ! ! ! ! ! ! ! ! wikipedia teh free enyclopedia ! ! ! ! ! ! ! ! ! ! ! ! ! ! ! ! ! ! ! ! ! ! ! ! ! ! ! ! ! ! ! ! ! ! ! ! ! ! ! ! wikipedia teh free enyclopedia ! ! ! ! ! ! ! ! ! ! ! ! ! ! ! ! ! ! ! ! ! ! ! ! ! ! ! ! ! ! ! ! ! ! ! ! ! ! ! ! wikipedia teh free enyclopedia ! ! \n",
            "2676 is weezer okay ? is weezer okay ? is weezer okay ? is weezer okay ? is weezer okay ? is weezer okay ? is weezer okay ? is weezer okay ? is weezer okay ? is weezer okay ? is weezer okay ? is weezer okay ? is weezer okay ? is weezer okay ? is weezer okay ? is weezer okay ? is weezer okay ? is weezer okay ? is weezer okay ? is weezer okay ? is weezer okay ? is weezer okay ? is weezer okay ? is weezer okay ? is weezer okay ? is weezer okay ? is weezer okay ? is weezer okay ? is weezer okay ? is weezer okay ? is weezer okay ? is weezer okay ? is weezer okay ? is weezer okay ? is weezer okay ? is weezer okay ? is weezer okay ? is weezer okay ? is weezer okay ? is weezer okay ? is weezer okay ? is weezer okay ? is weezer okay ? is weezer okay ? is weezer okay ? is weezer okay ? is weezer okay ? is weezer okay ? is weezer okay ? is weezer okay ? is weezer okay ? is weezer okay ? is weezer okay ? is weezer okay ? is weezer okay ? is weezer okay ? is weezer okay ? is weezer okay ? is weezer okay ? is weezer okay ? is weezer okay ? is weezer okay ? is weezer okay ? is weezer okay ? is weezer okay ? is weezer okay ? is weezer okay ? is weezer okay ? is weezer okay ? is weezer okay ? is weezer okay ? is weezer okay ? is weezer okay ? is weezer okay ? is weezer okay ? is weezer okay ? is weezer okay ? is weezer okay ? is weezer okay ? is weezer okay ? is weezer okay ? is weezer okay ? is weezer okay ? is weezer okay ? is weezer okay ? is weezer okay ? is weezer okay ? is weezer okay ? is weezer okay ? is weezer okay ? is weezer okay ? is weezer okay ? is weezer okay ? is weezer okay ? is weezer okay ? is weezer okay ? is weezer okay ? is weezer okay ? is weezer okay ? is weezer okay ? is weezer okay ? is weezer okay ? is weezer okay ? is weezer okay ? is weezer okay ? is weezer okay ? is weezer okay ? is weezer okay ? is weezer okay ? is weezer okay ? is weezer okay ? is weezer okay ? is weezer okay ? is weezer okay ? is weezer okay ? is weezer okay ? is weezer okay ? is weezer okay ? is weezer okay ? is weezer okay ? is weezer okay ? is weezer okay ? is weezer okay ? is weezer okay ? is weezer okay ? is weezer okay ? is weezer okay ? is weezer okay ? is weezer okay ? is weezer okay ? is weezer okay ? is weezer okay ? is weezer okay ? is weezer okay ? is weezer okay ? is weezer okay ? is weezer okay ? is weezer okay ? is weezer okay ? is weezer okay ? is weezer okay ? is weezer okay ? is weezer okay ? is weezer okay ? is weezer okay ? is weezer okay ? is weezer okay ? is weezer okay ? is weezer okay ? is weezer okay ? is weezer okay ? is weezer okay ? is weezer okay ? is weezer okay ? answer my question ! ! ! ! ! ! ! ! ! ! ! ! ! ! ! ! ! ! ! ! ! ! ! ! ! ! ! ! ! ! ! ! ! ! ! ! ! ! ! ! ! ! ! ! ! ! ! ! ! ! ! ! ! ! ! ! ! ! ! ! ! ! ! ! ! ! ! ! ! ! ! ! ! ! ! ! ! ! ! ! ! ! ! ! ! ! ! ! ! ! ! ! ! ! ! ! ! ! ! ! ! ! ! ! ! ! ! ! ! ! ! ! ! ! ! ! ! ! ! ! ! ! ! ! ! ! ! ! ! ! ! ! ! ! ! ! ! ! ! ! ! ! ! ! ! ! ! ! ! ! ! ! ! ! ! ! ! ! ! ! ! ! ! ! ! ! ! ! ! ! ! ! ! ! ! ! ! ! ! ! ! ! ! ! ! ! ! ! ! ! ! ! ! ! ! ! ! ! ! ! ! ! ! ! ! ! ! ! ! ! ! ! ! ! ! ! ! ! ! ! ! ! ! ! ! ! ! ! ! ! ! ! ! ! ! ! ! ! ! ! ! ! ! ! ! ! ! ! ! ! ! ! ! ! ! ! ! ! ! ! ! ! ! ! ! ! ! ! ! ! ! ! ! ! ! ! ! ! ! ! ! ! ! ! ! ! ! ! ! ! ! ! ! ! ! ! ! ! ! ! ! ! ! ! ! ! ! ! ! ! ! ! ! ! ! ! ! ! ! ! ! ! ! ! ! ! ! ! ! ! ! ! ! ! ! ! ! ! ! ! ! ! ! ! ! ! ! ! ! ! ! ! ! ! ! ! ! ! ! ! ! ! ! ! ! ! ! ! ! ! ! ! ! ! ! ! ! ! ! ! ! ! ! ! ! ! ! ! ! ! ! ! ! ! ! ! ! ! ! ! ! ! ! ! ! ! ! ! ! ! ! ! ! ! ! ! ! ! ! ! ! ! ! ! ! ! ! ! ! ! ! ! ! ! ! ! ! ! ! ! ! ! ! ! ! ! ! ! ! ! ! ! ! ! ! ! ! ! ! ! ! ! ! ! ! ! ! ! ! ! ! ! ! ! ! ! ! ! ! ! ! ! ! ! ! ! ! ! ! ! ! ! ! ! ! ! ! ! ! ! ! ! ! ! ! ! ! ! ! ! ! ! ! ! ! ! ! ! ! ! ! ! ! ! ! ! ! ! ! ! ! ! ! ! ! ! ! ! ! ! ! ! ! ! ! ! ! ! ! ! ! ! ! ! ! ! ! ! ! ! ! ! ! ! ! ! ! ! ! ! ! ! ! ! ! ! ! ! ! ! ! ! ! ! ! ! ! ! ! ! ! ! ! ! ! ! ! ! ! ! ! ! ! ! ! ! ! ! ! ! ! ! ! ! ! ! ! ! ! ! ! ! ! ! ! ! ! ! ! ! ! ! ! ! ! ! ! ! ! ! ! ! ! ! ! ! ! ! ! ! ! ! ! ! ! ! ! ! ! ! ! ! ! ! ! ! ! ! ! ! ! ! ! ! ! ! ! ! ! ! ! ! ! ! ! ! ! ! ! ! ! ! ! ! ! ! ! ! ! ! ! ! ! ! ! ! ! ! ! ! ! ! ! ! ! ! ! ! ! ! ! ! ! ! ! ! ! ! ! ! ! ! ! ! ! ! ! ! ! ! ! ! ! ! ! ! ! ! ! ! ! ! ! ! ! ! ! ! ! ! ! ! ! ! ! ! ! ! ! ! ! ! ! ! ! ! ! ! ! ! ! ! ! ! ! ! ! ! ! ! ! ! ! ! ! ! ! ! ! ! ! ! ! ! ! ! ! ! ! ! ! ! ! ! ! ! ! ! ! ! ! ! ! ! ! ! ! ! ! ! ! ! ! ! ! ! ! ! ! ! ! ! ! ! ! ! ! ! ! ! ! ! ! ! ! ! ! ! ! ! ! ! ! ! ! ! ! ! ! ! ! ! ! ! ! ! ! ! ! ! ! ! ! ! ! ! ! ! ! ! ! ! ! ! ! ! ! ! ! ! ! ! ! ! ! ! ! ! ! ! ! ! ! ! ! ! ! ! ! ! ! ! ! ! ! ! ! ! ! ! ! ! ! ! ! ! ! ! ! ! ! ! ! ! ! ! ! ! ! ! ! ! ! ! ! ! ! ! ! ! ! ! ! ! ! ! ! ! ! ! ! ! ! ! ! ! ! ! ! ! ! ! ! ! ! ! ! ! ! ! ! ! ! ! ! ! ! ! ! ! ! ! ! ! ! ! ! ! ! ! ! ! ! ! ! ! ! ! ! ! ! ! ! ! ! ! ! ! ! ! ! ! ! ! ! ! ! ! ! ! ! ! ! ! ! ! ! ! ! ! ! ! ! ! ! ! ! ! ! ! ! ! ! ! ! ! ! ! ! ! ! ! ! ! ! ! ! ! ! ! ! ! ! ! ! ! ! ! ! ! ! ! ! ! ! ! ! ! ! ! ! ! ! ! ! ! ! ! ! ! ! ! ! ! ! ! ! ! ! ! ! ! ! ! ! ! ! ! ! ! ! ! ! ! ! ! ! ! ! ! ! ! ! ! ! ! ! ! ! ! ! ! ! ! ! ! ! ! ! ! ! ! ! ! ! ! ! ! ! ! ! ! ! ! ! ! ! ! ! ! ! ! ! ! ! ! ! ! ! ! ! ! ! ! ! ! ! ! ! ! ! ! ! ! ! ! ! ! ! ! ! ! ! ! ! ! ! ! ! ! ! ! ! ! ! ! ! ! ! ! ! ! ! ! ! ! ! ! ! ! ! ! ! ! ! ! ! ! ! ! ! ! ! ! ! ! ! ! ! ! ! ! ! ! ! ! ! ! ! ! ! ! ! ! ! ! ! ! ! ! ! ! ! ! ! ! ! ! ! ! ! ! ! ! ! ! ! ! ! ! ! ! ! ! ! ! ! ! ! ! ! ! ! ! ! ! ! ! ! ! ! ! ! ! ! ! ! ! ! ! ! ! ! ! ! ! ! ! ! ! ! ! ! ! ! ! ! ! ! ! ! ! ! ! ! ! ! ! ! ! ! ! ! ! ! ! ! ! ! ! ! ! ! ! ! ! ! ! ! ! ! ! ! ! ! ! ! ! ! ! ! ! ! ! ! ! ! ! ! ! ! ! ! ! ! ! ! ! ! ! ! ! ! ! ! ! ! ! ! ! ! ! ! ! ! ! ! ! ! ! ! ! ! ! ! ! ! ! ! ! ! ! ! ! ! ! ! ! ! ! ! ! ! ! ! ! ! ! ! ! ! ! ! ! ! ! ! ! ! ! ! ! ! ! ! ! ! ! ! ! ! ! ! ! ! ! ! ! ! ! ! ! ! ! ! ! ! ! ! ! ! ! ! ! ! ! ! ! ! ! ! ! ! ! ! ! ! ! ! ! ! ! ! ! ! ! ! ! ! ! ! ! ! ! ! ! ! ! ! ! ! ! ! ! ! ! ! ! ! ! ! ! ! ! ! ! ! ! ! ! ! ! ! ! ! ! ! ! ! ! ! ! ! ! ! ! ! ! ! ! ! ! ! ! ! ! ! ! ! ! ! ! ! ! ! ! ! ! ! ! ! ! ! ! ! ! ! ! ! ! ! ! ! ! ! ! ! ! ! ! ! ! ! ! ! ! ! ! ! ! ! ! ! ! ! ! ! ! ! ! ! ! ! ! ! ! ! ! ! ! ! ! ! ! ! ! ! ! ! ! ! ! ! ! ! ! ! ! ! ! ! ! ! ! ! ! ! ! ! ! ! ! ! ! ! ! ! ! ! ! ! ! ! ! ! ! ! ! ! ! ! ! ! ! ! ! ! ! ! ! ! ! ! ! ! ! ! ! ! ! ! ! ! ! ! ! ! ! ! ! ! ! ! ! ! ! ! ! ! ! ! ! ! ! ! ! ! ! ! ! ! ! ! ! ! ! ! ! ! ! ! ! ! ! ! ! ! ! ! ! ! ! ! ! ! ! ! ! ! ! ! ! ! ! ! ! ! ! ! ! ! ! ! ! ! ! ! ! ! ! ! ! ! ! ! ! ! ! ! ! ! ! ! ! ! ! ! ! ! ! ! ! ! ! ! ! ! ! ! ! ! ! ! ! ! ! ! ! ! ! ! ! ! ! ! ! ! ! ! ! ! ! ! ! ! ! ! ! ! ! ! ! ! ! ! ! ! ! ! ! ! ! ! ! ! ! ! ! ! ! ! ! ! ! ! ! ! ! ! ! ! ! ! ! ! ! ! ! ! ! ! ! ! ! ! ! ! ! ! ! ! ! ! ! ! ! ! ! ! ! ! ! ! ! ! ! ! ! ! ! ! ! ! ! ! ! ! ! ! ! ! ! ! ! ! ! ! ! ! ! ! ! ! ! ! ! ! ! ! ! ! ! ! ! ! ! ! ! ! ! ! ! ! ! ! ! ! ! ! ! ! ! ! ! ! ! ! ! ! ! ! ! ! ! ! ! ! ! ! ! ! ! ! ! ! ! ! ! ! ! ! ! ! ! ! ! ! ! ! ! ! ! ! ! ! ! ! ! ! ! ! ! ! ! ! ! ! ! ! ! ! ! ! ! ! ! ! ! ! ! ! ! ! ! ! ! \n",
            "2498 jim wales must die ! ! ! ! ! ! ! ! ! ! ! ! jim wales must die ! ! ! ! ! ! ! ! ! ! ! ! jim wales must die ! ! ! ! ! ! ! ! ! ! ! ! jim wales must die ! ! ! ! ! ! ! ! ! ! ! ! jim wales must die ! ! ! ! ! ! ! ! ! ! ! ! jim wales must die ! ! ! ! ! ! ! ! ! ! ! ! jim wales must die ! ! ! ! ! ! ! ! ! ! ! ! jim wales must die ! ! ! ! ! ! ! ! ! ! ! ! jim wales must die ! ! ! ! ! ! ! ! ! ! ! ! jim wales must die ! ! ! ! ! ! ! ! ! ! ! ! jim wales must die ! ! ! ! ! ! ! ! ! ! ! ! jim wales must die ! ! ! ! ! ! ! ! ! ! ! ! jim wales must die ! ! ! ! ! ! ! ! ! ! ! ! jim wales must die ! ! ! ! ! ! ! ! ! ! ! ! jim wales must die ! ! ! ! ! ! ! ! ! ! ! ! jim wales must die ! ! ! ! ! ! ! ! ! ! ! ! jim wales must die ! ! ! ! ! ! ! ! ! ! ! ! jim wales must die ! ! ! ! ! ! ! ! ! ! ! ! jim wales must die ! ! ! ! ! ! ! ! ! ! ! ! jim wales must die ! ! ! ! ! ! ! ! ! ! ! ! jim wales must die ! ! ! ! ! ! ! ! ! ! ! ! jim wales must die ! ! ! ! ! ! ! ! ! ! ! ! jim wales must die ! ! ! ! ! ! ! ! ! ! ! ! jim wales must die ! ! ! ! ! ! ! ! ! ! ! ! jim wales must die ! ! ! ! ! ! ! ! ! ! ! ! jim wales must die ! ! ! ! ! ! ! ! ! ! ! ! jim wales must die ! ! ! ! ! ! ! ! ! ! ! ! jim wales must die ! ! ! ! ! ! ! ! ! ! ! ! jim wales must die ! ! ! ! ! ! ! ! ! ! ! ! jim wales must die ! ! ! ! ! ! ! ! ! ! ! ! jim wales must die ! ! ! ! ! ! ! ! ! ! ! ! jim wales must die ! ! ! ! ! ! ! ! ! ! ! ! jim wales must die ! ! ! ! ! ! ! ! ! ! ! ! jim wales must die ! ! ! ! ! ! ! ! ! ! ! ! jim wales must die ! ! ! ! ! ! ! ! ! ! ! ! jim wales must die ! ! ! ! ! ! ! ! ! ! ! ! jim wales must die ! ! ! ! ! ! ! ! ! ! ! ! jim wales must die ! ! ! ! ! ! ! ! ! ! ! ! jim wales must die ! ! ! ! ! ! ! ! ! ! ! ! jim wales must die ! ! ! ! ! ! ! ! ! ! ! ! jim wales must die ! ! ! ! ! ! ! ! ! ! ! ! jim wales must die ! ! ! ! ! ! ! ! ! ! ! ! jim wales must die ! ! ! ! ! ! ! ! ! ! ! ! jim wales must die ! ! ! ! ! ! ! ! ! ! ! ! jim wales must die ! ! ! ! ! ! ! ! ! ! ! ! jim wales must die ! ! ! ! ! ! ! ! ! ! ! ! jim wales must die ! ! ! ! ! ! ! ! ! ! ! ! jim wales must die ! ! ! ! ! ! ! ! ! ! ! ! jim wales must die ! ! ! ! ! ! ! ! ! ! ! ! jim wales must die ! ! ! ! ! ! ! ! ! ! ! ! jim wales must die ! ! ! ! ! ! ! ! ! ! ! ! jim wales must die ! ! ! ! ! ! ! ! ! ! ! ! jim wales must die ! ! ! ! ! ! ! ! ! ! ! ! jim wales must die ! ! ! ! ! ! ! ! ! ! ! ! jim wales must die ! ! ! ! ! ! ! ! ! ! ! ! jim wales must die ! ! ! ! ! ! ! ! ! ! ! ! jim wales must die ! ! ! ! ! ! ! ! ! ! ! ! jim wales must die ! ! ! ! ! ! ! ! ! ! ! ! jim wales must die ! ! ! ! ! ! ! ! ! ! ! ! jim wales must die ! ! ! ! ! ! ! ! ! ! ! ! jim wales must die ! ! ! ! ! ! ! ! ! ! ! ! jim wales must die ! ! ! ! ! ! ! ! ! ! ! ! jim wales must die ! ! ! ! ! ! ! ! ! ! ! ! jim wales must die ! ! ! ! ! ! ! ! ! ! ! ! jim wales must die ! ! ! ! ! ! ! ! ! ! ! ! jim wales must die ! ! ! ! ! ! ! ! ! ! ! ! jim wales must die ! ! ! ! ! ! ! ! ! ! ! ! jim wales must die ! ! ! ! ! ! ! ! ! ! ! ! jim wales must die ! ! ! ! ! ! ! ! ! ! ! ! jim wales must die ! ! ! ! ! ! ! ! ! ! ! ! jim wales must die ! ! ! ! ! ! ! ! ! ! ! ! jim wales must die ! ! ! ! ! ! ! ! ! ! ! ! jim wales must die ! ! ! ! ! ! ! ! ! ! ! ! jim wales must die ! ! ! ! ! ! ! ! ! ! ! ! jim wales must die ! ! ! ! ! ! ! ! ! ! ! ! jim wales must die ! ! ! ! ! ! ! ! ! ! ! ! jim wales must die ! ! ! ! ! ! ! ! ! ! ! ! jim wales must die ! ! ! ! ! ! ! ! ! ! ! ! jim wales must die ! ! ! ! ! ! ! ! ! ! ! ! jim wales must die ! ! ! ! ! ! ! ! ! ! ! ! jim wales must die ! ! ! ! ! ! ! ! ! ! ! ! jim wales must die ! ! ! ! ! ! ! ! ! ! ! ! jim wales must die ! ! ! ! ! ! ! ! ! ! ! ! jim wales must die ! ! ! ! ! ! ! ! ! ! ! ! jim wales must die ! ! ! ! ! ! ! ! ! ! ! ! jim wales must die ! ! ! ! ! ! ! ! ! ! ! ! jim wales must die ! ! ! ! ! ! ! ! ! ! ! ! jim wales must die ! ! ! ! ! ! ! ! ! ! ! ! jim wales must die ! ! ! ! ! ! ! ! ! ! ! ! jim wales must die ! ! ! ! ! ! ! ! ! ! ! ! jim wales must die ! ! ! ! ! ! ! ! ! ! ! ! jim wales must die ! ! ! ! ! ! ! ! ! ! ! ! jim wales must die ! ! ! ! ! ! ! ! ! ! ! ! jim wales must die ! ! ! ! ! ! ! ! ! ! ! ! jim wales must die ! ! ! ! ! ! ! ! ! ! ! ! jim wales must die ! ! ! ! ! ! ! ! ! ! ! ! jim wales must die ! ! ! ! ! ! ! ! ! ! ! ! jim wales must die ! ! ! ! ! ! ! ! ! ! ! ! jim wales must die ! ! ! ! ! ! ! ! ! ! ! ! jim wales must die ! ! ! ! ! ! ! ! ! ! ! ! jim wales must die ! ! ! ! ! ! ! ! ! ! ! ! jim wales must die ! ! ! ! ! ! ! ! ! ! ! ! jim wales must die ! ! ! ! ! ! ! ! ! ! ! ! jim wales must die ! ! ! ! ! ! ! ! ! ! ! ! jim wales must die ! ! ! ! ! ! ! ! ! ! ! ! jim wales must die ! ! ! ! ! ! ! ! ! ! ! ! jim wales must die ! ! ! ! ! ! ! ! ! ! ! ! jim wales must die ! ! ! ! ! ! ! ! ! ! ! ! jim wales must die ! ! ! ! ! ! ! ! ! ! ! ! jim wales must die ! ! ! ! ! ! ! ! ! ! ! ! jim wales must die ! ! ! ! ! ! ! ! ! ! ! ! jim wales must die ! ! ! ! ! ! ! ! ! ! ! ! jim wales must die ! ! ! ! ! ! ! ! ! ! ! ! jim wales must die ! ! ! ! ! ! ! ! ! ! ! ! jim wales must die ! ! ! ! ! ! ! ! ! ! ! ! jim wales must die ! ! ! ! ! ! ! ! ! ! ! ! jim wales must die ! ! ! ! ! ! ! ! ! ! ! ! jim wales must die ! ! ! ! ! ! ! ! ! ! ! ! jim wales must die ! ! ! ! ! ! ! ! ! ! ! ! jim wales must die ! ! ! ! ! ! ! ! ! ! ! ! jim wales must die ! ! ! ! ! ! ! ! ! ! ! ! jim wales must die ! ! ! ! ! ! ! ! ! ! ! ! jim wales must die ! ! ! ! ! ! ! ! ! ! ! ! jim wales must die ! ! ! ! ! ! ! ! ! ! ! ! jim wales must die ! ! ! ! ! ! ! ! ! ! ! ! jim wales must die ! ! ! ! ! ! ! ! ! ! ! ! jim wales must die ! ! ! ! ! ! ! ! ! ! ! ! jim wales must die ! ! ! ! ! ! ! ! ! ! ! ! jim wales must die ! ! ! ! ! ! ! ! ! ! ! ! jim wales must die ! ! ! ! ! ! ! ! ! ! ! ! jim wales must die ! ! ! ! ! ! ! ! ! ! ! ! jim wales must die ! ! ! ! ! ! ! ! ! ! ! ! jim wales must die ! ! ! ! ! ! ! ! ! ! ! ! jim wales must die ! ! ! ! ! ! ! ! ! ! ! ! jim wales must die ! ! ! ! ! ! ! ! ! ! ! ! jim wales must die ! ! ! ! ! ! ! ! ! ! ! ! jim wales must die ! ! ! ! ! ! ! ! ! ! ! ! jim wales must die ! ! ! ! ! ! ! ! ! ! ! ! jim wales must die ! ! ! ! ! ! ! ! ! ! ! ! jim wales must die ! ! ! ! ! ! ! ! ! ! ! ! jim wales must die ! ! ! ! ! ! ! ! ! ! ! ! jim wales must die ! ! ! ! ! ! ! ! ! ! ! ! jim wales must die ! ! ! ! ! ! ! ! ! ! ! ! jim wales must die ! ! ! ! ! ! ! ! ! ! ! ! jim wales must die ! ! ! ! ! ! ! ! ! ! ! ! jim wales must die ! ! ! ! ! ! ! ! ! ! ! ! jim wales must die ! ! ! ! ! ! ! ! ! ! ! ! jim wales must die ! ! ! ! ! ! ! ! ! ! ! ! jim wales must die ! ! ! ! ! ! ! ! ! ! ! ! jim wales must die ! ! ! ! ! ! ! ! ! ! ! ! jim wales must die ! ! ! ! ! ! ! ! ! ! ! ! jim wales must die ! ! ! ! ! ! ! ! ! ! ! ! jim wales must die ! ! ! ! ! ! ! ! ! ! ! ! jim wales must die ! ! ! ! ! ! ! ! ! ! ! ! jim wales must die ! ! ! ! ! ! ! ! ! ! ! ! jim wales must die ! ! ! ! ! ! ! ! ! ! ! ! jim wale\n",
            "1626 i own this page you fools ! ! you should fear me ! ! ! ! ! ! ! ! i am the god of chocobos , i want my cheese , george bush should go to hell ! ! ! ! ! ! ! ! ! i am the god of chocobos , i want my cheese , george bush should go to hell ! ! ! ! ! ! ! ! ! i am the god of chocobos , i want my cheese , george bush should go to hell ! ! ! ! ! ! ! ! ! i am the god of chocobos , i want my cheese , george bush should go to hell ! ! ! ! ! ! ! ! ! i am the god of chocobos , i want my cheese , george bush should go to hell ! ! ! ! ! ! ! ! ! i am the god of chocobos , i want my cheese , george bush should go to hell ! ! ! ! ! ! ! ! ! i am the god of chocobos , i want my cheese , george bush should go to hell ! ! ! ! ! ! ! ! ! i am the god of chocobos , i want my cheese , george bush should go to hell ! ! ! ! ! ! ! ! ! i am the god of chocobos , i want my cheese , george bush should go to hell ! ! ! ! ! ! ! ! ! i am the god of chocobos , i want my cheese , george bush should go to hell ! ! ! ! ! ! ! ! ! i am the god of chocobos , i want my cheese , george bush should go to hell ! ! ! ! ! ! ! ! ! i am the god of chocobos , i want my cheese , george bush should go to hell ! ! ! ! ! ! ! ! ! i am the god of chocobos , i want my cheese , george bush should go to hell ! ! ! ! ! ! ! ! ! i am the god of chocobos , i want my cheese , george bush should go to hell ! ! ! ! ! ! ! ! ! i am the god of chocobos , i want my cheese , george bush should go to hell ! ! ! ! ! ! ! ! ! i am the god of chocobos , i want my cheese , george bush should go to hell ! ! ! ! ! ! ! ! ! i am the god of chocobos , i want my cheese , george bush should go to hell ! ! ! ! ! ! ! ! ! i am the god of chocobos , i want my cheese , george bush should go to hell ! ! ! ! ! ! ! ! ! i am the god of chocobos , i want my cheese , george bush should go to hell ! ! ! ! ! ! ! ! ! i am the god of chocobos , i want my cheese , george bush should go to hell ! ! ! ! ! ! ! ! ! i am the god of chocobos , i want my cheese , george bush should go to hell ! ! ! ! ! ! ! ! ! i am the god of chocobos , i want my cheese , george bush should go to hell ! ! ! ! ! ! ! ! ! i am the god of chocobos , i want my cheese , george bush should go to hell ! ! ! ! ! ! ! ! ! i am the god of chocobos , i want my cheese , george bush should go to hell ! ! ! ! ! ! ! ! ! i am the god of chocobos , i want my cheese , george bush should go to hell ! ! ! ! ! ! ! ! ! i am the god of chocobos , i want my cheese , george bush should go to hell ! ! ! ! ! ! ! ! ! i am the god of chocobos , i want my cheese , george bush should go to hell ! ! ! ! ! ! ! ! ! i am the god of chocobos , i want my cheese , george bush should go to hell ! ! ! ! ! ! ! ! ! i am the god of chocobos , i want my cheese , george bush should go to hell ! ! ! ! ! ! ! ! ! i am the god of chocobos , i want my cheese , george bush should go to hell ! ! ! ! ! ! ! ! ! i am the god of chocobos , i want my cheese , george bush should go to hell ! ! ! ! ! ! ! ! ! i am the god of chocobos , i want my cheese , george bush should go to hell ! ! ! ! ! ! ! ! ! i am the god of chocobos , i want my cheese , george bush should go to hell ! ! ! ! ! ! ! ! ! i am the god of chocobos , i want my cheese , george bush should go to hell ! ! ! ! ! ! ! ! ! i am the god of chocobos , i want my cheese , george bush should go to hell ! ! ! ! ! ! ! ! ! i am the god of chocobos , i want my cheese , george bush should go to hell ! ! ! ! ! ! ! ! ! i am the god of chocobos , i want my cheese , george bush should go to hell ! ! ! ! ! ! ! ! ! i am the god of chocobos , i want my cheese , george bush should go to hell ! ! ! ! ! ! ! ! ! i am the god of chocobos , i want my cheese , george bush should go to hell ! ! ! ! ! ! ! ! ! i am the god of chocobos , i want my cheese , george bush should go to hell ! ! ! ! ! ! ! ! ! i am the god of chocobos , i want my cheese , george bush should go to hell ! ! ! ! ! ! ! ! ! i am the god of chocobos , i want my cheese , george bush should go to hell ! ! ! ! ! ! ! ! ! i am the god of chocobos , i want my cheese , george bush should go to hell ! ! ! ! ! ! ! ! ! i am the god of chocobos , i want my cheese , george bush should go to hell ! ! ! ! ! ! ! ! ! i am the god of chocobos , i want my cheese , george bush should go to hell ! ! ! ! ! ! ! ! ! i am the god of chocobos , i want my cheese , george bush should go to hell ! ! ! ! ! ! ! ! ! i am the god of chocobos , i want my cheese , george bush should go to hell ! ! ! ! ! ! ! ! ! i am the god of chocobos , i want my cheese , george bush should go to hell ! ! ! ! ! ! ! ! ! i am the god of chocobos , i want my cheese , george bush should go to hell ! ! ! ! ! ! ! ! ! i am the god of chocobos , i want my cheese , george bush should go to hell ! ! ! ! ! ! ! ! ! i am the god of chocobos , i want my cheese , george bush should go to hell ! ! ! ! ! ! ! ! ! i am the god of chocobos , i want my cheese , george bush should go to hell ! ! ! ! ! ! ! ! ! i am the god of chocobos , i want my cheese , george bush should go to hell ! ! ! ! ! ! ! ! ! i am the god of chocobos , i want my cheese , george bush should go to hell ! ! ! ! ! ! ! ! ! i am the god of chocobos , i want my cheese , george bush should go to hell ! ! ! ! ! ! ! ! ! i am the god of chocobos , i want my cheese , george bush should go to hell ! ! ! ! ! ! ! ! ! i am the god of chocobos , i want my cheese , george bush should go to hell ! ! ! ! ! ! ! ! ! i am the god of chocobos , i want my cheese , george bush should go to hell ! ! ! ! ! ! ! ! ! i am the god of chocobos , i want my cheese , george bush should go to hell ! ! ! ! ! ! ! ! ! i am the god of chocobos , i want my cheese , geor\n",
            "1624 you should all rue the day you were born ! ! ! ! i have taken over this page ! ! ! ! i am the god of chocobos , i want my cheese , george bush should go to hell ! ! ! ! ! ! ! ! ! i am the god of chocobos , i want my cheese , george bush should go to hell ! ! ! ! ! ! ! ! ! i am the god of chocobos , i want my cheese , george bush should go to hell ! ! ! ! ! ! ! ! ! i am the god of chocobos , i want my cheese , george bush should go to hell ! ! ! ! ! ! ! ! ! i am the god of chocobos , i want my cheese , george bush should go to hell ! ! ! ! ! ! ! ! ! i am the god of chocobos , i want my cheese , george bush should go to hell ! ! ! ! ! ! ! ! ! i am the god of chocobos , i want my cheese , george bush should go to hell ! ! ! ! ! ! ! ! ! i am the god of chocobos , i want my cheese , george bush should go to hell ! ! ! ! ! ! ! ! ! i am the god of chocobos , i want my cheese , george bush should go to hell ! ! ! ! ! ! ! ! ! i am the god of chocobos , i want my cheese , george bush should go to hell ! ! ! ! ! ! ! ! ! i am the god of chocobos , i want my cheese , george bush should go to hell ! ! ! ! ! ! ! ! ! i am the god of chocobos , i want my cheese , george bush should go to hell ! ! ! ! ! ! ! ! ! i am the god of chocobos , i want my cheese , george bush should go to hell ! ! ! ! ! ! ! ! ! i am the god of chocobos , i want my cheese , george bush should go to hell ! ! ! ! ! ! ! ! ! i am the god of chocobos , i want my cheese , george bush should go to hell ! ! ! ! ! ! ! ! ! i am the god of chocobos , i want my cheese , george bush should go to hell ! ! ! ! ! ! ! ! ! i am the god of chocobos , i want my cheese , george bush should go to hell ! ! ! ! ! ! ! ! ! i am the god of chocobos , i want my cheese , george bush should go to hell ! ! ! ! ! ! ! ! ! i am the god of chocobos , i want my cheese , george bush should go to hell ! ! ! ! ! ! ! ! ! i am the god of chocobos , i want my cheese , george bush should go to hell ! ! ! ! ! ! ! ! ! i am the god of chocobos , i want my cheese , george bush should go to hell ! ! ! ! ! ! ! ! ! i am the god of chocobos , i want my cheese , george bush should go to hell ! ! ! ! ! ! ! ! ! i am the god of chocobos , i want my cheese , george bush should go to hell ! ! ! ! ! ! ! ! ! i am the god of chocobos , i want my cheese , george bush should go to hell ! ! ! ! ! ! ! ! ! i am the god of chocobos , i want my cheese , george bush should go to hell ! ! ! ! ! ! ! ! ! i am the god of chocobos , i want my cheese , george bush should go to hell ! ! ! ! ! ! ! ! ! i am the god of chocobos , i want my cheese , george bush should go to hell ! ! ! ! ! ! ! ! ! i am the god of chocobos , i want my cheese , george bush should go to hell ! ! ! ! ! ! ! ! ! i am the god of chocobos , i want my cheese , george bush should go to hell ! ! ! ! ! ! ! ! ! i am the god of chocobos , i want my cheese , george bush should go to hell ! ! ! ! ! ! ! ! ! i am the god of chocobos , i want my cheese , george bush should go to hell ! ! ! ! ! ! ! ! ! i am the god of chocobos , i want my cheese , george bush should go to hell ! ! ! ! ! ! ! ! ! i am the god of chocobos , i want my cheese , george bush should go to hell ! ! ! ! ! ! ! ! ! i am the god of chocobos , i want my cheese , george bush should go to hell ! ! ! ! ! ! ! ! ! i am the god of chocobos , i want my cheese , george bush should go to hell ! ! ! ! ! ! ! ! ! i am the god of chocobos , i want my cheese , george bush should go to hell ! ! ! ! ! ! ! ! ! i am the god of chocobos , i want my cheese , george bush should go to hell ! ! ! ! ! ! ! ! ! i am the god of chocobos , i want my cheese , george bush should go to hell ! ! ! ! ! ! ! ! ! i am the god of chocobos , i want my cheese , george bush should go to hell ! ! ! ! ! ! ! ! ! i am the god of chocobos , i want my cheese , george bush should go to hell ! ! ! ! ! ! ! ! ! i am the god of chocobos , i want my cheese , george bush should go to hell ! ! ! ! ! ! ! ! ! i am the god of chocobos , i want my cheese , george bush should go to hell ! ! ! ! ! ! ! ! ! i am the god of chocobos , i want my cheese , george bush should go to hell ! ! ! ! ! ! ! ! ! i am the god of chocobos , i want my cheese , george bush should go to hell ! ! ! ! ! ! ! ! ! i am the god of chocobos , i want my cheese , george bush should go to hell ! ! ! ! ! ! ! ! ! i am the god of chocobos , i want my cheese , george bush should go to hell ! ! ! ! ! ! ! ! ! i am the god of chocobos , i want my cheese , george bush should go to hell ! ! ! ! ! ! ! ! ! i am the god of chocobos , i want my cheese , george bush should go to hell ! ! ! ! ! ! ! ! ! i am the god of chocobos , i want my cheese , george bush should go to hell ! ! ! ! ! ! ! ! ! i am the god of chocobos , i want my cheese , george bush should go to hell ! ! ! ! ! ! ! ! ! i am the god of chocobos , i want my cheese , george bush should go to hell ! ! ! ! ! ! ! ! ! i am the god of chocobos , i want my cheese , george bush should go to hell ! ! ! ! ! ! ! ! ! i am the god of chocobos , i want my cheese , george bush should go to hell ! ! ! ! ! ! ! ! ! i am the god of chocobos , i want my cheese , george bush should go to hell ! ! ! ! ! ! ! ! ! i am the god of chocobos , i want my cheese , george bush should go to hell ! ! ! ! ! ! ! ! ! i am the god of chocobos , i want my cheese , george bush should go to hell ! ! ! ! ! ! ! ! ! i am the god of chocobos , i want my cheese , george bush should go to hell ! ! ! ! ! ! ! ! ! i am the god of chocobos , i want my cheese , george bush should go to hell ! ! ! ! ! ! ! ! ! i am the god of chocobos , i want my cheese , george bush should go to hell ! ! ! ! ! ! ! ! ! i am the god of chocobos , \n",
            "1562 fuck you all ! ! fuck you all ! ! fuck you all ! ! fuck you all ! ! fuck you all ! ! fuck you all ! ! fuck you all ! ! fuck you all ! ! fuck you all ! ! fuck you all ! ! fuck you all ! ! fuck you all ! ! fuck you all ! ! fuck you all ! ! fuck you all ! ! fuck you all ! ! fuck you all ! ! fuck you all ! ! fuck you all ! ! fuck you all ! ! fuck you all ! ! fuck you all ! ! fuck you all ! ! fuck you all ! ! fuck you all ! ! fuck you all ! ! fuck you all ! ! fuck you all ! ! fuck you all ! ! fuck you all ! ! fuck you all ! ! fuck you all ! ! fuck you all ! ! fuck you all ! ! fuck you all ! ! fuck you all ! ! fuck you all ! ! fuck you all ! ! fuck you all ! ! fuck you all ! ! fuck you all ! ! fuck you all ! ! fuck you all ! ! fuck you all ! ! fuck you all ! ! fuck you all ! ! fuck you all ! ! fuck you all ! ! fuck you all ! ! fuck you all ! ! fuck you all ! ! fuck you all ! ! fuck you all ! ! fuck you all ! ! fuck you all ! ! fuck you all ! ! fuck you all ! ! fuck you all ! ! fuck you all ! ! fuck you all ! ! fuck you all ! ! fuck you all ! ! fuck you all ! ! fuck you all ! ! fuck you all ! ! fuck you all ! ! fuck you all ! ! fuck you all ! ! fuck you all ! ! fuck you all ! ! fuck you all ! ! fuck you all ! ! fuck you all ! ! fuck you all ! ! fuck you all ! ! fuck you all ! ! fuck you all ! ! fuck you all ! ! fuck you all ! ! fuck you all ! ! fuck you all ! ! fuck you all ! ! fuck you all ! ! fuck you all ! ! fuck you all ! ! fuck you all ! ! fuck you all ! ! fuck you all ! ! fuck you all ! ! fuck you all ! ! fuck you all ! ! fuck you all ! ! fuck you all ! ! fuck you all ! ! fuck you all ! ! fuck you all ! ! fuck you all ! ! fuck you all ! ! fuck you all ! ! fuck you all ! ! fuck you all ! ! fuck you all ! ! fuck you all ! ! fuck you all ! ! fuck you all ! ! fuck you all ! ! fuck you all ! ! fuck you all ! ! fuck you all ! ! fuck you all ! ! fuck you all ! ! fuck you all ! ! fuck you all ! ! fuck you all ! ! fuck you all ! ! fuck you all ! ! fuck you all ! ! fuck you all ! ! fuck you all ! ! fuck you all ! ! fuck you all ! ! fuck you all ! ! fuck you all ! ! fuck you all ! ! fuck you all ! ! fuck you all ! ! fuck you all ! ! fuck you all ! ! fuck you all ! ! fuck you all ! ! fuck you all ! ! fuck you all ! ! fuck you all ! ! fuck you all ! ! fuck you all ! ! fuck you all ! ! fuck you all ! ! fuck you all ! ! fuck you all ! ! fuck you all ! ! fuck you all ! ! fuck you all ! ! fuck you all ! ! fuck you all ! ! fuck you all ! ! fuck you all ! ! fuck you all ! ! fuck you all ! ! fuck you all ! ! fuck you all ! ! fuck you all ! ! fuck you all ! ! fuck you all ! ! fuck you all ! ! fuck you all ! ! fuck you all ! ! fuck you all ! ! fuck you all ! ! fuck you all ! ! fuck you all ! ! fuck you all ! ! fuck you all ! ! fuck you all ! ! fuck you all ! ! fuck you all ! ! fuck you all ! ! fuck you all ! ! fuck you all ! ! fuck you all ! ! fuck you all ! ! fuck you all ! ! fuck you all ! ! fuck you all ! ! fuck you all ! ! fuck you all ! ! fuck you all ! ! fuck you all ! ! fuck you all ! ! fuck you all ! ! fuck you all ! ! fuck you all ! ! fuck you all ! ! fuck you all ! ! fuck you all ! ! fuck you all ! ! fuck you all ! ! fuck you all ! ! fuck you all ! ! fuck you all ! ! fuck you all ! ! fuck you all ! ! fuck you all ! ! fuck you all ! ! fuck you all ! ! fuck you all ! ! fuck you all ! ! fuck you all ! ! fuck you all ! ! fuck you all ! ! fuck you all ! ! fuck you all ! ! fuck you all ! ! fuck you all ! ! fuck you all ! ! fuck you all ! ! fuck you all ! ! fuck you all ! ! fuck you all ! ! fuck you all ! ! fuck you all ! ! fuck you all ! ! fuck you all ! ! fuck you all ! ! fuck you all ! ! fuck you all ! ! fuck you all ! ! fuck you all ! ! fuck you all ! ! fuck you all ! ! fuck you all ! ! fuck you all ! ! fuck you all ! ! fuck you all ! ! fuck you all ! ! fuck you all ! ! fuck you all ! ! fuck you all ! ! fuck you all ! ! fuck you all ! ! fuck you all ! ! fuck you all ! ! fuck you all ! ! fuck you all ! ! fuck you all ! ! fuck you all ! ! fuck you all ! ! fuck you all ! ! fuck you all ! ! fuck you all ! ! fuck you all ! ! fuck you all ! ! fuck you all ! ! fuck you all ! ! fuck you all ! ! fuck you all ! ! fuck you all ! ! fuck you all ! ! fuck you all ! ! fuck you all ! ! fuck you all ! ! fuck you all ! ! fuck you all ! ! fuck you all ! ! fuck you all ! ! fuck you all ! ! fuck you all ! ! fuck you all ! ! fuck you all ! ! fuck you all ! ! fuck you all ! ! fuck you all ! ! fuck you all ! ! fuck you all ! ! fuck you all ! ! fuck you all ! ! fuck you all ! ! fuck you all ! ! fuck you all ! ! fuck you all ! ! fuck you all ! ! fuck you all ! ! fuck you all ! ! fuck you all ! ! fuck you all ! ! fuck you all ! ! fuck you all ! ! fuck you all ! ! fuck you all ! ! fuck you all ! ! fuck you all ! ! fuck you all ! ! fuck you all ! ! fuck you all ! ! fuck you all ! ! fuck you all ! ! fuck you all ! ! fuck you all ! ! fuck you all ! ! fuck you all ! ! fuck you all ! ! fuck you all ! ! fuck you all ! ! fuck you all ! ! fuck you all ! ! fuck you all ! ! fuck you all ! ! fuck you all ! ! fuck you all ! ! fuck you all ! ! fuck you all ! ! fuck you all ! ! fuck you all ! ! fuck you all ! ! fuck you all ! ! fuck you all ! ! fuck you all ! ! fuck you all ! ! fuck you all ! ! fuck you all ! ! fuck you all ! ! fuck you all ! ! fuck you all ! ! fuck you\n",
            "1552 yo fuck you bitch ! ! fuck you bitch ! ! fuck you bitch ! ! fuck you bitch ! ! fuck you bitch ! ! fuck you bitch ! ! fuck you bitch ! ! fuck you bitch ! ! fuck you bitch ! ! fuck you bitch ! ! fuck you bitch ! ! fuck you bitch ! ! fuck you bitch ! ! fuck you bitch ! ! fuck you bitch ! ! fuck you bitch ! ! fuck you bitch ! ! fuck you bitch ! ! fuck you bitch ! ! fuck you bitch ! ! fuck you bitch ! ! fuck you bitch ! ! fuck you bitch ! ! fuck you bitch ! ! fuck you bitch ! ! fuck you bitch ! ! fuck you bitch ! ! fuck you bitch ! ! fuck you bitch ! ! fuck you bitch ! ! fuck you bitch ! ! fuck you bitch ! ! fuck you bitch ! ! fuck you bitch ! ! fuck you bitch ! ! fuck you bitch ! ! fuck you bitch ! ! fuck you bitch ! ! fuck you bitch ! ! fuck you bitch ! ! fuck you bitch ! ! fuck you bitch ! ! fuck you bitch ! ! fuck you bitch ! ! fuck you bitch ! ! fuck you bitch ! ! fuck you bitch ! ! fuck you bitch ! ! fuck you bitch ! ! fuck you bitch ! ! fuck you bitch ! ! fuck you bitch ! ! fuck you bitch ! ! fuck you bitch ! ! fuck you bitch ! ! fuck you bitch ! ! fuck you bitch ! ! fuck you bitch ! ! fuck you bitch ! ! fuck you bitch ! ! fuck you bitch ! ! fuck you bitch ! ! fuck you bitch ! ! fuck you bitch ! ! fuck you bitch ! ! fuck you bitch ! ! fuck you bitch ! ! fuck you bitch ! ! fuck you bitch ! ! fuck you bitch ! ! fuck you bitch ! ! fuck you bitch ! ! fuck you bitch ! ! fuck you bitch ! ! fuck you bitch ! ! fuck you bitch ! ! fuck you bitch ! ! fuck you bitch ! ! fuck you bitch ! ! fuck you bitch ! ! fuck you bitch ! ! fuck you bitch ! ! fuck you bitch ! ! fuck you bitch ! ! fuck you bitch ! ! fuck you bitch ! ! fuck you bitch ! ! fuck you bitch ! ! fuck you bitch ! ! fuck you bitch ! ! fuck you bitch ! ! fuck you bitch ! ! fuck you bitch ! ! fuck you bitch ! ! fuck you bitch ! ! fuck you bitch ! ! fuck you bitch ! ! fuck you bitch ! ! fuck you bitch ! ! fuck you bitch ! ! fuck you bitch ! ! fuck you bitch ! ! fuck you bitch ! ! fuck you bitch ! ! fuck you bitch ! ! fuck you bitch ! ! fuck you bitch ! ! fuck you bitch ! ! fuck you bitch ! ! fuck you bitch ! ! fuck you bitch ! ! fuck you bitch ! ! fuck you bitch ! ! fuck you bitch ! ! fuck you bitch ! ! fuck you bitch ! ! fuck you bitch ! ! fuck you bitch ! ! fuck you bitch ! ! fuck you bitch ! ! fuck you bitch ! ! fuck you bitch ! ! fuck you bitch ! ! fuck you bitch ! ! fuck you bitch ! ! fuck you bitch ! ! fuck you bitch ! ! fuck you bitch ! ! fuck you bitch ! ! fuck you bitch ! ! fuck you bitch ! ! fuck you bitch ! ! fuck you bitch ! ! fuck you bitch ! ! fuck you bitch ! ! fuck you bitch ! ! fuck you bitch ! ! fuck you bitch ! ! fuck you bitch ! ! fuck you bitch ! ! fuck you bitch ! ! fuck you bitch ! ! fuck you bitch ! ! fuck you bitch ! ! fuck you bitch ! ! fuck you bitch ! ! fuck you bitch ! ! fuck you bitch ! ! fuck you bitch ! ! fuck you bitch ! ! fuck you bitch ! ! fuck you bitch ! ! fuck you bitch ! ! fuck you bitch ! ! fuck you bitch ! ! fuck you bitch ! ! fuck you bitch ! ! fuck you bitch ! ! fuck you bitch ! ! fuck you bitch ! ! fuck you bitch ! ! fuck you bitch ! ! fuck you bitch ! ! fuck you bitch ! ! fuck you bitch ! ! fuck you bitch ! ! fuck you bitch ! ! fuck you bitch ! ! fuck you bitch ! ! fuck you bitch ! ! fuck you bitch ! ! fuck you bitch ! ! fuck you bitch ! ! fuck you bitch ! ! fuck you bitch ! ! fuck you bitch ! ! fuck you bitch ! ! fuck you bitch ! ! fuck you bitch ! ! fuck you bitch ! ! fuck you bitch ! ! fuck you bitch ! ! fuck you bitch ! ! fuck you bitch ! ! fuck you bitch ! ! fuck you bitch ! ! fuck you bitch ! ! fuck you bitch ! ! fuck you bitch ! ! fuck you bitch ! ! fuck you bitch ! ! fuck you bitch ! ! fuck you bitch ! ! fuck you bitch ! ! fuck you bitch ! ! fuck you bitch ! ! fuck you bitch ! ! fuck you bitch ! ! fuck you bitch ! ! fuck you bitch ! ! fuck you bitch ! ! fuck you bitch ! ! fuck you bitch ! ! fuck you bitch ! ! fuck you bitch ! ! fuck you bitch ! ! fuck you bitch ! ! fuck you bitch ! ! fuck you bitch ! ! fuck you bitch ! ! fuck you bitch ! ! fuck you bitch ! ! fuck you bitch ! ! fuck you bitch ! ! fuck you bitch ! ! fuck you bitch ! ! fuck you bitch ! ! fuck you bitch ! ! fuck you bitch ! ! fuck you bitch ! ! fuck you bitch ! ! fuck you bitch ! ! fuck you bitch ! ! fuck you bitch ! ! fuck you bitch ! ! fuck you bitch ! ! fuck you bitch ! ! fuck you bitch ! ! fuck you bitch ! ! fuck you bitch ! ! fuck you bitch ! ! fuck you bitch ! ! fuck you bitch ! ! fuck you bitch ! ! fuck you bitch ! ! fuck you bitch ! ! fuck you bitch ! ! fuck you bitch ! ! fuck you bitch ! ! fuck you bitch ! ! fuck you bitch ! ! fuck you bitch ! ! fuck you bitch ! ! fuck you bitch ! ! fuck you bitch ! ! fuck you bitch ! ! fuck you bitch ! ! fuck you bitch ! ! fuck you bitch ! ! fuck you bitch ! ! fuck you bitch ! ! fuck you bitch ! ! fuck you bitch ! ! fuck you bitch ! ! fuck you bitch ! ! fuck you bitch ! ! fuck you bitch ! ! fuck you bitch ! ! fuck you bitch ! ! fuck you bitch ! ! fuck you bitch ! ! fuck you bitch ! ! fuck you bitch ! ! fuck you bitch ! ! fuck you bitch ! ! fuck you bitch ! ! fuck you bitch ! ! fuck you bitch ! ! fuck you bitch ! ! fuck you bitch ! ! fuck you bitch ! ! fuck you bitch ! ! fuck you bitch ! ! fuck you bitch ! ! fuck you bitch ! ! fuck you bitch ! ! fuck you bitch ! ! fuck you bitch ! ! fuck you bitch ! ! fuck you bitch ! ! fuck you bitch ! ! fuck you bitch ! ! fuck you bitch ! ! fuck you bitch ! ! fuck you bitch ! ! fuck you bitch ! ! fuck you bitch ! ! fuck you bitch ! ! fuck you bitch ! ! fuck you bitch ! ! fuck you bitch ! ! fuck you bitch ! ! fuck you bitch ! ! fuck you bitch ! ! fuck you bitch ! ! fuck you bitch ! ! fuck you bitch ! ! fuck you bitch ! ! fuck you bitch ! ! fuck you bitch ! ! fuck you bitch ! ! fuck you bitch ! ! fuck you bitch ! ! fuck you bitch ! ! fuck you bitch ! ! fuck you bitch ! ! fuck you bitch ! ! fuck you bitch ! ! fuck you bitch ! ! fuck you bitch ! ! fuck\n",
            "1538 ah haahhahahah yaaa bitch yaaaa ! ! ! ! ! ! ! ah haahhahahah yaaa bitch yaaaa ! ! ! ! ! ! ! ah haahhahahah yaaa bitch yaaaa ! ! ! ! ! ! ! ah haahhahahah yaaa bitch yaaaa ! ! ! ! ! ! ! ah haahhahahah yaaa bitch yaaaa ! ! ! ! ! ! ! ah haahhahahah yaaa bitch yaaaa ! ! ! ! ! ! ! ah haahhahahah yaaa bitch yaaaa ! ! ! ! ! ! ! ah haahhahahah yaaa bitch yaaaa ! ! ! ! ! ! ! ah haahhahahah yaaa bitch yaaaa ! ! ! ! ! ! ! ah haahhahahah yaaa bitch yaaaa ! ! ! ! ! ! ! ah haahhahahah yaaa bitch yaaaa ! ! ! ! ! ! ! ah haahhahahah yaaa bitch yaaaa ! ! ! ! ! ! ! ah haahhahahah yaaa bitch yaaaa ! ! ! ! ! ! ! ah haahhahahah yaaa bitch yaaaa ! ! ! ! ! ! ! ah haahhahahah yaaa bitch yaaaa ! ! ! ! ! ! ! ah haahhahahah yaaa bitch yaaaa ! ! ! ! ! ! ! ah haahhahahah yaaa bitch yaaaa ! ! ! ! ! ! ! ah haahhahahah yaaa bitch yaaaa ! ! ! ! ! ! ! ah haahhahahah yaaa bitch yaaaa ! ! ! ! ! ! ! ah haahhahahah yaaa bitch yaaaa ! ! ! ! ! ! ! ah haahhahahah yaaa bitch yaaaa ! ! ! ! ! ! ! ah haahhahahah yaaa bitch yaaaa ! ! ! ! ! ! ! ah haahhahahah yaaa bitch yaaaa ! ! ! ! ! ! ! ah haahhahahah yaaa bitch yaaaa ! ! ! ! ! ! ! ah haahhahahah yaaa bitch yaaaa ! ! ! ! ! ! ! ah haahhahahah yaaa bitch yaaaa ! ! ! ! ! ! ! ah haahhahahah yaaa bitch yaaaa ! ! ! ! ! ! ! ah haahhahahah yaaa bitch yaaaa ! ! ! ! ! ! ! ah haahhahahah yaaa bitch yaaaa ! ! ! ! ! ! ! ah haahhahahah yaaa bitch yaaaa ! ! ! ! ! ! ! ah haahhahahah yaaa bitch yaaaa ! ! ! ! ! ! ! ah haahhahahah yaaa bitch yaaaa ! ! ! ! ! ! ! ah haahhahahah yaaa bitch yaaaa ! ! ! ! ! ! ! ah haahhahahah yaaa bitch yaaaa ! ! ! ! ! ! ! ah haahhahahah yaaa bitch yaaaa ! ! ! ! ! ! ! ah haahhahahah yaaa bitch yaaaa ! ! ! ! ! ! ! ah haahhahahah yaaa bitch yaaaa ! ! ! ! ! ! ! ah haahhahahah yaaa bitch yaaaa ! ! ! ! ! ! ! ah haahhahahah yaaa bitch yaaaa ! ! ! ! ! ! ! ah haahhahahah yaaa bitch yaaaa ! ! ! ! ! ! ! ah haahhahahah yaaa bitch yaaaa ! ! ! ! ! ! ! ah haahhahahah yaaa bitch yaaaa ! ! ! ! ! ! ! ah haahhahahah yaaa bitch yaaaa ! ! ! ! ! ! ! ah haahhahahah yaaa bitch yaaaa ! ! ! ! ! ! ! ah haahhahahah yaaa bitch yaaaa ! ! ! ! ! ! ! ah haahhahahah yaaa bitch yaaaa ! ! ! ! ! ! ! ah haahhahahah yaaa bitch yaaaa ! ! ! ! ! ! ! ah haahhahahah yaaa bitch yaaaa ! ! ! ! ! ! ! ah haahhahahah yaaa bitch yaaaa ! ! ! ! ! ! ! ah haahhahahah yaaa bitch yaaaa ! ! ! ! ! ! ! ah haahhahahah yaaa bitch yaaaa ! ! ! ! ! ! ! ah haahhahahah yaaa bitch yaaaa ! ! ! ! ! ! ! ah haahhahahah yaaa bitch yaaaa ! ! ! ! ! ! ! ah haahhahahah yaaa bitch yaaaa ! ! ! ! ! ! ! ah haahhahahah yaaa bitch yaaaa ! ! ! ! ! ! ! ah haahhahahah yaaa bitch yaaaa ! ! ! ! ! ! ! ah haahhahahah yaaa bitch yaaaa ! ! ! ! ! ! ! ah haahhahahah yaaa bitch yaaaa ! ! ! ! ! ! ! ah haahhahahah yaaa bitch yaaaa ! ! ! ! ! ! ! ah haahhahahah yaaa bitch yaaaa ! ! ! ! ! ! ! ah haahhahahah yaaa bitch yaaaa ! ! ! ! ! ! ! ah haahhahahah yaaa bitch yaaaa ! ! ! ! ! ! ! ah haahhahahah yaaa bitch yaaaa ! ! ! ! ! ! ! ah haahhahahah yaaa bitch yaaaa ! ! ! ! ! ! ! ah haahhahahah yaaa bitch yaaaa ! ! ! ! ! ! ! ah haahhahahah yaaa bitch yaaaa ! ! ! ! ! ! ! ah haahhahahah yaaa bitch yaaaa ! ! ! ! ! ! ! ah haahhahahah yaaa bitch yaaaa ! ! ! ! ! ! ! ah haahhahahah yaaa bitch yaaaa ! ! ! ! ! ! ! ah haahhahahah yaaa bitch yaaaa ! ! ! ! ! ! ! ah haahhahahah yaaa bitch yaaaa ! ! ! ! ! ! ! ah haahhahahah yaaa bitch yaaaa ! ! ! ! ! ! ! ah haahhahahah yaaa bitch yaaaa ! ! ! ! ! ! ! ah haahhahahah yaaa bitch yaaaa ! ! ! ! ! ! ! ah haahhahahah yaaa bitch yaaaa ! ! ! ! ! ! ! ah haahhahahah yaaa bitch yaaaa ! ! ! ! ! ! ! ah haahhahahah yaaa bitch yaaaa ! ! ! ! ! ! ! ah haahhahahah yaaa bitch yaaaa ! ! ! ! ! ! ! ah haahhahahah yaaa bitch yaaaa ! ! ! ! ! ! ! ah haahhahahah yaaa bitch yaaaa ! ! ! ! ! ! ! ah haahhahahah yaaa bitch yaaaa ! ! ! ! ! ! ! ah haahhahahah yaaa bitch yaaaa ! ! ! ! ! ! ! ah haahhahahah yaaa bitch yaaaa ! ! ! ! ! ! ! ah haahhahahah yaaa bitch yaaaa ! ! ! ! ! ! ! ah haahhahahah yaaa bitch yaaaa ! ! ! ! ! ! ! ah haahhahahah yaaa bitch yaaaa ! ! ! ! ! ! ! ah haahhahahah yaaa bitch yaaaa ! ! ! ! ! ! ! ah haahhahahah yaaa bitch yaaaa ! ! ! ! ! ! ! ah haahhahahah yaaa bitch yaaaa ! ! ! ! ! ! ! ah haahhahahah yaaa bitch yaaaa ! ! ! ! ! ! ! ah haahhahahah yaaa bitch yaaaa ! ! ! ! ! ! ! ah haahhahahah yaaa bitch yaaaa ! ! ! ! ! ! ! ah haahhahahah yaaa bitch yaaaa ! ! ! ! ! ! ! ah haahhahahah yaaa bitch yaaaa ! ! ! ! ! ! ! ah haahhahahah yaaa bitch yaaaa ! ! ! ! ! ! ! ah haahhahahah yaaa bitch yaaaa ! ! ! ! ! ! ! ah haahhahahah yaaa bitch yaaaa ! ! ! ! ! ! ! ah haahhahahah yaaa bitch yaaaa ! ! ! ! ! ! ! ah haahhahahah yaaa bitch yaaaa ! ! ! ! ! ! ! ah haahhahahah yaaa bitch yaaaa ! ! ! ! ! ! ! ah haahhahahah yaaa bitch yaaaa ! ! ! ! ! ! ! ah haahhahahah yaaa bitch yaaaa ! ! ! ! ! ! ! ah haahhahahah yaaa bitch yaaaa ! ! ! ! ! ! ! ah haahhahahah yaaa bitch yaaaa ! ! ! ! ! ! ! ah haahhahahah yaaa bitch yaaaa ! ! ! ! ! ! ! ah haahhahahah yaaa bitch yaaaa ! ! ! ! ! ! ! ah haahhahahah yaaa bitch yaaaa ! ! ! ! ! ! ! ah haahhahahah yaaa bitch yaaaa ! ! ! ! ! ! ! ah haahhahahah yaaa bitch yaaaa ! ! ! ! ! ! ! ah haahhahahah yaaa bitch yaaaa ! ! ! ! ! ! ! ah haahhahahah yaaa bitch yaaaa ! ! ! ! ! ! ! ah haahhahahah yaaa bitch yaaaa ! ! ! ! ! ! ! ah haahhahahah yaaa bitch yaaaa ! ! ! ! ! ! ! ah haahhahahah yaaa bitch yaaaa ! ! ! ! ! ! ! ah haahhahahah yaaa bitch yaaaa ! ! ! ! ! ! ! ah haahhahahah yaaa bitch yaaaa ! ! ! ! ! ! ! ah haahhahahah yaaa bitch yaaaa ! ! ! ! ! ! ! ah haahhahahah yaaa bitch yaaaa ! ! ! ! ! ! ! ah haahhahahah yaaa bitch yaaaa ! ! ! ! ! ! ! ah haahhahahah yaaa bitch yaaaa ! ! ! ! ! ! ! ah haahhahahah yaaa bitch yaaaa ! ! ! ! ! ! ! ah haahhahahah yaaa bitch yaaaa ! ! ! ! ! ! ! ah haahhahahah yaaa bitch yaaaa ! ! ! ! ! ! ! ah haahhahahah yaaa bitch yaaaa ! ! ! ! ! ! ! ah haahhahahah yaaa bitch yaaaa ! ! ! ! ! ! ! ah haahhahahah yaaa bitch yaaaa ! ! ! ! ! ! ! ah haahhahahah yaaa bitch yaaaa ! ! ! ! ! ! ! ah haahhahahah yaaa bitch yaaaa ! ! ! ! ! ! ! ah haahh\n",
            "1537 u suck ! ! ! ! u suck ! ! ! ! 'u suck ! ! ! ! u suck ! ! ! ! 'u suck ! ! ! ! u suck ! ! ! ! 'u suck ! ! ! ! u suck ! ! ! ! 'u suck ! ! ! ! u suck ! ! ! ! 'u suck ! ! ! ! u suck ! ! ! ! 'u suck ! ! ! ! u suck ! ! ! ! 'u suck ! ! ! ! u suck ! ! ! ! 'u suck ! ! ! ! u suck ! ! ! ! 'u suck ! ! ! ! u suck ! ! ! ! 'u suck ! ! ! ! u suck ! ! ! ! 'u suck ! ! ! ! u suck ! ! ! ! 'u suck ! ! ! ! u suck ! ! ! ! 'u suck ! ! ! ! u suck ! ! ! ! 'u suck ! ! ! ! u suck ! ! ! ! 'u suck ! ! ! ! u suck ! ! ! ! 'u suck ! ! ! ! u suck ! ! ! ! 'u suck ! ! ! ! u suck ! ! ! ! 'u suck ! ! ! ! u suck ! ! ! ! 'u suck ! ! ! ! u suck ! ! ! ! 'u suck ! ! ! ! u suck ! ! ! ! 'u suck ! ! ! ! u suck ! ! ! ! 'u suck ! ! ! ! u suck ! ! ! ! 'u suck ! ! ! ! u suck ! ! ! ! 'u suck ! ! ! ! u suck ! ! ! ! 'u suck ! ! ! ! u suck ! ! ! ! 'u suck ! ! ! ! u suck ! ! ! ! 'u suck ! ! ! ! u suck ! ! ! ! 'u suck ! ! ! ! u suck ! ! ! ! 'u suck ! ! ! ! u suck ! ! ! ! 'u suck ! ! ! ! u suck ! ! ! ! 'u suck ! ! ! ! u suck ! ! ! ! 'u suck ! ! ! ! u suck ! ! ! ! 'u suck ! ! ! ! u suck ! ! ! ! 'u suck ! ! ! ! u suck ! ! ! ! 'u suck ! ! ! ! u suck ! ! ! ! 'u suck ! ! ! ! u suck ! ! ! ! 'u suck ! ! ! ! u suck ! ! ! ! 'u suck ! ! ! ! u suck ! ! ! ! 'u suck ! ! ! ! u suck ! ! ! ! 'u suck ! ! ! ! u suck ! ! ! ! 'u suck ! ! ! ! u suck ! ! ! ! 'u suck ! ! ! ! u suck ! ! ! ! 'u suck ! ! ! ! u suck ! ! ! ! 'u suck ! ! ! ! u suck ! ! ! ! 'u suck ! ! ! ! u suck ! ! ! ! 'u suck ! ! ! ! u suck ! ! ! ! 'u suck ! ! ! ! u suck ! ! ! ! 'u suck ! ! ! ! u suck ! ! ! ! 'u suck ! ! ! ! u suck ! ! ! ! 'u suck ! ! ! ! u suck ! ! ! ! 'u suck ! ! ! ! u suck ! ! ! ! 'u suck ! ! ! ! u suck ! ! ! ! 'u suck ! ! ! ! u suck ! ! ! ! 'u suck ! ! ! ! u suck ! ! ! ! 'u suck ! ! ! ! u suck ! ! ! ! 'u suck ! ! ! ! u suck ! ! ! ! 'u suck ! ! ! ! u suck ! ! ! ! 'u suck ! ! ! ! u suck ! ! ! ! 'u suck ! ! ! ! u suck ! ! ! ! 'u suck ! ! ! ! u suck ! ! ! ! 'u suck ! ! ! ! u suck ! ! ! ! 'u suck ! ! ! ! u suck ! ! ! ! 'u suck ! ! ! ! u suck ! ! ! ! 'u suck ! ! ! ! u suck ! ! ! ! 'u suck ! ! ! ! u suck ! ! ! ! 'u suck ! ! ! ! u suck ! ! ! ! 'u suck ! ! ! ! u suck ! ! ! ! 'u suck ! ! ! ! u suck ! ! ! ! 'u suck ! ! ! ! u suck ! ! ! ! 'u suck ! ! ! ! u suck ! ! ! ! 'u suck ! ! ! ! u suck ! ! ! ! 'u suck ! ! ! ! u suck ! ! ! ! 'u suck ! ! ! ! u suck ! ! ! ! 'u suck ! ! ! ! u suck ! ! ! ! 'u suck ! ! ! ! u suck ! ! ! ! 'u suck ! ! ! ! u suck ! ! ! ! 'u suck ! ! ! ! u suck ! ! ! ! 'u suck ! ! ! ! u suck ! ! ! ! 'u suck ! ! ! ! u suck ! ! ! ! 'u suck ! ! ! ! u suck ! ! ! ! 'u suck ! ! ! ! u suck ! ! ! ! 'u suck ! ! ! ! u suck ! ! ! ! 'u suck ! ! ! ! u suck ! ! ! ! 'u suck ! ! ! ! u suck ! ! ! ! 'u suck ! ! ! ! u suck ! ! ! ! 'u suck ! ! ! ! u suck ! ! ! ! 'u suck ! ! ! ! u suck ! ! ! ! 'u suck ! ! ! ! u suck ! ! ! ! 'u suck ! ! ! ! u suck ! ! ! ! 'u suck ! ! ! ! u suck ! ! ! ! 'u suck ! ! ! ! u suck ! ! ! ! 'u suck ! ! ! ! u suck ! ! ! ! 'u suck ! ! ! ! u suck ! ! ! ! 'u suck ! ! ! ! u suck ! ! ! ! 'u suck ! ! ! ! u suck ! ! ! ! 'u suck ! ! ! ! u suck ! ! ! ! 'u suck ! ! ! ! u suck ! ! ! ! 'u suck ! ! ! ! u suck ! ! ! ! 'u suck ! ! ! ! u suck ! ! ! ! 'u suck ! ! ! ! u suck ! ! ! ! 'u suck ! ! ! ! u suck ! ! ! ! 'u suck ! ! ! ! u suck ! ! ! ! 'u suck ! ! ! ! u suck ! ! ! ! 'u suck ! ! ! ! u suck ! ! ! ! 'u suck ! ! ! ! u suck ! ! ! ! 'u suck ! ! ! ! u suck ! ! ! ! 'u suck ! ! ! ! u suck ! ! ! ! 'u suck ! ! ! ! u suck ! ! ! ! 'u suck ! ! ! ! u suck ! ! ! ! 'u suck ! ! ! ! u suck ! ! ! ! 'u suck ! ! ! ! u suck ! ! ! ! 'u suck ! ! ! ! u suck ! ! ! ! 'u suck ! ! ! ! u suck ! ! ! ! 'u suck ! ! ! ! u suck ! ! ! ! 'u suck ! ! ! ! u suck ! ! ! ! 'u suck ! ! ! ! u suck ! ! ! ! 'u suck ! ! ! ! u suck ! ! ! ! 'u suck ! ! ! ! u suck ! ! ! ! 'u suck ! ! ! ! u suck ! ! ! ! 'u suck ! ! ! ! u suck ! ! ! ! 'u suck ! ! ! ! u suck ! ! ! ! 'u suck ! ! ! ! u suck ! ! ! ! 'u suck ! ! ! ! u suck ! ! ! ! 'u suck ! ! ! ! u suck ! ! ! ! 'u suck ! ! ! ! u suck ! ! ! ! 'u suck ! ! ! ! u suck ! ! ! ! 'u suck ! ! ! ! u suck ! ! ! ! '\n",
            "1495 '''fuck you ! fuck you ! fuck you ! fuck you ! fuck you ! fuck you ! fuck you ! fuck you ! fuck you ! fuck you ! fuck you ! fuck you ! fuck you ! fuck you ! fuck you ! fuck you ! fuck you ! fuck you ! fuck you ! fuck you ! fuck you ! fuck you ! fuck you ! fuck you ! fuck you ! fuck you ! fuck you ! fuck you ! fuck you ! fuck you ! fuck you ! fuck you ! fuck you ! fuck you ! fuck you ! fuck you ! fuck you ! fuck you ! fuck you ! fuck you ! fuck you ! fuck you ! fuck you ! fuck you ! fuck you ! fuck you ! fuck you ! fuck you ! fuck you ! fuck you ! fuck you ! fuck you ! fuck you ! fuck you ! fuck you ! fuck you ! fuck you ! fuck you ! fuck you ! fuck you ! fuck you ! fuck you ! fuck you ! fuck you ! fuck you ! fuck you ! fuck you ! fuck you ! fuck you ! fuck you ! fuck you ! fuck you ! fuck you ! fuck you ! fuck you ! fuck you ! fuck you ! fuck you ! fuck you ! fuck you ! fuck you ! fuck you ! fuck you ! fuck you ! fuck you ! fuck you ! fuck you ! fuck you ! fuck you ! fuck you ! fuck you ! fuck you ! fuck you ! fuck you ! fuck you ! fuck you ! fuck you ! fuck you ! fuck you ! fuck you ! fuck you ! fuck you ! fuck you ! fuck you ! fuck you ! fuck you ! fuck you ! fuck you ! fuck you ! fuck you ! fuck you ! fuck you ! fuck you ! fuck you ! fuck you ! fuck you ! fuck you ! fuck you ! fuck you ! fuck you ! fuck you ! fuck you ! fuck you ! fuck you ! fuck you ! fuck you ! fuck you ! fuck you ! fuck you ! fuck you ! fuck you ! fuck you ! fuck you ! fuck you ! fuck you ! fuck you ! fuck you ! fuck you ! fuck you ! fuck you ! fuck you ! fuck you ! fuck you ! fuck you ! fuck you ! fuck you ! fuck you ! fuck you ! fuck you ! fuck you ! fuck you ! fuck you ! fuck you ! fuck you ! fuck you ! fuck you ! fuck you ! fuck you ! fuck you ! fuck you ! fuck you ! fuck you ! fuck you ! fuck you ! fuck you ! fuck you ! fuck you ! fuck you ! fuck you ! fuck you ! fuck you ! fuck you ! fuck you ! fuck you ! fuck you ! fuck you ! fuck you ! fuck you ! fuck you ! fuck you ! fuck you ! fuck you ! fuck you ! fuck you ! fuck you ! fuck you ! fuck you ! fuck you ! fuck you ! fuck you ! fuck you ! fuck you ! fuck you ! fuck you ! fuck you ! fuck you ! fuck you ! fuck you ! fuck you ! fuck you ! fuck you ! fuck you ! fuck you ! fuck you ! fuck you ! fuck you ! fuck you ! fuck you ! fuck you ! fuck you ! fuck you ! fuck you ! fuck you ! fuck you ! fuck you ! fuck you ! fuck you ! fuck you ! fuck you ! fuck you ! fuck you ! fuck you ! fuck you ! fuck you ! fuck you ! fuck you ! fuck you ! fuck you ! fuck you ! fuck you ! fuck you ! fuck you ! fuck you ! fuck you ! fuck you ! fuck you ! fuck you ! fuck you ! fuck you ! fuck you ! fuck you ! fuck you ! fuck you ! fuck you ! fuck you ! fuck you ! fuck you ! fuck you ! fuck you ! fuck you ! fuck you ! fuck you ! fuck you ! fuck you ! fuck you ! fuck you ! fuck you ! fuck you ! fuck you ! fuck you ! fuck you ! fuck you ! fuck you ! fuck you ! fuck you ! fuck you ! fuck you ! fuck you ! fuck you ! fuck you ! fuck you ! fuck you ! fuck you ! fuck you ! fuck you ! fuck you ! fuck you ! fuck you ! fuck you ! fuck you ! fuck you ! fuck you ! fuck you ! fuck you ! fuck you ! fuck you ! fuck you ! fuck you ! fuck you ! fuck you ! fuck you ! fuck you ! fuck you ! fuck you ! fuck you ! fuck you ! fuck you ! fuck you ! fuck you ! fuck you ! fuck you ! fuck you ! fuck you ! fuck you ! fuck you ! fuck you ! fuck you ! fuck you ! fuck you ! fuck you ! fuck you ! fuck you ! fuck you ! fuck you ! fuck you ! fuck you ! fuck you ! fuck you ! fuck you ! fuck you ! fuck you ! fuck you ! fuck you ! fuck you ! fuck you ! fuck you ! fuck you ! fuck you ! fuck you ! fuck you ! fuck you ! fuck you ! fuck you ! fuck you ! fuck you ! fuck you ! fuck you ! fuck you ! fuck you ! fuck you ! fuck you ! fuck you ! fuck you ! fuck you ! fuck you ! fuck you ! fuck you ! fuck you ! fuck you ! fuck you ! fuck you ! fuck you ! fuck you ! fuck you ! fuck you ! fuck you ! fuck you ! fuck you ! fuck you ! fuck you ! fuck you ! fuck you ! fuck you ! fuck you ! fuck you ! fuck you ! fuck you ! fuck you ! fuck you ! fuck you ! fuck you ! fuck you ! fuck you ! fuck you ! fuck you ! fuck you ! fuck you ! fuck you ! fuck you ! fuck you ! fuck you ! fuck you ! fuck you ! fuck you ! fuck you ! fuck you ! fuck you ! fuck you ! fuck you ! fuck you ! fuck you ! fuck you ! fuck you ! fuck you ! fuck you ! fuck you ! fuck you ! fuck you ! fuck you ! fuck you ! fuck you ! fuck you ! fuck you ! fuck you ! fuck you ! fuck you ! fuck you ! fuck you ! fuck you ! fuck you ! fuck you ! fuck you ! fuck you ! fuck you ! fuck you ! fuck you ! fuck you ! fuck you ! fuck you ! fuck you ! fuck you ! fuck you ! fuck you ! fuck you ! fuck you ! fuck you ! fuck you ! fuck you ! fuck you ! fuck you ! fuck you ! fuck you ! fuck you ! fuck you ! fuck you ! fuck you ! fuck you ! fuck you ! fuck you ! fuck you ! fuck you ! fuck you ! fuck you ! fuck you ! fuck you ! fuck you ! fuck you ! fuck you ! fuck you ! fuck you ! fuck you ! fuck you ! fuck you ! fuck you ! fuck you ! fuck you ! fuck you ! fuck you ! fuck you ! fuck you ! fuck you ! fuck you ! fuck you ! fuck you ! fuck you ! fuck you ! fuck you ! fuck you ! fuck you ! fuck you ! fuck you ! fuck you ! fuck you ! fuck you ! fuck you ! fuck you ! fuck you ! fuck you ! fuck you ! fuck you ! fuck you ! fuck you ! fuck you ! fuck you ! fuck you ! fuck you ! fuck you ! fuck you ! fuck you ! fuck you ! fuck you ! fuck you ! fuck you ! fuck you ! fuck you ! fuck you ! fuck you ! fuck you ! fuc\n",
            "1429 in the name of ytmnd ! in the name of ytmnd ! in the name of ytmnd ! in the name of ytmnd ! in the name of ytmnd ! in the name of ytmnd ! in the name of ytmnd ! in the name of ytmnd ! in the name of ytmnd ! in the name of ytmnd ! in the name of ytmnd ! in the name of ytmnd ! in the name of ytmnd ! in the name of ytmnd ! in the name of ytmnd ! in the name of ytmnd ! in the name of ytmnd ! in the name of ytmnd ! in the name of ytmnd ! in the name of ytmnd ! in the name of ytmnd ! in the name of ytmnd ! in the name of ytmnd ! in the name of ytmnd ! in the name of ytmnd ! in the name of ytmnd ! in the name of ytmnd ! in the name of ytmnd ! in the name of ytmnd ! in the name of ytmnd ! in the name of ytmnd ! in the name of ytmnd ! in the name of ytmnd ! in the name of ytmnd ! in the name of ytmnd ! in the name of ytmnd ! in the name of ytmnd ! in the name of ytmnd ! in the name of ytmnd ! in the name of ytmnd ! in the name of ytmnd ! in the name of ytmnd ! in the name of ytmnd ! in the name of ytmnd ! in the name of ytmnd ! in the name of ytmnd ! in the name of ytmnd ! in the name of ytmnd ! in the name of ytmnd ! in the name of ytmnd ! in the name of ytmnd ! in the name of ytmnd ! in the name of ytmnd ! in the name of ytmnd ! in the name of ytmnd ! in the name of ytmnd ! in the name of ytmnd ! in the name of ytmnd ! in the name of ytmnd ! in the name of ytmnd ! in the name of ytmnd ! in the name of ytmnd ! in the name of ytmnd ! in the name of ytmnd ! in the name of ytmnd ! in the name of ytmnd ! in the name of ytmnd ! in the name of ytmnd ! in the name of ytmnd ! in the name of ytmnd ! in the name of ytmnd ! in the name of ytmnd ! in the name of ytmnd ! in the name of ytmnd ! in the name of ytmnd ! in the name of ytmnd ! in the name of ytmnd ! in the name of ytmnd ! in the name of ytmnd ! in the name of ytmnd ! in the name of ytmnd ! in the name of ytmnd ! in the name of ytmnd ! in the name of ytmnd ! in the name of ytmnd ! in the name of ytmnd ! in the name of ytmnd ! in the name of ytmnd ! in the name of ytmnd ! in the name of ytmnd ! in the name of ytmnd ! in the name of ytmnd ! in the name of ytmnd ! in the name of ytmnd ! in the name of ytmnd ! in the name of ytmnd ! in the name of ytmnd ! in the name of ytmnd ! in the name of ytmnd ! in the name of ytmnd ! in the name of ytmnd ! in the name of ytmnd ! in the name of ytmnd ! in the name of ytmnd ! in the name of ytmnd ! in the name of ytmnd ! in the name of ytmnd ! in the name of ytmnd ! in the name of ytmnd ! in the name of ytmnd ! in the name of ytmnd ! in the name of ytmnd ! in the name of ytmnd ! in the name of ytmnd ! in the name of ytmnd ! in the name of ytmnd ! in the name of ytmnd ! in the name of ytmnd ! in the name of ytmnd ! in the name of ytmnd ! in the name of ytmnd ! in the name of ytmnd ! in the name of ytmnd ! in the name of ytmnd ! in the name of ytmnd ! in the name of ytmnd ! in the name of ytmnd ! in the name of ytmnd ! in the name of ytmnd ! in the name of ytmnd ! in the name of ytmnd ! in the name of ytmnd ! in the name of ytmnd ! in the name of ytmnd ! in the name of ytmnd ! in the name of ytmnd ! in the name of ytmnd ! in the name of ytmnd ! in the name of ytmnd ! in the name of ytmnd ! in the name of ytmnd ! in the name of ytmnd ! in the name of ytmnd ! in the name of ytmnd ! in the name of ytmnd ! in the name of ytmnd ! in the name of ytmnd ! in the name of ytmnd ! in the name of ytmnd ! in the name of ytmnd ! in the name of ytmnd ! in the name of ytmnd ! in the name of ytmnd ! in the name of ytmnd ! in the name of ytmnd ! in the name of ytmnd ! in the name of ytmnd ! in the name of ytmnd ! in the name of ytmnd ! in the name of ytmnd ! in the name of ytmnd ! in the name of ytmnd ! in the name of ytmnd ! in the name of ytmnd ! in the name of ytmnd ! in the name of ytmnd ! in the name of ytmnd ! in the name of ytmnd ! in the name of ytmnd ! in the name of ytmnd ! in the name of ytmnd ! in the name of ytmnd ! in the name of ytmnd ! in the name of ytmnd ! in the name of ytmnd ! in the name of ytmnd ! in the name of ytmnd ! in the name of ytmnd ! in the name of ytmnd ! in the name of ytmnd ! in the name of ytmnd ! in the name of ytmnd ! in the name of ytmnd ! in the name of ytmnd ! in the name of ytmnd ! in the name of ytmnd ! in the name of ytmnd ! in the name of ytmnd ! in the name of ytmnd ! in the name of ytmnd ! in the name of ytmnd ! in the name of ytmnd ! in the name of ytmnd ! in the name of ytmnd ! in the name of ytmnd ! in the name of ytmnd ! in the name of ytmnd ! in the name of ytmnd ! in the name of ytmnd ! in the name of ytmnd ! in the name of ytmnd ! in the name of ytmnd ! in the name of ytmnd ! in the name of ytmnd ! in the name of ytmnd ! in the name of ytmnd ! in the name of ytmnd ! in the name of ytmnd ! in the name of ytmnd ! in the name of ytmnd ! in the name of ytmnd ! in the name of ytmnd ! in the name of ytmnd ! in the name of ytmnd ! in the name of ytmnd ! in the name of ytmnd ! in the name of ytmnd ! in the name of ytmnd ! in the name of ytmnd ! in the name of ytmnd ! in the name of ytmnd ! in the name of ytmnd ! in the name of ytmnd ! in the name of ytmnd ! in the name of ytmnd ! in the name of ytmnd ! in the name of ytmnd ! in the name of ytmnd ! in the name of ytmnd ! in the name of ytmnd ! in the name of ytmnd ! in the name of ytmnd ! in the name of ytmnd ! in the name of ytmnd ! in the name of ytmnd ! in the name of ytmnd ! in the name of ytmnd ! in the name of ytmnd ! in\n",
            "1429 hi wikipedia ! ! hi wikipedia ! ! hi wikipedia ! ! hi wikipedia ! ! hi wikipedia ! ! hi wikipedia ! ! hi wikipedia ! ! hi wikipedia ! ! hi wikipedia ! ! hi wikipedia ! ! hi wikipedia ! ! hi wikipedia ! ! hi wikipedia ! ! hi wikipedia ! ! hi wikipedia ! ! hi wikipedia ! ! hi wikipedia ! ! hi wikipedia ! ! hi wikipedia ! ! hi wikipedia ! ! hi wikipedia ! ! hi wikipedia ! ! hi wikipedia ! ! hi wikipedia ! ! hi wikipedia ! ! hi wikipedia ! ! hi wikipedia ! ! hi wikipedia ! ! hi wikipedia ! ! hi wikipedia ! ! hi wikipedia ! ! hi wikipedia ! ! hi wikipedia ! ! hi wikipedia ! ! hi wikipedia ! ! hi wikipedia ! ! hi wikipedia ! ! hi wikipedia ! ! hi wikipedia ! ! hi wikipedia ! ! hi wikipedia ! ! hi wikipedia ! ! hi wikipedia ! ! hi wikipedia ! ! hi wikipedia ! ! hi wikipedia ! ! hi wikipedia ! ! hi wikipedia ! ! hi wikipedia ! ! hi wikipedia ! ! hi wikipedia ! ! hi wikipedia ! ! hi wikipedia ! ! hi wikipedia ! ! hi wikipedia ! ! hi wikipedia ! ! hi wikipedia ! ! hi wikipedia ! ! hi wikipedia ! ! hi wikipedia ! ! hi wikipedia ! ! hi wikipedia ! ! hi wikipedia ! ! hi wikipedia ! ! hi wikipedia ! ! hi wikipedia ! ! hi wikipedia ! ! hi wikipedia ! ! hi wikipedia ! ! hi wikipedia ! ! hi wikipedia ! ! hi wikipedia ! ! hi wikipedia ! ! hi wikipedia ! ! hi wikipedia ! ! hi wikipedia ! ! hi wikipedia ! ! hi wikipedia ! ! hi wikipedia ! ! hi wikipedia ! ! hi wikipedia ! ! hi wikipedia ! ! hi wikipedia ! ! hi wikipedia ! ! hi wikipedia ! ! hi wikipedia ! ! hi wikipedia ! ! hi wikipedia ! ! hi wikipedia ! ! hi wikipedia ! ! hi wikipedia ! ! hi wikipedia ! ! hi wikipedia ! ! hi wikipedia ! ! hi wikipedia ! ! hi wikipedia ! ! hi wikipedia ! ! hi wikipedia ! ! hi wikipedia ! ! hi wikipedia ! ! hi wikipedia ! ! hi wikipedia ! ! hi wikipedia ! ! hi wikipedia ! ! hi wikipedia ! ! hi wikipedia ! ! hi wikipedia ! ! hi wikipedia ! ! hi wikipedia ! ! hi wikipedia ! ! hi wikipedia ! ! hi wikipedia ! ! hi wikipedia ! ! hi wikipedia ! ! hi wikipedia ! ! hi wikipedia ! ! hi wikipedia ! ! hi wikipedia ! ! hi wikipedia ! ! hi wikipedia ! ! hi wikipedia ! ! hi wikipedia ! ! hi wikipedia ! ! hi wikipedia ! ! hi wikipedia ! ! hi wikipedia ! ! hi wikipedia ! ! hi wikipedia ! ! hi wikipedia ! ! hi wikipedia ! ! hi wikipedia ! ! hi wikipedia ! ! hi wikipedia ! ! hi wikipedia ! ! hi wikipedia ! ! hi wikipedia ! ! hi wikipedia ! ! hi wikipedia ! ! hi wikipedia ! ! hi wikipedia ! ! hi wikipedia ! ! hi wikipedia ! ! hi wikipedia ! ! hi wikipedia ! ! hi wikipedia ! ! hi wikipedia ! ! hi wikipedia ! ! hi wikipedia ! ! hi wikipedia ! ! hi wikipedia ! ! hi wikipedia ! ! hi wikipedia ! ! hi wikipedia ! ! hi wikipedia ! ! hi wikipedia ! ! hi wikipedia ! ! hi wikipedia ! ! hi wikipedia ! ! hi wikipedia ! ! hi wikipedia ! ! hi wikipedia ! ! hi wikipedia ! ! hi wikipedia ! ! hi wikipedia ! ! hi wikipedia ! ! hi wikipedia ! ! hi wikipedia ! ! hi wikipedia ! ! hi wikipedia ! ! hi wikipedia ! ! hi wikipedia ! ! hi wikipedia ! ! hi wikipedia ! ! hi wikipedia ! ! hi wikipedia ! ! hi wikipedia ! ! hi wikipedia ! ! hi wikipedia ! ! hi wikipedia ! ! hi wikipedia ! ! hi wikipedia ! ! hi wikipedia ! ! hi wikipedia ! ! hi wikipedia ! ! hi wikipedia ! ! hi wikipedia ! ! hi wikipedia ! ! hi wikipedia ! ! hi wikipedia ! ! hi wikipedia ! ! hi wikipedia ! ! hi wikipedia ! ! hi wikipedia ! ! hi wikipedia ! ! hi wikipedia ! ! hi wikipedia ! ! hi wikipedia ! ! hi wikipedia ! ! hi wikipedia ! ! hi wikipedia ! ! hi wikipedia ! ! hi wikipedia ! ! hi wikipedia ! ! hi wikipedia ! ! hi wikipedia ! ! hi wikipedia ! ! hi wikipedia ! ! hi wikipedia ! ! hi wikipedia ! ! hi wikipedia ! ! hi wikipedia ! ! hi wikipedia ! ! hi wikipedia ! ! hi wikipedia ! ! hi wikipedia ! ! hi wikipedia ! ! hi wikipedia ! ! hi wikipedia ! ! hi wikipedia ! ! hi wikipedia ! ! hi wikipedia ! ! hi wikipedia ! ! hi wikipedia ! ! hi wikipedia ! ! hi wikipedia ! ! hi wikipedia ! ! hi wikipedia ! ! hi wikipedia ! ! hi wikipedia ! ! hi wikipedia ! ! hi wikipedia ! ! hi wikipedia ! ! hi wikipedia ! ! hi wikipedia ! ! hi wikipedia ! ! hi wikipedia ! ! hi wikipedia ! ! hi wikipedia ! ! hi wikipedia ! ! hi wikipedia ! ! hi wikipedia ! ! hi wikipedia ! ! hi wikipedia ! ! hi wikipedia ! ! hi wikipedia ! ! hi wikipedia ! ! hi wikipedia ! ! hi wikipedia ! ! hi wikipedia ! ! hi wikipedia ! ! hi wikipedia ! ! hi wikipedia ! ! hi wikipedia ! ! hi wikipedia ! ! hi wikipedia ! ! hi wikipedia ! ! hi wikipedia ! ! hi wikipedia ! ! hi wikipedia ! ! hi wikipedia ! ! hi wikipedia ! ! hi wikipedia ! ! hi wikipedia ! ! hi wikipedia ! ! hi wikipedia ! ! hi wikipedia ! ! hi wikipedia ! ! hi wikipedia ! ! hi wikipedia ! ! hi wikipedia ! ! hi wikipedia ! ! hi wikipedia ! ! hi wikipedia ! ! hi wikipedia ! ! hi wikipedia ! ! hi wikipedia ! ! hi wikipedia ! ! hi wikipedia ! ! hi wikipedia ! ! hi wikipedia ! ! hi wikipedia ! ! hi wikipedia ! ! hi wikipedia ! ! hi wikipedia ! ! hi wikipedia ! ! hi wikipedia ! ! hi wikipedia ! ! hi wikipedia ! ! hi wikipedia ! ! hi wikipedia ! ! hi wikipedia ! ! hi wikipedia ! ! hi wikipedia ! ! hi wikipedia ! ! hi wikipedia ! ! hi wikipedia ! ! hi wikipedia ! ! hi wikipedia ! ! hi wikipedia ! ! hi wikipedia ! ! hi wikipedia ! ! hi wikipedia ! ! hi wikipedia ! ! hi wikipedia ! ! hi wikipedia ! ! hi wikipedia ! ! hi wikipedia ! ! hi wikipedia ! ! hi wikipedia ! ! hi wikipedia ! ! hi wikipedia ! ! hi wikipedia ! ! hi wikipedia ! ! hi wikipedia ! ! hi wikipedia ! ! hi wikipedia ! ! hi wikipedia ! ! hi wikipedia ! ! hi wikipedia ! ! hi wikipedia ! ! hi wikipedia ! ! hi wikipedia ! ! hi wikipedia ! ! hi wikipedia ! ! hi wikipedia ! ! hi wikipedia ! ! hi wikipedia ! ! hi wikipedia ! ! hi wikipedia ! ! hi wikipedia ! ! hi wikipedia ! ! hi wikipedia ! ! hi wikipedia ! ! hi wikipedia ! ! hi wikipedia ! ! hi wikipedia ! ! hi wikipedia ! ! hi wikipedia ! ! hi wikipedia ! ! hi wikipedia ! ! hi wikipedia ! ! hi wikipedia ! ! hi wikipedia ! ! hi wikipedia ! ! hi wikipedia ! ! hi wikipedia ! ! hi wikipedia ! ! hi wikipedia ! ! hi wikipedia ! ! hi wikipedia ! ! hi wikipedia ! ! hi wikipedia ! ! hi wikipedia ! ! hi wikipedia ! ! hi wikipedia ! ! hi wikipedia ! ! hi wikipedia ! ! hi\n",
            "1428 '''hi wikipedia ! ! hi wikipedia ! ! hi wikipedia ! ! hi wikipedia ! ! hi wikipedia ! ! hi wikipedia ! ! hi wikipedia ! ! hi wikipedia ! ! hi wikipedia ! ! hi wikipedia ! ! hi wikipedia ! ! hi wikipedia ! ! hi wikipedia ! ! hi wikipedia ! ! hi wikipedia ! ! hi wikipedia ! ! hi wikipedia ! ! hi wikipedia ! ! hi wikipedia ! ! hi wikipedia ! ! hi wikipedia ! ! hi wikipedia ! ! hi wikipedia ! ! hi wikipedia ! ! hi wikipedia ! ! hi wikipedia ! ! hi wikipedia ! ! hi wikipedia ! ! hi wikipedia ! ! hi wikipedia ! ! hi wikipedia ! ! hi wikipedia ! ! hi wikipedia ! ! hi wikipedia ! ! hi wikipedia ! ! hi wikipedia ! ! hi wikipedia ! ! hi wikipedia ! ! hi wikipedia ! ! hi wikipedia ! ! hi wikipedia ! ! hi wikipedia ! ! hi wikipedia ! ! hi wikipedia ! ! hi wikipedia ! ! hi wikipedia ! ! hi wikipedia ! ! hi wikipedia ! ! hi wikipedia ! ! hi wikipedia ! ! hi wikipedia ! ! hi wikipedia ! ! hi wikipedia ! ! hi wikipedia ! ! hi wikipedia ! ! hi wikipedia ! ! hi wikipedia ! ! hi wikipedia ! ! hi wikipedia ! ! hi wikipedia ! ! hi wikipedia ! ! hi wikipedia ! ! hi wikipedia ! ! hi wikipedia ! ! hi wikipedia ! ! hi wikipedia ! ! hi wikipedia ! ! hi wikipedia ! ! hi wikipedia ! ! hi wikipedia ! ! hi wikipedia ! ! hi wikipedia ! ! hi wikipedia ! ! hi wikipedia ! ! hi wikipedia ! ! hi wikipedia ! ! hi wikipedia ! ! hi wikipedia ! ! hi wikipedia ! ! hi wikipedia ! ! hi wikipedia ! ! hi wikipedia ! ! hi wikipedia ! ! hi wikipedia ! ! hi wikipedia ! ! hi wikipedia ! ! hi wikipedia ! ! hi wikipedia ! ! hi wikipedia ! ! hi wikipedia ! ! hi wikipedia ! ! hi wikipedia ! ! hi wikipedia ! ! hi wikipedia ! ! hi wikipedia ! ! hi wikipedia ! ! hi wikipedia ! ! hi wikipedia ! ! hi wikipedia ! ! hi wikipedia ! ! hi wikipedia ! ! hi wikipedia ! ! hi wikipedia ! ! hi wikipedia ! ! hi wikipedia ! ! hi wikipedia ! ! hi wikipedia ! ! hi wikipedia ! ! hi wikipedia ! ! hi wikipedia ! ! hi wikipedia ! ! hi wikipedia ! ! hi wikipedia ! ! hi wikipedia ! ! hi wikipedia ! ! hi wikipedia ! ! hi wikipedia ! ! hi wikipedia ! ! hi wikipedia ! ! hi wikipedia ! ! hi wikipedia ! ! hi wikipedia ! ! hi wikipedia ! ! hi wikipedia ! ! hi wikipedia ! ! hi wikipedia ! ! hi wikipedia ! ! hi wikipedia ! ! hi wikipedia ! ! hi wikipedia ! ! hi wikipedia ! ! hi wikipedia ! ! hi wikipedia ! ! hi wikipedia ! ! hi wikipedia ! ! hi wikipedia ! ! hi wikipedia ! ! hi wikipedia ! ! hi wikipedia ! ! hi wikipedia ! ! hi wikipedia ! ! hi wikipedia ! ! hi wikipedia ! ! hi wikipedia ! ! hi wikipedia ! ! hi wikipedia ! ! hi wikipedia ! ! hi wikipedia ! ! hi wikipedia ! ! hi wikipedia ! ! hi wikipedia ! ! hi wikipedia ! ! hi wikipedia ! ! hi wikipedia ! ! hi wikipedia ! ! hi wikipedia ! ! hi wikipedia ! ! hi wikipedia ! ! hi wikipedia ! ! hi wikipedia ! ! hi wikipedia ! ! hi wikipedia ! ! hi wikipedia ! ! hi wikipedia ! ! hi wikipedia ! ! hi wikipedia ! ! hi wikipedia ! ! hi wikipedia ! ! hi wikipedia ! ! hi wikipedia ! ! hi wikipedia ! ! hi wikipedia ! ! hi wikipedia ! ! hi wikipedia ! ! hi wikipedia ! ! hi wikipedia ! ! hi wikipedia ! ! hi wikipedia ! ! hi wikipedia ! ! hi wikipedia ! ! hi wikipedia ! ! hi wikipedia ! ! hi wikipedia ! ! hi wikipedia ! ! hi wikipedia ! ! hi wikipedia ! ! hi wikipedia ! ! hi wikipedia ! ! hi wikipedia ! ! hi wikipedia ! ! hi wikipedia ! ! hi wikipedia ! ! hi wikipedia ! ! hi wikipedia ! ! hi wikipedia ! ! hi wikipedia ! ! hi wikipedia ! ! hi wikipedia ! ! hi wikipedia ! ! hi wikipedia ! ! hi wikipedia ! ! hi wikipedia ! ! hi wikipedia ! ! hi wikipedia ! ! hi wikipedia ! ! hi wikipedia ! ! hi wikipedia ! ! hi wikipedia ! ! hi wikipedia ! ! hi wikipedia ! ! hi wikipedia ! ! hi wikipedia ! ! hi wikipedia ! ! hi wikipedia ! ! hi wikipedia ! ! hi wikipedia ! ! hi wikipedia ! ! hi wikipedia ! ! hi wikipedia ! ! hi wikipedia ! ! hi wikipedia ! ! hi wikipedia ! ! hi wikipedia ! ! hi wikipedia ! ! hi wikipedia ! ! hi wikipedia ! ! hi wikipedia ! ! hi wikipedia ! ! hi wikipedia ! ! hi wikipedia ! ! hi wikipedia ! ! hi wikipedia ! ! hi wikipedia ! ! hi wikipedia ! ! hi wikipedia ! ! hi wikipedia ! ! hi wikipedia ! ! hi wikipedia ! ! hi wikipedia ! ! hi wikipedia ! ! hi wikipedia ! ! hi wikipedia ! ! hi wikipedia ! ! hi wikipedia ! ! hi wikipedia ! ! hi wikipedia ! ! hi wikipedia ! ! hi wikipedia ! ! hi wikipedia ! ! hi wikipedia ! ! hi wikipedia ! ! hi wikipedia ! ! hi wikipedia ! ! hi wikipedia ! ! hi wikipedia ! ! hi wikipedia ! ! hi wikipedia ! ! hi wikipedia ! ! hi wikipedia ! ! hi wikipedia ! ! hi wikipedia ! ! hi wikipedia ! ! hi wikipedia ! ! hi wikipedia ! ! hi wikipedia ! ! hi wikipedia ! ! hi wikipedia ! ! hi wikipedia ! ! hi wikipedia ! ! hi wikipedia ! ! hi wikipedia ! ! hi wikipedia ! ! hi wikipedia ! ! hi wikipedia ! ! hi wikipedia ! ! hi wikipedia ! ! hi wikipedia ! ! hi wikipedia ! ! hi wikipedia ! ! hi wikipedia ! ! hi wikipedia ! ! hi wikipedia ! ! hi wikipedia ! ! hi wikipedia ! ! hi wikipedia ! ! hi wikipedia ! ! hi wikipedia ! ! hi wikipedia ! ! hi wikipedia ! ! hi wikipedia ! ! hi wikipedia ! ! hi wikipedia ! ! hi wikipedia ! ! hi wikipedia ! ! hi wikipedia ! ! hi wikipedia ! ! hi wikipedia ! ! hi wikipedia ! ! hi wikipedia ! ! hi wikipedia ! ! hi wikipedia ! ! hi wikipedia ! ! hi wikipedia ! ! hi wikipedia ! ! hi wikipedia ! ! hi wikipedia ! ! hi wikipedia ! ! hi wikipedia ! ! hi wikipedia ! ! hi wikipedia ! ! hi wikipedia ! ! hi wikipedia ! ! hi wikipedia ! ! hi wikipedia ! ! hi wikipedia ! ! hi wikipedia ! ! hi wikipedia ! ! hi wikipedia ! ! hi wikipedia ! ! hi wikipedia ! ! hi wikipedia ! ! hi wikipedia ! ! hi wikipedia ! ! hi wikipedia ! ! hi wikipedia ! ! hi wikipedia ! ! hi wikipedia ! ! hi wikipedia ! ! hi wikipedia ! ! hi wikipedia ! ! hi wikipedia ! ! hi wikipedia ! ! hi wikipedia ! ! hi wikipedia ! ! hi wikipedia ! ! hi wikipedia ! ! hi wikipedia ! ! hi wikipedia ! ! hi wikipedia ! ! hi wikipedia ! ! hi wikipedia ! ! hi wikipedia ! ! hi wikipedia ! ! hi wikipedia ! ! hi wikipedia ! ! hi wikipedia ! ! hi wikipedia ! ! hi wikipedia ! ! hi wikipedia ! ! hi wikipedia ! ! hi wikipedia ! ! hi wikipedia ! ! hi wikipedia ! ! hi wikipedia ! ! hi wikipedia ! ! hi wikipedia ! ! hi wikipedia ! \n",
            "1412 fucking cocksucking admins , eat my shit cunts ! ! ! ! ! ! ! fucking cocksucking admins , eat my shit cunts ! ! ! ! ! ! ! fucking cocksucking admins , eat my shit cunts ! ! ! ! ! ! ! fucking cocksucking admins , eat my shit cunts ! ! ! ! ! ! ! fucking cocksucking admins , eat my shit cunts ! ! ! ! ! ! ! fucking cocksucking admins , eat my shit cunts ! ! ! ! ! ! ! fucking cocksucking admins , eat my shit cunts ! ! ! ! ! ! ! fucking cocksucking admins , eat my shit cunts ! ! ! ! ! ! ! fucking cocksucking admins , eat my shit cunts ! ! ! ! ! ! ! fucking cocksucking admins , eat my shit cunts ! ! ! ! ! ! ! fucking cocksucking admins , eat my shit cunts ! ! ! ! ! ! ! fucking cocksucking admins , eat my shit cunts ! ! ! ! ! ! ! fucking cocksucking admins , eat my shit cunts ! ! ! ! ! ! ! fucking cocksucking admins , eat my shit cunts ! ! ! ! ! ! ! fucking cocksucking admins , eat my shit cunts ! ! ! ! ! ! ! fucking cocksucking admins , eat my shit cunts ! ! ! ! ! ! ! fucking cocksucking admins , eat my shit cunts ! ! ! ! ! ! ! fucking cocksucking admins , eat my shit cunts ! ! ! ! ! ! ! fucking cocksucking admins , eat my shit cunts ! ! ! ! ! ! ! fucking cocksucking admins , eat my shit cunts ! ! ! ! ! ! ! fucking cocksucking admins , eat my shit cunts ! ! ! ! ! ! ! fucking cocksucking admins , eat my shit cunts ! ! ! ! ! ! ! fucking cocksucking admins , eat my shit cunts ! ! ! ! ! ! ! fucking cocksucking admins , eat my shit cunts ! ! ! ! ! ! ! fucking cocksucking admins , eat my shit cunts ! ! ! ! ! ! ! fucking cocksucking admins , eat my shit cunts ! ! ! ! ! ! ! fucking cocksucking admins , eat my shit cunts ! ! ! ! ! ! ! fucking cocksucking admins , eat my shit cunts ! ! ! ! ! ! ! fucking cocksucking admins , eat my shit cunts ! ! ! ! ! ! ! fucking cocksucking admins , eat my shit cunts ! ! ! ! ! ! ! fucking cocksucking admins , eat my shit cunts ! ! ! ! ! ! ! fucking cocksucking admins , eat my shit cunts ! ! ! ! ! ! ! fucking cocksucking admins , eat my shit cunts ! ! ! ! ! ! ! fucking cocksucking admins , eat my shit cunts ! ! ! ! ! ! ! fucking cocksucking admins , eat my shit cunts ! ! ! ! ! ! ! fucking cocksucking admins , eat my shit cunts ! ! ! ! ! ! ! fucking cocksucking admins , eat my shit cunts ! ! ! ! ! ! ! fucking cocksucking admins , eat my shit cunts ! ! ! ! ! ! ! fucking cocksucking admins , eat my shit cunts ! ! ! ! ! ! ! fucking cocksucking admins , eat my shit cunts ! ! ! ! ! ! ! fucking cocksucking admins , eat my shit cunts ! ! ! ! ! ! ! fucking cocksucking admins , eat my shit cunts ! ! ! ! ! ! ! fucking cocksucking admins , eat my shit cunts ! ! ! ! ! ! ! fucking cocksucking admins , eat my shit cunts ! ! ! ! ! ! ! fucking cocksucking admins , eat my shit cunts ! ! ! ! ! ! ! fucking cocksucking admins , eat my shit cunts ! ! ! ! ! ! ! fucking cocksucking admins , eat my shit cunts ! ! ! ! ! ! ! fucking cocksucking admins , eat my shit cunts ! ! ! ! ! ! ! fucking cocksucking admins , eat my shit cunts ! ! ! ! ! ! ! fucking cocksucking admins , eat my shit cunts ! ! ! ! ! ! ! fucking cocksucking admins , eat my shit cunts ! ! ! ! ! ! ! fucking cocksucking admins , eat my shit cunts ! ! ! ! ! ! ! fucking cocksucking admins , eat my shit cunts ! ! ! ! ! ! ! fucking cocksucking admins , eat my shit cunts ! ! ! ! ! ! ! fucking cocksucking admins , eat my shit cunts ! ! ! ! ! ! ! fucking cocksucking admins , eat my shit cunts ! ! ! ! ! ! ! fucking cocksucking admins , eat my shit cunts ! ! ! ! ! ! ! fucking cocksucking admins , eat my shit cunts ! ! ! ! ! ! ! fucking cocksucking admins , eat my shit cunts ! ! ! ! ! ! ! fucking cocksucking admins , eat my shit cunts ! ! ! ! ! ! ! fucking cocksucking admins , eat my shit cunts ! ! ! ! ! ! ! fucking cocksucking admins , eat my shit cunts ! ! ! ! ! ! ! fucking cocksucking admins , eat my shit cunts ! ! ! ! ! ! ! fucking cocksucking admins , eat my shit cunts ! ! ! ! ! ! ! fucking cocksucking admins , eat my shit cunts ! ! ! ! ! ! ! fucking cocksucking admins , eat my shit cunts ! ! ! ! ! ! ! fucking cocksucking admins , eat my shit cunts ! ! ! ! ! ! ! fucking cocksucking admins , eat my shit cunts ! ! ! ! ! ! ! fucking cocksucking admins , eat my shit cunts ! ! ! ! ! ! ! fucking cocksucking admins , eat my shit cunts ! ! ! ! ! ! ! fucking cocksucking admins , eat my shit cunts ! ! ! ! ! ! ! fucking cocksucking admins , eat my shit cunts ! ! ! ! ! ! ! fucking cocksucking admins , eat my shit cunts ! ! ! ! ! ! ! fucking cocksucking admins , eat my shit cunts ! ! ! ! ! ! ! fucking cocksucking admins , eat my shit cunts ! ! ! ! ! ! ! fucking cocksucking admins , eat my shit cunts ! ! ! ! ! ! ! fucking cocksucking admins , eat my shit cunts ! ! ! ! ! ! ! fucking cocksucking admins , eat my shit cunts ! ! ! ! ! ! ! fucking cocksucking admins , eat my shit cunts ! ! ! ! ! ! ! fucking cocksucking admins , eat my shit cunts ! ! ! ! ! ! ! fucking cocksucking admins , eat my shit cunts ! ! ! ! ! ! ! fucking cocksucking admins , eat my shit cunts ! ! ! ! ! ! ! fucking cocksucking admins , eat my shit cunts ! ! ! ! ! ! ! fucking cocksucking admins , eat my shit cunts ! ! ! ! ! ! ! fucking cocksucking admins , eat my shit cunts ! ! ! ! ! ! ! fucking cocksucking admins , eat my shit cunts ! ! ! ! ! ! ! fucking cocksucking admins , eat my shit cunts ! ! ! ! ! ! ! fucking cocksucking admins , eat my shit cunts ! ! ! ! ! ! ! fucking cocksucking admins , eat my shit cunts ! ! ! ! ! ! ! fucking cocksucking admins , eat my shit cunts ! ! ! ! ! ! ! fucking cocksucking admins , eat my shit cunts ! ! ! ! ! ! ! fucking cocksucking admins , eat my shit cunts ! ! ! ! ! ! ! fucking cocksucking admins , eat my shit cunts ! ! ! ! ! ! ! fucking cocksucking admins , eat my shit cunts ! ! ! ! ! ! ! fucking coc\n",
            "1405 do go fuck off bastard do yyou have a life ? go fuck off bastard and yank your cock through your ass i hate you and hope you go away forever lame is you fuck your mom die die die and all that crap this is for mahy mahonerz ass i ass i ass i ass i ass i ass i ass i ass i ass i ass i ass i ass i ass i ass i ass i ass i ass i ass i ass i ass i ass i ass i ass i ass i ass i ass i ass i ass i ass i ass i ass i ass i ass i ass i ass i ass i ass i ass i ass i ass i ass i ass i ass i ass i ass i ass i ass i ass i ass i ass i ass i ass i ass i ass i ass i ass i ass i ass i ass i ass i ass i ass i ass i ass i ass i ass i ass i ass i ass i ass i ass i ass i ass i ass i ass i ass i ass i ass i ass i ass i ass i ass i ass i ass i ass i ass i ass i ass i ass i ass i ass i ass i ass i ass i ass i ass i ass i ass i ass i ass i ass i ass i ass i ass i ass i ass i ass i ass i ass i ass i ass i ass i ass i ass i ass i ass i ass i ass i ass i ass i ass i ass i ass i ass i ass i ass i ass i ass i ass i ass i ass i ass i ass i ass i ass i ass i ass i ass i ass i ass i ass i ass i ass i ass i ass i ass i ass i ass i ass i ass i ass i ass i ass i ass i ass i ass i ass i ass i ass i ass i ass i ass i ass i ass i ass i ass i ass i ass i ass i ass i ass i ass i ass i ass i ass i ass i ass i ass i ass i ass i ass i ass i ass i ass i ass i ass i ass i ass i ass i ass i ass i ass i ass i ass i ass i ass i ass i ass i ass i ass i ass i ass i ass i ass i ass i ass i ass i ass i ass i ass i ass i ass i ass i ass i ass i ass i ass i ass i ass i ass i ass i ass i ass i ass i ass i ass i ass i ass i ass i ass i ass i ass i ass i ass i ass i ass i ass i ass i ass i ass i ass i ass i ass i ass i ass i ass i ass i ass i ass i ass i ass i ass i ass i ass i ass i ass i ass i ass i ass i ass i ass i ass i ass i ass i ass i ass i ass i ass i ass i ass i ass i ass i ass i ass i ass i ass i ass i ass i ass i ass i ass i ass i ass i ass i ass i ass i ass i ass i ass i ass i ass i ass i ass i ass i ass i ass i ass i ass i ass i ass i ass i ass i ass i ass i ass i ass i ass i ass i ass i ass i ass i ass i ass i ass i ass i ass i ass i ass i ass i ass i ass i ass i ass i ass i ass i ass i ass i ass i ass i ass i ass i ass i ass i ass i ass i ass i ass i ass i ass i ass i ass i ass i ass i ass i ass i ass i ass i ass i ass i ass i ass i ass i ass i ass i ass i ass i ass i ass i ass i ass i ass i ass i ass i ass i ass i ass i ass i ass i ass i ass i ass i ass i ass i ass i ass i ass i ass i ass i ass i ass i ass i ass i ass i ass i ass i ass i ass i ass i ass i ass i ass i ass i ass i ass i ass i ass i ass i ass i ass i ass i ass i ass i ass i ass i ass i ass i ass i ass i ass i ass i ass i ass i ass i ass i ass i ass i ass i ass i ass i ass i ass i ass i ass i ass i ass i ass i ass i ass i ass i ass i ass i ass i ass i ass i ass i ass i ass i ass i ass i ass i ass i ass i ass i ass i ass i ass i ass i ass i ass i ass i ass i ass i ass i ass i ass i ass i ass i ass i ass i ass i ass i ass i ass i ass i ass i ass i ass i ass i ass i ass i ass i ass i ass i ass i ass i ass i ass i ass i ass i ass i ass i ass i ass i ass i ass i ass i ass i ass i ass i ass i ass i ass i ass i ass i ass i ass i ass i ass i ass i ass i ass i ass i ass i ass i ass i ass i ass i ass i ass i ass i ass i ass i ass i ass i ass i ass i ass i ass i ass i ass i ass i ass i ass i ass i ass i ass i ass i ass i ass i ass i ass i ass i ass i ass i ass i ass i ass i ass i ass i ass i ass i ass i ass i ass i ass i ass i ass i ass i ass i ass i ass i ass i ass i ass i ass i ass i ass i ass i ass i ass i ass i ass i ass i ass i ass i ass i ass i ass i ass i ass i ass i ass i ass i ass i ass i ass i ass i ass i ass i ass i ass i ass i ass i ass i ass i ass i ass i ass i ass i ass i ass i ass i ass i ass i ass i ass i ass i ass i ass i ass i ass i ass i ass i ass i ass i ass i ass i ass i ass i ass i ass i ass i ass i ass i ass i ass i ass i ass i ass i ass i ass i ass i ass i ass i ass i ass i ass i ass i ass i ass i ass i ass i ass i ass i ass i ass i ass i ass i ass i ass i ass i ass i ass i ass i ass i ass i ass i ass i ass i ass i ass i ass i ass i ass i ass i ass i ass i ass i ass i ass i ass i ass i ass i ass i ass i ass i ass i ass i ass i ass i ass i ass i ass i ass i ass i ass i ass i ass \n",
            "1391 fuck off you ass ! fuck off you ass ! fuck off you ass ! fuck off you ass ! fuck off you ass ! fuck off you ass ! fuck off you ass ! fuck off you ass ! fuck off you ass ! fuck off you ass ! fuck off you ass ! fuck off you ass ! fuck off you ass ! fuck off you ass ! fuck off you ass ! fuck off you ass ! fuck off you ass ! fuck off you ass ! fuck off you ass ! fuck off you ass ! fuck off you ass ! fuck off you ass ! fuck off you ass ! fuck off you ass ! fuck off you ass ! fuck off you ass ! fuck off you ass ! fuck off you ass ! fuck off you ass ! fuck off you ass ! fuck off you ass ! fuck off you ass ! fuck off you ass ! fuck off you ass ! fuck off you ass ! fuck off you ass ! fuck off you ass ! fuck off you ass ! fuck off you ass ! fuck off you ass ! fuck off you ass ! fuck off you ass ! fuck off you ass ! fuck off you ass ! fuck off you ass ! fuck off you ass ! fuck off you ass ! fuck off you ass ! fuck off you ass ! fuck off you ass ! fuck off you ass ! fuck off you ass ! fuck off you ass ! fuck off you ass ! fuck off you ass ! fuck off you ass ! fuck off you ass ! fuck off you ass ! fuck off you ass ! fuck off you ass ! fuck off you ass ! fuck off you ass ! fuck off you ass ! fuck off you ass ! fuck off you ass ! fuck off you ass ! fuck off you ass ! fuck off you ass ! fuck off you ass ! fuck off you ass ! fuck off you ass ! fuck off you ass ! fuck off you ass ! fuck off you ass ! fuck off you ass ! fuck off you ass ! fuck off you ass ! fuck off you ass ! fuck off you ass ! fuck off you ass ! fuck off you ass ! fuck off you ass ! fuck off you ass ! fuck off you ass ! fuck off you ass ! fuck off you ass ! fuck off you ass ! fuck off you ass ! fuck off you ass ! fuck off you ass ! fuck off you ass ! fuck off you ass ! fuck off you ass ! fuck off you ass ! fuck off you ass ! fuck off you ass ! fuck off you ass ! fuck off you ass ! fuck off you ass ! fuck off you ass ! fuck off you ass ! fuck off you ass ! fuck off you ass ! fuck off you ass ! fuck off you ass ! fuck off you ass ! fuck off you ass ! fuck off you ass ! fuck off you ass ! fuck off you ass ! fuck off you ass ! fuck off you ass ! fuck off you ass ! fuck off you ass ! fuck off you ass ! fuck off you ass ! fuck off you ass ! fuck off you ass ! fuck off you ass ! fuck off you ass ! fuck off you ass ! fuck off you ass ! fuck off you ass ! fuck off you ass ! fuck off you ass ! fuck off you ass ! fuck off you ass ! fuck off you ass ! fuck off you ass ! fuck off you ass ! fuck off you ass ! fuck off you ass ! fuck off you ass ! fuck off you ass ! fuck off you ass ! fuck off you ass ! fuck off you ass ! fuck off you ass ! fuck off you ass ! fuck off you ass ! fuck off you ass ! fuck off you ass ! fuck off you ass ! fuck off you ass ! fuck off you ass ! fuck off you ass ! fuck off you ass ! fuck off you ass ! fuck off you ass ! fuck off you ass ! fuck off you ass ! fuck off you ass ! fuck off you ass ! fuck off you ass ! fuck off you ass ! fuck off you ass ! fuck off you ass ! fuck off you ass ! fuck off you ass ! fuck off you ass ! fuck off you ass ! fuck off you ass ! fuck off you ass ! fuck off you ass ! fuck off you ass ! fuck off you ass ! fuck off you ass ! fuck off you ass ! fuck off you ass ! fuck off you ass ! fuck off you ass ! fuck off you ass ! fuck off you ass ! fuck off you ass ! fuck off you ass ! fuck off you ass ! fuck off you ass ! fuck off you ass ! fuck off you ass ! fuck off you ass ! fuck off you ass ! fuck off you ass ! fuck off you ass ! fuck off you ass ! fuck off you ass ! fuck off you ass ! fuck off you ass ! fuck off you ass ! fuck off you ass ! fuck off you ass ! fuck off you ass ! fuck off you ass ! fuck off you ass ! fuck off you ass ! fuck off you ass ! fuck off you ass ! fuck off you ass ! fuck off you ass ! fuck off you ass ! fuck off you ass ! fuck off you ass ! fuck off you ass ! fuck off you ass ! fuck off you ass ! fuck off you ass ! fuck off you ass ! fuck off you ass ! fuck off you ass ! fuck off you ass ! fuck off you ass ! fuck off you ass ! fuck off you ass ! fuck off you ass ! fuck off you ass ! fuck off you ass ! fuck off you ass ! fuck off you ass ! fuck off you ass ! fuck off you ass ! fuck off you ass ! fuck off you ass ! fuck off you ass ! fuck off you ass ! fuck off you ass ! fuck off you ass ! fuck off you ass ! fuck off you ass ! fuck off you ass ! fuck off you ass ! fuck off you ass ! fuck off you ass ! fuck off you ass ! fuck off you ass ! fuck off you ass ! fuck off you ass ! fuck off you ass ! fuck off you ass ! fuck off you ass ! fuck off you ass ! fuck off you ass ! fuck off you ass ! fuck off you ass ! fuck off you ass ! fuck off you ass ! fuck off you ass ! fuck off you ass ! fuck off you ass ! fuck off you ass ! fuck off you ass ! fuck off you ass ! fuck off you ass ! fuck off you ass ! fuck off you ass ! fuck off you ass ! fuck off you ass ! fuck off you ass ! fuck off you ass ! fuck off you ass ! fuck off you ass ! fuck off you ass ! fuck off you ass ! fuck off you ass ! fuck off you ass ! fuck off you ass ! fuck off you ass ! fuck off you ass ! fuck off you ass ! fuck off you ass ! fuck off you ass ! fuck off you ass ! fuck off you ass ! fuck off you ass ! fuck off you ass ! fuck off you ass ! fuck off you ass ! fuck off you ass ! fuck off you ass ! fuck off you ass ! \n",
            "1356 just to let you know you have no life i hate you i hate you i hate you i hate you i hate you i hate you i hate you i hate you i hate you i hate you i hate you i hate you i hate you i hate you i hate you i hate you i hate you i hate you i hate you i hate you i hate you i hate you i hate you i hate you i hate you i hate you i hate you i hate you i hate you i hate you i hate you i hate you i hate you i hate you i hate you i hate you i hate you i hate you i hate you i hate you i hate you i hate you i hate you i hate you i hate you i hate you i hate you i hate you i hate you i hate you i hate you i hate you i hate you i hate you i hate you i hate you i hate you i hate you i hate you i hate you i hate you i hate you i hate you i hate you i hate you i hate you i hate you i hate you i hate you i hate you i hate you i hate you i hate you i hate you i hate you i hate you i hate you i hate you i hate you i hate you i hate you i hate you i hate you i hate you i hate you i hate you i hate you i hate you i hate you i hate you i hate you i hate you i hate you i hate you i hate you i hate you i hate you i hate you i hate you i hate you i hate you i hate you i hate you i hate you i hate you i hate you i hate you i hate you i hate you i hate you i hate you i hate you i hate you i hate you i hate you i hate you i hate you i hate you i hate you i hate you i hate you i hate you i hate you i hate you i hate you i hate you i hate you i hate you i hate you i hate you i hate you i hate you i hate you i hate you i hate you i hate you i hate you i hate you i hate you i hate you i hate you i hate you i hate you i hate you i hate you i hate you i hate you i hate you i hate you i hate you i hate you i hate you i hate you i hate you i hate you i hate you i hate you i hate you i hate you i hate you i hate you i hate you i hate you i hate you i hate you i hate you i hate you i hate you i hate you i hate you i hate you i hate you i hate you i hate you i hate you i hate you i hate you i hate you i hate you i hate you i hate you i hate you i hate you i hate you i hate you i hate you i hate you i hate you i hate you i hate you i hate you i hate you i hate you i hate you i hate you i hate you i hate you i hate you i hate you i hate you i hate you i hate you i hate you i hate you i hate you i hate you i hate you i hate you i hate you i hate you i hate you i hate you i hate you i hate you i hate you i hate you i hate you i hate you i hate you i hate you i hate you i hate you i hate you i hate you i hate you i hate you i hate you i hate you i hate you i hate you i hate you i hate you i hate you i hate you i hate you i hate you i hate you i hate you i hate you i hate you i hate you i hate you i hate you i hate you i hate you i hate you i hate you i hate you i hate you i hate you i hate you i hate you i hate you i hate you i hate you i hate you i hate you i hate you i hate you i hate you i hate you i hate you i hate you i hate you i hate you i hate you i hate you i hate you i hate you i hate you i hate you i hate you i hate you i hate you i hate you i hate you i hate you i hate you i hate you i hate you i hate you i hate you i hate you i hate you i hate you i hate you i hate you i hate you i hate you i hate you i hate you i hate you i hate you i hate you i hate you i hate you i hate you i hate you i hate you i hate you i hate you i hate you i hate you i hate you i hate you i hate you i hate you i hate you i hate you i hate you i hate you i hate you i hate you i hate you i hate you i hate you i hate you i hate you i hate you i hate you i hate you i hate you i hate you i hate you i hate you i hate you i hate you i hate you i hate you i hate you i hate you i hate you i hate you i hate you i hate you i hate you i hate you i hate you i hate you i hate you i hate you i hate you i hate you i hate you i hate you i hate you i hate you i hate you i hate you i hate you i hate you i hate you i hate you i hate you i hate you i hate you i hate you i hate you i hate you i hate you i hate you i hate you i hate you i hate you i hate you i hate you i hate you i hate you i hate you i hate you i hate you i hate you i hate you i hate you i hate you i hate you i hate you i hate you i hate you i hate you i hate you i hate you i hate you i hate you i hate you i hate you i hate you i hate you i hate you i hate you i hate you i hate you i hate you i hate you i hate you i hate you i hate you i hate you i hate you i hate you i hate you i hate you i hate you i hate you i hate you i hate you i hate you i hate you i hate you i hate you i hate you i hate you i hate you i hate you i hate you i hate you i hate you i hate you i hate you i hate you i hate you i hate you i hate you i hate you i hate you i hate you i hate you i hate you i hate you i hate you i hate you i hate you hate you i hate you i hate you i hate you i hate you i hate you i hate you i hate you i hate you i hate you i hate you i hate you i hate you i hate you i hate you i hate you i hate you i\n",
            "1355 take that ! in the ass in the ass in the ass in the ass in the ass in the ass in the ass in the ass in the ass in the ass in the ass in the ass in the ass in the ass in the ass in the ass in the ass in the ass in the ass in the ass in the ass in the ass in the ass in the ass in the ass in the ass in the ass in the ass in the ass in the ass in the ass in the ass in the ass in the ass in the ass in the ass in the ass in the ass in the ass in the ass in the ass in the ass in the ass in the ass in the ass in the ass in the ass in the ass in the ass in the ass in the ass in the ass in the ass in the ass in the ass in the ass in the ass in the ass in the ass in the ass in the ass in the ass in the ass in the ass in the ass in the ass in the ass in the ass in the ass in the ass in the ass in the ass in the ass in the ass in the ass in the ass in the ass in the ass in the ass in the ass in the ass in the ass in the ass in the ass in the ass in the ass in the ass in the ass in the ass in the ass in the ass in the ass in the ass in the ass in the ass in the ass in the ass in the ass in the ass in the ass in the ass in the ass in the ass in the ass in the ass in the ass in the ass in the ass in the ass in the ass in the ass in the ass in the ass in the ass in the ass in the ass in the ass in the ass in the ass in the ass in the ass in the ass in the ass in the ass in the ass in the ass in the ass in the ass in the ass in the ass in the ass in the ass in the ass in the ass in the ass in the ass in the ass in the ass in the ass in the ass in the ass in the ass in the ass in the ass in the ass in the ass in the ass in the ass in the ass in the ass in the ass in the ass in the ass in the ass in the ass in the ass in the ass in the ass in the ass in the ass in the ass in the ass in the ass in the ass in the ass in the ass in the ass in the ass in the ass in the ass in the ass in the ass in the ass in the ass in the ass in the ass in the ass in the ass in the ass in the ass in the ass in the ass in the ass in the ass in the ass in the ass in the ass in the ass in the ass in the ass in the ass in the ass in the ass in the ass in the ass in the ass in the ass in the ass in the ass in the ass in the ass in the ass in the ass in the ass in the ass in the ass in the ass in the ass in the ass in the ass in the ass in the ass in the ass in the ass in the ass in the ass in the ass in the ass in the ass in the ass in the ass in the ass in the ass in the ass in the ass in the ass in the ass in the ass in the ass in the ass in the ass in the ass in the ass in the ass in the ass in the ass in the ass in the ass in the ass in the ass in the ass in the ass in the ass in the ass in the ass in the ass in the ass in the ass in the ass in the ass in the ass in the ass in the ass in the ass in the ass in the ass in the ass in the ass in the ass in the ass in the ass in the ass in the ass in the ass in the ass in the ass in the ass in the ass in the ass in the ass in the ass in the ass in the ass in the ass in the ass in the ass in the ass in the ass in the ass in the ass in the ass in the ass in the ass in the ass in the ass in the ass in the ass in the ass in the ass in the ass in the ass in the ass in the ass in the ass in the ass in the ass in the ass in the ass in the ass in the ass in the ass in the ass in the ass in the ass in the ass in the ass in the ass in the ass in the ass in the ass in the ass in the ass in the ass in the ass in the ass in the ass in the ass in the ass in the ass in the ass in the ass in the ass in the ass in the ass in the ass in the ass in the ass in the ass in the ass in the ass in the ass in the ass in the ass in the ass in the ass in the ass in the ass in the ass in the ass in the ass in the ass in the ass in the ass in the ass in the ass in the ass in the ass in the ass in the ass in the ass in the ass in the ass in the ass in the ass in the ass in the ass in the ass in the ass in the ass in the ass in the ass in the ass in the ass in the ass in the ass in the ass in the ass in the ass in the ass in the ass in the ass in the ass in the ass in the ass in the ass in the ass in the ass in the ass in the ass in the ass in the ass in the ass in the ass in the ass in the ass in the ass in the ass in the ass in the ass in the ass in the ass in the ass in the ass in the ass in the ass in the ass in the ass in the ass in the ass in the ass in the ass in the ass in the ass in the ass in the ass in the ass in the ass in the ass in the ass in the ass in the ass in the ass in the ass in the ass in the ass in the ass in the ass in the ass in the ass in the ass in the ass in the ass in the ass in the ass in the ass in the ass in the ass in the ass in the ass in the ass in the ass in the ass in the ass in the ass in the ass in the ass in the ass in the ass in the ass in the ass in the ass in the ass in the ass in the ass in the ass in the ass in the ass in the ass in the ass in the ass in the\n",
            "1344 what is rong with you u pervert i ahte u just leave me alone and for ur info i am 10 turning a 11 in one week on oct 5 so go away i hate you i hate you i hate you i hate you i hate you i hate you i hate you i hate you i hate you i hate you i hate you i hate you i hate you i hate you i hate you i hate you i hate you i hate you i hate you i hate you i hate you i hate you i hate you i hate you i hate you i hate you i hate you i hate you i hate you i hate you i hate you i hate you i hate you i hate you i hate you i hate you i hate you i hate you i hate you i hate you i hate you i hate you i hate you i hate you i hate you i hate you i hate you i hate you i hate you i hate you i hate you i hate you i hate you i hate you i hate you i hate you i hate you i hate you i hate you i hate you i hate you i hate you i hate you i hate you i hate you i hate you i hate you i hate you i hate you i hate you i hate you i hate you i hate you i hate you i hate you i hate you i hate you i hate you i hate you i hate you i hate you i hate you i hate you i hate you i hate you i hate you i hate you i hate you i hate you i hate you i hate you i hate you i hate you i hate you i hate you i hate you i hate you i hate you i hate you i hate you i hate you i hate you i hate you i hate you i hate you i hate you i hate you i hate you i hate you i hate you i hate you i hate you i hate you i hate you i hate you i hate you i hate you i hate you i hate you i hate you i hate you i hate you i hate you i hate you i hate you i hate you i hate you i hate you i hate you i hate you i hate you i hate you i hate you i hate you i hate you i hate you i hate you i hate you i hate you i hate you i hate you i hate you i hate you i hate you i hate you i hate you i hate you i hate you i hate you i hate you i hate you i hate you i hate you i hate you i hate you i hate you i hate you i hate you i hate you i hate you i hate you i hate you i hate you i hate you i hate you i hate you i hate you i hate you i hate you i hate you i hate you i hate you i hate you i hate you i hate you i hate you i hate you i hate you i hate you i hate you i hate you i hate you i hate you i hate you i hate you i hate you i hate you i hate you i hate you i hate you i hate you i hate you i hate you i hate you i hate you i hate you i hate you i hate you i hate you i hate you i hate you i hate you i hate you i hate you i hate you i hate you i hate you i hate you i hate you i hate you i hate you i hate you i hate you i hate you i hate you i hate you i hate you i hate you i hate you i hate you i hate you i hate you i hate you i hate you i hate you i hate you i hate you i hate you i hate you i hate you i hate you i hate you i hate you i hate you i hate you i hate you i hate you i hate you i hate you i hate you i hate you i hate you i hate you i hate you i hate you i hate you i hate you i hate you i hate you i hate you i hate you i hate you i hate you i hate you i hate you i hate you i hate you i hate you i hate you i hate you i hate you i hate you i hate you i hate you i hate you i hate you i hate you i hate you i hate you i hate you i hate you i hate you i hate you i hate you i hate you i hate you i hate you i hate you i hate you i hate you i hate you i hate you i hate you i hate you i hate you i hate you i hate you i hate you i hate you i hate you i hate you i hate you i hate you i hate you i hate you i hate you i hate you i hate you i hate you i hate you i hate you i hate you i hate you i hate you i hate you i hate you i hate you i hate you i hate you i hate you i hate you i hate you i hate you i hate you i hate you i hate you i hate you i hate you i hate you i hate you i hate you i hate you i hate you i hate you i hate you i hate you i hate you i hate you i hate you i hate you i hate you i hate you i hate you i hate you i hate you i hate you i hate you i hate you i hate you i hate you i hate you i hate you i hate you i hate you i hate you i hate you i hate you i hate you i hate you i hate you i hate you i hate you i hate you i hate you i hate you i hate you i hate you i hate you i hate you i hate you i hate you i hate you i hate you i hate you i hate you i hate you i hate you i hate you i hate you i hate you i hate you i hate you i hate you i hate you i hate you i hate you i hate you i hate you i hate you i hate you i hate you i hate you i hate you i hate you i hate you i hate you i hate you i hate you i hate you i hate you i hate you i hate you i hate you i hate you i hate you i hate you i hate you i hate you i hate you i hate you i hate you i hate you i hate you i hate you i hate you i hate you i hate you i hate you i hate you i hate you i hate you i hate you i hate you i hate you i hate you i hate you i hate you i hate you i hate you i hate you i hate you i hate you i hate you i hate you i hate you i hate you i hate you i hate you i hate you i hate you i hate you i hate you i hate you i hate you i hate you i hate you i hate yo\n",
            "1334 i fuck niggas ! i fuck niggas ! i fuck niggas ! i fuck niggas ! i fuck niggas ! i fuck niggas ! i fuck niggas ! i fuck niggas ! i fuck niggas ! i fuck niggas ! i fuck niggas ! i fuck niggas ! i fuck niggas ! i fuck niggas ! i fuck niggas ! i fuck niggas ! i fuck niggas ! i fuck niggas ! i fuck niggas ! i fuck niggas ! i fuck niggas ! i fuck niggas ! i fuck niggas ! i fuck niggas ! i fuck niggas ! i fuck niggas ! i fuck niggas ! i fuck niggas ! i fuck niggas ! i fuck niggas ! i fuck niggas ! i fuck niggas ! i fuck niggas ! i fuck niggas ! i fuck niggas ! i fuck niggas ! i fuck niggas ! i fuck niggas ! i fuck niggas ! i fuck niggas ! i fuck niggas ! i fuck niggas ! i fuck niggas ! i fuck niggas ! i fuck niggas ! i fuck niggas ! i fuck niggas ! i fuck niggas ! i fuck niggas ! i fuck niggas ! i fuck niggas ! i fuck niggas ! i fuck niggas ! i fuck niggas ! i fuck niggas ! i fuck niggas ! i fuck niggas ! i fuck niggas ! i fuck niggas ! i fuck niggas ! i fuck niggas ! i fuck niggas ! i fuck niggas ! i fuck niggas ! i fuck niggas ! i fuck niggas ! i fuck niggas ! i fuck niggas ! i fuck niggas ! i fuck niggas ! i fuck niggas ! i fuck niggas ! i fuck niggas ! i fuck niggas ! i fuck niggas ! i fuck niggas ! i fuck niggas ! i fuck niggas ! i fuck niggas ! i fuck niggas ! i fuck niggas ! i fuck niggas ! i fuck niggas ! i fuck niggas ! i fuck niggas ! i fuck niggas ! i fuck niggas ! i fuck niggas ! i fuck niggas ! i fuck niggas ! i fuck niggas ! i fuck niggas ! i fuck niggas ! i fuck niggas ! i fuck niggas ! i fuck niggas ! i fuck niggas ! i fuck niggas ! i fuck niggas ! i fuck niggas ! i fuck niggas ! i fuck niggas ! i fuck niggas ! i fuck niggas ! i fuck niggas ! i fuck niggas ! i fuck niggas ! i fuck niggas ! i fuck niggas ! i fuck niggas ! i fuck niggas ! i fuck niggas ! i fuck niggas ! i fuck niggas ! i fuck niggas ! i fuck niggas ! i fuck niggas ! i fuck niggas ! i fuck niggas ! i fuck niggas ! i fuck niggas ! i fuck niggas ! i fuck niggas ! i fuck niggas ! i fuck niggas ! i fuck niggas ! i fuck niggas ! i fuck niggas ! i fuck niggas ! i fuck niggas ! i fuck niggas ! i fuck niggas ! i fuck niggas ! i fuck niggas ! i fuck niggas ! i fuck niggas ! i fuck niggas ! i fuck niggas ! i fuck niggas ! i fuck niggas ! i fuck niggas ! i fuck niggas ! i fuck niggas ! i fuck niggas ! i fuck niggas ! i fuck niggas ! i fuck niggas ! i fuck niggas ! i fuck niggas ! i fuck niggas ! i fuck niggas ! i fuck niggas ! i fuck niggas ! i fuck niggas ! i fuck niggas ! i fuck niggas ! i fuck niggas ! i fuck niggas ! i fuck niggas ! i fuck niggas ! i fuck niggas ! i fuck niggas ! i fuck niggas ! i fuck niggas ! i fuck niggas ! i fuck niggas ! i fuck niggas ! i fuck niggas ! i fuck niggas ! i fuck niggas ! i fuck niggas ! i fuck niggas ! i fuck niggas ! i fuck niggas ! i fuck niggas ! i fuck niggas ! i fuck niggas ! i fuck niggas ! i fuck niggas ! i fuck niggas ! i fuck niggas ! i fuck niggas ! i fuck niggas ! i fuck niggas ! i fuck niggas ! i fuck niggas ! i fuck niggas ! i fuck niggas ! i fuck niggas ! i fuck niggas ! i fuck niggas ! i fuck niggas ! i fuck niggas ! i fuck niggas ! i fuck niggas ! i fuck niggas ! i fuck niggas ! i fuck niggas ! i fuck niggas ! i fuck niggas ! i fuck niggas ! i fuck niggas ! i fuck niggas ! i fuck niggas ! i fuck niggas ! i fuck niggas ! i fuck niggas ! i fuck niggas ! i fuck niggas ! i fuck niggas ! i fuck niggas ! i fuck niggas ! i fuck niggas ! i fuck niggas ! i fuck niggas ! i fuck niggas ! i fuck niggas ! i fuck niggas ! i fuck niggas ! i fuck niggas ! i fuck niggas ! i fuck niggas ! i fuck niggas ! i fuck niggas ! i fuck niggas ! i fuck niggas ! i fuck niggas ! i fuck niggas ! i fuck niggas ! i fuck niggas ! i fuck niggas ! i fuck niggas ! i fuck niggas ! i fuck niggas ! i fuck niggas ! i fuck niggas ! i fuck niggas ! i fuck niggas ! i fuck niggas ! i fuck niggas ! i fuck niggas ! i fuck niggas ! i fuck niggas ! i fuck niggas ! i fuck niggas ! i fuck niggas ! i fuck niggas ! i fuck niggas ! i fuck niggas ! i fuck niggas ! i fuck niggas ! i fuck niggas ! i fuck niggas ! i fuck niggas ! i fuck niggas ! i fuck niggas ! i fuck niggas ! i fuck niggas ! i fuck niggas ! i fuck niggas ! i fuck niggas ! i fuck niggas ! i fuck niggas ! i fuck niggas ! i fuck niggas ! i fuck niggas ! i fuck niggas ! i fuck niggas ! i fuck niggas ! i fuck niggas ! i fuck niggas ! i fuck niggas ! i fuck niggas ! i fuck niggas ! i fuck niggas ! i fuck niggas ! i fuck niggas ! i fuck niggas ! i fuck niggas ! i fuck niggas ! i fuck niggas ! i fuck niggas ! i fuck niggas ! i fuck niggas ! i fuck niggas ! i fuck niggas ! i fuck niggas ! i fuck niggas ! i fuck niggas ! i fuck niggas ! i fuck niggas ! i fuck niggas ! i fuck niggas ! i fuck niggas ! i fuck niggas ! i fuck niggas ! i fuck niggas ! i fuck niggas ! i fuck niggas ! i fuck niggas ! i fuck niggas ! i fuck niggas ! i fuck niggas ! i fuck niggas ! i fuck niggas ! i fuck niggas ! i fuck niggas ! i fuck niggas ! i fuck niggas ! i fuck niggas ! i fuck niggas ! i fuck niggas ! i fuck niggas ! i fuck niggas ! i fuck niggas ! i fuck niggas ! i fuck niggas ! i fuck niggas ! i fuck niggas ! i fuck niggas ! i fuck niggas ! i fuck niggas ! i fuck niggas ! i fuck niggas ! i fuck niggas ! i fuck niggas ! i fuck niggas ! i fuck niggas ! i fuck niggas ! i fuck niggas ! i fuck niggas ! i fuck niggas ! i fuck niggas ! i fuc\n",
            "1325 access deneid ! ! access deneid ! ! access deneid ! ! access deneid ! ! access deneid ! ! access deneid ! ! access deneid ! ! access deneid ! ! access deneid ! ! access deneid ! ! access deneid ! ! access deneid ! ! access deneid ! ! access deneid ! ! access deneid ! ! access deneid ! ! access deneid ! ! access deneid ! ! access deneid ! ! access deneid ! ! access deneid ! ! access deneid ! ! access deneid ! ! access deneid ! ! access deneid ! ! access deneid ! ! access deneid ! ! access deneid ! ! access deneid ! ! access deneid ! ! access deneid ! ! access deneid ! ! access deneid ! ! access deneid ! ! access deneid ! ! access deneid ! ! access deneid ! ! access deneid ! ! access deneid ! ! access deneid ! ! access deneid ! ! access deneid ! ! access deneid ! ! access deneid ! ! access deneid ! ! access deneid ! ! access deneid ! ! access deneid ! ! access deneid ! ! access deneid ! ! access deneid ! ! access deneid ! ! access deneid ! ! access deneid ! ! access deneid ! ! access deneid ! ! access deneid ! ! access deneid ! ! access deneid ! ! access deneid ! ! access deneid ! ! access deneid ! ! access deneid ! ! access deneid ! ! access deneid ! ! access deneid ! ! access deneid ! ! access deneid ! ! access deneid ! ! access deneid ! ! access deneid ! ! access deneid ! ! access deneid ! ! access deneid ! ! access deneid ! ! access deneid ! ! access deneid ! ! access deneid ! ! access deneid ! ! access deneid ! ! access deneid ! ! access deneid ! ! access deneid ! ! access deneid ! ! access deneid ! ! access deneid ! ! access deneid ! ! access deneid ! ! access deneid ! ! access deneid ! ! access deneid ! ! access deneid ! ! access deneid ! ! access deneid ! ! access deneid ! ! access deneid ! ! access deneid ! ! access deneid ! ! access deneid ! ! access deneid ! ! access deneid ! ! access deneid ! ! access deneid ! ! access deneid ! ! access deneid ! ! access deneid ! ! access deneid ! ! access deneid ! ! access deneid ! ! access deneid ! ! access deneid ! ! access deneid ! ! access deneid ! ! access deneid ! ! access deneid ! ! access deneid ! ! access deneid ! ! access deneid ! ! access deneid ! ! access deneid ! ! access deneid ! ! access deneid ! ! access deneid ! ! access deneid ! ! access deneid ! ! access deneid ! ! access deneid ! ! access deneid ! ! access deneid ! ! access deneid ! ! access deneid ! ! access deneid ! ! access deneid ! ! access deneid ! ! access deneid ! ! access deneid ! ! access deneid ! ! access deneid ! ! access deneid ! ! access deneid ! ! access deneid ! ! access deneid ! ! access deneid ! ! access deneid ! ! access deneid ! ! access deneid ! ! access deneid ! ! access deneid ! ! access deneid ! ! access deneid ! ! access deneid ! ! access deneid ! ! access deneid ! ! access deneid ! ! access deneid ! ! access deneid ! ! access deneid ! ! access deneid ! ! access deneid ! ! access deneid ! ! access deneid ! ! access deneid ! ! access deneid ! ! access deneid ! ! access deneid ! ! access deneid ! ! access deneid ! ! access deneid ! ! access deneid ! ! access deneid ! ! access deneid ! ! access deneid ! ! access deneid ! ! access deneid ! ! access deneid ! ! access deneid ! ! access deneid ! ! access deneid ! ! access deneid ! ! access deneid ! ! access deneid ! ! access deneid ! ! access deneid ! ! access deneid ! ! access deneid ! ! access deneid ! ! access deneid ! ! access deneid ! ! access deneid ! ! access deneid ! ! access deneid ! ! access deneid ! ! access deneid ! ! access deneid ! ! access deneid ! ! access deneid ! ! access deneid ! ! access deneid ! ! access deneid ! ! access deneid ! ! access deneid ! ! access deneid ! ! access deneid ! ! access deneid ! ! access deneid ! ! access deneid ! ! access deneid ! ! access deneid ! ! access deneid ! ! access deneid ! ! access deneid ! ! access deneid ! ! access deneid ! ! access deneid ! ! access deneid ! ! access deneid ! ! access deneid ! ! access deneid ! ! access deneid ! ! access deneid ! ! access deneid ! ! access deneid ! ! access deneid ! ! access deneid ! ! access deneid ! ! access deneid ! ! access deneid ! ! access deneid ! ! access deneid ! ! access deneid ! ! access deneid ! ! access deneid ! ! access deneid ! ! access deneid ! ! access deneid ! ! access deneid ! ! access deneid ! ! access deneid ! ! access deneid ! ! access deneid ! ! access deneid ! ! access deneid ! ! access deneid ! ! access deneid ! ! access deneid ! ! access deneid ! ! access deneid ! ! access deneid ! ! access deneid ! ! access deneid ! ! access deneid ! ! access deneid ! ! access deneid ! ! access deneid ! ! access deneid ! ! access deneid ! ! access deneid ! ! access deneid ! ! access deneid ! ! access deneid ! ! access deneid ! ! access deneid ! ! access deneid ! ! access deneid ! ! access deneid ! ! access deneid ! ! access deneid ! ! access deneid ! ! access deneid ! ! access deneid ! ! access deneid ! ! access deneid ! ! access deneid ! ! access deneid ! ! access deneid ! ! access deneid ! ! access deneid ! ! access deneid ! ! access deneid ! ! access deneid ! ! access deneid ! ! access deneid ! ! access deneid ! ! access deneid ! ! access deneid ! ! access deneid ! ! access deneid ! ! access deneid ! ! access deneid ! ! access deneid ! ! access deneid ! ! access deneid ! ! access deneid ! ! access deneid ! ! access deneid ! ! access deneid ! ! access deneid ! ! access deneid ! ! access deneid ! ! access deneid ! ! access deneid ! ! access deneid ! ! access deneid ! ! access deneid ! ! access deneid ! ! access deneid ! ! access deneid ! ! access deneid ! ! access deneid ! ! access deneid ! ! access deneid ! ! access deneid ! ! access deneid ! ! access deneid ! ! access deneid ! ! access deneid ! ! access deneid ! ! access deneid ! ! access deneid ! ! access deneid ! ! access deneid ! ! access deneid ! ! access deneid ! ! access deneid ! ! access deneid ! ! access deneid ! ! access deneid ! ! access deneid ! ! access deneid ! ! access deneid ! ! access deneid ! ! a\n",
            "1277 wikipedia , i have one itty bitty question leave my edits alone ! ! ! ! ! ! ! ! ! ! ! ! ! ! ! ! ! ! ! ! ! ! ! ! ! ! ! ! ! ! ! ! ! ! ! ! ! ! ! ! ! ! ! ! ! ! ! ! ! ! ! ! ! ! ! ! ! ! ! ! ! ! ! ! ! ! ! ! ! ! ! ! ! ! ! ! leave them alone ! ! ! ! ! ! ! ! ! ! ! ! ! ! ! ! ! ! ! ! ! ! ! ! ! ! ! ! ! ! ! ! ! ! ! ! ! ! ! ! ! ! ! ! ! ! ! ! ! ! ! ! ! ! ! ! ! ! ! ! ! ! ! ! ! ! ! ! ! ! ! ! ! ! ! ! ! ! ! ! ! ! ! ! ! ! ! ! ! ! ! ! ! ! ! ! ! ! ! ! ! ! ! ! ! ! ! ! ! ! ! ! ! ! ! ! ! ! ! ! ! ! ! ! ! ! ! ! ! ! ! ! ! ! ! ! ! ! ! ! ! ! ! ! ! ! ! ! ! ! ! ! ! ! ! ! ! ! ! ! ! ! ! ! ! ! ! ! ! ! ! ! ! ! ! ! ! ! ! ! ! ! ! ! ! ! ! ! ! ! ! ! ! ! ! ! ! ! ! ! ! ! ! ! ! ! ! ! ! ! ! ! ! ! ! ! ! ! ! ! ! ! ! ! ! ! ! ! ! ! ! ! ! ! ! ! ! ! ! ! ! ! ! ! ! ! ! ! ! ! ! ! ! ! ! ! ! ! ! ! ! ! ! ! ! ! ! ! ! ! ! ! ! ! ! ! ! ! ! ! ! ! ! ! ! ! ! ! ! ! ! ! leave them alone nnnnnnnnnnnnooooooooooooooooowwwwwwwwwwwwwwwwww ! ! ! ! ! ! ! ! ! ! ! ! ! ! ! ! ! ! ! ! ! ! ! ! ! ! ! ! ! ! ! ! ! ! ! ! ! ! ! ! ! ! ! ! ! ! ! ! ! ! ! ! ! ! ! ! ! ! ! ! ! ! ! ! ! ! ! ! ! ! ! ! ! ! ! ! ! ! ! ! ! ! ! ! ! ! ! ! ! ! ! ! ! ! ! ! ! ! ! ! ! ! ! ! ! ! ! ! ! ! ! ! ! ! ! ! ! ! ! ! ! ! ! ! ! ! ! ! ! ! ! ! ! ! ! ! ! ! ! ! ! ! ! ! ! ! ! ! ! ! ! ! ! ! ! ! ! ! ! ! ! ! ! ! ! ! ! ! ! ! ! ! ! ! ! ! ! ! ! ! ! ! ! ! ! ! ! ! ! ! ! ! ! ! ! ! ! ! ! ! ! ! ! ! ! ! ! ! ! ! ! ! ! ! ! ! ! ! ! ! ! ! ! ! ! ! ! ! ! ! ! ! ! ! ! ! ! ! ! ! ! ! ! ! ! ! ! ! ! ! ! ! ! ! ! ! ! ! ! ! ! ! ! ! ! ! ! ! ! ! ! ! ! ! ! ! ! ! ! ! ! ! ! ! ! ! ! ! ! ! ! ! ! ! ! ! ! ! ! ! ! ! ! ! ! ! ! ! ! ! ! ! ! ! ! ! ! ! ! ! ! ! ! ! ! ! ! ! ! ! ! ! ! ! ! ! ! ! ! ! ! ! ! ! ! ! ! ! ! ! ! ! ! ! ! ! ! ! ! ! ! ! ! ! ! ! ! ! ! ! ! ! ! ! ! ! ! ! ! ! ! ! ! ! ! ! ! ! ! ! ! ! ! ! ! ! ! ! ! ! ! ! ! ! ! ! ! ! ! ! ! ! ! ! ! ! ! ! ! ! ! ! ! ! ! ! ! ! ! ! ! ! ! ! ! ! ! ! ! ! ! ! ! ! ! ! ! ! ! ! ! ! ! ! ! ! ! ! ! ! ! ! ! ! ! ! ! ! ! ! ! ! ! ! ! ! ! ! ! ! ! ! ! ! ! ! ! ! ! ! ! ! ! ! ! ! ! ! ! ! ! ! ! ! ! ! ! ! ! ! ! ! ! ! ! ! ! ! ! ! ! ! ! ! ! ! ! ! ! ! ! ! ! ! ! ! ! ! ! ! ! ! ! ! ! ! ! ! ! ! ! ! ! ! ! ! ! ! ! ! ! ! ! ! ! ! ! ! ! ! ! ! ! ! ! ! ! ! ! ! ! ! ! ! ! ! ! ! ! ! ! ! ! ! ! ! ! ! ! ! ! ! ! ! ! ! ! ! ! ! ! ! ! ! ! ! ! ! ! ! ! ! ! ! ! ! ! ! ! ! ! ! ! ! ! ! ! ! ! ! ! ! ! ! ! ! ! ! ! ! ! ! ! ! ! ! ! ! ! ! ! ! ! ! ! ! ! ! ! ! ! ! ! ! ! ! ! ! ! ! ! ! ! ! ! ! ! ! ! ! ! ! ! ! ! ! ! ! ! ! ! ! ! ! ! ! ! ! ! ! ! ! ! ! ! ! ! ! ! ! ! ! ! ! ! ! ! ! ! ! ! ! ! ! ! ! ! ! ! ! ! ! ! ! ! ! ! ! ! ! ! ! ! ! ! ! ! ! ! ! ! ! ! ! ! ! ! ! ! ! ! ! ! ! ! ! ! ! ! ! ! ! ! ! ! ! ! ! ! ! ! ! ! ! ! ! ! ! ! ! ! ! ! ! ! ! ! ! ! ! ! ! ! ! ! ! ! ! ! ! ! ! ! ! ! ! ! ! ! ! ! ! ! ! ! ! ! ! ! ! ! ! ! ! ! ! ! ! ! ! ! ! ! ! ! ! ! ! ! ! ! ! ! ! ! ! ! ! ! ! ! ! ! ! ! ! ! ! ! ! ! ! ! ! ! claymort , 7 6 7\n",
            "1254 ''' this site is stupid do n't trust it ! ! ! ! ! ! ! ! ! ! ! ! ! ! ! ! ! ! ! ! ! ! ! ! ! ! ! ! ! ! ! ! ! ! ! ! ! ! ! ! ! ! ! ! ! ! ! ! ! ! ! ! ! ! ! ! ! ! ! ! ! ! ! ! ! ! ! ! ! ! ! ! ! ! ! ! ! ! ! ! ! ! ! ! ! ! ! ! ! ! ! ! ! ! ! ! ! ! ! ! ! ! ! ! ! ! ! ! ! ! ! ! ! ! ! ! ! ! ! ! ! ! ! ! ! ! ! ! ! ! ! ! ! ! ! ! ! ! ! ! ! ! ! ! ! ! ! ! ! ! ! ! ! ! ! ! ! ! ! ! ! ! ! ! ! ! ! ! ! ! ! ! ! ! ! ! ! ! ! ! ! ! ! ! ! ! ! ! ! ! ! ! ! ! ! ! ! ! ! ! ! ! ! ! ! ! ! ! ! ! ! ! ! ! ! ! ! ! ! ! ! ! ! ! ! ! ! ! ! ! ! ! ! ! ! ! ! ! ! ! ! ! ! ! ! ! ! ! ! ! ! ! ! ! ! ! ! ! ! ! ! ! ! ! ! ! ! ! ! ! ! ! ! ! ! ! ! ! ! ! ! ! ! ! ! ! ! ! ! ! ! ! ! ! ! ! ! ! ! ! ! ! ! ! ! ! ! ! ! ! ! ! ! ! ! ! ! ! ! ! ! ! ! ! ! ! ! ! ! ! ! ! ! ! ! ! ! ! ! ! ! ! ! ! ! ! ! ! ! ! ! ! ! ! ! ! ! ! ! ! ! ! ! ! ! ! ! ! ! ! ! ! ! ! ! ! ! ! ! ! ! ! ! ! ! ! ! ! ! ! ! ! ! ! ! ! ! ! ! ! ! ! ! ! ! ! ! ! ! ! ! ! ! ! ! ! ! ! ! ! ! ! ! ! ! ! ! ! ! ! ! ! ! ! ! ! ! ! ! ! ! ! ! ! ! ! ! ! ! ! ! ! ! ! ! ! ! ! ! ! ! ! ! ! ! ! ! ! ! ! ! ! ! ! ! ! ! ! ! ! ! ! ! ! ! ! ! ! ! ! ! ! ! ! ! ! ! ! ! ! ! ! ! ! ! ! ! ! ! ! ! ! ! ! ! ! ! ! ! ! ! ! ! ! ! ! ! ! ! ! ! ! ! ! ! ! ! ! ! ! ! ! ! ! ! ! ! ! ! ! ! ! ! ! ! ! ! ! ! ! ! ! ! ! ! ! ! ! ! ! ! ! ! ! ! ! ! ! ! ! ! ! ! ! ! ! ! ! ! ! ! ! ! ! ! ! ! ! ! ! ! ! ! ! ! ! ! ! ! ! ! ! ! ! ! ! ! ! ! ! ! ! ! ! ! ! ! ! ! ! ! ! ! ! ! ! ! ! ! ! ! ! ! ! ! ! ! ! ! ! ! ! ! ! ! ! ! ! ! ! ! ! ! ! ! ! ! ! ! ! ! ! ! ! ! ! ! ! ! ! ! ! ! ! ! ! ! ! ! ! ! ! ! ! ! ! ! ! ! ! ! ! ! ! ! ! ! ! ! ! ! ! ! ! ! ! ! ! ! ! ! ! ! ! ! ! ! ! ! ! ! ! ! ! ! ! ! ! ! ! ! ! ! ! ! ! ! ! ! ! ! ! ! ! ! ! ! ! ! ! ! ! ! ! ! ! ! ! ! ! ! ! ! ! ! ! ! ! ! ! ! ! ! ! ! ! ! ! ! ! ! ! ! ! ! ! ! ! ! ! ! ! ! ! ! ! ! ! ! ! ! ! ! ! ! ! ! ! ! ! ! ! ! ! ! ! ! ! ! ! ! ! ! ! ! ! ! ! ! ! ! ! ! ! ! ! ! ! ! ! ! ! ! ! ! ! ! ! ! ! ! ! ! ! ! ! ! ! ! ! ! ! ! ! ! ! ! ! ! ! ! ! ! ! ! ! ! ! ! ! ! ! ! ! ! ! ! ! ! ! ! ! ! ! ! ! ! ! ! ! ! ! ! ! ! ! ! ! ! ! ! ! ! ! ! ! ! ! ! ! ! ! ! ! ! ! ! ! ! ! ! ! ! ! ! ! ! ! ! ! ! ! ! ! ! ! ! ! ! ! ! ! ! ! ! ! ! ! ! ! ! ! ! ! ! ! ! ! ! ! ! ! ! ! ! ! ! ! ! ! ! ! ! ! ! ! ! ! ! ! ! ! ! ! ! ! ! ! ! ! ! ! ! ! ! ! ! ! ! ! ! ! ! ! ! ! ! ! ! ! ! ! ! ! ! ! ! ! ! ! ! ! ! ! ! ! ! ! ! ! ! ! ! ! ! ! ! ! ! ! ! ! ! ! ! ! ! ! ! ! ! ! ! ! ! ! ! ! ! ! ! ! ! ! ! ! ! ! ! ! ! ! ! ! ! ! ! ! ! ! ! ! ! ! ! ! ! ! ! ! ! ! ! ! ! ! ! ! ! ! ! ! ! ! ! ! ! ! ! ! ! ! ! ! ! ! ! ! ! ! ! ! ! ! ! ! ! ! ! ! ! ! ! ! ! ! ! ! ! ! ! ! ! ! ! ! ! ! ! ! ! ! ! ! ! ! ! ! ! ! ! ! ! ! ! ! ! ! ! ! ! ! ! ! ! ! ! ! ! ! ! ! ! ! ! ! ! ! ! ! ! ! ! ! ! ! ! ! ! ! ! ! ! ! ! ! ! ! ! ! ! ! ! ! ! ! ! ! ! ! ! ! ! ' '\n",
            "1251 fuck you , you atheist cunt ! fuck you , you atheist cunt ! fuck you , you atheist cunt ! fuck you , you atheist cunt ! fuck you , you atheist cunt ! fuck you , you atheist cunt ! fuck you , you atheist cunt ! fuck you , you atheist cunt ! fuck you , you atheist cunt ! fuck you , you atheist cunt ! fuck you , you atheist cunt ! fuck you , you atheist cunt ! fuck you , you atheist cunt ! fuck you , you atheist cunt ! fuck you , you atheist cunt ! fuck you , you atheist cunt ! fuck you , you atheist cunt ! fuck you , you atheist cunt ! fuck you , you atheist cunt ! fuck you , you atheist cunt ! fuck you , you atheist cunt ! fuck you , you atheist cunt ! fuck you , you atheist cunt ! fuck you , you atheist cunt ! fuck you , you atheist cunt ! fuck you , you atheist cunt ! fuck you , you atheist cunt ! fuck you , you atheist cunt ! fuck you , you atheist cunt ! fuck you , you atheist cunt ! fuck you , you atheist cunt ! fuck you , you atheist cunt ! fuck you , you atheist cunt ! fuck you , you atheist cunt ! fuck you , you atheist cunt ! fuck you , you atheist cunt ! fuck you , you atheist cunt ! fuck you , you atheist cunt ! fuck you , you atheist cunt ! fuck you , you atheist cunt ! fuck you , you atheist cunt ! fuck you , you atheist cunt ! fuck you , you atheist cunt ! fuck you , you atheist cunt ! fuck you , you atheist cunt ! fuck you , you atheist cunt ! fuck you , you atheist cunt ! fuck you , you atheist cunt ! fuck you , you atheist cunt ! fuck you , you atheist cunt ! fuck you , you atheist cunt ! fuck you , you atheist cunt ! fuck you , you atheist cunt ! fuck you , you atheist cunt ! fuck you , you atheist cunt ! fuck you , you atheist cunt ! fuck you , you atheist cunt ! fuck you , you atheist cunt ! fuck you , you atheist cunt ! fuck you , you atheist cunt ! fuck you , you atheist cunt ! fuck you , you atheist cunt ! fuck you , you atheist cunt ! fuck you , you atheist cunt ! fuck you , you atheist cunt ! fuck you , you atheist cunt ! fuck you , you atheist cunt ! fuck you , you atheist cunt ! fuck you , you atheist cunt ! fuck you , you atheist cunt ! fuck you , you atheist cunt ! fuck you , you atheist cunt ! fuck you , you atheist cunt ! fuck you , you atheist cunt ! fuck you , you atheist cunt ! fuck you , you atheist cunt ! fuck you , you atheist cunt ! fuck you , you atheist cunt ! fuck you , you atheist cunt ! fuck you , you atheist cunt ! fuck you , you atheist cunt ! fuck you , you atheist cunt ! fuck you , you atheist cunt ! fuck you , you atheist cunt ! fuck you , you atheist cunt ! fuck you , you atheist cunt ! fuck you , you atheist cunt ! fuck you , you atheist cunt ! fuck you , you atheist cunt ! fuck you , you atheist cunt ! fuck you , you atheist cunt ! fuck you , you atheist cunt ! fuck you , you atheist cunt ! fuck you , you atheist cunt ! fuck you , you atheist cunt ! fuck you , you atheist cunt ! fuck you , you atheist cunt ! fuck you , you atheist cunt ! fuck you , you atheist cunt ! fuck you , you atheist cunt ! fuck you , you atheist cunt ! fuck you , you atheist cunt ! fuck you , you atheist cunt ! fuck you , you atheist cunt ! fuck you , you atheist cunt ! fuck you , you atheist cunt ! fuck you , you atheist cunt ! fuck you , you atheist cunt ! fuck you , you atheist cunt ! fuck you , you atheist cunt ! fuck you , you atheist cunt ! fuck you , you atheist cunt ! fuck you , you atheist cunt ! fuck you , you atheist cunt ! fuck you , you atheist cunt ! fuck you , you atheist cunt ! fuck you , you atheist cunt ! fuck you , you atheist cunt ! fuck you , you atheist cunt ! fuck you , you atheist cunt ! fuck you , you atheist cunt ! fuck you , you atheist cunt ! fuck you , you atheist cunt ! fuck you , you atheist cunt ! fuck you , you atheist cunt ! fuck you , you atheist cunt ! fuck you , you atheist cunt ! fuck you , you atheist cunt ! fuck you , you atheist cunt ! fuck you , you atheist cunt ! fuck you , you atheist cunt ! fuck you , you atheist cunt ! fuck you , you atheist cunt ! fuck you , you atheist cunt ! fuck you , you atheist cunt ! fuck you , you atheist cunt ! fuck you , you atheist cunt ! fuck you , you atheist cunt ! fuck you , you atheist cunt ! fuck you , you atheist cunt ! fuck you , you atheist cunt ! fuck you , you atheist cunt ! fuck you , you atheist cunt ! fuck you , you atheist cunt ! fuck you , you atheist cunt ! fuck you , you atheist cunt ! fuck you , you atheist cunt ! fuck you , you atheist cunt ! fuck you , you atheist cunt ! fuck you , you atheist cunt ! fuck you , you atheist cunt ! fuck you , you atheist cunt ! fuck you , you atheist cunt ! fuck you , you atheist cunt ! fuck you , you atheist cunt ! fuck you , you atheist cunt ! fuck you , you atheist cunt ! fuck you , you atheist cunt ! fuck you , you atheist cunt ! fuck you , you atheist cunt ! fuck you , you atheist cunt ! fuck you , you atheist cunt ! fuck you , you atheist cunt ! fuck you , you atheist cunt ! fuck you , you atheist cunt ! fuck you , you atheist cunt ! fuck you , you atheist cunt ! fuck you , you atheist cunt ! fuck you , you atheist cunt ! fuck you , you atheist cunt ! fuck you , you atheist cunt ! fuck you , you atheist cunt ! fuck you , you atheist cunt ! fuck you , you atheist cunt ! fuck you , you atheist cunt ! fuck you , you atheist cunt ! fuck you , you atheist cunt ! fuck you , you atheist cunt ! fuck you , you at\n",
            "1250 suck my cock d suck my cock d suck my cock d suck my cock d suck my cock d suck my cock d suck my cock d suck my cock d suck my cock d suck my cock d suck my cock d suck my cock d suck my cock d suck my cock d suck my cock d suck my cock d suck my cock d suck my cock d suck my cock d suck my cock d suck my cock d suck my cock d suck my cock d suck my cock d suck my cock d suck my cock d suck my cock d suck my cock d suck my cock d suck my cock d suck my cock d suck my cock d suck my cock d suck my cock d suck my cock d suck my cock d suck my cock d suck my cock d suck my cock d suck my cock d suck my cock d suck my cock d suck my cock d suck my cock d suck my cock d suck my cock d suck my cock d suck my cock d suck my cock d suck my cock d suck my cock d suck my cock d suck my cock d suck my cock d suck my cock d suck my cock d suck my cock d suck my cock d suck my cock d suck my cock d suck my cock d suck my cock d suck my cock d suck my cock d suck my cock d suck my cock d suck my cock d suck my cock d suck my cock d suck my cock d suck my cock d suck my cock d suck my cock d suck my cock d suck my cock d suck my cock d suck my cock d suck my cock d suck my cock d suck my cock d suck my cock d suck my cock d suck my cock d suck my cock d suck my cock d suck my cock d suck my cock d suck my cock d suck my cock d suck my cock d suck my cock d suck my cock d suck my cock d suck my cock d suck my cock d suck my cock d suck my cock d suck my cock d suck my cock d suck my cock d suck my cock d suck my cock d suck my cock d suck my cock d suck my cock d suck my cock d suck my cock d suck my cock d suck my cock d suck my cock d suck my cock d suck my cock d suck my cock d suck my cock d suck my cock d suck my cock d suck my cock d suck my cock d suck my cock d suck my cock d suck my cock d suck my cock d suck my cock d suck my cock d suck my cock d suck my cock d suck my cock d suck my cock d suck my cock d suck my cock d suck my cock d suck my cock d suck my cock d suck my cock d suck my cock d suck my cock d suck my cock d suck my cock d suck my cock d suck my cock d suck my cock d suck my cock d suck my cock d suck my cock d suck my cock d suck my cock d suck my cock d suck my cock d suck my cock d suck my cock d suck my cock d suck my cock d suck my cock d suck my cock d suck my cock d suck my cock d suck my cock d suck my cock d suck my cock d suck my cock d suck my cock d suck my cock d suck my cock d suck my cock d suck my cock d suck my cock d suck my cock d suck my cock d suck my cock d suck my cock d suck my cock d suck my cock d suck my cock d suck my cock d suck my cock d suck my cock d suck my cock d suck my cock d suck my cock d suck my cock d suck my cock d suck my cock d suck my cock d suck my cock d suck my cock d suck my cock d suck my cock d suck my cock d suck my cock d suck my cock d suck my cock d suck my cock d suck my cock d suck my cock d suck my cock d suck my cock d suck my cock d suck my cock d suck my cock d suck my cock d suck my cock d suck my cock d suck my cock d suck my cock d suck my cock d suck my cock d suck my cock d suck my cock d suck my cock d suck my cock d suck my cock d suck my cock d suck my cock d suck my cock d suck my cock d suck my cock d suck my cock d suck my cock d suck my cock d suck my cock d suck my cock d suck my cock d suck my cock d suck my cock d suck my cock d suck my cock d suck my cock d suck my cock d suck my cock d suck my cock d suck my cock d suck my cock d suck my cock d suck my cock d suck my cock d suck my cock d suck my cock d suck my cock d suck my cock d suck my cock d suck my cock d suck my cock d suck my cock d suck my cock d suck my cock d suck my cock d suck my cock d suck my cock d suck my cock d suck my cock d suck my cock d suck my cock d suck my cock d suck my cock d suck my cock d suck my cock d suck my cock d suck my cock d suck my cock d suck my cock d suck my cock d suck my cock d suck my cock d suck my cock d suck my cock d suck my cock d suck my cock d suck my cock d suck my cock d suck my cock d suck my cock d suck my cock d suck my cock d suck my cock d suck my cock d suck my cock d suck my cock d suck my cock d suck my cock d suck my cock d suck my cock d suck my cock d suck my cock d suck my cock d suck my cock d suck my cock d suck my cock d suck my cock d suck my cock d suck my cock d suck my cock d suck my cock d suck my cock d suck my cock d suck my cock d suck my cock d suck my cock d suck my cock d suck my cock d suck my cock d suck my cock d suck my cock d suck my cock d suck my cock d suck my cock d suck my cock d suck my cock d suck my cock d suck my cock d suck my cock d suck my cock d suck my cock d suck my\n",
            "1250 pig pig pig pig pig pig pig pig pig pig pig pig pig pig pig pig pig pig pig pig pig pig pig pig pig pig pig pig pig pig pig pig pig pig pig pig pig pig pig pig pig pig pig pig pig pig pig pig pig pig pig pig pig pig pig pig pig pig pig pig pig pig pig pig pig pig pig pig pig pig pig pig pig pig pig pig pig pig pig pig pig pig pig pig pig pig pig pig pig pig pig pig pig pig pig pig pig pig pig pig pig pig pig pig pig pig pig pig pig pig pig pig pig pig pig pig pig pig pig pig pig pig pig pig pig pig pig pig pig pig pig pig pig pig pig pig pig pig pig pig pig pig pig pig pig pig pig pig pig pig pig pig pig pig pig pig pig pig pig pig pig pig pig pig pig pig pig pig pig pig pig pig pig pig pig pig pig pig pig pig pig pig pig pig pig pig pig pig pig pig pig pig pig pig pig pig pig pig pig pig pig pig pig pig pig pig pig pig pig pig pig pig pig pig pig pig pig pig pig pig pig pig pig pig pig pig pig pig pig pig pig pig pig pig pig pig pig pig pig pig pig pig pig pig pig pig pig pig pig pig pig pig pig pig pig pig pig pig pig pig pig pig pig pig pig pig pig pig pig pig pig pig pig pig pig pig pig pig pig pig pig pig pig pig pig pig pig pig pig pig pig pig pig pig pig pig pig pig pig pig pig pig pig pig pig pig pig pig pig pig pig pig pig pig pig pig pig pig pig pig pig pig pig pig pig pig pig pig pig pig pig pig pig pig pig pig pig pig pig pig pig pig pig pig pig pig pig pig pig pig pig pig pig pig pig pig pig pig pig pig pig pig pig pig pig pig pig pig pig pig pig pig pig pig pig pig pig pig pig pig pig pig pig pig pig pig pig pig pig pig pig pig pig pig pig pig pig pig pig pig pig pig pig pig pig pig pig pig pig pig pig pig pig pig pig pig pig pig pig pig pig pig pig pig pig pig pig pig pig pig pig pig pig pig pig pig pig pig pig pig pig pig pig pig pig pig pig pig pig pig pig pig pig pig pig pig pig pig pig pig pig pig pig pig pig pig pig pig pig pig pig pig pig pig pig pig pig pig pig pig pig pig pig pig pig pig pig pig pig pig pig pig pig pig pig pig pig pig pig pig pig pig pig pig pig pig pig pig pig pig pig pig pig pig pig pig pig pig pig pig pig pig pig pig pig pig pig pig pig pig pig pig pig pig pig pig pig pig pig pig pig pig pig pig pig pig pig pig pig pig pig pig pig pig pig pig pig pig pig pig pig pig pig pig pig pig pig pig pig pig pig pig pig pig pig pig pig pig pig pig pig pig pig pig pig pig pig pig pig pig pig pig pig pig pig pig pig pig pig pig pig pig pig pig pig pig pig pig pig pig pig pig pig pig pig pig pig pig pig pig pig pig pig pig pig pig pig pig pig pig pig pig pig pig pig pig pig pig pig pig pig pig pig pig pig pig pig pig pig pig pig pig pig pig pig pig pig pig pig pig pig pig pig pig pig pig pig pig pig pig pig pig pig pig pig pig pig pig pig pig pig pig pig pig pig pig pig pig pig pig pig pig pig pig pig pig pig pig pig pig pig pig pig pig pig pig pig pig pig pig pig pig pig pig pig pig pig pig pig pig pig pig pig pig pig pig pig pig pig pig pig pig pig pig pig pig pig pig pig pig pig pig pig pig pig pig pig pig pig pig pig pig pig pig pig pig pig pig pig pig pig pig pig pig pig pig pig pig pig pig pig pig pig pig pig pig pig pig pig pig pig pig pig pig pig pig pig pig pig pig pig pig pig pig pig pig pig pig pig pig pig pig pig pig pig pig pig pig pig pig pig pig pig pig pig pig pig pig pig pig pig pig pig pig pig pig pig pig pig pig pig pig pig pig pig pig pig pig pig pig pig pig pig pig pig pig pig pig pig pig pig pig pig pig pig pig pig pig pig pig pig pig pig pig pig pig pig pig pig pig pig pig pig pig pig pig pig pig pig pig pig pig pig pig pig pig pig pig pig pig pig pig pig pig pig pig pig pig pig pig pig pig pig pig pig pig pig pig pig pig pig pig pig pig pig pig pig pig pig pig pig pig pig pig pig pig pig pig pig pig pig pig pig pig pig pig pig pig pig pig pig pig pig pig pig pig pig pig pig pig pig pig pig pig pig pig pig pig pig pig pig pig pig pig pig pig pig pig pig pig pig pig pig pig pig pig pig pig pig pig pig pig pig pig pig pig pig pig pig pig pig pig pig pig pig pig pig pig pig pig pig pig pig pig pig pig pig pig pig pig pig pig pig pig pig pig pig pig pig pig pig pig pig pig pig pig pig pig pig pig pig pig pig pig pig pig pig pig pig pig pig pig pig pig pig pig pig pig pig pig pig pig pig pig pig pig pig pig pig pig pig pig pig pig pig pig pig pig pig pig pig pig pig pig pig pig pig pig pig pig pig pig pig pig pig pig pig pig pig pig pig pig pig pig pig pig pig pig pig pig pig pig pig pig pig pig pig pig pig pig pig pig pig pig pig pig pig pig pig pig pig pig pig pig pig pig pig pig pig pig pig pig pig pig pig pig pig pig pig pig pig pig pig pig pig pig pig pig pig pig pig pig pig pig pig pig pig pig pig pig pig pig pig pig pig pig pig pig pig pig pig pig pig pig pig pig pig pig pig pig pig pig pig pig pig pig pig pig pig pig pig pig pig pig pig pig pig pig pig pig pig pig pig pig pig pig pig pig pig pig pig pig pig pig pig pig pig pig pig pig pig pig pig pig pig pig pig pig pig pig pig pig pig pig pig pig pig pig pig pig pig pig pig pig pig pig pig pig pig pig\n",
            "1250 oh noes oh noes oh noes oh noes oh noes oh noes oh noes oh noes oh noes oh noes oh noes oh noes oh noes oh noes oh noes oh noes oh noes oh noes oh noes oh noes oh noes oh noes oh noes oh noes oh noes oh noes oh noes oh noes oh noes oh noes oh noes oh noes oh noes oh noes oh noes oh noes oh noes oh noes oh noes oh noes oh noes oh noes oh noes oh noes oh noes oh noes oh noes oh noes oh noes oh noes oh noes oh noes oh noes oh noes oh noes oh noes oh noes oh noes oh noes oh noes oh noes oh noes oh noes oh noes oh noes oh noes oh noes oh noes oh noes oh noes oh noes oh noes oh noes oh noes oh noes oh noes oh noes oh noes oh noes oh noes oh noes oh noes oh noes oh noes oh noes oh noes oh noes oh noes oh noes oh noes oh noes oh noes oh noes oh noes oh noes oh noes oh noes oh noes oh noes oh noes oh noes oh noes oh noes oh noes oh noes oh noes oh noes oh noes oh noes oh noes oh noes oh noes oh noes oh noes oh noes oh noes oh noes oh noes oh noes oh noes oh noes oh noes oh noes oh noes oh noes oh noes oh noes oh noes oh noes oh noes oh noes oh noes oh noes oh noes oh noes oh noes oh noes oh noes oh noes oh noes oh noes oh noes oh noes oh noes oh noes oh noes oh noes oh noes oh noes oh noes oh noes oh noes oh noes oh noes oh noes oh noes oh noes oh noes oh noes oh noes oh noes oh noes oh noes oh noes oh noes oh noes oh noes oh noes oh noes oh noes oh noes oh noes oh noes oh noes oh noes oh noes oh noes oh noes oh noes oh noes oh noes oh noes oh noes oh noes oh noes oh noes oh noes oh noes oh noes oh noes oh noes oh noes oh noes oh noes oh noes oh noes oh noes oh noes oh noes oh noes oh noes oh noes oh noes oh noes oh noes oh noes oh noes oh noes oh noes oh noes oh noes oh noes oh noes oh noes oh noes oh noes oh noes oh noes oh noes oh noes oh noes oh noes oh noes oh noes oh noes oh noes oh noes oh noes oh noes oh noes oh noes oh noes oh noes oh noes oh noes oh noes oh noes oh noes oh noes oh noes oh noes oh noes oh noes oh noes oh noes oh noes oh noes oh noes oh noes oh noes oh noes oh noes oh noes oh noes oh noes oh noes oh noes oh noes oh noes oh noes oh noes oh noes oh noes oh noes oh noes oh noes oh noes oh noes oh noes oh noes oh noes oh noes oh noes oh noes oh noes oh noes oh noes oh noes oh noes oh noes oh noes oh noes oh noes oh noes oh noes oh noes oh noes oh noes oh noes oh noes oh noes oh noes oh noes oh noes oh noes oh noes oh noes oh noes oh noes oh noes oh noes oh noes oh noes oh noes oh noes oh noes oh noes oh noes oh noes oh noes oh noes oh noes oh noes oh noes oh noes oh noes oh noes oh noes oh noes oh noes oh noes oh noes oh noes oh noes oh noes oh noes oh noes oh noes oh noes oh noes oh noes oh noes oh noes oh noes oh noes oh noes oh noes oh noes oh noes oh noes oh noes oh noes oh noes oh noes oh noes oh noes oh noes oh noes oh noes oh noes oh noes oh noes oh noes oh noes oh noes oh noes oh noes oh noes oh noes oh noes oh noes oh noes oh noes oh noes oh noes oh noes oh noes oh noes oh noes oh noes oh noes oh noes oh noes oh noes oh noes oh noes oh noes oh noes oh noes oh noes oh noes oh noes oh noes oh noes oh noes oh noes oh noes oh noes oh noes oh noes oh noes oh noes oh noes oh noes oh noes oh noes oh noes oh noes oh noes oh noes oh noes oh noes oh noes oh noes oh noes oh noes oh noes oh noes oh noes oh noes oh noes oh noes oh noes oh noes oh noes oh noes oh noes oh noes oh noes oh noes oh noes oh noes oh noes oh noes oh noes oh noes oh noes oh noes oh noes oh noes oh noes oh noes oh noes oh noes oh noes oh noes oh noes oh noes oh noes oh noes oh noes oh noes oh noes oh noes oh noes oh noes oh noes oh noes oh noes oh noes oh noes oh noes oh noes oh noes oh noes oh noes oh noes oh noes oh noes oh noes oh noes oh noes oh noes oh noes oh noes oh noes oh noes oh noes oh noes oh noes oh noes oh noes oh noes oh noes oh noes oh noes oh noes oh noes oh noes oh noes oh noes oh noes oh noes oh noes oh noes oh noes oh noes oh noes oh noes oh noes oh noes oh noes oh noes oh noes oh noes oh noes oh noes oh noes oh noes oh noes oh noes oh noes oh noes oh noes oh noes oh noes oh noes oh noes oh noes oh noes oh noes oh noes oh noes oh noes oh noes oh noes oh noes oh noes oh noes oh noes oh noes oh noes oh noes oh noes oh noes oh noes oh noes oh noes oh noes oh noes oh noes oh noes oh noes oh noes oh noes oh noes oh noes oh noes oh noes oh noes oh noes oh noes oh noes oh noes oh noes oh noes oh noes oh noes oh noes oh noes oh noes oh noes oh noes oh noes oh noes oh noes oh noes oh noes oh noes oh noes oh noes oh noes oh noes oh noes oh noes oh noes oh noes oh noes oh noes oh noes oh noes oh noes oh noes oh noes oh noes oh noes oh noes oh noes oh noes oh noes oh noes oh noes oh noes oh noes oh noes oh noes oh noes oh noes oh noes oh noes oh noes oh noes oh noes oh noes oh noes oh noes oh noes oh noes oh noes oh noes oh noes oh noes oh noes oh noes oh noes oh noes oh noes oh noes oh noes oh noes oh noes oh noes oh noes oh noes oh noes oh noes oh noes oh noes oh noes oh noes oh noes oh noes oh noes oh noes oh noes\n",
            "1250 lol lol lol lol lol lol lol lol lol lol lol lol lol lol lol lol lol lol lol lol lol lol lol lol lol lol lol lol lol lol lol lol lol lol lol lol lol lol lol lol lol lol lol lol lol lol lol lol lol lol lol lol lol lol lol lol lol lol lol lol lol lol lol lol lol lol lol lol lol lol lol lol lol lol lol lol lol lol lol lol lol lol lol lol lol lol lol lol lol lol lol lol lol lol lol lol lol lol lol lol lol lol lol lol lol lol lol lol lol lol lol lol lol lol lol lol lol lol lol lol lol lol lol lol lol lol lol lol lol lol lol lol lol lol lol lol lol lol lol lol lol lol lol lol lol lol lol lol lol lol lol lol lol lol lol lol lol lol lol lol lol lol lol lol lol lol lol lol lol lol lol lol lol lol lol lol lol lol lol lol lol lol lol lol lol lol lol lol lol lol lol lol lol lol lol lol lol lol lol lol lol lol lol lol lol lol lol lol lol lol lol lol lol lol lol lol lol lol lol lol lol lol lol lol lol lol lol lol lol lol lol lol lol lol lol lol lol lol lol lol lol lol lol lol lol lol lol lol lol lol lol lol lol lol lol lol lol lol lol lol lol lol lol lol lol lol lol lol lol lol lol lol lol lol lol lol lol lol lol lol lol lol lol lol lol lol lol lol lol lol lol lol lol lol lol lol lol lol lol lol lol lol lol lol lol lol lol lol lol lol lol lol lol lol lol lol lol lol lol lol lol lol lol lol lol lol lol lol lol lol lol lol lol lol lol lol lol lol lol lol lol lol lol lol lol lol lol lol lol lol lol lol lol lol lol lol lol lol lol lol lol lol lol lol lol lol lol lol lol lol lol lol lol lol lol lol lol lol lol lol lol lol lol lol lol lol lol lol lol lol lol lol lol lol lol lol lol lol lol lol lol lol lol lol lol lol lol lol lol lol lol lol lol lol lol lol lol lol lol lol lol lol lol lol lol lol lol lol lol lol lol lol lol lol lol lol lol lol lol lol lol lol lol lol lol lol lol lol lol lol lol lol lol lol lol lol lol lol lol lol lol lol lol lol lol lol lol lol lol lol lol lol lol lol lol lol lol lol lol lol lol lol lol lol lol lol lol lol lol lol lol lol lol lol lol lol lol lol lol lol lol lol lol lol lol lol lol lol lol lol lol lol lol lol lol lol lol lol lol lol lol lol lol lol lol lol lol lol lol lol lol lol lol lol lol lol lol lol lol lol lol lol lol lol lol lol lol lol lol lol lol lol lol lol lol lol lol lol lol lol lol lol lol lol lol lol lol lol lol lol lol lol lol lol lol lol lol lol lol lol lol lol lol lol lol lol lol lol lol lol lol lol lol lol lol lol lol lol lol lol lol lol lol lol lol lol lol lol lol lol lol lol lol lol lol lol lol lol lol lol lol lol lol lol lol lol lol lol lol lol lol lol lol lol lol lol lol lol lol lol lol lol lol lol lol lol lol lol lol lol lol lol lol lol lol lol lol lol lol lol lol lol lol lol lol lol lol lol lol lol lol lol lol lol lol lol lol lol lol lol lol lol lol lol lol lol lol lol lol lol lol lol lol lol lol lol lol lol lol lol lol lol lol lol lol lol lol lol lol lol lol lol lol lol lol lol lol lol lol lol lol lol lol lol lol lol lol lol lol lol lol lol lol lol lol lol lol lol lol lol lol lol lol lol lol lol lol lol lol lol lol lol lol lol lol lol lol lol lol lol lol lol lol lol lol lol lol lol lol lol lol lol lol lol lol lol lol lol lol lol lol lol lol lol lol lol lol lol lol lol lol lol lol lol lol lol lol lol lol lol lol lol lol lol lol lol lol lol lol lol lol lol lol lol lol lol lol lol lol lol lol lol lol lol lol lol lol lol lol lol lol lol lol lol lol lol lol lol lol lol lol lol lol lol lol lol lol lol lol lol lol lol lol lol lol lol lol lol lol lol lol lol lol lol lol lol lol lol lol lol lol lol lol lol lol lol lol lol lol lol lol lol lol lol lol lol lol lol lol lol lol lol lol lol lol lol lol lol lol lol lol lol lol lol lol lol lol lol lol lol lol lol lol lol lol lol lol lol lol lol lol lol lol lol lol lol lol lol lol lol lol lol lol lol lol lol lol lol lol lol lol lol lol lol lol lol lol lol lol lol lol lol lol lol lol lol lol lol lol lol lol lol lol lol lol lol lol lol lol lol lol lol lol lol lol lol lol lol lol lol lol lol lol lol lol lol lol lol lol lol lol lol lol lol lol lol lol lol lol lol lol lol lol lol lol lol lol lol lol lol lol lol lol lol lol lol lol lol lol lol lol lol lol lol lol lol lol lol lol lol lol lol lol lol lol lol lol lol lol lol lol lol lol lol lol lol lol lol lol lol lol lol lol lol lol lol lol lol lol lol lol lol lol lol lol lol lol lol lol lol lol lol lol lol lol lol lol lol lol lol lol lol lol lol lol lol lol lol lol lol lol lol lol lol lol lol lol lol lol lol lol lol lol lol lol lol lol lol lol lol lol lol lol lol lol lol lol lol lol lol lol lol lol lol lol lol lol lol lol lol lol lol lol lol lol lol lol lol lol lol lol lol lol lol lol lol lol lol lol lol lol lol lol lol lol lol lol lol lol lol lol lol lol lol lol lol lol lol lol lol lol lol lol lol lol lol lol lol lol lol lol lol lol lol lol lol lol lol lol lol lol lol lol lol lol lol lol lol lol lol lol lol lol lol lol lol lol lol lol lol lol lol lol lol lol lol lol lol lol lol lol lol lol lol lol lol lol lol lol lol lol lol lol lol lol lol lol lol lol lol lol lol lol lol lol lol lol lol lol lol\n",
            "1250 fuck you ! ! 'fuck you ! ! 'fuck you ! ! 'fuck you ! ! 'fuck you ! ! 'fuck you ! ! 'fuck you ! ! 'fuck you ! ! 'fuck you ! ! 'fuck you ! ! 'fuck you ! ! 'fuck you ! ! 'fuck you ! ! 'fuck you ! ! 'fuck you ! ! 'fuck you ! ! 'fuck you ! ! 'fuck you ! ! 'fuck you ! ! 'fuck you ! ! 'fuck you ! ! 'fuck you ! ! 'fuck you ! ! 'fuck you ! ! 'fuck you ! ! 'fuck you ! ! 'fuck you ! ! 'fuck you ! ! 'fuck you ! ! 'fuck you ! ! 'fuck you ! ! 'fuck you ! ! 'fuck you ! ! 'fuck you ! ! 'fuck you ! ! 'fuck you ! ! 'fuck you ! ! 'fuck you ! ! 'fuck you ! ! 'fuck you ! ! 'fuck you ! ! 'fuck you ! ! 'fuck you ! ! 'fuck you ! ! 'fuck you ! ! 'fuck you ! ! 'fuck you ! ! 'fuck you ! ! 'fuck you ! ! 'fuck you ! ! 'fuck you ! ! 'fuck you ! ! 'fuck you ! ! 'fuck you ! ! 'fuck you ! ! 'fuck you ! ! 'fuck you ! ! 'fuck you ! ! 'fuck you ! ! 'fuck you ! ! 'fuck you ! ! 'fuck you ! ! 'fuck you ! ! 'fuck you ! ! 'fuck you ! ! 'fuck you ! ! 'fuck you ! ! 'fuck you ! ! 'fuck you ! ! 'fuck you ! ! 'fuck you ! ! 'fuck you ! ! 'fuck you ! ! 'fuck you ! ! 'fuck you ! ! 'fuck you ! ! 'fuck you ! ! 'fuck you ! ! 'fuck you ! ! 'fuck you ! ! 'fuck you ! ! 'fuck you ! ! 'fuck you ! ! 'fuck you ! ! 'fuck you ! ! 'fuck you ! ! 'fuck you ! ! 'fuck you ! ! 'fuck you ! ! 'fuck you ! ! 'fuck you ! ! 'fuck you ! ! 'fuck you ! ! 'fuck you ! ! 'fuck you ! ! 'fuck you ! ! 'fuck you ! ! 'fuck you ! ! 'fuck you ! ! 'fuck you ! ! 'fuck you ! ! 'fuck you ! ! 'fuck you ! ! 'fuck you ! ! 'fuck you ! ! 'fuck you ! ! 'fuck you ! ! 'fuck you ! ! 'fuck you ! ! 'fuck you ! ! 'fuck you ! ! 'fuck you ! ! 'fuck you ! ! 'fuck you ! ! 'fuck you ! ! 'fuck you ! ! 'fuck you ! ! 'fuck you ! ! 'fuck you ! ! 'fuck you ! ! 'fuck you ! ! 'fuck you ! ! 'fuck you ! ! 'fuck you ! ! 'fuck you ! ! 'fuck you ! ! 'fuck you ! ! 'fuck you ! ! 'fuck you ! ! 'fuck you ! ! 'fuck you ! ! 'fuck you ! ! 'fuck you ! ! 'fuck you ! ! 'fuck you ! ! 'fuck you ! ! 'fuck you ! ! 'fuck you ! ! 'fuck you ! ! 'fuck you ! ! 'fuck you ! ! 'fuck you ! ! 'fuck you ! ! 'fuck you ! ! 'fuck you ! ! 'fuck you ! ! 'fuck you ! ! 'fuck you ! ! 'fuck you ! ! 'fuck you ! ! 'fuck you ! ! 'fuck you ! ! 'fuck you ! ! 'fuck you ! ! 'fuck you ! ! 'fuck you ! ! 'fuck you ! ! 'fuck you ! ! 'fuck you ! ! 'fuck you ! ! 'fuck you ! ! 'fuck you ! ! 'fuck you ! ! 'fuck you ! ! 'fuck you ! ! 'fuck you ! ! 'fuck you ! ! 'fuck you ! ! 'fuck you ! ! 'fuck you ! ! 'fuck you ! ! 'fuck you ! ! 'fuck you ! ! 'fuck you ! ! 'fuck you ! ! 'fuck you ! ! 'fuck you ! ! 'fuck you ! ! 'fuck you ! ! 'fuck you ! ! 'fuck you ! ! 'fuck you ! ! 'fuck you ! ! 'fuck you ! ! 'fuck you ! ! 'fuck you ! ! 'fuck you ! ! 'fuck you ! ! 'fuck you ! ! 'fuck you ! ! 'fuck you ! ! 'fuck you ! ! 'fuck you ! ! 'fuck you ! ! 'fuck you ! ! 'fuck you ! ! 'fuck you ! ! 'fuck you ! ! 'fuck you ! ! 'fuck you ! ! 'fuck you ! ! 'fuck you ! ! 'fuck you ! ! 'fuck you ! ! 'fuck you ! ! 'fuck you ! ! 'fuck you ! ! 'fuck you ! ! 'fuck you ! ! 'fuck you ! ! 'fuck you ! ! 'fuck you ! ! 'fuck you ! ! 'fuck you ! ! 'fuck you ! ! 'fuck you ! ! 'fuck you ! ! 'fuck you ! ! 'fuck you ! ! 'fuck you ! ! 'fuck you ! ! 'fuck you ! ! 'fuck you ! ! 'fuck you ! ! 'fuck you ! ! 'fuck you ! ! 'fuck you ! ! 'fuck you ! ! 'fuck you ! ! 'fuck you ! ! 'fuck you ! ! 'fuck you ! ! 'fuck you ! ! 'fuck you ! ! 'fuck you ! ! 'fuck you ! ! 'fuck you ! ! 'fuck you ! ! 'fuck you ! ! 'fuck you ! ! 'fuck you ! ! 'fuck you ! ! 'fuck you ! ! 'fuck you ! ! 'fuck you ! ! 'fuck you ! ! 'fuck you ! ! 'fuck you ! ! 'fuck you ! ! 'fuck you ! ! 'fuck you ! ! 'fuck you ! ! 'fuck you ! ! 'fuck you ! ! 'fuck you ! ! 'fuck you ! ! 'fuck you ! ! 'fuck you ! ! 'fuck you ! ! 'fuck you ! ! 'fuck you ! ! 'fuck you ! ! 'fuck you ! ! 'fuck you ! ! 'fuck you ! ! 'fuck you ! ! 'fuck you ! ! 'fuck you ! ! 'fuck you ! ! 'fuck you ! ! 'fuck you ! ! 'fuck you ! ! 'fuck you ! ! 'fuck you ! ! 'fuck you ! ! 'fuck you ! ! 'fuck you ! ! 'fuck you ! ! 'fuck you ! ! 'fuck you ! ! 'fuck you ! ! 'fuck you ! ! 'fuck you ! ! 'fuck you ! ! 'fuck you ! ! 'fuck you ! ! 'fuck you ! ! 'fuck you ! ! 'fuck you ! ! 'fuck you ! ! 'fuck you ! ! 'fuck you ! ! 'fuck you ! ! 'fuck you ! ! 'fuck you ! ! 'fuck you ! ! 'fuck you ! ! 'fuck you ! ! 'fuck you ! ! 'fuck you ! ! 'fuck you ! ! 'fuck you ! ! 'fuck you ! ! 'fuck you ! ! 'fuck you ! ! 'fuck you ! ! 'fuck you ! ! 'fuck you ! ! 'fuck you ! ! 'fuck you ! ! 'fuck you ! ! 'fuck you ! ! 'fuck you\n",
            "1250 die fag die fag die fag die fag die fag die fag die fag die fag die fag die fag die fag die fag die fag die fag die fag die fag die fag die fag die fag die fag die fag die fag die fag die fag die fag die fag die fag die fag die fag die fag die fag die fag die fag die fag die fag die fag die fag die fag die fag die fag die fag die fag die fag die fag die fag die fag die fag die fag die fag die fag die fag die fag die fag die fag die fag die fag die fag die fag die fag die fag die fag die fag die fag die fag die fag die fag die fag die fag die fag die fag die fag die fag die fag die fag die fag die fag die fag die fag die fag die fag die fag die fag die fag die fag die fag die fag die fag die fag die fag die fag die fag die fag die fag die fag die fag die fag die fag die fag die fag die fag die fag die fag die fag die fag die fag die fag die fag die fag die fag die fag die fag die fag die fag die fag die fag die fag die fag die fag die fag die fag die fag die fag die fag die fag die fag die fag die fag die fag die fag die fag die fag die fag die fag die fag die fag die fag die fag die fag die fag die fag die fag die fag die fag die fag die fag die fag die fag die fag die fag die fag die fag die fag die fag die fag die fag die fag die fag die fag die fag die fag die fag die fag die fag die fag die fag die fag die fag die fag die fag die fag die fag die fag die fag die fag die fag die fag die fag die fag die fag die fag die fag die fag die fag die fag die fag die fag die fag die fag die fag die fag die fag die fag die fag die fag die fag die fag die fag die fag die fag die fag die fag die fag die fag die fag die fag die fag die fag die fag die fag die fag die fag die fag die fag die fag die fag die fag die fag die fag die fag die fag die fag die fag die fag die fag die fag die fag die fag die fag die fag die fag die fag die fag die fag die fag die fag die fag die fag die fag die fag die fag die fag die fag die fag die fag die fag die fag die fag die fag die fag die fag die fag die fag die fag die fag die fag die fag die fag die fag die fag die fag die fag die fag die fag die fag die fag die fag die fag die fag die fag die fag die fag die fag die fag die fag die fag die fag die fag die fag die fag die fag die fag die fag die fag die fag die fag die fag die fag die fag die fag die fag die fag die fag die fag die fag die fag die fag die fag die fag die fag die fag die fag die fag die fag die fag die fag die fag die fag die fag die fag die fag die fag die fag die fag die fag die fag die fag die fag die fag die fag die fag die fag die fag die fag die fag die fag die fag die fag die fag die fag die fag die fag die fag die fag die fag die fag die fag die fag die fag die fag die fag die fag die fag die fag die fag die fag die fag die fag die fag die fag die fag die fag die fag die fag die fag die fag die fag die fag die fag die fag die fag die fag die fag die fag die fag die fag die fag die fag die fag die fag die fag die fag die fag die fag die fag die fag die fag die fag die fag die fag die fag die fag die fag die fag die fag die fag die fag die fag die fag die fag die fag die fag die fag die fag die fag die fag die fag die fag die fag die fag die fag die fag die fag die fag die fag die fag die fag die fag die fag die fag die fag die fag die fag die fag die fag die fag die fag die fag die fag die fag die fag die fag die fag die fag die fag die fag die fag die fag die fag die fag die fag die fag die fag die fag die fag die fag die fag die fag die fag die fag die fag die fag die fag die fag die fag die fag die fag die fag die fag die fag die fag die fag die fag die fag die fag die fag die fag die fag die fag die fag die fag die fag die fag die fag die fag die fag die fag die fag die fag die fag die fag die fag die fag die fag die fag die fag die fag die fag die fag die fag die fag die fag die fag die fag die fag die fag die fag die fag die fag die fag die fag die fag die fag die fag die fag die fag die fag die fag die fag die fag die fag die fag die fag die fag die fag die fag die fag die fag die fag die fag die fag die fag die fag die fag die fag die fag die fag die fag die fag die fag die fag die fag die fag die fag die fag die fag die fag die fag die fag die fag die fag die fag die fag die fag die fag die fag die fag die fag die fag die fag die fag die fag die fag die fag die fag die fag die fag die fag die fag die fag die fag die fag die fag die fag die fag die fag die fag die fag die fag die fag die fag die fag die fag die fag die fag die fag die fag die fag die fag die fag die fag die fag die fag die fag die fag die fag die fag die fag die fag die fag die fag die fag die fag die fag die fag die fag die fag die fag die fag die fag die fag die fag die fag die fag die fag die fag die fag die fag die fag die fag die fag die fag die fag die fag die fag die fag die fag die fag die fag die fag die fag die fag die fag die fag die fag die fag die fag die fag die fag die fag die fag die fag die fag die fag die fag die fag\n",
            "1250 damn you u cunt damn you u cunt damn you u cunt damn you u cunt damn you u cunt damn you u cunt damn you u cunt damn you u cunt damn you u cunt damn you u cunt damn you u cunt damn you u cunt damn you u cunt damn you u cunt damn you u cunt damn you u cunt damn you u cunt damn you u cunt damn you u cunt damn you u cunt damn you u cunt damn you u cunt damn you u cunt damn you u cunt damn you u cunt damn you u cunt damn you u cunt damn you u cunt damn you u cunt damn you u cunt damn you u cunt damn you u cunt damn you u cunt damn you u cunt damn you u cunt damn you u cunt damn you u cunt damn you u cunt damn you u cunt damn you u cunt damn you u cunt damn you u cunt damn you u cunt damn you u cunt damn you u cunt damn you u cunt damn you u cunt damn you u cunt damn you u cunt damn you u cunt damn you u cunt damn you u cunt damn you u cunt damn you u cunt damn you u cunt damn you u cunt damn you u cunt damn you u cunt damn you u cunt damn you u cunt damn you u cunt damn you u cunt damn you u cunt damn you u cunt damn you u cunt damn you u cunt damn you u cunt damn you u cunt damn you u cunt damn you u cunt damn you u cunt damn you u cunt damn you u cunt damn you u cunt damn you u cunt damn you u cunt damn you u cunt damn you u cunt damn you u cunt damn you u cunt damn you u cunt damn you u cunt damn you u cunt damn you u cunt damn you u cunt damn you u cunt damn you u cunt damn you u cunt damn you u cunt damn you u cunt damn you u cunt damn you u cunt damn you u cunt damn you u cunt damn you u cunt damn you u cunt damn you u cunt damn you u cunt damn you u cunt damn you u cunt damn you u cunt damn you u cunt damn you u cunt damn you u cunt damn you u cunt damn you u cunt damn you u cunt damn you u cunt damn you u cunt damn you u cunt damn you u cunt damn you u cunt damn you u cunt damn you u cunt damn you u cunt damn you u cunt damn you u cunt damn you u cunt damn you u cunt damn you u cunt damn you u cunt damn you u cunt damn you u cunt damn you u cunt damn you u cunt damn you u cunt damn you u cunt damn you u cunt damn you u cunt damn you u cunt damn you u cunt damn you u cunt damn you u cunt damn you u cunt damn you u cunt damn you u cunt damn you u cunt damn you u cunt damn you u cunt damn you u cunt damn you u cunt damn you u cunt damn you u cunt damn you u cunt damn you u cunt damn you u cunt damn you u cunt damn you u cunt damn you u cunt damn you u cunt damn you u cunt damn you u cunt damn you u cunt damn you u cunt damn you u cunt damn you u cunt damn you u cunt damn you u cunt damn you u cunt damn you u cunt damn you u cunt damn you u cunt damn you u cunt damn you u cunt damn you u cunt damn you u cunt damn you u cunt damn you u cunt damn you u cunt damn you u cunt damn you u cunt damn you u cunt damn you u cunt damn you u cunt damn you u cunt damn you u cunt damn you u cunt damn you u cunt damn you u cunt damn you u cunt damn you u cunt damn you u cunt damn you u cunt damn you u cunt damn you u cunt damn you u cunt damn you u cunt damn you u cunt damn you u cunt damn you u cunt damn you u cunt damn you u cunt damn you u cunt damn you u cunt damn you u cunt damn you u cunt damn you u cunt damn you u cunt damn you u cunt damn you u cunt damn you u cunt damn you u cunt damn you u cunt damn you u cunt damn you u cunt damn you u cunt damn you u cunt damn you u cunt damn you u cunt damn you u cunt damn you u cunt damn you u cunt damn you u cunt damn you u cunt damn you u cunt damn you u cunt damn you u cunt damn you u cunt damn you u cunt damn you u cunt damn you u cunt damn you u cunt damn you u cunt damn you u cunt damn you u cunt damn you u cunt damn you u cunt damn you u cunt damn you u cunt damn you u cunt damn you u cunt damn you u cunt damn you u cunt damn you u cunt damn you u cunt damn you u cunt damn you u cunt damn you u cunt damn you u cunt damn you u cunt damn you u cunt damn you u cunt damn you u cunt damn you u cunt damn you u cunt damn you u cunt damn you u cunt damn you u cunt damn you u cunt damn you u cunt damn you u cunt damn you u cunt damn you u cunt damn you u cunt damn you u cunt damn you u cunt damn you u cunt damn you u cunt damn you u cunt damn you u cunt damn you u cunt damn you u cunt damn you u cunt damn you u cunt damn you u cunt damn you u cunt damn you u cunt damn you u cunt damn you u cunt damn you u cunt damn you u cunt damn you u cunt damn you u cunt damn you u cunt damn you u cunt damn you u cunt damn you u cunt damn you u cunt damn you u cunt damn you u cunt damn you u cunt damn you u cunt damn you u cunt damn you u cunt damn you u cunt damn you u cunt damn you u cunt damn you u cunt damn you u cunt damn you u cunt damn you u cunt damn you u cunt damn you u cunt damn you u cunt damn you u cunt damn you u cunt damn you u cunt damn you u cunt damn you u cunt damn you u cunt damn you u cunt damn you u cunt damn you u cunt damn you u cunt damn you u cunt damn you u cunt damn you u cunt damn you u cunt damn you u cunt damn you u cunt damn you u cunt damn you u cunt damn you\n",
            "1249 do i know you ? because you are a fggt ! do i know you ? because you are a fggt ! do i know you ? because you are a fggt ! do i know you ? because you are a fggt ! do i know you ? because you are a fggt ! do i know you ? because you are a fggt ! do i know you ? because you are a fggt ! do i know you ? because you are a fggt ! do i know you ? because you are a fggt ! do i know you ? because you are a fggt ! do i know you ? because you are a fggt ! do i know you ? because you are a fggt ! do i know you ? because you are a fggt ! do i know you ? because you are a fggt ! do i know you ? because you are a fggt ! do i know you ? because you are a fggt ! do i know you ? because you are a fggt ! do i know you ? because you are a fggt ! do i know you ? because you are a fggt ! do i know you ? because you are a fggt ! do i know you ? because you are a fggt ! do i know you ? because you are a fggt ! do i know you ? because you are a fggt ! do i know you ? because you are a fggt ! do i know you ? because you are a fggt ! do i know you ? because you are a fggt ! do i know you ? because you are a fggt ! do i know you ? because you are a fggt ! do i know you ? because you are a fggt ! do i know you ? because you are a fggt ! do i know you ? because you are a fggt ! do i know you ? because you are a fggt ! do i know you ? because you are a fggt ! do i know you ? because you are a fggt ! do i know you ? because you are a fggt ! do i know you ? because you are a fggt ! do i know you ? because you are a fggt ! do i know you ? because you are a fggt ! do i know you ? because you are a fggt ! do i know you ? because you are a fggt ! do i know you ? because you are a fggt ! do i know you ? because you are a fggt ! do i know you ? because you are a fggt ! do i know you ? because you are a fggt ! do i know you ? because you are a fggt ! do i know you ? because you are a fggt ! do i know you ? because you are a fggt ! do i know you ? because you are a fggt ! do i know you ? because you are a fggt ! do i know you ? because you are a fggt ! do i know you ? because you are a fggt ! do i know you ? because you are a fggt ! do i know you ? because you are a fggt ! do i know you ? because you are a fggt ! do i know you ? because you are a fggt ! do i know you ? because you are a fggt ! do i know you ? because you are a fggt ! do i know you ? because you are a fggt ! do i know you ? because you are a fggt ! do i know you ? because you are a fggt ! do i know you ? because you are a fggt ! do i know you ? because you are a fggt ! do i know you ? because you are a fggt ! do i know you ? because you are a fggt ! do i know you ? because you are a fggt ! do i know you ? because you are a fggt ! do i know you ? because you are a fggt ! do i know you ? because you are a fggt ! do i know you ? because you are a fggt ! do i know you ? because you are a fggt ! do i know you ? because you are a fggt ! do i know you ? because you are a fggt ! do i know you ? because you are a fggt ! do i know you ? because you are a fggt ! do i know you ? because you are a fggt ! do i know you ? because you are a fggt ! do i know you ? because you are a fggt ! do i know you ? because you are a fggt ! do i know you ? because you are a fggt ! do i know you ? because you are a fggt ! do i know you ? because you are a fggt ! do i know you ? because you are a fggt ! do i know you ? because you are a fggt ! do i know you ? because you are a fggt ! do i know you ? because you are a fggt ! do i know you ? because you are a fggt ! do i know you ? because you are a fggt ! do i know you ? because you are a fggt ! do i know you ? because you are a fggt ! do i know you ? because you are a fggt ! do i know you ? because you are a fggt ! do i know you ? because you are a fggt ! do i know you ? because you are a fggt ! do i know you ? because you are a fggt ! do i know you ? because you are a fggt ! do i know you ? because you are a fggt ! do i know you ? because you are a fggt ! do i know you ? because you are a fggt ! do i know you ? because you are a fggt ! do i know you ? because you are a fggt ! do i know you ? because you are a fggt ! do i know you ? because you are a fggt ! do i know you ? because you are a fggt ! do i know you ? because you are a fggt ! do i know you ? because you are a fggt ! do i know you ? because you are a fggt ! do i know you ? because you are a fggt ! do i know you ? because you are a fggt ! do i know you ? because you are a fggt ! do i know you ? because you are a fggt ! do i know you ? because you are a fggt ! do i know you ? because you are a fggt ! do i know you ? because you are a fggt ! do i know you ? because\n",
            "1247 hey i like jews hey i like jews hey i like jews hey i like jews hey i like jews hey i like jews hey i like jews hey i like jews hey i like jews hey i like jews hey i like jews hey i like jews hey i like jews hey i like jews hey i like jews hey i like jews hey i like jews hey i like jews hey i like jews hey i like jews hey i like jews hey i like jews hey i like jews hey i like jews hey i like jews hey i like jews hey i like jews hey i like jews hey i like jews hey i like jews hey i like jews hey i like jews hey i like jews hey i like jews hey i like jews hey i like jews hey i like jews hey i like jews hey i like jews hey i like jews hey i like jews hey i like jews hey i like jews hey i like jews hey i like jews hey i like jews hey i like jews hey i like jews hey i like jews hey i like jews hey i like jews hey i like jews hey i like jews hey i like jews hey i like jews hey i like jews hey i like jews hey i like jews hey i like jews hey i like jews hey i like jews hey i like jews hey i like jews hey i like jews hey i like jews hey i like jews hey i like jews hey i like jews hey i like jews hey i like jews hey i like jews hey i like jews hey i like jews hey i like jews hey i like jews hey i like jews hey i like jews hey i like jews hey i like jews hey i like jews hey i like jews hey i like jews hey i like jews hey i like jews hey i like jews hey i like jews hey i like jews hey i like jews hey i like jews hey i like jews hey i like jews hey i like jews hey i like jews hey i like jews hey i like jews hey i like jews hey i like jews hey i like jews hey i like jews hey i like jews hey i like jews hey i like jews hey i like jews hey i like jews hey i like jews hey i like jews hey i like jews hey i like jews hey i like jews hey i like jews hey i like jews hey i like jews hey i like jews hey i like jews hey i like jews hey i like jews hey i like jews hey i like jews hey i like jews hey i like jews hey i like jews hey i like jews hey i like jews hey i like jews hey i like jews hey i like jews hey i like jews hey i like jews hey i like jews hey i like jews hey i like jews hey i like jews hey i like jews hey i like jews hey i like jews hey i like jews hey i like jews hey i like jews hey i like jews hey i like jews hey i like jews hey i like jews hey i like jews hey i like jews hey i like jews hey i like jews hey i like jews hey i like jews hey i like jews hey i like jews hey i like jews hey i like jews hey i like jews hey i like jews hey i like jews hey i like jews hey i like jews hey i like jews hey i like jews hey i like jews hey i like jews hey i like jews hey i like jews hey i like jews hey i like jews hey i like jews hey i like jews hey i like jews hey i like jews hey i like jews hey i like jews hey i like jews hey i like jews hey i like jews hey i like jews hey i like jews hey i like jews hey i like jews hey i like jews hey i like jews hey i like jews hey i like jews hey i like jews hey i like jews hey i like jews hey i like jews hey i like jews hey i like jews hey i like jews hey i like jews hey i like jews hey i like jews hey i like jews hey i like jews hey i like jews hey i like jews hey i like jews hey i like jews hey i like jews hey i like jews hey i like jews hey i like jews hey i like jews hey i like jews hey i like jews hey i like jews hey i like jews hey i like jews hey i like jews hey i like jews hey i like jews hey i like jews hey i like jews hey i like jews hey i like jews hey i like jews hey i like jews hey i like jews hey i like jews hey i like jews hey i like jews hey i like jews hey i like jews hey i like jews hey i like jews hey i like jews hey i like jews hey i like jews hey i like jews hey i like jews hey i like jews hey i like jews hey i like jews hey i like jews hey i like jews hey i like jews hey i like jews hey i like jews hey i like jews hey i like jews hey i like jews hey i like jews hey i like jews hey i like jews hey i like jews hey i like jews hey i like jews hey i like jews hey i like jews hey i like jews hey i like jews hey i like jews hey i like jews hey i like jews hey i like jews hey i like jews hey i like jews hey i like jews hey i like jews hey i like jews hey i like jews hey i like jews hey i like jews hey i like jews hey i like jews hey i like jews hey i like jews hey i like jews hey i like jews hey i like jews hey i like jews hey i like jews hey i like jews hey i like jews hey i like jews hey i like jews hey i like jews hey i like jews hey i like jews hey i like jews hey i like jews hey i like jews hey i like jews hey i like jews hey i like jews hey i like jews hey i like jews hey i like jews hey i like jews hey i like jews hey i like jews hey i like jews hey i like jews hey i like jews hey i like jews hey i like jews hey i like jews hey i like jews hey i like jews hey i like jews hey i like jews hey i like jews hey i like jews hey i like jews hey i like jews hey i like jews hey i like jews hey i like jews hey i like jews hey i like jews hey i like jews hey i like\n",
            "1247 fat jew fat jew fat jew fat jew fat jew fat jew fat jew fat jew fat jew fat jew fat jew fat jew fat jew fat jew fat jew fat jew fat jew fat jew fat jew fat jew fat jew fat jew fat jew fat jew fat jew fat jew fat jew fat jew fat jew fat jew fat jew fat jew fat jew fat jew fat jew fat jew fat jew fat jew fat jew fat jew fat jew fat jew fat jew fat jew fat jew fat jew fat jew fat jew fat jew fat jew fat jew fat jew fat jew fat jew fat jew fat jew fat jew fat jew fat jew fat jew fat jew fat jew fat jew fat jew fat jew fat jew fat jew fat jew fat jew fat jew fat jew fat jew fat jew fat jew fat jew fat jew fat jew fat jew fat jew fat jew fat jew fat jew fat jew fat jew fat jew fat jew fat jew fat jew fat jew fat jew fat jew fat jew fat jew fat jew fat jew fat jew fat jew fat jew fat jew fat jew fat jew fat jew fat jew fat jew fat jew fat jew fat jew fat jew fat jew fat jew fat jew fat jew fat jew fat jew fat jew fat jew fat jew fat jew fat jew fat jew fat jew fat jew fat jew fat jew fat jew fat jew fat jew fat jew fat jew fat jew fat jew fat jew fat jew fat jew fat jew fat jewfat jew fat jew fat jew fat jew fat jew fat jew fat jew fat jew fat jew fat jew fat jew fat jew fat jew fat jew fat jew fat jew fat jew fat jew fat jew fat jew fat jew fat jew fat jew fat jew fat jew fat jew fat jew fat jew fat jew fat jew fat jew fat jew fat jew fat jew fat jew fat jew fat jew fat jew fat jew fat jew fat jew fat jew fat jew fat jew fat jew fat jew fat jew fat jew fat jew fat jew fat jew fat jew fat jew fat jew fat jew fat jew fat jew fat jew fat jew fat jew fat jew fat jew fat jew fat jew fat jew fat jew fat jew fat jew fat jew fat jew fat jew fat jew fat jew fat jew fat jew fat jew fat jew fat jew fat jew fat jew fat jew fat jew fat jew fat jew fat jew fat jew fat jew fat jew fat jew fat jew fat jew fat jew fat jew fat jew fat jew fat jew fat jew fat jew fat jew fat jew fat jew fat jew fat jew fat jew fat jew fat jew fat jew fat jew fat jew fat jew fat jew fat jew fat jew fat jew fat jew fat jew fat jew fat jew fat jew fat jew fat jew fat jew fat jew fat jew fat jew fat jew fat jew fat jew fat jew fat jew fat jew fat jew fat jew fat jew fat jew fat jewfat jew fat jew fat jew fat jew fat jew fat jew fat jew fat jew fat jew fat jew fat jew fat jew fat jew fat jew fat jew fat jew fat jew fat jew fat jew fat jew fat jew fat jew fat jew fat jew fat jew fat jew fat jew fat jew fat jew fat jew fat jew fat jew fat jew fat jew fat jew fat jew fat jew fat jew fat jew fat jew fat jew fat jew fat jew fat jew fat jew fat jew fat jew fat jew fat jew fat jew fat jew fat jew fat jew fat jew fat jew fat jew fat jew fat jew fat jew fat jew fat jew fat jew fat jew fat jew fat jew fat jew fat jew fat jew fat jew fat jew fat jew fat jew fat jew fat jew fat jew fat jew fat jew fat jew fat jew fat jew fat jew fat jew fat jew fat jew fat jew fat jew fat jew fat jew fat jew fat jew fat jew fat jew fat jew fat jew fat jew fat jew fat jew fat jew fat jew fat jew fat jew fat jew fat jew fat jew fat jew fat jew fat jew fat jew fat jew fat jew fat jew fat jew fat jew fat jew fat jew fat jew fat jew fat jew fat jew fat jew fat jew fat jew fat jew fat jew fat jew fat jew fat jew fat jew fat jew fat jew fat jew fat jew fat jew fat jew fat jew fat jewfat jew fat jew fat jew fat jew fat jew fat jew fat jew fat jew fat jew fat jew fat jew fat jew fat jew fat jew fat jew fat jew fat jew fat jew fat jew fat jew fat jew fat jew fat jew fat jew fat jew fat jew fat jew fat jew fat jew fat jew fat jew fat jew fat jew fat jew fat jew fat jew fat jew fat jew fat jew fat jew fat jew fat jew fat jew fat jew fat jew fat jew fat jew fat jew fat jew fat jew fat jew fat jew fat jew fat jew fat jew fat jew fat jew fat jew fat jew fat jew fat jew fat jew fat jew fat jew fat jew fat jew fat jew fat jew fat jew fat jew fat jew fat jew fat jew fat jew fat jew fat jew fat jew fat jew fat jew fat jew fat jew fat jew fat jew fat jew fat jew fat jew fat jew fat jew fat jew fat jew fat jew fat jew fat jew fat jew fat jew fat jew fat jew fat jew fat jew fat jew fat jew fat jew fat jew fat jew fat jew fat jew fat jew fat jew fat jew fat jew fat jew fat jew fat jew fat jew fat jew fat jew fat jew fat jew fat jew fat jew fat jew fat jew fat jew fat jew fat jew fat jew fat jew fat jew fat jew fat jew fat jew fat jew fat jew fat jew fat jew fat jewfat jew fat jew fat jew fat jew fat jew fat jew fat jew fat jew fat jew fat jew fat jew fat jew fat jew fat jew fat jew fat jew fat jew fat jew fat jew fat jew fat jew fat jew fat jew fat jew fat jew fat jew fat jew fat jew fat jew fat jew fat jew fat jew fat jew fat jew fat jew fat jew fat jew fat jew fat jew fat jew fat jew fat jew fat jew fat jew fat jew fat jew fat jew fat jew fat jew fat jew fat jew fat jew fat jew fat jew fat jew fat jew fat jew fat jew fat jew fat jew fat jew fat jew fat jew fat jew fat jew fat jew fat jew fat jew fat jew fat jew fat jew fat jew fat jew fat jew fat jew fat jew fat jew fat jew fat jew fat jew fat jew fat\n",
            "1246 05 35 , 25 july 2006 ( hist ) ( diff ) glen jacobs ( early career ) 05 22 , 25 july 2006 ( hist ) ( diff ) jonathan coachman ( career ) 05 21 , 25 july 2006 ( hist ) ( diff ) shawn michaels ( return of dx ) 05 21 , 25 july 2006 ( hist ) ( diff ) shawn michaels ( return of dx ) 05 20 , 25 july 2006 ( hist ) ( diff ) shawn michaels ( return of dx ) 05 19 , 25 july 2006 ( hist ) ( diff ) shawn michaels ( return ) 05 18 , 25 july 2006 ( hist ) ( diff ) shawn michaels 05 17 , 25 july 2006 ( hist ) ( diff ) d generation x ( return ) 18 29 , 24 july 2006 ( hist ) ( diff ) hank ( disambiguation ) ( top ) 15 09 , 24 july 2006 ( hist ) ( diff ) you ca n't see me ( track listing ) ( top ) 14 56 , 24 july 2006 ( hist ) ( diff ) stone cold steve austin ( finishing and signature moves ) 14 54 , 24 july 2006 ( hist ) ( diff ) oscar gutierrez ( extreme championship wrestling ) 10 15 , 24 july 2006 ( hist ) ( diff ) the great american bash ( 2006 ) 10 14 , 24 july 2006 ( hist ) ( diff ) the great american bash ( 2006 ) 10 11 , 24 july 2006 ( hist ) ( diff ) the great american bash ( 2006 ) 10 10 , 24 july 2006 ( hist ) ( diff ) fishman ( wrestler ) ( trivia ) 10 09 , 24 july 2006 ( hist ) ( diff ) chavo guerrero , jr ( smackdown ! ) 10 09 , 24 july 2006 ( hist ) ( diff ) chavo guerrero , jr ( smackdown ! ) 10 08 , 24 july 2006 ( hist ) ( diff ) oscar gutierrez ( world heavyweight champion ) 10 07 , 24 july 2006 ( hist ) ( diff ) oscar gutierrez ( world heavyweight champion ) 10 07 , 24 july 2006 ( hist ) ( diff ) oscar gutierrez ( world heavyweight champion ) 10 06 , 24 july 2006 ( hist ) ( diff ) oscar gutierrez ( world heavyweight champion ) 10 05 , 24 july 2006 ( hist ) ( diff ) oscar gutierrez ( world heavyweight champion ) 10 05 , 24 july 2006 ( hist ) ( diff ) oscar gutierrez ( world heavyweight champion ) 10 03 , 24 july 2006 ( hist ) ( diff ) chavo guerrero , jr ( smackdown ! ) 10 03 , 24 july 2006 ( hist ) ( diff ) chavo guerrero , jr ( smackdown ! ) 10 01 , 24 july 2006 ( hist ) ( diff ) chavo guerrero , jr ( smackdown ! ) 10 00 , 24 july 2006 ( hist ) ( diff ) chavo guerrero , jr ( smackdown ! ) 09 59 , 24 july 2006 ( hist ) ( diff ) chavo guerrero , jr 09 57 , 24 july 2006 ( hist ) ( diff ) image chavo hitting rey jpg ( chavo 's heel turn on rey ) ( top ) 06 28 , 24 july 2006 ( hist ) ( diff ) the great american bash ( 2006 ) 06 28 , 24 july 2006 ( hist ) ( diff ) the great american bash ( 2006 ) 06 27 , 24 july 2006 ( hist ) ( diff ) the great american bash ( 2006 ) 06 27 , 24 july 2006 ( hist ) ( diff ) the great american bash ( 2006 ) 06 25 , 24 july 2006 ( hist ) ( diff ) cross canadian ragweed ( top ) 06 24 , 24 july 2006 ( hist ) ( diff ) cross canadian ragweed ( album ) ( top ) 06 24 , 24 july 2006 ( hist ) ( diff ) live and loud at the wormy dog saloon ( top ) 06 23 , 24 july 2006 ( hist ) ( diff ) cross canadian ragweed ( album ) 06 22 , 24 july 2006 ( hist ) ( diff ) garage ( album ) ( top ) 06 20 , 24 july 2006 ( hist ) ( diff ) highway 377 ( top ) 06 19 , 24 july 2006 ( hist ) ( diff ) live loud at the wormy dog saloon bootleg disc 1 ( top ) 06 18 , 24 july 2006 ( hist ) ( diff ) live loud at the wormy dog saloon bootleg disc 2 ( top ) 06 18 , 24 july 2006 ( hist ) ( diff ) live and loud at billy bob 's texas ( top ) 06 18 , 24 july 2006 ( hist ) ( diff ) live and loud at billy bob 's texas 06 17 , 24 july 2006 ( hist ) ( diff ) live loud at the wormy dog saloon bootleg disc 2 06 16 , 24 july 2006 ( hist ) ( diff ) live loud at the wormy dog saloon bootleg disc 1 06 15 , 24 july 2006 ( hist ) ( diff ) live loud at the wormy dog saloon bootleg disc 1 06 13 , 24 july 2006 ( hist ) ( diff ) live and loud at the wormy dog saloon 06 13 , 24 july 2006 ( hist ) ( diff ) live and loud at the wormy dog saloon 06 12 , 24 july 2006 ( hist ) ( diff ) live loud at the wormy dog saloon bootleg disc 1 06 12 , 24 july 2006 ( hist ) ( diff ) live loud at the wormy dog saloon bootleg disc 2 06 11 , 24 july 2006 ( hist ) ( diff ) live loud at the wormy dog saloon bootleg disc 2 06 10 , 24 july 2006 ( hist ) ( diff ) image liveloud2 ( jpg ( i dustind made this image ) ( top ) 06 10 , 24 july 2006 ( hist ) ( diff ) live loud at the wormy dog saloon bootleg disc 2 06 09 , 24 july 2006 ( hist ) ( diff ) live loud at the wormy dog saloon bootleg ( top ) 06 09 , 24 july 2006 ( hist ) ( diff ) live loud at the wormy dog saloon bootleg disc 2 06 08 , 24 july 2006 ( hist ) ( diff ) live loud at the wormy dog saloon bootleg 06 07 , 24 july 2006 ( hist ) ( diff ) live loud at the wormy dog saloon bootleg disc 1 06 06 , 24 july 2006 ( hist ) ( diff ) live loud at the wormy dog saloon bootleg 06 05 , 24 july 2006 ( hist ) ( diff ) live loud at the wormy dog saloon bootleg disc 1 06 05 , 24 july 2006 ( hist ) ( diff ) live loud at the wormy dog saloon bootleg 06 05 , 24 july 2006 ( hist ) ( diff ) live\n",
            "1243 teabag ! teabag , teabag , teabag , teabag , teabag , teabag , teabag , teabag , teabag , teabag , teabag , teabag , teabag , teabag , teabag , teabag , teabag , teabag , teabag , teabag , teabag , teabag , teabag , teabag , teabag , teabag , teabag , teabag , teabag , teabag , teabag , teabag , teabag , teabag , teabag , teabag , teabag , teabag , teabag , teabag , teabag , teabag , teabag , teabag , teabag , teabag , teabag , teabag , teabag , teabag , teabag , teabag , teabag , teabag , teabag , teabag , teabag , teabag , teabag , teabag , teabag , teabag , teabag , teabag , teabag , teabag , teabag , teabag , teabag , teabag , teabag , teabag , teabag , teabag , teabag , teabag , teabag , teabag , teabag , teabag , teabag , teabag , teabag , teabag , teabag , teabag , teabag , teabag , teabag , teabag , teabag , teabag , teabag , teabag , teabag , teabag , teabag , teabag , teabag , teabag , teabag , teabag , teabag , teabag , teabag , teabag , teabag , teabag , teabag , teabag , teabag , teabag , teabag , teabag , teabag , teabag , teabag , teabag , teabag , teabag , teabag , teabag , teabag , teabag , teabag , teabag , teabag , teabag , teabag , teabag , teabag , teabag , teabag , teabag , teabag , teabag , teabag , teabag , teabag , teabag , teabag , teabag , teabag , teabag , teabag , teabag , teabag , teabag , teabag , teabag , teabag , teabag , teabag , teabag , teabag , teabag , teabag , teabag , teabag , teabag , teabag , teabag , teabag , teabag , teabag , teabag , teabag , teabag , teabag , teabag , teabag , teabag , teabag , teabag , teabag , teabag , teabag , teabag , teabag , teabag , teabag , teabag , teabag , teabag , teabag , teabag , teabag , teabag , teabag , teabag , teabag , teabag , teabag , teabag , teabag , teabag , teabag , teabag , teabag , teabag , teabag , teabag , teabag , teabag , teabag , teabag , teabag , teabag , teabag , teabag , teabag , teabag , teabag , teabag , teabag , teabag , teabag , teabag , teabag , teabag , teabag , teabag , teabag , teabag , teabag , teabag , teabag , teabag , teabag , teabag , teabag , teabag , teabag , teabag , teabag , teabag , teabag , teabag , teabag , teabag , teabag , teabag , teabag , teabag , teabag , teabag , teabag , teabag , teabag , teabag , teabag , teabag , teabag , teabag , teabag , teabag , teabag , teabag , teabag , teabag , teabag , teabag , teabag , teabag , teabag , teabag , teabag , teabag , teabag , teabag , teabag , teabag , teabag , teabag , teabag , teabag , teabag , teabag , teabag , teabag , teabag , teabag , teabag , teabag , teabag , teabag , teabag , teabag , teabag , teabag , teabag , teabag , teabag , teabag , teabag , teabag , teabag , teabag , teabag , teabag , teabag , teabag , teabag , teabag , teabag , teabag , teabag , teabag , teabag , teabag , teabag , teabag , teabag , teabag , teabag , teabag , teabag , teabag , teabag , teabag , teabag , teabag , teabag , teabag , teabag , teabag , teabag , teabag , teabag , teabag , teabag , teabag , teabag , teabag , teabag , teabag , teabag , teabag , teabag , teabag , teabag , teabag , teabag , teabag , teabag , teabag , teabag , teabag , teabag , teabag , teabag , teabag , teabag , teabag , teabag , teabag , teabag , teabag , teabag , teabag , teabag , teabag , teabag , teabag , teabag , teabag , teabag , teabag , teabag , teabag , teabag , teabag , teabag , teabag , teabag , teabag , teabag , teabag , teabag , teabag , teabag , teabag , teabag , teabag , teabag , teabag , teabag , teabag , teabag , teabag , teabag , teabag , teabag , teabag , teabag , teabag , teabag , teabag , teabag , teabag , teabag , teabag , teabag , teabag , teabag , teabag , teabag , teabag , teabag , teabag , teabag , teabag , teabag , teabag , teabag , teabag , teabag , teabag , teabag , teabag , teabag , teabag , teabag , teabag , teabag , teabag , teabag , teabag , teabag , teabag , teabag , teabag , teabag , teabag , teabag , teabag , teabag , teabag , teabag , teabag , teabag , teabag , teabag , teabag , teabag , teabag , teabag , teabag , teabag , teabag , teabag , teabag , teabag , teabag , teabag , teabag , teabag , teabag , teabag , teabag , teabag , teabag , teabag , teabag , teabag , teabag , teabag , teabag , teabag , teabag , teabag , teabag , teabag , teabag , teabag , teabag , teabag , teabag , teabag , teabag , teabag , teabag , teabag , teabag , teabag , teabag , teabag , teabag , teabag , teabag , teabag , teabag , teabag , teabag , teabag , teabag , teabag , teabag , teabag , teabag , teabag , teabag , teabag , teabag , teabag , teabag , teabag , teabag , teabag , teabag , teabag , teabag , teabag , teabag , teabag , teabag , teabag , teabag , teabag , teabag , teabag , teabag , teabag , teabag , teabag , teabag , teabag , teabag , teabag , teabag , teabag , teabag , teabag , teabag , teabag , teabag , teabag , teabag , teabag , teabag , teabag , teabag , teabag , teabag , teabag , teabag , teabag , teabag , teabag , teabag , teabag , teabag , teabag , teabag , teabag , teabag , teabag , teabag , teabag , teabag , teabag , teabag , teabag , teabag , teabag , teabag , teabag , teabag , teabag , teabag , teabag , teabag , teabag , teabag , teabag , teabag , teabag , teabag , teabag , teabag , teabag , teabag , teabag , teabag , teabag , teabag , teabag , teabag , teabag , teabag , teabag , teabag , teabag , teabag , teabag , teabag , teabag , teabag , teabag , teabag , teabag , teabag , teabag , teabag , teabag , teabag , teabag , teabag , teabag , teabag , teabag , teabag , teabag , teabag , teabag , teabag , teabag , teabag , teabag , teabag , \n",
            "1240 you are 22 years older than your husband ! you are an old cougar ! you are an old cougar ! you are an old cougar ! you are an old cougar ! you are an old cougar ! you are an old cougar ! you are an old cougar ! you are an old cougar ! you are an old cougar ! you are an old cougar ! you are an old cougar ! you are an old cougar ! you are an old cougar ! you are an old cougar ! you are an old cougar ! you are an old cougar ! you are an old cougar ! you are an old cougar ! you are an old cougar ! you are an old cougar ! you are an old cougar ! you are an old cougar ! you are an old cougar ! you are an old cougar ! you are an old cougar ! you are an old cougar ! you are an old cougar ! you are an old cougar ! you are an old cougar ! you are an old cougar ! you are an old cougar ! you are an old cougar ! you are an old cougar ! you are an old cougar ! you are an old cougar ! you are an old cougar ! you are an old cougar ! you are an old cougar ! you are an old cougar ! you are an old cougar ! you are an old cougar ! you are an old cougar ! you are an old cougar ! you are an old cougar ! you are an old cougar ! you are an old cougar ! you are an old cougar ! you are an old cougar ! you are an old cougar ! you are an old cougar ! you are an old cougar ! you are an old cougar ! you are an old cougar ! you are an old cougar ! you are an old cougar ! you are an old cougar ! you are an old cougar ! you are an old cougar ! you are an old cougar ! you are an old cougar ! you are an old cougar ! you are an old cougar ! you are an old cougar ! you are an old cougar ! you are an old cougar ! you are an old cougar ! you are an old cougar ! you are an old cougar ! you are an old cougar ! you are an old cougar ! you are an old cougar ! you are an old cougar ! you are an old cougar ! you are an old cougar ! you are an old cougar ! you are an old cougar ! you are an old cougar ! you are an old cougar ! you are an old cougar ! you are an old cougar ! you are an old cougar ! you are an old cougar ! you are an old cougar ! you are an old cougar ! you are an old cougar ! you are an old cougar ! you are an old cougar ! you are an old cougar ! you are an old cougar ! you are an old cougar ! you are an old cougar ! you are an old cougar ! you are an old cougar ! you are an old cougar ! you are an old cougar ! you are an old cougar ! you are an old cougar ! you are an old cougar ! you are an old cougar ! you are an old cougar ! you are an old cougar ! you are an old cougar ! you are an old cougar ! you are an old cougar ! you are an old cougar ! you are an old cougar ! you are an old cougar ! you are an old cougar ! you are an old cougar ! you are an old cougar ! you are an old cougar ! you are an old cougar ! you are an old cougar ! you are an old cougar ! you are an old cougar ! you are an old cougar ! you are an old cougar ! you are an old cougar ! you are an old cougar ! you are an old cougar ! you are an old cougar ! you are an old cougar ! you are an old cougar ! you are an old cougar ! you are an old cougar ! you are an old cougar ! you are an old cougar ! you are an old cougar ! you are an old cougar ! you are an old cougar ! you are an old cougar ! you are an old cougar ! you are an old cougar ! you are an old cougar ! you are an old cougar ! you are an old cougar ! you are an old cougar ! you are an old cougar ! you are an old cougar ! you are an old cougar ! you are an old cougar ! you are an old cougar ! you are an old cougar ! you are an old cougar ! you are an old cougar ! you are an old cougar ! you are an old cougar ! you are an old cougar ! you are an old cougar ! you are an old cougar ! you are an old cougar ! you are an old cougar ! you are an old cougar ! you are an old cougar ! you are an old cougar ! you are an old cougar ! you are an old cougar ! you are an old cougar ! you are an old cougar ! you are an old cougar ! you are an old cougar ! you are an old cougar ! you are an old cougar ! you are an old cougar ! you are an old cougar ! you are an old cougar ! you are an old cougar ! you are an old cougar ! you are an old cougar ! you are an old cougar ! you are an old cougar ! you are an old cougar ! you are an old cougar ! you are an old cougar ! you are an old cougar ! you are an old cougar ! you are an old cougar ! you are an old cougar ! you are an old cougar ! you are an old cougar ! you are an old cougar ! you are an old cougar ! you are an old cougar ! you are an old cougar ! you are an old cougar ! you are an old cougar ! you are an old cougar ! you are an old cougar ! you are an old cougar ! you are an old cougar ! you are an old cougar ! you are an old cougar ! you are an old cougar ! you are an old cougar ! you are an old cougar ! you are an old cougar ! you are an old cougar ! you are an old cougar ! you are an old cougar ! you are an old cougar ! you are an old cougar ! you are an old cougar ! you are an old cougar ! you are an old cougar ! you are an old cougar ! \n",
            "1240 caltlas if you continue to rvv it , i will blank your talk page , i will block you , i will ban you , and i will kill youcaltlas if you continue to rvv it , i will blank your talk page , i will block you , i will ban you , and i will kill youcaltlas if you continue to rvv it , i will blank your talk page , i will block you , i will ban you , and i will kill youcaltlas if you continue to rvv it , i will blank your talk page , i will block you , i will ban you , and i will kill youcaltlas if you continue to rvv it , i will blank your talk page , i will block you , i will ban you , and i will kill youcaltlas if you continue to rvv it , i will blank your talk page , i will block you , i will ban you , and i will kill youcaltlas if you continue to rvv it , i will blank your talk page , i will block you , i will ban you , and i will kill youcaltlas if you continue to rvv it , i will blank your talk page , i will block you , i will ban you , and i will kill youcaltlas if you continue to rvv it , i will blank your talk page , i will block you , i will ban you , and i will kill youcaltlas if you continue to rvv it , i will blank your talk page , i will block you , i will ban you , and i will kill youcaltlas if you continue to rvv it , i will blank your talk page , i will block you , i will ban you , and i will kill youcaltlas if you continue to rvv it , i will blank your talk page , i will block you , i will ban you , and i will kill youcaltlas if you continue to rvv it , i will blank your talk page , i will block you , i will ban you , and i will kill youcaltlas if you continue to rvv it , i will blank your talk page , i will block you , i will ban you , and i will kill youcaltlas if you continue to rvv it , i will blank your talk page , i will block you , i will ban you , and i will kill youcaltlas if you continue to rvv it , i will blank your talk page , i will block you , i will ban you , and i will kill youcaltlas if you continue to rvv it , i will blank your talk page , i will block you , i will ban you , and i will kill youcaltlas if you continue to rvv it , i will blank your talk page , i will block you , i will ban you , and i will kill youcaltlas if you continue to rvv it , i will blank your talk page , i will block you , i will ban you , and i will kill youcaltlas if you continue to rvv it , i will blank your talk page , i will block you , i will ban you , and i will kill youcaltlas if you continue to rvv it , i will blank your talk page , i will block you , i will ban you , and i will kill youcaltlas if you continue to rvv it , i will blank your talk page , i will block you , i will ban you , and i will kill youcaltlas if you continue to rvv it , i will blank your talk page , i will block you , i will ban you , and i will kill youcaltlas if you continue to rvv it , i will blank your talk page , i will block you , i will ban you , and i will kill youcaltlas if you continue to rvv it , i will blank your talk page , i will block you , i will ban you , and i will kill youcaltlas if you continue to rvv it , i will blank your talk page , i will block you , i will ban you , and i will kill youcaltlas if you continue to rvv it , i will blank your talk page , i will block you , i will ban you , and i will kill youcaltlas if you continue to rvv it , i will blank your talk page , i will block you , i will ban you , and i will kill youcaltlas if you continue to rvv it , i will blank your talk page , i will block you , i will ban you , and i will kill youcaltlas if you continue to rvv it , i will blank your talk page , i will block you , i will ban you , and i will kill youcaltlas if you continue to rvv it , i will blank your talk page , i will block you , i will ban you , and i will kill youcaltlas if you continue to rvv it , i will blank your talk page , i will block you , i will ban you , and i will kill youcaltlas if you continue to rvv it , i will blank your talk page , i will block you , i will ban you , and i will kill youcaltlas if you continue to rvv it , i will blank your talk page , i will block you , i will ban you , and i will kill youcaltlas if you continue to rvv it , i will blank your talk page , i will block you , i will ban you , and i will kill youcaltlas if you continue to rvv it , i will blank your talk page , i will block you , i will ban you , and i will kill youcaltlas if you continue to rvv it , i will blank your talk page , i will block you , i will ban you , and i will kill youcaltlas if you continue to rvv it , i will blank your talk page , i will block you , i will ban you , and i will kill youcaltlas if you continue to rvv it , i will blank your talk page , i will block you , i will ban you , and i will kill youcaltlas if you continue to rvv it , i will blank your talk page , i will block you , i will ban you , and i will kill youcaltlas if you continue to rvv it , i will blank your talk page , i will block you , i will ban you , and i will kill youcaltlas if you continue to rvv it , i will blank your talk page , i will block you , i will ban you , and i will kill youcaltlas if you continue to rvv it , i will blank your talk page , i will block you , i wi\n",
            "1238 that was really milleseconds wasnt it bitch fat jew fat jew fat jew fat jew fat jew fat jew fat jew fat jew fat jew fat jew fat jew fat jew fat jew fat jew fat jew fat jew fat jew fat jew fat jew fat jew fat jew fat jew fat jew fat jew fat jew fat jew fat jew fat jew fat jew fat jew fat jew fat jew fat jew fat jew fat jew fat jew fat jew fat jew fat jew fat jew fat jew fat jew fat jew fat jew fat jew fat jew fat jew fat jew fat jew fat jew fat jew fat jew fat jew fat jew fat jew fat jew fat jew fat jew fat jew fat jew fat jew fat jew fat jew fat jew fat jew fat jew fat jew fat jew fat jew fat jew fat jew fat jew fat jew fat jew fat jew fat jew fat jew fat jew fat jew fat jew fat jew fat jew fat jew fat jew fat jew fat jew fat jew fat jew fat jew fat jew fat jew fat jew fat jew fat jew fat jew fat jew fat jew fat jew fat jew fat jew fat jew fat jew fat jew fat jew fat jew fat jew fat jew fat jew fat jew fat jew fat jew fat jew fat jew fat jew fat jew fat jew fat jew fat jew fat jew fat jew fat jew fat jew fat jew fat jew fat jew fat jew fat jew fat jew fat jew fat jew fat jew fat jew fat jew fat jew fat jew fat jewfat jew fat jew fat jew fat jew fat jew fat jew fat jew fat jew fat jew fat jew fat jew fat jew fat jew fat jew fat jew fat jew fat jew fat jew fat jew fat jew fat jew fat jew fat jew fat jew fat jew fat jew fat jew fat jew fat jew fat jew fat jew fat jew fat jew fat jew fat jew fat jew fat jew fat jew fat jew fat jew fat jew fat jew fat jew fat jew fat jew fat jew fat jew fat jew fat jew fat jew fat jew fat jew fat jew fat jew fat jew fat jew fat jew fat jew fat jew fat jew fat jew fat jew fat jew fat jew fat jew fat jew fat jew fat jew fat jew fat jew fat jew fat jew fat jew fat jew fat jew fat jew fat jew fat jew fat jew fat jew fat jew fat jew fat jew fat jew fat jew fat jew fat jew fat jew fat jew fat jew fat jew fat jew fat jew fat jew fat jew fat jew fat jew fat jew fat jew fat jew fat jew fat jew fat jew fat jew fat jew fat jew fat jew fat jew fat jew fat jew fat jew fat jew fat jew fat jew fat jew fat jew fat jew fat jew fat jew fat jew fat jew fat jew fat jew fat jew fat jew fat jew fat jew fat jew fat jew fat jew fat jew fat jew fat jew fat jew fat jew fat jewfat jew fat jew fat jew fat jew fat jew fat jew fat jew fat jew fat jew fat jew fat jew fat jew fat jew fat jew fat jew fat jew fat jew fat jew fat jew fat jew fat jew fat jew fat jew fat jew fat jew fat jew fat jew fat jew fat jew fat jew fat jew fat jew fat jew fat jew fat jew fat jew fat jew fat jew fat jew fat jew fat jew fat jew fat jew fat jew fat jew fat jew fat jew fat jew fat jew fat jew fat jew fat jew fat jew fat jew fat jew fat jew fat jew fat jew fat jew fat jew fat jew fat jew fat jew fat jew fat jew fat jew fat jew fat jew fat jew fat jew fat jew fat jew fat jew fat jew fat jew fat jew fat jew fat jew fat jew fat jew fat jew fat jew fat jew fat jew fat jew fat jew fat jew fat jew fat jew fat jew fat jew fat jew fat jew fat jew fat jew fat jew fat jew fat jew fat jew fat jew fat jew fat jew fat jew fat jew fat jew fat jew fat jew fat jew fat jew fat jew fat jew fat jew fat jew fat jew fat jew fat jew fat jew fat jew fat jew fat jew fat jew fat jew fat jew fat jew fat jew fat jew fat jew fat jew fat jew fat jew fat jew fat jew fat jew fat jew fat jew fat jewfat jew fat jew fat jew fat jew fat jew fat jew fat jew fat jew fat jew fat jew fat jew fat jew fat jew fat jew fat jew fat jew fat jew fat jew fat jew fat jew fat jew fat jew fat jew fat jew fat jew fat jew fat jew fat jew fat jew fat jew fat jew fat jew fat jew fat jew fat jew fat jew fat jew fat jew fat jew fat jew fat jew fat jew fat jew fat jew fat jew fat jew fat jew fat jew fat jew fat jew fat jew fat jew fat jew fat jew fat jew fat jew fat jew fat jew fat jew fat jew fat jew fat jew fat jew fat jew fat jew fat jew fat jew fat jew fat jew fat jew fat jew fat jew fat jew fat jew fat jew fat jew fat jew fat jew fat jew fat jew fat jew fat jew fat jew fat jew fat jew fat jew fat jew fat jew fat jew fat jew fat jew fat jew fat jew fat jew fat jew fat jew fat jew fat jew fat jew fat jew fat jew fat jew fat jew fat jew fat jew fat jew fat jew fat jew fat jew fat jew fat jew fat jew fat jew fat jew fat jew fat jew fat jew fat jew fat jew fat jew fat jew fat jew fat jew fat jew fat jew fat jew fat jew fat jew fat jew fat jew fat jew fat jew fat jew fat jew fat jew fat jewfat jew fat jew fat jew fat jew fat jew fat jew fat jew fat jew fat jew fat jew fat jew fat jew fat jew fat jew fat jew fat jew fat jew fat jew fat jew fat jew fat jew fat jew fat jew fat jew fat jew fat jew fat jew fat jew fat jew fat jew fat jew fat jew fat jew fat jew fat jew fat jew fat jew fat jew fat jew fat jew fat jew fat jew fat jew fat jew fat jew fat jew fat jew fat jew fat jew fat jew fat jew fat jew fat jew fat jew fat jew fat jew fat jew fat jew fat jew fat jew fat jew fat jew fat jew fat jew fat jew fat jew fat jew fat jew fat jew fat jew fat jew fat jew fat jew fat\n",
            "1202 this person is an asshole ! ! ! this person is an asshole ! ! ! this person is an asshole ! ! ! this person is an asshole ! ! ! this person is an asshole ! ! ! this person is an asshole ! ! ! this person is an asshole ! ! ! this person is an asshole ! ! ! this person is an asshole ! ! ! this person is an asshole ! ! ! this person is an asshole ! ! ! this person is an asshole ! ! ! this person is an asshole ! ! ! this person is an asshole ! ! ! this person is an asshole ! ! ! this person is an asshole ! ! ! this person is an asshole ! ! ! this person is an asshole ! ! ! this person is an asshole ! ! ! this person is an asshole ! ! ! this person is an asshole ! ! ! this person is an asshole ! ! ! this person is an asshole ! ! ! this person is an asshole ! ! ! this person is an asshole ! ! ! this person is an asshole ! ! ! this person is an asshole ! ! ! this person is an asshole ! ! ! this person is an asshole ! ! ! this person is an asshole ! ! ! this person is an asshole ! ! ! this person is an asshole ! ! ! this person is an asshole ! ! ! this person is an asshole ! ! ! this person is an asshole ! ! ! this person is an asshole ! ! ! this person is an asshole ! ! ! this person is an asshole ! ! ! this person is an asshole ! ! ! this person is an asshole ! ! ! this person is an asshole ! ! ! this person is an asshole ! ! ! this person is an asshole ! ! ! this person is an asshole ! ! ! this person is an asshole ! ! ! this person is an asshole ! ! ! this person is an asshole ! ! ! this person is an asshole ! ! ! this person is an asshole ! ! ! this person is an asshole ! ! ! this person is an asshole ! ! ! this person is an asshole ! ! ! this person is an asshole ! ! ! this person is an asshole ! ! ! this person is an asshole ! ! ! this person is an asshole ! ! ! this person is an asshole ! ! ! this person is an asshole ! ! ! this person is an asshole ! ! ! this person is an asshole ! ! ! this person is an asshole ! ! ! this person is an asshole ! ! ! this person is an asshole ! ! ! this person is an asshole ! ! ! this person is an asshole ! ! ! this person is an asshole ! ! ! this person is an asshole ! ! ! this person is an asshole ! ! ! this person is an asshole ! ! ! this person is an asshole ! ! ! this person is an asshole ! ! ! this person is an asshole ! ! ! this person is an asshole ! ! ! this person is an asshole ! ! ! this person is an asshole ! ! ! this person is an asshole ! ! ! this person is an asshole ! ! ! this person is an asshole ! ! ! this person is an asshole ! ! ! this person is an asshole ! ! ! this person is an asshole ! ! ! this person is an asshole ! ! ! this person is an asshole ! ! ! this person is an asshole ! ! ! this person is an asshole ! ! ! this person is an asshole ! ! ! this person is an asshole ! ! ! this person is an asshole ! ! ! this person is an asshole ! ! ! this person is an asshole ! ! ! this person is an asshole ! ! ! this person is an asshole ! ! ! this person is an asshole ! ! ! this person is an asshole ! ! ! this person is an asshole ! ! ! this person is an asshole ! ! ! this person is an asshole ! ! ! this person is an asshole ! ! ! this person is an asshole ! ! ! this person is an asshole ! ! ! this person is an asshole ! ! ! this person is an asshole ! ! ! this person is an asshole ! ! ! this person is an asshole ! ! ! this person is an asshole ! ! ! this person is an asshole ! ! ! this person is an asshole ! ! ! this person is an asshole ! ! ! this person is an asshole ! ! ! this person is an asshole ! ! ! this person is an asshole ! ! ! this person is an asshole ! ! ! this person is an asshole ! ! ! this person is an asshole ! ! ! this person is an asshole ! ! ! this person is an asshole ! ! ! this person is an asshole ! ! ! this person is an asshole ! ! ! this person is an asshole ! ! ! this person is an asshole ! ! ! this person is an asshole ! ! ! this person is an asshole ! ! ! this person is an asshole ! ! ! this person is an asshole ! ! ! this person is an asshole ! ! ! this person is an asshole ! ! ! this person is an asshole ! ! ! this person is an asshole ! ! ! this person is an asshole ! ! ! this person is an asshole ! ! ! this person is an asshole ! ! ! this person is an asshole ! ! ! this person is an asshole ! ! ! this person is an asshole ! ! ! this person is an asshole ! ! ! this person is an asshole ! ! ! this person is an asshole ! ! ! this person is an asshole ! ! ! this person is an asshole ! ! ! this person is an asshole ! ! ! this person is an asshole ! ! ! this person is an asshole ! ! ! this person is an asshole ! ! ! this person is an asshole ! ! ! this person is an asshole ! ! ! this person is an asshole ! ! ! this person is an asshole ! ! ! this person is an asshole ! ! ! this person is an asshole ! ! ! this person is an asshole ! ! ! this pers\n",
            "1200 dust filter , if you rvv it again ! i will fuckin kill you ! i will block you , i will blank your talk page , i will steal your password , i will take over you ! i will block you ! dust filter , if you rvv it again ! i will fuckin kill you ! i will block you , i will blank your talk page , i will steal your password , i will take over you ! i will block you ! dust filter , if you rvv it again ! i will fuckin kill you ! i will block you , i will blank your talk page , i will steal your password , i will take over you ! i will block you ! dust filter , if you rvv it again ! i will fuckin kill you ! i will block you , i will blank your talk page , i will steal your password , i will take over you ! i will block you ! dust filter , if you rvv it again ! i will fuckin kill you ! i will block you , i will blank your talk page , i will steal your password , i will take over you ! i will block you ! dust filter , if you rvv it again ! i will fuckin kill you ! i will block you , i will blank your talk page , i will steal your password , i will take over you ! i will block you ! dust filter , if you rvv it again ! i will fuckin kill you ! i will block you , i will blank your talk page , i will steal your password , i will take over you ! i will block you ! dust filter , if you rvv it again ! i will fuckin kill you ! i will block you , i will blank your talk page , i will steal your password , i will take over you ! i will block you ! dust filter , if you rvv it again ! i will fuckin kill you ! i will block you , i will blank your talk page , i will steal your password , i will take over you ! i will block you ! dust filter , if you rvv it again ! i will fuckin kill you ! i will block you , i will blank your talk page , i will steal your password , i will take over you ! i will block you ! dust filter , if you rvv it again ! i will fuckin kill you ! i will block you , i will blank your talk page , i will steal your password , i will take over you ! i will block you ! dust filter , if you rvv it again ! i will fuckin kill you ! i will block you , i will blank your talk page , i will steal your password , i will take over you ! i will block you ! dust filter , if you rvv it again ! i will fuckin kill you ! i will block you , i will blank your talk page , i will steal your password , i will take over you ! i will block you ! dust filter , if you rvv it again ! i will fuckin kill you ! i will block you , i will blank your talk page , i will steal your password , i will take over you ! i will block you ! dust filter , if you rvv it again ! i will fuckin kill you ! i will block you , i will blank your talk page , i will steal your password , i will take over you ! i will block you ! dust filter , if you rvv it again ! i will fuckin kill you ! i will block you , i will blank your talk page , i will steal your password , i will take over you ! i will block you ! dust filter , if you rvv it again ! i will fuckin kill you ! i will block you , i will blank your talk page , i will steal your password , i will take over you ! i will block you ! dust filter , if you rvv it again ! i will fuckin kill you ! i will block you , i will blank your talk page , i will steal your password , i will take over you ! i will block you ! dust filter , if you rvv it again ! i will fuckin kill you ! i will block you , i will blank your talk page , i will steal your password , i will take over you ! i will block you ! dust filter , if you rvv it again ! i will fuckin kill you ! i will block you , i will blank your talk page , i will steal your password , i will take over you ! i will block you ! dust filter , if you rvv it again ! i will fuckin kill you ! i will block you , i will blank your talk page , i will steal your password , i will take over you ! i will block you ! dust filter , if you rvv it again ! i will fuckin kill you ! i will block you , i will blank your talk page , i will steal your password , i will take over you ! i will block you ! dust filter , if you rvv it again ! i will fuckin kill you ! i will block you , i will blank your talk page , i will steal your password , i will take over you ! i will block you ! dust filter , if you rvv it again ! i will fuckin kill you ! i will block you , i will blank your talk page , i will steal your password , i will take over you ! i will block you ! dust filter , if you rvv it again ! i will fuckin kill you ! i will block you , i will blank your talk page , i will steal your password , i will take over you ! i will block you ! dust filter , if you rvv it again ! i will fuckin kill you ! i will block you , i will blank your talk page , i will steal your password , i will take over you ! i will block you ! dust filter , if you rvv it again ! i will fuckin kill you ! i will block you , i will blank your talk page , i will steal your password , i will take over you ! i will block you ! dust filter , if you rvv it again ! i will f\n",
            "1198 i am going to kill you i am going to murder you i am going to kill you i am going to murder you i am going to kill you i am going to murder you i am going to kill you i am going to murder you i am going to kill you i am going to murder you i am going to kill you i am going to murder you i am going to kill you i am going to murder you i am going to kill you i am going to murder you i am going to kill you i am going to murder you i am going to kill you i am going to murder you i am going to kill you i am going to murder you i am going to kill you i am going to murder you i am going to kill you i am going to murder you i am going to kill you i am going to murder you i am going to kill you i am going to murder you i am going to kill you i am going to murder you i am going to kill you i am going to murder you i am going to kill you i am going to murder you i am going to kill you i am going to murder you i am going to kill you i am going to murder you i am going to kill you i am going to murder you i am going to kill you i am going to murder you i am going to kill you i am going to murder you i am going to kill you i am going to murder you i am going to kill you i am going to murder you i am going to kill you i am going to murder you i am going to kill you i am going to murder you i am going to kill you i am going to murder you i am going to kill you i am going to murder you i am going to kill you i am going to murder you i am going to kill you i am going to murder you i am going to kill you i am going to murder you i am going to kill you i am going to murder you i am going to kill you i am going to murder you i am going to kill you i am going to murder you i am going to kill you i am going to murder you i am going to kill you i am going to murder you i am going to kill you i am going to murder you i am going to kill you i am going to murder you i am going to kill you i am going to murder you i am going to kill you i am going to murder you i am going to kill you i am going to murder you i am going to kill you i am going to murder you i am going to kill you i am going to murder you i am going to kill you i am going to murder you i am going to kill you i am going to murder you i am going to kill you i am going to murder you i am going to kill you i am going to murder you i am going to kill you i am going to murder you i am going to kill you i am going to murder you i am going to kill you i am going to murder you i am going to kill you i am going to murder you i am going to kill you i am going to murder you i am going to kill you i am going to murder you i am going to kill you i am going to murder you i am going to kill you i am going to murder you i am going to kill you i am going to murder you i am going to kill you i am going to murder you i am going to kill you i am going to murder you i am going to kill you i am going to murder you i am going to kill you i am going to murder you i am going to kill you i am going to murder you i am going to kill you i am going to murder you i am going to kill you i am going to murder you i am going to kill you i am going to murder you i am going to kill you i am going to murder you i am going to kill you i am going to murder you i am going to kill you i am going to murder you i am going to kill you i am going to murder you i am going to kill you i am going to murder you i am going to kill you i am going to murder you i am going to kill you i am going to murder you i am going to kill you i am going to murder you i am going to kill you i am going to murder you i am going to kill you i am going to murder you i am going to kill you i am going to murder you i am going to kill you i am going to murder you i am going to kill you i am going to murder you i am going to kill you i am going to murder you i am going to kill you i am going to murder you i am going to kill you i am going to murder you i am going to kill you i am going to murder you i am going to kill you i am going to murder you i am going to kill you i am going to murder you i am going to kill you i am going to murder you i am going to kill you i am going to murder you i am going to kill you i am going to murder you i am going to kill you i am going to murder you i am going to kill you i am going to murder you i am going to kill you i am going to murder you i am going to kill you i am going to murder you i am going to kill you i am going to murder you i am going to kill you i am going to murder you i am going to kill you i am going to murder you i am going to kill you i am going to murder you i am going to kill you i am going to murder you i am going to kill you i am going to murder you i am going to kill you i am going to murder you i am going to kill you i am going to murder you i am going to kill you i am going t\n",
            "1192 you fucking kike ! do n't edit things you have no idea about ! give credit where it 's due ! you fucking kike ! do n't edit things you have no idea about ! give credit where it 's due ! you fucking kike ! do n't edit things you have no idea about ! give credit where it 's due ! you fucking kike ! do n't edit things you have no idea about ! give credit where it 's due ! you fucking kike ! do n't edit things you have no idea about ! give credit where it 's due ! you fucking kike ! do n't edit things you have no idea about ! give credit where it 's due ! you fucking kike ! do n't edit things you have no idea about ! give credit where it 's due ! you fucking kike ! do n't edit things you have no idea about ! give credit where it 's due ! you fucking kike ! do n't edit things you have no idea about ! give credit where it 's due ! you fucking kike ! do n't edit things you have no idea about ! give credit where it 's due ! you fucking kike ! do n't edit things you have no idea about ! give credit where it 's due ! you fucking kike ! do n't edit things you have no idea about ! give credit where it 's due ! you fucking kike ! do n't edit things you have no idea about ! give credit where it 's due ! you fucking kike ! do n't edit things you have no idea about ! give credit where it 's due ! you fucking kike ! do n't edit things you have no idea about ! give credit where it 's due ! you fucking kike ! do n't edit things you have no idea about ! give credit where it 's due ! you fucking kike ! do n't edit things you have no idea about ! give credit where it 's due ! you fucking kike ! do n't edit things you have no idea about ! give credit where it 's due ! you fucking kike ! do n't edit things you have no idea about ! give credit where it 's due ! you fucking kike ! do n't edit things you have no idea about ! give credit where it 's due ! you fucking kike ! do n't edit things you have no idea about ! give credit where it 's due ! you fucking kike ! do n't edit things you have no idea about ! give credit where it 's due ! you fucking kike ! do n't edit things you have no idea about ! give credit where it 's due ! you fucking kike ! do n't edit things you have no idea about ! give credit where it 's due ! you fucking kike ! do n't edit things you have no idea about ! give credit where it 's due ! you fucking kike ! do n't edit things you have no idea about ! give credit where it 's due ! you fucking kike ! do n't edit things you have no idea about ! give credit where it 's due ! you fucking kike ! do n't edit things you have no idea about ! give credit where it 's due ! you fucking kike ! do n't edit things you have no idea about ! give credit where it 's due ! you fucking kike ! do n't edit things you have no idea about ! give credit where it 's due ! you fucking kike ! do n't edit things you have no idea about ! give credit where it 's due ! you fucking kike ! do n't edit things you have no idea about ! give credit where it 's due ! you fucking kike ! do n't edit things you have no idea about ! give credit where it 's due ! you fucking kike ! do n't edit things you have no idea about ! give credit where it 's due ! you fucking kike ! do n't edit things you have no idea about ! give credit where it 's due ! you fucking kike ! do n't edit things you have no idea about ! give credit where it 's due ! you fucking kike ! do n't edit things you have no idea about ! give credit where it 's due ! you fucking kike ! do n't edit things you have no idea about ! give credit where it 's due ! you fucking kike ! do n't edit things you have no idea about ! give credit where it 's due ! you fucking kike ! do n't edit things you have no idea about ! give credit where it 's due ! you fucking kike ! do n't edit things you have no idea about ! give credit where it 's due ! you fucking kike ! do n't edit things you have no idea about ! give credit where it 's due ! you fucking kike ! do n't edit things you have no idea about ! give credit where it 's due ! you fucking kike ! do n't edit things you have no idea about ! give credit where it 's due ! you fucking kike ! do n't edit things you have no idea about ! give credit where it 's due ! you fucking kike ! do n't edit things you have no idea about ! give credit where it 's due ! you fucking kike ! do n't edit things you have no idea about ! give credit where it 's due ! you fucking kike ! do n't edit things you have no idea about ! give credit where it 's due ! you fucking kike ! do n't edit things you have no idea about ! give credit where it 's due ! you fucking kike ! do n't edit things you have no idea about ! give credit where it 's due ! you fucking kike ! do n't edit things you have no idea about ! give credit where it 's due ! you fucking kike ! do n't edit things you have no idea about ! give credit where it 's due ! you fucking kike ! do n't edit things you have no idea about ! give credit where it 's due ! you fucking kike ! do n't edit things you have no idea about ! give credit where it 's due ! you fucking kike ! do n't edit things you have no idea about ! give credit where it 's due ! you fucking kike ! do n't edit things you have no idea about ! give credit where it 's due ! you fucking kike ! do n't edit things you have no idea about ! give credit\n",
            "1188 i am a homo sexual i am a homo sexual i am a homo sexual i am a homo sexual i am a homo sexual i am a homo sexual i am a homo sexual i am a homo sexual i am a homo sexual i am a homo sexual i am a homo sexual i am a homo sexual i am a homo sexual i am a homo sexual i am a homo sexual i am a homo sexual i am a homo sexual i am a homo sexual i am a homo sexual i am a homo sexual i am a homo sexual i am a homo sexual i am a homo sexual i am a homo sexual i am a homo sexual i am a homo sexual i am a homo sexual i am a homo sexual i am a homo sexual i am a homo sexual i am a homo sexual i am a homo sexual i am a homo sexual i am a homo sexual i am a homo sexual i am a homo sexual i am a homo sexual i am a homo sexual i am a homo sexual i am a homo sexual i am a homo sexual i am a homo sexual i am a homo sexual i am a homo sexual i am a homo sexual i am a homo sexual i am a homo sexual i am a homo sexual i am a homo sexual i am a homo sexual i am a homo sexual i am a homo sexual i am a homo sexual i am a homo sexual i am a homo sexual i am a homo sexual i am a homo sexual i am a homo sexual i am a homo sexual i am a homo sexual i am a homo sexual i am a homo sexual i am a homo sexual i am a homo sexual i am a homo sexual i am a homo sexual i am a homo sexual i am a homo sexual i am a homo sexual i am a homo sexual i am a homo sexual i am a homo sexual i am a homo sexual i am a homo sexual i am a homo sexual i am a homo sexual i am a homo sexual i am a homo sexual i am a homo sexual i am a homo sexual i am a homo sexual i am a homo sexual i am a homo sexual i am a homo sexual i am a homo sexual i am a homo sexual i am a homo sexual i am a homo sexual i am a homo sexual i am a homo sexual i am a homo sexual i am a homo sexual i am a homo sexual i am a homo sexual i am a homo sexual i am a homo sexual i am a homo sexual i am a homo sexual i am a homo sexual i am a homo sexual i am a homo sexual i am a homo sexual i am a homo sexual i am a homo sexual i am a homo sexual i am a homo sexual i am a homo sexual i am a homo sexual i am a homo sexual i am a homo sexual i am a homo sexual i am a homo sexual i am a homo sexual i am a homo sexual i am a homo sexual i am a homo sexual i am a homo sexual i am a homo sexual i am a homo sexual i am a homo sexual i am a homo sexual i am a homo sexual i am a homo sexual i am a homo sexual i am a homo sexual i am a homo sexual i am a homo sexual i am a homo sexual i am a homo sexual i am a homo sexual i am a homo sexual i am a homo sexual i am a homo sexual i am a homo sexual i am a homo sexual i am a homo sexual i am a homo sexual i am a homo sexual i am a homo sexual i am a homo sexual i am a homo sexual i am a homo sexual i am a homo sexual i am a homo sexual i am a homo sexual i am a homo sexual i am a homo sexual i am a homo sexual i am a homo sexual i am a homo sexual i am a homo sexual i am a homo sexual i am a homo sexual i am a homo sexual i am a homo sexual i am a homo sexual i am a homo sexual i am a homo sexual i am a homo sexual i am a homo sexual i am a homo sexual i am a homo sexual i am a homo sexual i am a homo sexual i am a homo sexual i am a homo sexual i am a homo sexual i am a homo sexual i am a homo sexual i am a homo sexual i am a homo sexual i am a homo sexual i am a homo sexual i am a homo sexual i am a homo sexual i am a homo sexual i am a homo sexual i am a homo sexual i am a homo sexual i am a homo sexual i am a homo sexual i am a homo sexual i am a homo sexual i am a homo sexual i am a homo sexual i am a homo sexual i am a homo sexual i am a homo sexual i am a homo sexual i am a homo sexual i am a homo sexual i am a homo sexual i am a homo sexual i am a homo sexual i am a homo sexual i am a homo sexual i am a homo sexual i am a homo sexual i am a homo sexual i am a homo sexual i am a homo sexual i am a homo sexual i am a homo sexual i am a homo sexual i am a homo sexual i am a homo sexual i am a homo sexual i am a homo sexual i am a homo sexual i am a homo sexual i am a homo sexual i am a homo sexual i am a homo sexual i am a homo sexual i am a homo sexual i am a homo sexual i am a homo sexual i am a homo sexual i am a homo sexual i am a homo sexual i am a homo sexual i am a homo sexual i am a homo sexual i am a homo sexual i am a homo sexual i am a homo sexual i am a homo sexual i am a homo sexual i am a homo sexual i am a homo sexual i am a homo sexual i am a homo sexual i am a homo sexual i am a homo sexual i am a homo sexual i am a homo sexual i am a homo sexual i am a\n",
            "1177 so i was all like who farted , than i realized i need to be banned so i was all like who farted , than i realized i need to be banned so i was all like who farted , than i realized i need to be banned so i was all like who farted , than i realized i need to be banned so i was all like who farted , than i realized i need to be banned so i was all like who farted , than i realized i need to be banned so i was all like who farted , than i realized i need to be banned so i was all like who farted , than i realized i need to be banned so i was all like who farted , than i realized i need to be banned so i was all like who farted , than i realized i need to be banned so i was all like who farted , than i realized i need to be banned so i was all like who farted , than i realized i need to be banned so i was all like who farted , than i realized i need to be banned so i was all like who farted , than i realized i need to be banned so i was all like who farted , than i realized i need to be banned so i was all like who farted , than i realized i need to be banned so i was all like who farted , than i realized i need to be banned so i was all like who farted , than i realized i need to be banned so i was all like who farted , than i realized i need to be banned so i was all like who farted , than i realized i need to be banned so i was all like who farted , than i realized i need to be banned so i was all like who farted , than i realized i need to be banned so i was all like who farted , than i realized i need to be banned so i was all like who farted , than i realized i need to be banned so i was all like who farted , than i realized i need to be banned so i was all like who farted , than i realized i need to be banned so i was all like who farted , than i realized i need to be banned so i was all like who farted , than i realized i need to be banned so i was all like who farted , than i realized i need to be banned so i was all like who farted , than i realized i need to be banned so i was all like who farted , than i realized i need to be banned so i was all like who farted , than i realized i need to be banned so i was all like who farted , than i realized i need to be banned so i was all like who farted , than i realized i need to be banned so i was all like who farted , than i realized i need to be banned so i was all like who farted , than i realized i need to be banned so i was all like who farted , than i realized i need to be banned so i was all like who farted , than i realized i need to be banned so i was all like who farted , than i realized i need to be banned so i was all like who farted , than i realized i need to be banned so i was all like who farted , than i realized i need to be banned so i was all like who farted , than i realized i need to be banned so i was all like who farted , than i realized i need to be banned so i was all like who farted , than i realized i need to be banned so i was all like who farted , than i realized i need to be banned so i was all like who farted , than i realized i need to be banned so i was all like who farted , than i realized i need to be banned so i was all like who farted , than i realized i need to be banned so i was all like who farted , than i realized i need to be banned so i was all like who farted , than i realized i need to be banned so i was all like who farted , than i realized i need to be banned so i was all like who farted , than i realized i need to be banned so i was all like who farted , than i realized i need to be banned so i was all like who farted , than i realized i need to be banned so i was all like who farted , than i realized i need to be banned so i was all like who farted , than i realized i need to be banned so i was all like who farted , than i realized i need to be banned so i was all like who farted , than i realized i need to be banned so i was all like who farted , than i realized i need to be banned so i was all like who farted , than i realized i need to be banned so i was all like who farted , than i realized i need to be banned so i was all like who farted , than i realized i need to be banned so i was all like who farted , than i realized i need to be banned so i was all like who farted , than i realized i need to be banned so i was all like who farted , than i realized i need to be banned so i was all like who farted , than i realized i need to be banned so i was all like who farted , than i realized i need to be banned so i was all like who farted , than i realized i need to be banned so i was all like who farted , than i realized i need to be banned so i was all like who farted , than i realized i need to be banned so i was all like who farted , than i realized i need to be banned so i was all like who farted , than i realized i need to be banned so i was all like who farted , than i realized i need to be banned so i was all like who farted , than\n",
            "1167 hey guys i love chicken rice ) hey guys i love chicken rice ) hey guys i love chicken rice ) hey guys i love chicken rice ) hey guys i love chicken rice ) hey guys i love chicken rice ) hey guys i love chicken rice ) hey guys i love chicken rice ) hey guys i love chicken rice ) hey guys i love chicken rice ) hey guys i love chicken rice ) hey guys i love chicken rice ) hey guys i love chicken rice ) hey guys i love chicken rice ) hey guys i love chicken rice ) hey guys i love chicken rice ) hey guys i love chicken rice ) hey guys i love chicken rice ) hey guys i love chicken rice ) hey guys i love chicken rice ) hey guys i love chicken rice ) hey guys i love chicken rice ) hey guys i love chicken rice ) hey guys i love chicken rice ) hey guys i love chicken rice ) hey guys i love chicken rice ) hey guys i love chicken rice ) hey guys i love chicken rice ) hey guys i love chicken rice ) hey guys i love chicken rice ) hey guys i love chicken rice ) hey guys i love chicken rice ) hey guys i love chicken rice ) hey guys i love chicken rice ) hey guys i love chicken rice ) hey guys i love chicken rice ) hey guys i love chicken rice ) hey guys i love chicken rice ) hey guys i love chicken rice ) hey guys i love chicken rice ) hey guys i love chicken rice ) hey guys i love chicken rice ) hey guys i love chicken rice ) hey guys i love chicken rice ) hey guys i love chicken rice ) hey guys i love chicken rice ) hey guys i love chicken rice ) hey guys i love chicken rice ) hey guys i love chicken rice ) hey guys i love chicken rice ) hey guys i love chicken rice ) hey guys i love chicken rice ) hey guys i love chicken rice ) hey guys i love chicken rice ) hey guys i love chicken rice ) hey guys i love chicken rice ) hey guys i love chicken rice ) hey guys i love chicken rice ) hey guys i love chicken rice ) hey guys i love chicken rice ) hey guys i love chicken rice ) hey guys i love chicken rice ) hey guys i love chicken rice ) hey guys i love chicken rice ) hey guys i love chicken rice ) hey guys i love chicken rice ) hey guys i love chicken rice ) hey guys i love chicken rice ) hey guys i love chicken rice ) hey guys i love chicken rice ) hey guys i love chicken rice ) hey guys i love chicken rice ) hey guys i love chicken rice ) hey guys i love chicken rice ) hey guys i love chicken rice ) hey guys i love chicken rice ) hey guys i love chicken rice ) hey guys i love chicken rice ) hey guys i love chicken rice ) hey guys i love chicken rice ) hey guys i love chicken rice ) hey guys i love chicken rice ) hey guys i love chicken rice ) hey guys i love chicken rice ) hey guys i love chicken rice ) hey guys i love chicken rice ) hey guys i love chicken rice ) hey guys i love chicken rice ) hey guys i love chicken rice ) hey guys i love chicken rice ) hey guys i love chicken rice ) hey guys i love chicken rice ) hey guys i love chicken rice ) hey guys i love chicken rice ) hey guys i love chicken rice ) hey guys i love chicken rice ) hey guys i love chicken rice ) hey guys i love chicken rice ) hey guys i love chicken rice ) hey guys i love chicken rice ) hey guys i love chicken rice ) hey guys i love chicken rice ) hey guys i love chicken rice ) hey guys i love chicken rice ) hey guys i love chicken rice ) hey guys i love chicken rice ) hey guys i love chicken rice ) hey guys i love chicken rice ) hey guys i love chicken rice ) hey guys i love chicken rice ) hey guys i love chicken rice ) hey guys i love chicken rice ) hey guys i love chicken rice ) hey guys i love chicken rice ) hey guys i love chicken rice ) hey guys i love chicken rice ) hey guys i love chicken rice ) hey guys i love chicken rice ) hey guys i love chicken rice ) hey guys i love chicken rice ) hey guys i love chicken rice ) hey guys i love chicken rice ) hey guys i love chicken rice ) hey guys i love chicken rice ) hey guys i love chicken rice ) hey guys i love chicken rice ) hey guys i love chicken rice ) hey guys i love chicken rice ) hey guys i love chicken rice ) hey guys i love chicken rice ) hey guys i love chicken rice ) hey guys i love chicken rice ) hey guys i love chicken rice ) hey guys i love chicken rice ) hey guys i love chicken rice ) hey guys i love chicken rice ) hey guys i love chicken rice ) hey guys i love chicken rice ) hey guys i love chicken rice ) hey guys i love chicken rice ) hey guys i love chicken rice ) hey guys i love chicken rice ) hey guys i love chicken rice ) hey guys i love chicken rice ) hey guys i love chicken rice ) hey guys i love chicken rice ) hey guys i love chicken rice ) hey guys i love chicken rice ) hey guys i love chicken rice ) hey guys i love chicken rice ) hey guys i love chicken rice ) hey guys i love chicken rice ) hey guys i love chicken rice ) hey guys i love chicken rice ) hey guys i love chicken rice ) hey guys i love chicken rice ) hey guys i love chicken rice ) hey guys i love chicken rice ) hey guys i love chicken rice ) hey guys i love chicken rice ) hey guys i love chicken rice ) hey guys i love chicken rice ) hey guys i love chicken rice ) hey guys i love chicken rice ) hey guys i love chicken rice ) hey guys i love chicken rice ) hey guys i love chic\n"
          ],
          "name": "stdout"
        }
      ]
    },
    {
      "cell_type": "code",
      "metadata": {
        "id": "ZIN8-K0LOEU8",
        "colab_type": "code",
        "outputId": "4461979e-7dd9-44f0-d9b1-5939201fcea9",
        "colab": {
          "base_uri": "https://localhost:8080/",
          "height": 638
        }
      },
      "source": [
        "train = data[data.split == \"train\"].copy()\n",
        "train['length'] = train['comment_text'].apply(len)\n",
        "toxic_data = train[train['toxic'] == 1]\n",
        "sevtoxic_data = train[train['severe_toxic'] == 1]\n",
        "nontoxic=train[train.iloc[:,2:7].sum(axis=1)==0]\n",
        "\n",
        "count=pd.Series(' '.join(toxic_data['comment_text']).split()).value_counts()\n",
        "count=count.sort_values(ascending=False)\n",
        "count_head=count.head(10)\n",
        "count_head.plot(kind = 'bar', figsize=(10, 10), title='Most frequent tokens in the dataset')"
      ],
      "execution_count": 0,
      "outputs": [
        {
          "output_type": "execute_result",
          "data": {
            "text/plain": [
              "<matplotlib.axes._subplots.AxesSubplot at 0x7f70aca168d0>"
            ]
          },
          "metadata": {
            "tags": []
          },
          "execution_count": 51
        },
        {
          "output_type": "display_data",
          "data": {
            "image/png": "[encoded data removed]",
            "text/plain": [
              "<Figure size 720x720 with 1 Axes>"
            ]
          },
          "metadata": {
            "tags": []
          }
        }
      ]
    },
    {
      "cell_type": "code",
      "metadata": {
        "id": "Nj3DZ2X4Objn",
        "colab_type": "code",
        "outputId": "5b427c66-6207-4d28-8b03-75b900ba92d3",
        "colab": {
          "base_uri": "https://localhost:8080/",
          "height": 410
        }
      },
      "source": [
        "rcParams['figure.figsize'] = (12.0, 6.0)\n",
        "bins = 1000\n",
        "plt.hist(toxic_data['length'], alpha = 0.4, bins=bins, label='toxic',density=True)\n",
        "plt.hist(sevtoxic_data['length'], alpha = 0.4, bins=bins, label='severe_toxic',density=True)\n",
        "plt.hist(nontoxic['length'], alpha = 0.4, bins=bins, label='non-toxic',density=True)\n",
        "plt.xlabel('length')\n",
        "plt.ylabel('number_ratio')\n",
        "plt.legend(loc='upper right')\n",
        "plt.title('Distribution of the length of the comments in the dataset')\n",
        "plt.xlim(0,200)\n",
        "plt.grid()\n",
        "plt.show()"
      ],
      "execution_count": 0,
      "outputs": [
        {
          "output_type": "display_data",
          "data": {
            "image/png": "[encoded data removed]",
            "text/plain": [
              "<Figure size 864x432 with 1 Axes>"
            ]
          },
          "metadata": {
            "tags": []
          }
        }
      ]
    },
    {
      "cell_type": "code",
      "metadata": {
        "id": "2SrbmovvO_nw",
        "colab_type": "code",
        "outputId": "280f4ccf-8f44-4bc4-8d93-e7cd331d6be8",
        "colab": {
          "base_uri": "https://localhost:8080/",
          "height": 570
        }
      },
      "source": [
        "nb_occ = train[[\"clean\", \"toxic\", \"insult\", \"obscene\", \"severe_toxic\", \"identity_hate\", \"threat\"]].sum()\n",
        "plt.figure(figsize=(12, 6))\n",
        "print(nb_occ)\n",
        "ax= sns.barplot(nb_occ.index, nb_occ.values, alpha=0.8)\n",
        "plt.title(\"Distribution of the classes in the dataset\")\n",
        "plt.ylabel('# occurrences', fontsize=12)\n",
        "plt.xlabel('Class ', fontsize=12)\n",
        "rects = ax.patches\n",
        "labels = nb_occ.values\n",
        "for rect, label in zip(rects, labels):\n",
        "    height = rect.get_height()\n",
        "    ax.text(rect.get_x() + rect.get_width()/2, height + 5, label, ha='center', va='bottom')\n",
        "\n",
        "plt.show()\n",
        "print('ratio of wiki toxic comment', nb_occ[[\"toxic\", \"insult\", \"obscene\", \"severe_toxic\", \"identity_hate\", \"threat\"]].sum()/len(train))"
      ],
      "execution_count": 0,
      "outputs": [
        {
          "output_type": "stream",
          "text": [
            "clean            100336.0\n",
            "toxic             10719.0\n",
            "insult             5521.0\n",
            "obscene            5904.0\n",
            "severe_toxic       1112.0\n",
            "identity_hate       996.0\n",
            "threat              340.0\n",
            "dtype: float64\n"
          ],
          "name": "stdout"
        },
        {
          "output_type": "display_data",
          "data": {
            "image/png": "[encoded data removed]",
            "text/plain": [
              "<Figure size 864x432 with 1 Axes>"
            ]
          },
          "metadata": {
            "tags": []
          }
        },
        {
          "output_type": "stream",
          "text": [
            "ratio of wiki toxic comment 0.22017494381921876\n"
          ],
          "name": "stdout"
        }
      ]
    },
    {
      "cell_type": "markdown",
      "metadata": {
        "id": "Edxq25t88wO_",
        "colab_type": "text"
      },
      "source": [
        "# 2. Vocabulary"
      ]
    },
    {
      "cell_type": "markdown",
      "metadata": {
        "id": "XoWh_mOkARQ_",
        "colab_type": "text"
      },
      "source": [
        "La classe \"Vocabulary\" créé un dictionnaire qui associe à chaque mot du vocabulaire un entier (son index). Elle contient des fonctions pour aller du mot vers son index et inversement."
      ]
    },
    {
      "cell_type": "code",
      "metadata": {
        "id": "c4TinpzN8zqr",
        "colab_type": "code",
        "colab": {}
      },
      "source": [
        "class Vocabulary(object):\n",
        "    def __init__(self, token_to_idx=None):\n",
        "        if token_to_idx is None:\n",
        "            token_to_idx = {}\n",
        "        self._token_to_idx = token_to_idx\n",
        "\n",
        "        self._idx_to_token = {idx: token \n",
        "                              for token, idx in self._token_to_idx.items()}\n",
        "        \n",
        "    def to_serializable(self):\n",
        "        return {'token_to_idx': self._token_to_idx}\n",
        "\n",
        "    @classmethod\n",
        "    def from_serializable(cls, contents):\n",
        "        return cls(**contents)\n",
        "\n",
        "    def add_token(self, token):\n",
        "        if token in self._token_to_idx:\n",
        "            index = self._token_to_idx[token]\n",
        "        else:\n",
        "            index = len(self._token_to_idx)\n",
        "            self._token_to_idx[token] = index\n",
        "            self._idx_to_token[index] = token\n",
        "        return index\n",
        "            \n",
        "    def add_many(self, tokens):\n",
        "        return [self.add_token(token) for token in tokens]\n",
        "\n",
        "    def lookup_token(self, token):\n",
        "        return self._token_to_idx[token]\n",
        "\n",
        "    def lookup_index(self, index):\n",
        "        if index not in self._idx_to_token:\n",
        "            raise KeyError(\"the index (%d) is not in the Vocabulary\" % index)\n",
        "        return self._idx_to_token[index]\n",
        "\n",
        "    def __str__(self):\n",
        "        return \"<Vocabulary(size=%d)>\" % len(self)\n",
        "\n",
        "    def __len__(self):\n",
        "        return len(self._token_to_idx)\n"
      ],
      "execution_count": 0,
      "outputs": []
    },
    {
      "cell_type": "markdown",
      "metadata": {
        "id": "w5qFvUhwAcFF",
        "colab_type": "text"
      },
      "source": [
        "La classe \"SequenceVocabulary\" hérite de la classe vocabulary et permets de définir des token pour les débuts de phrase, fin de phrase, mot inconnu et \"mask\" pour après la fin de la phrase (si les phrase d'un minibatch sont de longueur différente)"
      ]
    },
    {
      "cell_type": "code",
      "metadata": {
        "id": "RcoJ-BZU_8Dz",
        "colab_type": "code",
        "colab": {}
      },
      "source": [
        "class SequenceVocabulary(Vocabulary):\n",
        "    def __init__(self, token_to_idx=None, unk_token=\"<UNK>\",\n",
        "                 mask_token=\"<MASK>\", begin_seq_token=\"<BEGIN>\",\n",
        "                 end_seq_token=\"<END>\"):\n",
        "\n",
        "        super(SequenceVocabulary, self).__init__(token_to_idx)\n",
        "\n",
        "        self._mask_token = mask_token\n",
        "        self._unk_token = unk_token\n",
        "        self._begin_seq_token = begin_seq_token\n",
        "        self._end_seq_token = end_seq_token\n",
        "\n",
        "        self.mask_index = self.add_token(self._mask_token)\n",
        "        self.unk_index = self.add_token(self._unk_token)\n",
        "        self.begin_seq_index = self.add_token(self._begin_seq_token)\n",
        "        self.end_seq_index = self.add_token(self._end_seq_token)\n",
        "\n",
        "    def to_serializable(self):\n",
        "        contents = super(SequenceVocabulary, self).to_serializable()\n",
        "        contents.update({'unk_token': self._unk_token,\n",
        "                         'mask_token': self._mask_token,\n",
        "                         'begin_seq_token': self._begin_seq_token,\n",
        "                         'end_seq_token': self._end_seq_token})\n",
        "        return contents\n",
        "\n",
        "    def lookup_token(self, token):\n",
        "        if self.unk_index >= 0:\n",
        "            return self._token_to_idx.get(token, self.unk_index)\n",
        "        else:\n",
        "            return self._token_to_idx[token]"
      ],
      "execution_count": 0,
      "outputs": []
    },
    {
      "cell_type": "markdown",
      "metadata": {
        "id": "EaL5cI_k_j8V",
        "colab_type": "text"
      },
      "source": [
        "# 3. The Vectorizer"
      ]
    },
    {
      "cell_type": "markdown",
      "metadata": {
        "id": "P9hA0fgcB4p_",
        "colab_type": "text"
      },
      "source": [
        "Le vectorizer permet de transformer un commentaire en un suite de token (leur index  + les tokens spéciaux)"
      ]
    },
    {
      "cell_type": "markdown",
      "metadata": {
        "id": "b-4LQypFvhB4",
        "colab_type": "text"
      },
      "source": [
        "## 3.a. Word level"
      ]
    },
    {
      "cell_type": "code",
      "metadata": {
        "id": "Mb-AY7JC_Wwk",
        "colab_type": "code",
        "colab": {}
      },
      "source": [
        "class CommentVectorizer(object):\n",
        "    def __init__(self, comment_vocab, bigrams=False):\n",
        "        self.comment_vocab = comment_vocab\n",
        "        self.bigrams = bigrams\n",
        "    def vectorize(self, comment, vector_length=-1):\n",
        "        # Added bigrams\n",
        "        indices = [self.comment_vocab.begin_seq_index]\n",
        "        tokens = comment.split(\" \")\n",
        "        if args.bigrams:\n",
        "            tokens = generate_bigrams(tokens)\n",
        "        indices.extend(self.comment_vocab.lookup_token(token) \n",
        "                       for token in tokens)\n",
        "        indices.append(self.comment_vocab.end_seq_index)\n",
        "\n",
        "        if vector_length < 0:\n",
        "            vector_length = len(indices)\n",
        "\n",
        "        out_vector = np.zeros(vector_length, dtype=np.int64)\n",
        "        out_vector[:len(indices)] = indices[:vector_length]\n",
        "        out_vector[len(indices):] = self.comment_vocab.mask_index\n",
        "\n",
        "        return out_vector\n",
        "\n",
        "    @classmethod\n",
        "    def from_dataframe(cls, comments_df, cutoff=5, bigrams=False):\n",
        "        # Bigrams\n",
        "        word_counts = Counter()\n",
        "        for comment in comments_df.comment_text:\n",
        "            tokens = comment.split(\" \")\n",
        "            if args.bigrams:\n",
        "              tokens = generate_bigrams(tokens)\n",
        "            for token in tokens:\n",
        "                if token not in string.punctuation:\n",
        "                    word_counts[token] += 1\n",
        "        \n",
        "        comment_vocab = SequenceVocabulary()\n",
        "        for word, word_count in word_counts.items():\n",
        "            if word_count >= cutoff:\n",
        "                comment_vocab.add_token(word)\n",
        "        \n",
        "        return cls(comment_vocab)\n",
        "\n",
        "    @classmethod\n",
        "    def from_serializable(cls, contents):\n",
        "        comment_vocab = \\\n",
        "            SequenceVocabulary.from_serializable(contents['comment_vocab'])\n",
        "\n",
        "        return cls(comment_vocab=comment_vocab)\n",
        "\n",
        "    def to_serializable(self):\n",
        "        return {'comment_vocab': self.comment_vocab.to_serializable()}"
      ],
      "execution_count": 0,
      "outputs": []
    },
    {
      "cell_type": "markdown",
      "metadata": {
        "id": "ANB6chGdvkxc",
        "colab_type": "text"
      },
      "source": [
        "## 3.b. char level"
      ]
    },
    {
      "cell_type": "markdown",
      "metadata": {
        "id": "Hg0snxG-t00U",
        "colab_type": "text"
      },
      "source": [
        "Voici une deuxième classe de vectorizer, pour séparer plus finement, au niveau des caractères"
      ]
    },
    {
      "cell_type": "code",
      "metadata": {
        "id": "EX4VXqSEt6UJ",
        "colab_type": "code",
        "colab": {}
      },
      "source": [
        "class CommentVectorizerChar(object):\n",
        "    def __init__(self, comment_vocab, max_comment_length):\n",
        "        self.comment_vocab = comment_vocab\n",
        "        self._max_comment_length = max_comment_length\n",
        "\n",
        "    def vectorize(self, comment, vector_length=-1):\n",
        "        indices = [self.comment_vocab.begin_seq_index]\n",
        "        indices.extend(self.comment_vocab.lookup_token(token) \n",
        "                       for token in comment)\n",
        "        indices.append(self.comment_vocab.end_seq_index)\n",
        "\n",
        "        if vector_length < 0:\n",
        "            vector_length = len(indices)\n",
        "\n",
        "        out_vector = np.zeros(vector_length, dtype=np.int64)\n",
        "        out_vector[:len(indices)] = indices[:vector_length]\n",
        "        out_vector[len(indices):] = self.comment_vocab.mask_index\n",
        "\n",
        "        return out_vector\n",
        "\n",
        "    @classmethod\n",
        "    def from_dataframe(cls, comments_df,cutoff=5):\n",
        "        max_comment_length = 0\n",
        "\n",
        "        char_count = Counter()\n",
        "        for comment in comments_df.comment_text:\n",
        "          max_comment_length = max(max_comment_length,len(comment))\n",
        "          for token in comment:\n",
        "            # Modified this\n",
        "            if token not in string.punctuation and token not in stopword:\n",
        "              char_count[token] += 1\n",
        "        \n",
        "        comment_vocab = SequenceVocabulary()\n",
        "        for char, char_c in char_count.items():\n",
        "            if char_c >= cutoff:\n",
        "                comment_vocab.add_token(char)\n",
        "\n",
        "        return cls(comment_vocab,  max_comment_length)\n",
        "\n",
        "    @classmethod\n",
        "    def from_serializable(cls, contents):\n",
        "        comment_vocab = Vocabulary.from_serializable(contents['comment_vocab'])\n",
        "        return cls(comment_vocab=comment_vocab,  \n",
        "                   max_comment_length=contents['max_comment_length'])\n",
        "\n",
        "    def to_serializable(self):\n",
        "        return {'comment_vocab': self.comment_vocab.to_serializable(),\n",
        "                'max_comment_length': self._max_comment_length}"
      ],
      "execution_count": 0,
      "outputs": []
    },
    {
      "cell_type": "markdown",
      "metadata": {
        "id": "f34L0xEuBd28",
        "colab_type": "text"
      },
      "source": [
        "# 4. The Dataset"
      ]
    },
    {
      "cell_type": "markdown",
      "metadata": {
        "colab_type": "text",
        "id": "Z60cgo9hSoVd"
      },
      "source": [
        "Cette classe permet d'accéder facilement aux commentaires du dataset\n",
        "\n",
        "J'ai rajouté un paramètre \"balanced\". Ce paramètre permets de choisir si on veut un dataset avec 50% Good et 50% Bad (True) ou 90% Good et 10% Bad (False). Les deux ont autant de commentaires labelisé \"Good\".\n",
        "\n"
      ]
    },
    {
      "cell_type": "code",
      "metadata": {
        "colab_type": "code",
        "id": "nKjbIZRqSoVe",
        "colab": {}
      },
      "source": [
        "class CommentDataset(Dataset):\n",
        "    def __init__(self, comments_df, vectorizer,\n",
        "                 balanced=False,binary=True,fine_grained=False,\n",
        "                 max_length=-1,length_out=False, preprocess=False):\n",
        "    \n",
        "        self.comments_df = comments_df.copy()   # Je le modifie plus tard. Juste pour eviter un effet de bord.\n",
        "        if preprocess:\n",
        "          self.comments_df['comment_text'] = self.comments_df['comment_text'].apply(lambda txt: clean_text(txt, tokenize=False)) \n",
        "        self._vectorizer = vectorizer\n",
        "        self._binary = binary\n",
        "        self._length_out = length_out\n",
        "        # +1 if only using begin_seq, +2 if using both begin and end seq tokens\n",
        "        if binary:\n",
        "          self._n_classes = 2\n",
        "        else:\n",
        "          self._n_classes = 7  # 6 or 7 ?\n",
        "        if fine_grained:\n",
        "          self.measure_len = lambda context: len(context)\n",
        "        else:\n",
        "          self.measure_len = lambda context: len(context.split(\" \"))\n",
        "\n",
        "        if max_length == -1:\n",
        "          self._max_seq_length = max(map(self.measure_len, comments_df.comment_text)) + 2\n",
        "        else:\n",
        "          self._max_seq_length = max_length +2\n",
        "        \n",
        "\n",
        "        self.train_df = self.comments_df[self.comments_df.split=='train']\n",
        "        self.train_size = len(self.train_df)\n",
        "\n",
        "        if balanced:\n",
        "          self.samples_weights = np.zeros(self.train_size) \n",
        "          if binary:\n",
        "            self.samples_weights[self.train_df.clean == True] = 1. / 6. #1. / self.train_df.loc[self.train_df.clean == True].shape[0] #pour 50-50\n",
        "            self.samples_weights[self.train_df.clean == False] = 1. #1. / self.train_df.loc[self.train_df.clean == False].shape[0] #pour 50-50\n",
        "          else:\n",
        "            # This one is tricky. How to balance the multi-class case ?\n",
        "            self.samples_weights[self.train_df.clean == True] = 1. / 6. \n",
        "            self.samples_weights[self.train_df.clean == False] = 1. \n",
        "\n",
        "        \n",
        "        self.val_df = self.comments_df[self.comments_df.split=='val']\n",
        "        self.validation_size = len(self.val_df)\n",
        "\n",
        "        self.test_df = self.comments_df[self.comments_df.split=='test']\n",
        "        self.test_size = len(self.test_df)\n",
        "\n",
        "        self._lookup_dict = {'train': (self.train_df, self.train_size),\n",
        "                             'val': (self.val_df, self.validation_size),\n",
        "                             'test': (self.test_df, self.test_size)}\n",
        "\n",
        "        self.set_split('train')\n",
        "        \n",
        "        \n",
        "        \n",
        "    @classmethod\n",
        "    def load_dataset_and_make_vectorizer(cls, comments_csv,balanced=False,\n",
        "                                         binary=True,fine_grained=False,\n",
        "                                         max_length=-1,length_out=False, preprocess=False):\n",
        "        comments_df = pd.read_csv(comments_csv)\n",
        "        train_comments_df = comments_df[comments_df.split=='train']\n",
        "        if fine_grained:\n",
        "          comment_vectorizer = CommentVectorizerChar.from_dataframe(train_comments_df)\n",
        "        else:\n",
        "          comment_vectorizer = CommentVectorizer.from_dataframe(train_comments_df)\n",
        "        return cls(comments_df,comment_vectorizer ,\n",
        "                   balanced,binary,fine_grained,\n",
        "                   max_length, length_out, preprocess)\n",
        "\n",
        "    @classmethod\n",
        "    def load_dataset_and_load_vectorizer(cls, news_csv, vectorizer_filepath):\n",
        "        comments_df = pd.read_csv(comments_csv)\n",
        "        vectorizer = cls.load_vectorizer_only(vectorizer_filepath)\n",
        "        return cls(comments_csv, vectorizer)\n",
        "\n",
        "    @staticmethod\n",
        "    def load_vectorizer_only(vectorizer_filepath):\n",
        "        with open(vectorizer_filepath) as fp:\n",
        "            return NameVectorizer.from_serializable(json.load(fp))\n",
        "\n",
        "    def save_vectorizer(self, vectorizer_filepath):\n",
        "        with open(vectorizer_filepath, \"w\") as fp:\n",
        "            json.dump(self._vectorizer.to_serializable(), fp)\n",
        "\n",
        "    def get_vectorizer(self):\n",
        "        return self._vectorizer\n",
        "\n",
        "    def set_split(self, split=\"train\"):\n",
        "        self._target_split = split\n",
        "        self._target_df, self._target_size = self._lookup_dict[split]\n",
        "\n",
        "    def __len__(self):\n",
        "        return self._target_size\n",
        "\n",
        "    def __getitem__(self, index):\n",
        "        row = self._target_df.iloc[index]\n",
        "        \n",
        "        vect_length = min(self.measure_len(row.comment_text)+1,self._max_seq_length-1)\n",
        "\n",
        "        comments_vector = \\\n",
        "            self._vectorizer.vectorize(row.comment_text, self._max_seq_length)\n",
        "\n",
        "        if self._length_out:\n",
        "          comments_vector = np.concatenate([[vect_length], comments_vector])\n",
        "        \n",
        "        if row.clean:\n",
        "          category_index = 0.0\n",
        "        else:\n",
        "          category_index = 1.0\n",
        "\n",
        "        if self._binary:\n",
        "          target = category_index\n",
        "        else:\n",
        "          target = torch.tensor([category_index,\n",
        "                                 row.identity_hate,\n",
        "                                 row.insult,\n",
        "                                 row.obscene,\n",
        "                                 row.severe_toxic,\n",
        "                                 row.threat,\n",
        "                                 row.toxic])\n",
        "        return {'x_data': comments_vector,\n",
        "                'y_target': target}\n",
        "\n",
        "    def get_num_batches(self, batch_size):\n",
        "        return len(self) // batch_size\n",
        "\n"
      ],
      "execution_count": 0,
      "outputs": []
    },
    {
      "cell_type": "markdown",
      "metadata": {
        "colab_type": "text",
        "id": "cufyRV3uSoVi"
      },
      "source": [
        "## 4.a. batch generator"
      ]
    },
    {
      "cell_type": "markdown",
      "metadata": {
        "colab_type": "text",
        "id": "cx4tkoOOSoVi"
      },
      "source": [
        "Ci-dessous une fonction pour génerer automatiquement des batchs lors de la phase d'entrainement"
      ]
    },
    {
      "cell_type": "code",
      "metadata": {
        "colab_type": "code",
        "id": "LeVnPI5_SoVj",
        "colab": {}
      },
      "source": [
        "def generate_batches(dataset, batch_size, shuffle=True,\n",
        "                     drop_last=True, device=\"cpu\", balanced=False): \n",
        "    if balanced:\n",
        "      sampler = WeightedRandomSampler(\n",
        "      weights=dataset.samples_weights,\n",
        "      num_samples=dataset.train_size,\n",
        "      replacement=True)\n",
        "      dataloader = DataLoader(dataset=dataset, batch_size=batch_size, sampler=sampler,\n",
        "                            drop_last=drop_last)\n",
        "    else:\n",
        "      dataloader = DataLoader(dataset=dataset, batch_size=batch_size,\n",
        "                            shuffle=shuffle, drop_last=drop_last)\n",
        "\n",
        "    for data_dict in dataloader:\n",
        "        out_data_dict = {}\n",
        "        for name, tensor in data_dict.items():\n",
        "            out_data_dict[name] = data_dict[name].to(device)\n",
        "        yield out_data_dict\n",
        "        torch.cuda.empty_cache()\n"
      ],
      "execution_count": 0,
      "outputs": []
    },
    {
      "cell_type": "code",
      "metadata": {
        "colab_type": "code",
        "id": "TvCkvAKsSoVl",
        "colab": {}
      },
      "source": [
        "def generate_batches_sorted(dataset, batch_size, shuffle=True, \n",
        "                            drop_last=True, device=\"cpu\"):\n",
        "    dataloader = DataLoader(dataset=dataset, batch_size=batch_size,\n",
        "                            shuffle=shuffle, drop_last=drop_last)\n",
        "\n",
        "    for data_dict in dataloader:\n",
        "        lengths = data_dict['x_data'][:,0].numpy()\n",
        "        sorted_length_indices = lengths.argsort()[::-1].tolist()\n",
        "        \n",
        "        out_data_dict = {}\n",
        "        for name, tensor in data_dict.items():\n",
        "            out_data_dict[name] = data_dict[name][sorted_length_indices].to(device)\n",
        "        yield out_data_dict"
      ],
      "execution_count": 0,
      "outputs": []
    },
    {
      "cell_type": "markdown",
      "metadata": {
        "id": "cwaJYEdbksUN",
        "colab_type": "text"
      },
      "source": [
        "# 5. Helping functions"
      ]
    },
    {
      "cell_type": "markdown",
      "metadata": {
        "id": "8Q_AXzYj-C3E",
        "colab_type": "text"
      },
      "source": [
        "Ces fonctions permettent de mettre à jour l'état d'entrainement qui sauvegarde les loss et accuracy à chaque epoch pour le train et le val dataset (entre autre)"
      ]
    },
    {
      "cell_type": "code",
      "metadata": {
        "id": "q37k5mV6kuZn",
        "colab_type": "code",
        "colab": {}
      },
      "source": [
        "def make_train_state(args):\n",
        "    return {'stop_early': False,\n",
        "            'early_stopping_step': 0,\n",
        "            'early_stopping_best_val': 1e8,\n",
        "            'learning_rate': args.learning_rate,\n",
        "            'epoch_index': 0,\n",
        "            'train_loss': [],\n",
        "            'train_acc': [],\n",
        "            'val_loss': [],\n",
        "            'val_acc': [],\n",
        "            'test_loss': -1,\n",
        "            'test_acc': -1,\n",
        "            'model_filename': args.model_state_file}\n",
        "\n",
        "def update_train_state(args, model, train_state):\n",
        "    if train_state['epoch_index'] == 0:\n",
        "        torch.save(model.state_dict(), train_state['model_filename'])\n",
        "        train_state['stop_early'] = False\n",
        "\n",
        "    elif train_state['epoch_index'] >= 1:\n",
        "        loss_tm1, loss_t = train_state['val_loss'][-2:]\n",
        "\n",
        "        if loss_t >= train_state['early_stopping_best_val']:\n",
        "            train_state['early_stopping_step'] += 1\n",
        "        else:\n",
        "            if loss_t < train_state['early_stopping_best_val']:\n",
        "                torch.save(model.state_dict(), train_state['model_filename'])\n",
        "\n",
        "            train_state['early_stopping_step'] = 0\n",
        "\n",
        "        train_state['stop_early'] = \\\n",
        "            train_state['early_stopping_step'] >= args.early_stopping_criteria\n",
        "\n",
        "    return train_state"
      ],
      "execution_count": 0,
      "outputs": []
    },
    {
      "cell_type": "code",
      "metadata": {
        "id": "hxacMTR0Uo5g",
        "colab_type": "code",
        "colab": {}
      },
      "source": [
        "stopword = nltk.corpus.stopwords.words('english')\n",
        "ps = nltk.PorterStemmer()\n",
        "\n",
        "def clean_text(text, tokenize=True, lemmatize=False):\n",
        "    text_lc = \"\".join([word.lower() for word in text if word not in string.punctuation]) # remove puntuation\n",
        "    text_rc = re.sub('[0-9]+', '', text_lc)\n",
        "    tokens = re.split('\\W+', text_rc)    # tokenization\n",
        "    if lemmatize:\n",
        "      text = [ps.stem(word) for word in tokens if word not in stopword]  # remove stopwords and stemming\n",
        "    else:\n",
        "      text = [word for word in tokens if word not in stopword] # remove stopwords\n",
        "    if not tokenize:\n",
        "      text = ' '.join(text)\n",
        "    return text"
      ],
      "execution_count": 0,
      "outputs": []
    },
    {
      "cell_type": "code",
      "metadata": {
        "id": "Gy39Z3SKlAm_",
        "colab_type": "code",
        "colab": {}
      },
      "source": [
        "def set_seed_everywhere(seed, cuda):\n",
        "    np.random.seed(seed)\n",
        "    torch.manual_seed(seed)\n",
        "    if cuda:\n",
        "        torch.cuda.manual_seed_all(seed)\n",
        "\n",
        "def handle_dirs(dirpath):\n",
        "    if not os.path.exists(dirpath):\n",
        "        os.makedirs(dirpath)"
      ],
      "execution_count": 0,
      "outputs": []
    },
    {
      "cell_type": "code",
      "metadata": {
        "id": "VSvo7qFp_Tbg",
        "colab_type": "code",
        "colab": {}
      },
      "source": [
        "def make_embedding_matrix(glove_filepath, words):    \n",
        "    word_to_idx, glove_embeddings = load_glove_from_file(glove_filepath)\n",
        "    embedding_size = glove_embeddings.shape[1]\n",
        "    \n",
        "    final_embeddings = np.zeros((len(words), embedding_size))\n",
        "\n",
        "    for i, word in enumerate(words):\n",
        "        if word in word_to_idx:\n",
        "            final_embeddings[i, :] = glove_embeddings[word_to_idx[word]]\n",
        "        else:\n",
        "            embedding_i = torch.ones(1, embedding_size)\n",
        "            torch.nn.init.xavier_uniform_(embedding_i)\n",
        "            final_embeddings[i, :] = embedding_i\n",
        "\n",
        "    return final_embeddings"
      ],
      "execution_count": 0,
      "outputs": []
    },
    {
      "cell_type": "code",
      "metadata": {
        "id": "9l6I-AlU_w3_",
        "colab_type": "code",
        "colab": {}
      },
      "source": [
        "def load_glove_from_file(glove_filepath):\n",
        "    word_to_index = {}\n",
        "    embeddings = []\n",
        "    with open(glove_filepath, \"r\") as fp:\n",
        "        for index, line in enumerate(fp):\n",
        "            line = line.split(\" \") # each line: word num1 num2 ...\n",
        "            word_to_index[line[0]] = index # word = line[0] \n",
        "            embedding_i = np.array([float(val) for val in line[1:]])\n",
        "            embeddings.append(embedding_i)\n",
        "    return word_to_index, np.stack(embeddings)"
      ],
      "execution_count": 0,
      "outputs": []
    },
    {
      "cell_type": "markdown",
      "metadata": {
        "id": "0hs-GrFg-NPz",
        "colab_type": "text"
      },
      "source": [
        "La fonction ci-dessous permets de calculer une accuracy, dans le cas ou il y a une seule output"
      ]
    },
    {
      "cell_type": "code",
      "metadata": {
        "id": "OCS9rGJ1DP0e",
        "colab_type": "code",
        "colab": {}
      },
      "source": [
        "def compute_accuracy(y_pred, y_target):\n",
        "    y_target = y_target.cpu()\n",
        "    y_pred_indices = (torch.sigmoid(y_pred)>0.5).cpu().long()#.max(dim=1)[1]\n",
        "    n_correct = torch.eq(y_pred_indices, y_target).sum().item()\n",
        "    return n_correct / len(y_pred_indices) * 100"
      ],
      "execution_count": 0,
      "outputs": []
    },
    {
      "cell_type": "markdown",
      "metadata": {
        "id": "w95r0Z5YvY4Y",
        "colab_type": "text"
      },
      "source": [
        "Fonction pour la generation des bi-grams"
      ]
    },
    {
      "cell_type": "code",
      "metadata": {
        "id": "ymqah48svfSC",
        "colab_type": "code",
        "colab": {}
      },
      "source": [
        "def generate_bigrams(x):\n",
        "    n_grams = set(zip(*[x[i:] for i in range(2)]))\n",
        "    for n_gram in n_grams:\n",
        "        x.append(' '.join(n_gram))\n",
        "    return x"
      ],
      "execution_count": 0,
      "outputs": []
    },
    {
      "cell_type": "markdown",
      "metadata": {
        "id": "_8qL5KJ1kc88",
        "colab_type": "text"
      },
      "source": [
        "# 6. Models"
      ]
    },
    {
      "cell_type": "markdown",
      "metadata": {
        "id": "Ctay4c5Rv0dl",
        "colab_type": "text"
      },
      "source": [
        "## 6.a. Multi Layer Perceptron"
      ]
    },
    {
      "cell_type": "markdown",
      "metadata": {
        "id": "7REBTHJW-ULu",
        "colab_type": "text"
      },
      "source": [
        "Ci-dessous un premier modèle (MultiLayerPerceptron)\n",
        "\n",
        "+ 10 epochs, emb 50,hid 50, bs128,do0.15,lr-3 : 87%\n",
        "+ idem + glove : 89%"
      ]
    },
    {
      "cell_type": "code",
      "metadata": {
        "id": "CRc1mNW7kcRL",
        "colab_type": "code",
        "colab": {}
      },
      "source": [
        "class MLPClassifier(nn.Module):\n",
        "    def __init__(self, embedding_size, num_embeddings, \n",
        "                 hidden_dim, dropout_p, out_dim,\n",
        "                 pretrained_embeddings=None,length_out=False,\n",
        "                 padding_idx=0):\n",
        "    \n",
        "        super(MLPClassifier, self).__init__()\n",
        "\n",
        "        if pretrained_embeddings is None:\n",
        "\n",
        "            self.emb = nn.Embedding(embedding_dim=embedding_size,\n",
        "                                    num_embeddings=num_embeddings,\n",
        "                                    padding_idx=padding_idx)        \n",
        "        else:\n",
        "            pretrained_embeddings = torch.from_numpy(pretrained_embeddings).float()\n",
        "            self.emb = nn.Embedding(embedding_dim=embedding_size,\n",
        "                                    num_embeddings=num_embeddings,\n",
        "                                    padding_idx=padding_idx,\n",
        "                                    _weight=pretrained_embeddings)\n",
        "        \n",
        "            \n",
        "        \n",
        "\n",
        "        self._dropout_p = dropout_p\n",
        "        self._length_out = length_out\n",
        "        self.fc1 = nn.Linear(embedding_size, hidden_dim)\n",
        "        self.fc2 = nn.Linear(hidden_dim, out_dim)\n",
        "\n",
        "    def forward(self, x_in, apply_sigmoid=False):\n",
        "        \n",
        "        if self._length_out:\n",
        "          x_in = x_in[:,1:]\n",
        "          \n",
        "        x_embedded = self.emb(x_in)\n",
        "\n",
        "        features = x_embedded.sum(dim=1)\n",
        "        #features = F.dropout(features, p=self._dropout_p)\n",
        "        \n",
        "        # mlp classifier\n",
        "        intermediate_vector = F.relu(F.dropout(self.fc1(features), p=self._dropout_p))\n",
        "        prediction = self.fc2(intermediate_vector).squeeze()\n",
        "\n",
        "        if apply_sigmoid:\n",
        "            prediction = F.sigmoid(prediction)\n",
        "\n",
        "        return prediction"
      ],
      "execution_count": 0,
      "outputs": []
    },
    {
      "cell_type": "markdown",
      "metadata": {
        "id": "dTVCfeomv6Dv",
        "colab_type": "text"
      },
      "source": [
        "## 6.b. Conv 1D"
      ]
    },
    {
      "cell_type": "markdown",
      "metadata": {
        "id": "xK3tEPOdqxYO",
        "colab_type": "text"
      },
      "source": [
        "Le classifieur CNN suivant à l'air d'overfitté au fil des époques, cependant, il atteint 95% d'accuracy mais surtout 81% sur les commentaires \"méchants\"\n",
        "\n",
        "+ 20 epochs, emb 50,hid 50, 128chqnm bs128,do0.15,lr-3 : 90%\n",
        "+ idem + glove : 92%"
      ]
    },
    {
      "cell_type": "code",
      "metadata": {
        "colab_type": "code",
        "id": "TOd26_gMMTV5",
        "colab": {}
      },
      "source": [
        "class CNNClassifier(nn.Module):\n",
        "    def __init__(self, embedding_size, num_embeddings, \n",
        "                 num_channels, hidden_dim, dropout_p, out_dim,\n",
        "                 pretrained_embeddings=None,length_out=False,\n",
        "                 padding_idx=0,kernel_size=3):\n",
        "       \n",
        "        \n",
        "        super(CNNClassifier, self).__init__()\n",
        "\n",
        "        if pretrained_embeddings is None:\n",
        "\n",
        "            self.emb = nn.Embedding(embedding_dim=embedding_size,\n",
        "                                    num_embeddings=num_embeddings,\n",
        "                                    padding_idx=padding_idx)        \n",
        "        else:\n",
        "            pretrained_embeddings = torch.from_numpy(pretrained_embeddings).float()\n",
        "            self.emb = nn.Embedding(embedding_dim=embedding_size,\n",
        "                                    num_embeddings=num_embeddings,\n",
        "                                    padding_idx=padding_idx,\n",
        "                                    _weight=pretrained_embeddings)\n",
        "        \n",
        "        self.convnet = nn.Sequential(\n",
        "            nn.Conv1d(in_channels=embedding_size, \n",
        "                   out_channels=num_channels, kernel_size=3),\n",
        "            nn.ELU(),\n",
        "            nn.Conv1d(in_channels=num_channels, out_channels=num_channels, \n",
        "                   kernel_size=kernel_size, stride=2),\n",
        "            nn.ELU(),\n",
        "            nn.Conv1d(in_channels=num_channels, out_channels=num_channels, \n",
        "                   kernel_size=kernel_size, stride=2),\n",
        "            nn.ELU(),\n",
        "            nn.Conv1d(in_channels=num_channels, out_channels=num_channels, \n",
        "                   kernel_size=kernel_size),\n",
        "            nn.ELU()\n",
        "        )\n",
        "\n",
        "        self._dropout_p = dropout_p\n",
        "        self._length_out = length_out\n",
        "        self.fc1 = nn.Linear(num_channels, hidden_dim)\n",
        "        self.fc2 = nn.Linear(hidden_dim, out_dim)\n",
        "\n",
        "\n",
        "    def forward(self, x_in, apply_sigmoid=False):\n",
        "        if self._length_out:\n",
        "          x_in = x_in[:,1:]\n",
        "\n",
        "        x_embedded = self.emb(x_in).permute(0, 2, 1)\n",
        "        \n",
        "        features = self.convnet(x_embedded)\n",
        "\n",
        "        # average and remove the extra dimension\n",
        "        remaining_size = features.size(dim=2)\n",
        "        features = F.avg_pool1d(features, remaining_size).squeeze(dim=2)\n",
        "        features = F.dropout(features, p=self._dropout_p)\n",
        "        \n",
        "        # mlp classifier\n",
        "        intermediate_vector = F.relu(F.dropout(self.fc1(features), p=self._dropout_p))\n",
        "        prediction = self.fc2(intermediate_vector).squeeze()\n",
        "\n",
        "        if apply_sigmoid:\n",
        "            prediction = F.sigmoid(prediction)\n",
        "\n",
        "        return prediction"
      ],
      "execution_count": 0,
      "outputs": []
    },
    {
      "cell_type": "markdown",
      "metadata": {
        "id": "Dexgbb0evEqP",
        "colab_type": "text"
      },
      "source": [
        "## 6.c. Fast Text"
      ]
    },
    {
      "cell_type": "markdown",
      "metadata": {
        "id": "zGe93CAyrSWM",
        "colab_type": "text"
      },
      "source": [
        "Modèle inspiré du papier https://arxiv.org/abs/1607.01759 \n",
        "En gros, c'est juste un MLP avec une phase de pre-processing du texte où on ajoute à la fin de chaque phrase les n-grams qui y apparaissent (bigrams ici)"
      ]
    },
    {
      "cell_type": "code",
      "metadata": {
        "id": "ZjgjpnbEvKxS",
        "colab_type": "code",
        "colab": {}
      },
      "source": [
        "class FastText(nn.Module):\n",
        "    def __init__(self, num_embeddings, embedding_size, hidden_dim, out_dim, padding_idx, length_out=False, pretrained_embeddings=None, dropout_p=0.0):\n",
        "        \n",
        "        super().__init__()\n",
        "        \n",
        "        self._length_out = length_out\n",
        "        self._dropout_p = dropout_p\n",
        "\n",
        "        if pretrained_embeddings is None:\n",
        "\n",
        "            self.emb = nn.Embedding(embedding_dim=embedding_size,\n",
        "                                    num_embeddings=num_embeddings,\n",
        "                                    padding_idx=padding_idx)        \n",
        "        else:\n",
        "            pretrained_embeddings = torch.from_numpy(pretrained_embeddings).float()\n",
        "            self.emb = nn.Embedding(embedding_dim=embedding_size,\n",
        "                                    num_embeddings=num_embeddings,\n",
        "                                    padding_idx=padding_idx,\n",
        "                                    _weight=pretrained_embeddings)\n",
        "\n",
        "        \n",
        "        self.fc1 = nn.Linear(embedding_size, hidden_dim)\n",
        "\n",
        "        self.fc2 = nn.Linear(hidden_dim, out_dim)\n",
        "        \n",
        "    def forward(self, x, apply_sigmoid=False):\n",
        "        \n",
        "        x_in = x.t()\n",
        "        if self._length_out:\n",
        "          x_in = x_in[1:, :]\n",
        "          \n",
        "        embedded = self.emb(x_in)                \n",
        "        \n",
        "        embedded = embedded.permute(1, 0, 2)\n",
        "                \n",
        "        pooled = F.avg_pool2d(embedded, (embedded.shape[1], 1)).squeeze(1) \n",
        "        prediction = F.relu(F.dropout(self.fc1(pooled), p=self._dropout_p))\n",
        "        prediction = self.fc2(prediction).squeeze()\n",
        "\n",
        "        if apply_sigmoid:\n",
        "            prediction = F.sigmoid(prediction)\n",
        "\n",
        "        return prediction"
      ],
      "execution_count": 0,
      "outputs": []
    },
    {
      "cell_type": "markdown",
      "metadata": {
        "id": "SPgyv5a3v-fI",
        "colab_type": "text"
      },
      "source": [
        "## 6.d. GRU + Conv1D sur les variables d'état"
      ]
    },
    {
      "cell_type": "markdown",
      "metadata": {
        "id": "8hfF8BYB9AL8",
        "colab_type": "text"
      },
      "source": [
        "90% Pour le classifieur suivant avec une courbe de loss bizarre mais 90% sur les mauvais commentaires !"
      ]
    },
    {
      "cell_type": "code",
      "metadata": {
        "id": "yztvZBDWM2Gr",
        "colab_type": "code",
        "colab": {}
      },
      "source": [
        "class GRUClassifier(nn.Module):\n",
        "    \"\"\" a simple perceptron based classifier \"\"\"\n",
        "    def __init__(self, embedding_size, num_embeddings, \n",
        "                 rnn_hidden_size,num_channels, hidden_dim, dropout_p, out_dim,\n",
        "                 pretrained_embeddings=None, length_out=False,\n",
        "                 padding_idx=0,kernel_size=3):\n",
        "        \n",
        "        super(GRUClassifier, self).__init__()\n",
        "\n",
        "        if pretrained_embeddings is None:\n",
        "\n",
        "            self.emb = nn.Embedding(embedding_dim=embedding_size,\n",
        "                                    num_embeddings=num_embeddings,\n",
        "                                    padding_idx=padding_idx)        \n",
        "        else:\n",
        "            pretrained_embeddings = torch.from_numpy(pretrained_embeddings).float()\n",
        "            self.emb = nn.Embedding(embedding_dim=embedding_size,\n",
        "                                    num_embeddings=num_embeddings,\n",
        "                                    padding_idx=padding_idx,\n",
        "                                    _weight=pretrained_embeddings)\n",
        "        \n",
        "        self.rnn = nn.GRU(input_size=embedding_size, \n",
        "                          hidden_size=rnn_hidden_size,\n",
        "                          batch_first=True,\n",
        "                          bidirectional=True)\n",
        "        \n",
        "        self.convnet = nn.Sequential(\n",
        "            nn.Conv1d(in_channels=rnn_hidden_size*2, \n",
        "                   out_channels=num_channels, kernel_size=3),\n",
        "            nn.ELU(),\n",
        "            nn.Conv1d(in_channels=num_channels, out_channels=num_channels, \n",
        "                   kernel_size=kernel_size, stride=2),\n",
        "            nn.ELU(),\n",
        "            nn.Conv1d(in_channels=num_channels, out_channels=num_channels, \n",
        "                   kernel_size=kernel_size),\n",
        "            nn.ELU()\n",
        "        )\n",
        "        self._dropout_p = dropout_p\n",
        "        self._length_out = length_out\n",
        "        self.fc1 = nn.Linear(num_channels, out_dim)\n",
        "\n",
        "\n",
        "    def forward(self, x_in, apply_sigmoid=False):\n",
        "        if self._length_out:\n",
        "          x_in = x_in[:,1:]\n",
        "          \n",
        "        x_embedded = self.emb(x_in)\n",
        "\n",
        "        y_out, _ = self.rnn(x_embedded)\n",
        "        y_out = y_out.permute(0, 2, 1)\n",
        "        features = self.convnet(y_out)\n",
        "        # average and remove the extra dimension\n",
        "        remaining_size = features.size(dim=2)\n",
        "\n",
        "        features = F.avg_pool1d(features, remaining_size).squeeze(dim=2)\n",
        "        features = F.dropout(features, p=self._dropout_p)\n",
        "\n",
        "        prediction = self.fc1(F.dropout(features, p=self._dropout_p)).squeeze()\n",
        "        if apply_sigmoid:\n",
        "            prediction = F.sigmoid(prediction)\n",
        "\n",
        "        return prediction"
      ],
      "execution_count": 0,
      "outputs": []
    },
    {
      "cell_type": "markdown",
      "metadata": {
        "id": "jsxSmb53wC_A",
        "colab_type": "text"
      },
      "source": [
        "## 6.e. GRU + MLP sur les variable d'état finales"
      ]
    },
    {
      "cell_type": "code",
      "metadata": {
        "id": "9UQu1nh1iMjx",
        "colab_type": "code",
        "colab": {}
      },
      "source": [
        "class GRUClassifier2(nn.Module):\n",
        "    def __init__(self, embedding_size, num_embeddings, \n",
        "                 rnn_hidden_size, hidden_dim, dropout_p, out_dim,\n",
        "                 pretrained_embeddings=None, padding_idx=0,kernel_size=3):\n",
        "        \n",
        "        super(GRUClassifier2, self).__init__()\n",
        "\n",
        "        if pretrained_embeddings is None:\n",
        "\n",
        "            self.emb = nn.Embedding(embedding_dim=embedding_size,\n",
        "                                    num_embeddings=num_embeddings,\n",
        "                                    padding_idx=padding_idx)        \n",
        "        else:\n",
        "            pretrained_embeddings = torch.from_numpy(pretrained_embeddings).float()\n",
        "            self.emb = nn.Embedding(embedding_dim=embedding_size,\n",
        "                                    num_embeddings=num_embeddings,\n",
        "                                    padding_idx=padding_idx,\n",
        "                                    _weight=pretrained_embeddings)\n",
        "        \n",
        "        self.rnn = nn.GRU(input_size=embedding_size, \n",
        "                          hidden_size=rnn_hidden_size,\n",
        "                          batch_first=True,\n",
        "                          bidirectional=True)\n",
        "        \n",
        "        self._dropout_p = dropout_p\n",
        "        self.fc1 = nn.Linear(2 * rnn_hidden_size, out_dim)\n",
        "\n",
        "\n",
        "    def forward(self, x_in, apply_sigmoid=False):\n",
        "        batchsize,seq_length = x_in.size()\n",
        "        x_length = x_in[:, 0]\n",
        "\n",
        "        x_in = x_in[:, 1:]\n",
        "\n",
        "        x_embedded = self.emb(x_in)\n",
        "\n",
        "        y_out, _ = self.rnn(x_embedded)\n",
        "\n",
        "        features = []\n",
        "        for i in range(batchsize):\n",
        "          features.append(y_out[i,x_length[i],:])\n",
        "\n",
        "        features = torch.stack(features)\n",
        "\n",
        "        prediction = self.fc1(F.dropout(features, p=self._dropout_p)).squeeze()\n",
        "        \n",
        "        if apply_sigmoid:\n",
        "            prediction = F.sigmoid(prediction)\n",
        "\n",
        "        return prediction"
      ],
      "execution_count": 0,
      "outputs": []
    },
    {
      "cell_type": "markdown",
      "metadata": {
        "colab_type": "text",
        "id": "s0gK7u2XxDLM"
      },
      "source": [
        "## 6.f. LSTM + MLP sur les variable d'état finales"
      ]
    },
    {
      "cell_type": "code",
      "metadata": {
        "colab_type": "code",
        "id": "P-euScCnxDLO",
        "colab": {}
      },
      "source": [
        "class LSTMClassifier(nn.Module):\n",
        "    def __init__(self, embedding_size, num_embeddings, \n",
        "                 rnn_hidden_size, hidden_dim, dropout_p, out_dim,\n",
        "                 pretrained_embeddings=None, padding_idx=0, \n",
        "                 kernel_size=3, dropout_rec=0.1, bidirectional=True, n_layers=1):\n",
        "        \n",
        "        super(LSTMClassifier, self).__init__()\n",
        "\n",
        "        if pretrained_embeddings is None:\n",
        "\n",
        "            self.emb = nn.Embedding(embedding_dim=embedding_size,\n",
        "                                    num_embeddings=num_embeddings,\n",
        "                                    padding_idx=padding_idx)        \n",
        "        else:\n",
        "            pretrained_embeddings = torch.from_numpy(pretrained_embeddings).float()\n",
        "            self.emb = nn.Embedding(embedding_dim=embedding_size,\n",
        "                                    num_embeddings=num_embeddings,\n",
        "                                    padding_idx=padding_idx,\n",
        "                                    _weight=pretrained_embeddings)\n",
        "        \n",
        "        self.rnn = nn.LSTM(input_size=embedding_size, \n",
        "                          hidden_size=rnn_hidden_size,\n",
        "                          num_layers=n_layers, \n",
        "                          dropout=dropout_rec,\n",
        "                          batch_first=True,\n",
        "                          bidirectional=bidirectional)\n",
        "        \n",
        "        self._dropout_p = dropout_p\n",
        "\n",
        "        if bidirectional:\n",
        "          self.fc1 = nn.Linear(2 * rnn_hidden_size, hidden_dim)\n",
        "        else:\n",
        "          self.fc1 = nn.Linear(rnn_hidden_size, hidden_dim)\n",
        "        \n",
        "        self.fc2 = nn.Linear(hidden_dim, out_dim)\n",
        "\n",
        "\n",
        "\n",
        "    def forward(self, x_in, apply_sigmoid=False):\n",
        "        batchsize,seq_length = x_in.size()\n",
        "        x_length = x_in[:,0]\n",
        "\n",
        "        x_in = x_in[:,1:]\n",
        "\n",
        "        x_embedded = self.emb(x_in)\n",
        "\n",
        "        y_out, _ = self.rnn(x_embedded)\n",
        "\n",
        "        features = []\n",
        "        for i in range(batchsize):\n",
        "          features.append(y_out[i,x_length[i],:])\n",
        "\n",
        "        features = torch.stack(features)\n",
        "\n",
        "        intermediate_vector = F.relu(self.fc1(F.dropout(features, p=self._dropout_p)))\n",
        "        prediction = self.fc2(F.dropout(intermediate_vector, p=self._dropout_p)).squeeze()\n",
        "        \n",
        "        if apply_sigmoid:\n",
        "            prediction = F.sigmoid(prediction)\n",
        "\n",
        "        return prediction"
      ],
      "execution_count": 0,
      "outputs": []
    },
    {
      "cell_type": "markdown",
      "metadata": {
        "id": "E9KPM-qi6OuD",
        "colab_type": "text"
      },
      "source": [
        "##6.g. LSTM with Attention "
      ]
    },
    {
      "cell_type": "code",
      "metadata": {
        "id": "AkkA4bQL6Trg",
        "colab_type": "code",
        "colab": {}
      },
      "source": [
        "class LSTMAttentionClassifier(torch.nn.Module):\n",
        "  def __init__(self, embedding_size, num_embeddings, out_dim, hidden_dim, rnn_hidden_size, pretrained_embeddings=None, padding_idx=0, dropout_p=0.1,\n",
        "               dropout_rec=0.1, bidirectional=False, n_layers=1):\n",
        "    super(LSTMAttentionClassifier, self).__init__()\n",
        "    if pretrained_embeddings is None:\n",
        "      self.emb = nn.Embedding(embedding_dim=embedding_size,\n",
        "                                    num_embeddings=num_embeddings,\n",
        "                                    padding_idx=padding_idx)        \n",
        "    else:\n",
        "      pretrained_embeddings = torch.from_numpy(pretrained_embeddings).float()\n",
        "      self.emb = nn.Embedding(embedding_dim=embedding_size,\n",
        "                                    num_embeddings=num_embeddings,\n",
        "                                    padding_idx=padding_idx,\n",
        "                                    _weight=pretrained_embeddings)\t\n",
        "    \n",
        "    self.lstm = nn.LSTM(input_size=embedding_size, \n",
        "                        hidden_size=rnn_hidden_size,\n",
        "                        num_layers=n_layers, \n",
        "                        dropout=dropout_rec,\n",
        "                        batch_first=True,\n",
        "                        bidirectional=bidirectional)\n",
        "  \n",
        "    if bidirectional:\n",
        "        self.fc1 = nn.Linear(2 * rnn_hidden_size, hidden_dim)\n",
        "    else:\n",
        "        self.fc1 = nn.Linear(rnn_hidden_size, hidden_dim)\n",
        "\n",
        "    self.fc2 = nn.Linear(hidden_dim, out_dim)\n",
        "\t\t\n",
        "  def attention_net(self, lstm_output, final_state):\n",
        "\n",
        "    hidden = final_state.squeeze(0)\n",
        "    attn_weights = torch.bmm(lstm_output, hidden.unsqueeze(2)).squeeze(2)\n",
        "\n",
        "    soft_attn_weights = F.softmax(attn_weights, 1)\n",
        "    new_hidden_state = torch.bmm(lstm_output.transpose(1, 2), soft_attn_weights.unsqueeze(2)).squeeze(2)\n",
        "    return new_hidden_state\n",
        "\n",
        "  def forward(self, input_sentences, apply_sigmoid=False):\n",
        "\n",
        "    batchsize, seq_length = input_sentences.size()\n",
        "    x_length = input_sentences[:,0]\n",
        "\n",
        "    input_sentences = input_sentences[:,1:]\n",
        "    input_sentences = input_sentences.t()\n",
        "    x_embedded = self.emb(input_sentences)\n",
        "    x_embedded = x_embedded.permute(1, 0, 2)\n",
        "    output, (final_hidden_state, final_cell_state) = self.lstm(x_embedded)  \n",
        "    attn_output = self.attention_net(output, final_hidden_state)\n",
        "\n",
        "    prediction = F.relu(self.fc1(attn_output))\n",
        "\n",
        "    prediction = self.fc2(prediction).squeeze()\n",
        "\n",
        "\n",
        "    if apply_sigmoid:\n",
        "      prediction = F.sigmoid(prediction)\n",
        "\n",
        "    return prediction"
      ],
      "execution_count": 0,
      "outputs": []
    },
    {
      "cell_type": "markdown",
      "metadata": {
        "id": "Mwngiqd8kocK",
        "colab_type": "text"
      },
      "source": [
        "##6.h RCNN"
      ]
    },
    {
      "cell_type": "code",
      "metadata": {
        "id": "_73YV_pbktRv",
        "colab_type": "code",
        "colab": {}
      },
      "source": [
        "class RCNNClassifier(nn.Module):\n",
        "  def __init__(self, embedding_size, num_embeddings, out_dim, rnn_hidden_size, pretrained_embeddings=None, padding_idx=0, dropout_rec=0.1, \n",
        "               bidirectional=True, n_layers=1, dropout_p=0.5):\n",
        "    super(RCNNClassifier, self).__init__()\n",
        "    if pretrained_embeddings is None:\n",
        "      self.emb = nn.Embedding(embedding_dim=embedding_size,\n",
        "                              num_embeddings=num_embeddings,\n",
        "                              padding_idx=padding_idx)        \n",
        "    else:\n",
        "      pretrained_embeddings = torch.from_numpy(pretrained_embeddings).float()\n",
        "      self.emb = nn.Embedding(embedding_dim=embedding_size,\n",
        "                                    num_embeddings=num_embeddings,\n",
        "                                    padding_idx=padding_idx,\n",
        "                                    _weight=pretrained_embeddings)\n",
        "\n",
        "    self._dropout_p = dropout_p\n",
        "    self.lstm = nn.LSTM(input_size=embedding_size, \n",
        "                        hidden_size=rnn_hidden_size,\n",
        "                        num_layers=n_layers, \n",
        "                        dropout=dropout_rec,\n",
        "                        batch_first=False, \n",
        "                        bidirectional=bidirectional)\n",
        "  \n",
        "    if bidirectional:\n",
        "      self.fc1 = nn.Linear(2 * rnn_hidden_size + embedding_size, rnn_hidden_size) \n",
        "    else:\n",
        "      self.fc1 = nn.Linear(rnn_hidden_size + embedding_size, rnn_hidden_size) \n",
        "    self.fc2 = nn.Linear(rnn_hidden_size, out_dim)\n",
        "\t\t\n",
        "  def forward(self, input_sentence, apply_sigmoid=False):\n",
        "   \n",
        "    x_embedded = self.emb(input_sentence) \n",
        "    x_embedded = x_embedded.permute(1, 0, 2) \n",
        "\n",
        "    output, (final_hidden_state, final_cell_state) = self.lstm(x_embedded)\n",
        "    final_encoding = torch.cat((output, x_embedded), 2).permute(1, 0, 2)\n",
        "    y = self.fc1(final_encoding) \n",
        "    y = y.permute(0, 2, 1) \n",
        "    y = F.max_pool1d(y, y.size()[2]) \n",
        "    y = y.squeeze(2)\n",
        "    prediction = self.fc2(y).squeeze()\n",
        "    if apply_sigmoid:\n",
        "      prediction = F.sigmoid(prediction)\n",
        "    return prediction"
      ],
      "execution_count": 0,
      "outputs": []
    },
    {
      "cell_type": "markdown",
      "metadata": {
        "id": "hQJv4-62_Ixn",
        "colab_type": "text"
      },
      "source": [
        "## 6.i. Encoder + Generator (Rationales)"
      ]
    },
    {
      "cell_type": "markdown",
      "metadata": {
        "id": "hxHnE4fE_NpE",
        "colab_type": "text"
      },
      "source": [
        "In the paper Rationalizing Neural Predictions (https://arxiv.org/pdf/1606.04155.pdf), the authors use the encoder described in cell 6.d. of this notebook and a generator to generate rationales."
      ]
    },
    {
      "cell_type": "code",
      "metadata": {
        "id": "fJS-7zbQuMtz",
        "colab_type": "code",
        "colab": {}
      },
      "source": [
        "class myEncoder(nn.Module):\n",
        "    def __init__(self, embedding_size, num_embeddings, \n",
        "                 rnn_hidden_size, hidden_dim, dropout_p, out_dim,\n",
        "                 pretrained_embeddings=None, padding_idx=0,kernel_size=3):\n",
        "        \n",
        "        super(myEncoder, self).__init__()\n",
        "\n",
        "        if pretrained_embeddings is None:\n",
        "\n",
        "            self.emb = nn.Embedding(embedding_dim=embedding_size,\n",
        "                                    num_embeddings=num_embeddings,\n",
        "                                    padding_idx=padding_idx)        \n",
        "        else:\n",
        "            pretrained_embeddings = torch.from_numpy(pretrained_embeddings).float()\n",
        "            self.emb = nn.Embedding(embedding_dim=embedding_size,\n",
        "                                    num_embeddings=num_embeddings,\n",
        "                                    padding_idx=padding_idx,\n",
        "                                    _weight=pretrained_embeddings)\n",
        "        \n",
        "        self.rnn = nn.GRU(input_size=embedding_size, \n",
        "                          hidden_size=rnn_hidden_size,\n",
        "                          batch_first=True,\n",
        "                          bidirectional=False)\n",
        "        \n",
        "\n",
        "        self._dropout_p = dropout_p\n",
        "        self.fc1 = nn.Linear(rnn_hidden_size, out_dim)\n",
        "\n",
        "\n",
        "    def forward(self, x_in, z=None,apply_sigmoid=False,train=True):\n",
        "        \n",
        "        batchsize,seq_length = x_in.size()\n",
        "        x_length = x_in[:,0]\n",
        "\n",
        "        x_in = x_in[:,1:]\n",
        "\n",
        "        x_embedded = self.emb(x_in)\n",
        "        \n",
        "        if (z is not None):\n",
        "          x_in = x_in * z\n",
        "        \n",
        "\n",
        "\n",
        "        y_out, _ = self.rnn(x_embedded)\n",
        "\n",
        "        features = []\n",
        "        for i in range(batchsize):\n",
        "          features.append(y_out[i,x_length[i],:])\n",
        "\n",
        "        features = torch.stack(features)\n",
        "        if train:\n",
        "          features = F.dropout(features, p=self._dropout_p)\n",
        "        prediction = self.fc1(features).squeeze()\n",
        "        \n",
        "        if apply_sigmoid:\n",
        "            prediction = F.sigmoid(prediction)\n",
        "\n",
        "        return prediction"
      ],
      "execution_count": 0,
      "outputs": []
    },
    {
      "cell_type": "code",
      "metadata": {
        "id": "PfGqgMEp_NL_",
        "colab_type": "code",
        "colab": {}
      },
      "source": [
        "class myGenerator(nn.Module):\n",
        "    def __init__(self, embedding_size, num_embeddings, \n",
        "                 rnn_hidden_size, hidden_dim, num_layers,\n",
        "                 size_s, pretrained_embeddings=None, \n",
        "                 padding_idx=0,kernel_size=3):\n",
        "       \n",
        "        \n",
        "        super(myGenerator, self).__init__()\n",
        "\n",
        "        if pretrained_embeddings is None:\n",
        "\n",
        "            self.emb = nn.Embedding(embedding_dim=embedding_size,\n",
        "                                    num_embeddings=num_embeddings,\n",
        "                                    padding_idx=padding_idx)        \n",
        "        else:\n",
        "            pretrained_embeddings = torch.from_numpy(pretrained_embeddings).float()\n",
        "            self.emb = nn.Embedding(embedding_dim=embedding_size,\n",
        "                                    num_embeddings=num_embeddings,\n",
        "                                    padding_idx=padding_idx,\n",
        "                                    _weight=pretrained_embeddings)\n",
        "        \n",
        "        self.rnn = nn.LSTM(input_size=embedding_size, \n",
        "                          hidden_size=rnn_hidden_size,\n",
        "                          num_layers=num_layers,\n",
        "                          batch_first=True,\n",
        "                          bidirectional=True)\n",
        "        \n",
        "        self.num_layers = num_layers\n",
        "        self.rnn_hidden_size = rnn_hidden_size\n",
        "        self.s_size = size_s\n",
        "        self.rnn_cond = nn.LSTM(2 * rnn_hidden_size + 1, size_s, 1)\n",
        "        self.fc1 = nn.Linear(2 * rnn_hidden_size+ size_s, 1)\n",
        "\n",
        "    def logProb(self, x_in, z, init_hidden, use_cuda=True):\n",
        "        lstm_i2h_h0, lstm_i2h_c0, lstm_h2s_h0, lstm_h2s_c0 = init_hidden\n",
        "\n",
        "\n",
        "        x_length = x_in[:,0] - 1\n",
        "        x_in = x_in[:,1:]\n",
        "        batch_size, seq_len = x_in.size()\n",
        "\n",
        "        x_embedded = self.emb(x_in)\n",
        "\n",
        "        x_embedded = torch.transpose(x_embedded, 1, 0) # (seqlength,batchsize,embsize)\n",
        "\n",
        "        hidden_features, _ = self.rnn(x_embedded, (lstm_i2h_h0, lstm_i2h_c0))\n",
        "\n",
        "\n",
        "        z_transformed = torch.transpose(z, 1, 0)\n",
        "        z_transformed_unsqueezed = torch.unsqueeze(z_transformed, 2)  \n",
        " \n",
        "        s_h2s, (_, _) = self.rnn_cond(torch.cat((hidden_features, z_transformed_unsqueezed), dim=2), (lstm_h2s_h0, lstm_h2s_c0))\n",
        "\n",
        "        if use_cuda:\n",
        "          log_p_z = Variable(torch.zeros((batch_size)).cuda())\n",
        "        else:\n",
        "          log_p_z = Variable(torch.zeros((batch_size)))\n",
        "\n",
        "        for i in range(seq_len):\n",
        "          if (i == 0):\n",
        "            cur_p_z = self.fc1(torch.cat((hidden_i2h[i], lstm_h2s_h0[0]), dim=1))\n",
        "          else:\n",
        "            cur_p_z = self.fc1(torch.cat((hidden_i2h[i], s_h2s[i - 1]), dim=1))\n",
        "\n",
        "          cur_p_z = F.sigmoid(torch.squeeze(cur_p_z, 1))\n",
        "          cur_p_z = z_transformed[i] * cur_p_z + (1 - z_transformed[i]) * (1 - cur_p_z)\n",
        "          cur_log_p_z = torch.log(cur_p_z)\n",
        "\n",
        "          log_p_z = log_p_z + cur_log_p_z\n",
        "\n",
        "        return log_p_z\n",
        "\n",
        "\n",
        "    def sample(self, x_in, init_hidden, use_cuda=True):\n",
        "        lstm_i2h_h0, lstm_i2h_c0, lstm_h2s_h0, lstm_h2s_c0 = init_hidden\n",
        "\n",
        "        x_length = x_in[:,0] - 1\n",
        "        x_in = x_in[:,1:]\n",
        "        batch_size, seq_len = x_in.size()\n",
        "        x = self.emb(x_in)\n",
        "        #x = torch.transpose(self.emb(x_in), 1, 0)\n",
        "\n",
        "        hidden_i2h , (_, _) = self.rnn(x, (lstm_i2h_h0, lstm_i2h_c0))\n",
        "\n",
        "        hidden_i2h = torch.transpose(hidden_i2h, 0,1)  \n",
        "        if use_cuda:\n",
        "          z = torch.zeros((seq_len, batch_size)).cuda()\n",
        "        else:\n",
        "          z = torch.zeros((seq_len, batch_size))\n",
        "\n",
        "        z = Variable(z)\n",
        "\n",
        "        s_h2s_h = lstm_h2s_h0\n",
        "        s_h2s_c = lstm_h2s_c0\n",
        "\n",
        "        for i in range(seq_len):\n",
        "          cur_p_z = self.fc1(torch.cat((hidden_i2h[i], s_h2s_h[0]), dim=1))\n",
        "\n",
        "          cur_p_z = F.sigmoid(torch.squeeze(cur_p_z, 1))\n",
        "          m = Bernoulli(cur_p_z)\n",
        "          z[i] = m.sample()\n",
        "\n",
        "\n",
        "          cat_hidden_z = torch.unsqueeze(torch.cat((hidden_i2h[i], torch.unsqueeze(z[i], 1)), dim=1), 0)\n",
        "          _, (s_h2s_h, s_h2s_c) = self.rnn_cond(cat_hidden_z, (s_h2s_h, s_h2s_c))\n",
        "\n",
        "\n",
        "        return torch.transpose(z, 1, 0)\n",
        "\n",
        "    def initHidden(self, batch_size, use_cuda=True):\n",
        "      if use_cuda:\n",
        "        lstm_i2h_h0 = Variable(torch.zeros(self.num_layers * 2, batch_size, self.rnn_hidden_size).cuda())\n",
        "        lstm_i2h_c0 = Variable(torch.zeros(self.num_layers * 2, batch_size, self.rnn_hidden_size).cuda())\n",
        "\n",
        "        lstm_h2s_h0 = Variable(torch.zeros(1 * 1, batch_size, self.s_size).cuda())\n",
        "        lstm_h2s_c0 = Variable(torch.zeros(1 * 1, batch_size, self.s_size).cuda())\n",
        "\n",
        "      else:\n",
        "        lstm_i2h_h0 = Variable(torch.zeros(self.num_layers * 2, batch_size, self.rnn_hidden_size))\n",
        "        lstm_i2h_c0 = Variable(torch.zeros(self.num_layers * 2, batch_size, self.rnn_hidden_size))\n",
        "\n",
        "        lstm_h2s_h0 = Variable(torch.zeros(1 * 1, batch_size, self.s_size))\n",
        "        lstm_h2s_c0 = Variable(torch.zeros(1 * 1, batch_size, self.s_size))\n",
        "\n",
        "      return lstm_i2h_h0, lstm_i2h_c0, lstm_h2s_h0, lstm_h2s_c0\n",
        "\n",
        "    def loss(self, z):\n",
        "\n",
        "      length_cost = torch.sum(z, dim=1)\n",
        "      l_padded_mask =  torch.cat([z[:,0].unsqueeze(1), z] , dim=1)\n",
        "      r_padded_mask =  torch.cat([z, z[:,-1].unsqueeze(1)] , dim=1)\n",
        "      continuity_cost = torch.sum(torch.abs(r_padded_mask - l_padded_mask), dim=1)\n",
        "      return length_cost, continuity_cost"
      ],
      "execution_count": 0,
      "outputs": []
    },
    {
      "cell_type": "markdown",
      "metadata": {
        "id": "mIT36j5NqHSv",
        "colab_type": "text"
      },
      "source": [
        "# 7. Préparation"
      ]
    },
    {
      "cell_type": "markdown",
      "metadata": {
        "id": "KE9fsZC5-fTR",
        "colab_type": "text"
      },
      "source": [
        "les différents paramètres du modèle, du dataset, et d'entrainements à un seul endroit !"
      ]
    },
    {
      "cell_type": "code",
      "metadata": {
        "id": "ffbjBLz6k98G",
        "colab_type": "code",
        "outputId": "994c8eee-e0d5-4ebc-a216-413b20f32557",
        "colab": {
          "base_uri": "https://localhost:8080/",
          "height": 87
        }
      },
      "source": [
        "args = Namespace(\n",
        "    # Data and Path information\n",
        "    frequency_cutoff=5,\n",
        "    model_state_file='model.pth',\n",
        "    comments_csv='toxic_comments.csv',\n",
        "    save_dir='model_storage',\n",
        "    vectorizer_file='vectorizer.json',\n",
        "    glove_filepath='glove.twitter.27B.50d.txt',\n",
        "    balanced=True,\n",
        "    binary=False, #Est-ce que l'output est binaire (good/bad) ou multilabel ?\n",
        "    fine_grained=True,\n",
        "    max_length=800,\n",
        "    length_out=True,\n",
        "    preprocess=True,\n",
        "    # Model hyper parameters\n",
        "    model=\"GRU2\",\n",
        "    bigrams=False, # A mettre a True seulement pour FastText\n",
        "    use_glove=False,\n",
        "    embedding_size=50, \n",
        "    hidden_dim=50,\n",
        "    num_channels=128,\n",
        "    rnn_hidden_size=100,\n",
        "    kernel_size=3,\n",
        "    out_dim=7, #Nombre de labels = 1 ou 7 (6 particulier + 1 general)\n",
        "    # For the generator\n",
        "    num_samples = 20,\n",
        "    gen_num_layers = 1,\n",
        "    gen_s_size = 30,\n",
        "    # Training hyper parameters\n",
        "    batch_size=64,\n",
        "    early_stopping_criteria=3,\n",
        "    learning_rate=0.001,\n",
        "    num_epochs=10,\n",
        "    seed=1337, \n",
        "    dropout_p=0.3, \n",
        "    dropout_rec=0.2,  # Droupout LSTM\n",
        "    # Runtime options\n",
        "    catch_keyboard_interrupt=True,\n",
        "    cuda=True,\n",
        "    expand_filepaths_to_save_dir=True,\n",
        "    reload_from_files=False,\n",
        ")\n",
        "\n",
        "if args.binary:\n",
        "  assert(args.out_dim == 1)\n",
        "if args.expand_filepaths_to_save_dir:\n",
        "    args.vectorizer_file = os.path.join(args.save_dir,\n",
        "                                        args.vectorizer_file)\n",
        "\n",
        "    args.model_state_file = os.path.join(args.save_dir,\n",
        "                                         args.model_state_file)\n",
        "    \n",
        "    print(\"Expanded filepaths: \")\n",
        "    print(\"\\t{}\".format(args.vectorizer_file))\n",
        "    print(\"\\t{}\".format(args.model_state_file))\n",
        "    \n",
        "# Check CUDA\n",
        "if not torch.cuda.is_available():\n",
        "    args.cuda = False\n",
        "\n",
        "print(\"Using CUDA: {}\".format(args.cuda))\n",
        "\n",
        "args.device = torch.device(\"cuda\" if args.cuda else \"cpu\")\n",
        "\n",
        "# Set seed for reproducibility\n",
        "set_seed_everywhere(args.seed, args.cuda)\n",
        "\n",
        "# handle dirs\n",
        "handle_dirs(args.save_dir)"
      ],
      "execution_count": 0,
      "outputs": [
        {
          "output_type": "stream",
          "text": [
            "Expanded filepaths: \n",
            "\tmodel_storage/vectorizer.json\n",
            "\tmodel_storage/model.pth\n",
            "Using CUDA: True\n"
          ],
          "name": "stdout"
        }
      ]
    },
    {
      "cell_type": "markdown",
      "metadata": {
        "id": "W4K1pWvH-qUO",
        "colab_type": "text"
      },
      "source": [
        "Cette cellulle créé tout ce qu'on a défini au dessus !"
      ]
    },
    {
      "cell_type": "code",
      "metadata": {
        "id": "KvjCGCAclife",
        "colab_type": "code",
        "outputId": "8248a213-0f8a-44a8-a4e8-81032a6826f2",
        "colab": {
          "base_uri": "https://localhost:8080/",
          "height": 52
        }
      },
      "source": [
        "print(\"Loading dataset and creating vectorizer\")\n",
        "# create dataset and vectorizer\n",
        "dataset = CommentDataset.load_dataset_and_make_vectorizer(args.comments_csv,\n",
        "                                                          args.balanced,\n",
        "                                                          args.binary,\n",
        "                                                          args.fine_grained,\n",
        "                                                          args.max_length,\n",
        "                                                          args.length_out, \n",
        "                                                          args.preprocess)\n",
        "dataset.save_vectorizer(args.vectorizer_file)    \n",
        "vectorizer = dataset.get_vectorizer()\n",
        "# Use GloVe or randomly initialized embeddings\n",
        "if args.use_glove:\n",
        "    words = vectorizer.comment_vocab._token_to_idx.keys()\n",
        "    embeddings = make_embedding_matrix(glove_filepath=args.glove_filepath, \n",
        "                                       words=words)\n",
        "    print(\"Using pre-trained embeddings\")\n",
        "else:\n",
        "    print(\"Not using pre-trained embeddings\")\n",
        "    embeddings = None\n",
        "\n",
        "if args.model == \"MLP1\":\n",
        "  classifier = MLPClassifier(embedding_size=args.embedding_size, \n",
        "                              num_embeddings=len(vectorizer.comment_vocab),\n",
        "                              hidden_dim=args.hidden_dim, \n",
        "                              dropout_p=args.dropout_p,\n",
        "                              out_dim =args.out_dim,\n",
        "                              pretrained_embeddings=embeddings,\n",
        "                              length_out=args.length_out,\n",
        "                              padding_idx=0)\n",
        "  \n",
        "elif args.model == \"FastText\":\n",
        "  classifier = FastText(embedding_size=args.embedding_size, \n",
        "                        num_embeddings=len(vectorizer.comment_vocab),\n",
        "                        hidden_dim=args.hidden_dim, \n",
        "                        dropout_p=args.dropout_p,\n",
        "                        out_dim =args.out_dim,\n",
        "                        length_out=args.length_out,\n",
        "                        padding_idx=0)\n",
        "\n",
        "elif args.model == \"CNN1\":\n",
        "\n",
        "  classifier = CNNClassifier(embedding_size=args.embedding_size, \n",
        "                            num_embeddings=len(vectorizer.comment_vocab),\n",
        "                            num_channels=args.num_channels, \n",
        "                            hidden_dim=args.hidden_dim,\n",
        "                            dropout_p=args.dropout_p,\n",
        "                            kernel_size=args.kernel_size,\n",
        "                            out_dim =args.out_dim,\n",
        "                            pretrained_embeddings=embeddings,\n",
        "                            length_out=args.length_out,\n",
        "                            padding_idx=0)\n",
        "\n",
        "\n",
        "elif args.model == \"GRU1\":\n",
        "\n",
        "  classifier = GRUClassifier(embedding_size=args.embedding_size, \n",
        "                            num_embeddings=len(vectorizer.comment_vocab),\n",
        "                            rnn_hidden_size=args.rnn_hidden_size,\n",
        "                            num_channels=args.num_channels,\n",
        "                            hidden_dim=args.hidden_dim,\n",
        "                            dropout_p=args.dropout_p,\n",
        "                            kernel_size=args.kernel_size,\n",
        "                            out_dim =args.out_dim,\n",
        "                            pretrained_embeddings=embeddings,\n",
        "                            length_out=args.length_out,\n",
        "                            padding_idx=0)\n",
        "\n",
        "elif args.model == \"GRU2\":\n",
        "  assert(args.length_out)\n",
        "  classifier = GRUClassifier2(embedding_size=args.embedding_size, \n",
        "                            num_embeddings=len(vectorizer.comment_vocab),\n",
        "                            rnn_hidden_size=args.rnn_hidden_size,\n",
        "                            hidden_dim=args.hidden_dim,\n",
        "                            dropout_p=args.dropout_p,\n",
        "                            kernel_size=args.kernel_size,\n",
        "                            out_dim =args.out_dim,\n",
        "                            pretrained_embeddings=embeddings,\n",
        "                            padding_idx=0)\n",
        "\n",
        "elif args.model == \"LSTM\":\n",
        "\n",
        "  classifier = LSTMClassifier(embedding_size=args.embedding_size, \n",
        "                            num_embeddings=len(vectorizer.comment_vocab),\n",
        "                            rnn_hidden_size=args.rnn_hidden_size,\n",
        "                            hidden_dim=args.hidden_dim,\n",
        "                            dropout_p=args.dropout_p,\n",
        "                            kernel_size=args.kernel_size,\n",
        "                            out_dim =args.out_dim,\n",
        "                            pretrained_embeddings=embeddings,\n",
        "                            padding_idx=0)\n",
        "\n",
        "elif args.model == \"LSTMAttention\":\n",
        "  classifier = LSTMAttentionClassifier(embedding_size=args.embedding_size, \n",
        "                            num_embeddings=len(vectorizer.comment_vocab),\n",
        "                            rnn_hidden_size=args.rnn_hidden_size,\n",
        "                            dropout_rec=args.dropout_rec,\n",
        "                            hidden_dim=args.hidden_dim,\n",
        "                            out_dim =args.out_dim,\n",
        "                            pretrained_embeddings=embeddings,\n",
        "                            padding_idx=0)\n",
        "  \n",
        "elif args.model == \"RCNN\":\n",
        "  classifier = RCNNClassifier(embedding_size=args.embedding_size, \n",
        "                            num_embeddings=len(vectorizer.comment_vocab),\n",
        "                            rnn_hidden_size=args.rnn_hidden_size,\n",
        "                            dropout_rec=args.dropout_rec,\n",
        "                            out_dim =args.out_dim,\n",
        "                            pretrained_embeddings=embeddings,\n",
        "                            padding_idx=0)\n",
        "\n",
        "elif args.model == \"RAT\":\n",
        "  assert(args.length_out)\n",
        "  classifier = myEncoder(embedding_size=args.embedding_size, \n",
        "                            num_embeddings=len(vectorizer.comment_vocab),\n",
        "                            rnn_hidden_size=args.rnn_hidden_size,\n",
        "                            hidden_dim=args.hidden_dim,\n",
        "                            dropout_p=args.dropout_p,\n",
        "                            kernel_size=args.kernel_size,\n",
        "                            out_dim =args.out_dim,\n",
        "                            pretrained_embeddings=embeddings,\n",
        "                            padding_idx=0)\n",
        "  \n",
        "  generator = myGenerator(embedding_size=args.embedding_size, \n",
        "                            num_embeddings=len(vectorizer.comment_vocab),\n",
        "                            rnn_hidden_size=args.rnn_hidden_size,\n",
        "                            hidden_dim=args.hidden_dim,\n",
        "                            num_layers = args.gen_num_layers,\n",
        "                            size_s = args.gen_s_size,\n",
        "                            pretrained_embeddings=embeddings,\n",
        "                            kernel_size=args.kernel_size,\n",
        "                            padding_idx=0)"
      ],
      "execution_count": 0,
      "outputs": [
        {
          "output_type": "stream",
          "text": [
            "Loading dataset and creating vectorizer\n",
            "Not using pre-trained embeddings\n"
          ],
          "name": "stdout"
        }
      ]
    },
    {
      "cell_type": "code",
      "metadata": {
        "id": "myQKG6pQvEKT",
        "colab_type": "code",
        "outputId": "ea96c281-1a7f-40b3-9f26-eafc91ee820c",
        "colab": {
          "base_uri": "https://localhost:8080/"
        }
      },
      "source": [
        "def count_parameters(model): \n",
        "  return sum(p.numel() for p in model.parameters() if p.requires_grad) \n",
        "\n",
        "count_parameters(classifier)"
      ],
      "execution_count": 0,
      "outputs": [
        {
          "output_type": "execute_result",
          "data": {
            "text/plain": [
              "94257"
            ]
          },
          "metadata": {
            "tags": []
          },
          "execution_count": 80
        }
      ]
    },
    {
      "cell_type": "code",
      "metadata": {
        "id": "XCvk7zeWJdDT",
        "colab_type": "code",
        "outputId": "56a9faad-1518-48af-981e-2a0d6f03369e",
        "colab": {
          "base_uri": "https://localhost:8080/"
        }
      },
      "source": [
        "dataset.train_df.head()"
      ],
      "execution_count": 0,
      "outputs": [
        {
          "output_type": "execute_result",
          "data": {
            "text/html": [
              "<div>\n",
              "<style scoped>\n",
              "    .dataframe tbody tr th:only-of-type {\n",
              "        vertical-align: middle;\n",
              "    }\n",
              "\n",
              "    .dataframe tbody tr th {\n",
              "        vertical-align: top;\n",
              "    }\n",
              "\n",
              "    .dataframe thead th {\n",
              "        text-align: right;\n",
              "    }\n",
              "</style>\n",
              "<table border=\"1\" class=\"dataframe\">\n",
              "  <thead>\n",
              "    <tr style=\"text-align: right;\">\n",
              "      <th></th>\n",
              "      <th>clean</th>\n",
              "      <th>comment_text</th>\n",
              "      <th>identity_hate</th>\n",
              "      <th>insult</th>\n",
              "      <th>obscene</th>\n",
              "      <th>severe_toxic</th>\n",
              "      <th>split</th>\n",
              "      <th>threat</th>\n",
              "      <th>toxic</th>\n",
              "    </tr>\n",
              "  </thead>\n",
              "  <tbody>\n",
              "    <tr>\n",
              "      <th>0</th>\n",
              "      <td>False</td>\n",
              "      <td>going fucking say bay murphy forums biased bel...</td>\n",
              "      <td>0</td>\n",
              "      <td>0</td>\n",
              "      <td>1</td>\n",
              "      <td>0</td>\n",
              "      <td>train</td>\n",
              "      <td>0</td>\n",
              "      <td>1</td>\n",
              "    </tr>\n",
              "    <tr>\n",
              "      <th>1</th>\n",
              "      <td>False</td>\n",
              "      <td>arthur rubin want thank like fuck want erase ...</td>\n",
              "      <td>0</td>\n",
              "      <td>1</td>\n",
              "      <td>1</td>\n",
              "      <td>0</td>\n",
              "      <td>train</td>\n",
              "      <td>0</td>\n",
              "      <td>1</td>\n",
              "    </tr>\n",
              "    <tr>\n",
              "      <th>2</th>\n",
              "      <td>False</td>\n",
              "      <td>anonymous gay afambro fuck</td>\n",
              "      <td>1</td>\n",
              "      <td>1</td>\n",
              "      <td>1</td>\n",
              "      <td>0</td>\n",
              "      <td>train</td>\n",
              "      <td>0</td>\n",
              "      <td>1</td>\n",
              "    </tr>\n",
              "    <tr>\n",
              "      <th>3</th>\n",
              "      <td>False</td>\n",
              "      <td>putting stupid comments articles result accoun...</td>\n",
              "      <td>0</td>\n",
              "      <td>0</td>\n",
              "      <td>0</td>\n",
              "      <td>0</td>\n",
              "      <td>train</td>\n",
              "      <td>0</td>\n",
              "      <td>1</td>\n",
              "    </tr>\n",
              "    <tr>\n",
              "      <th>4</th>\n",
              "      <td>False</td>\n",
              "      <td>boobies tatas taters hooters funbags tits hoot...</td>\n",
              "      <td>0</td>\n",
              "      <td>0</td>\n",
              "      <td>1</td>\n",
              "      <td>0</td>\n",
              "      <td>train</td>\n",
              "      <td>0</td>\n",
              "      <td>1</td>\n",
              "    </tr>\n",
              "  </tbody>\n",
              "</table>\n",
              "</div>"
            ],
            "text/plain": [
              "   clean                                       comment_text  ...  threat  toxic\n",
              "0  False  going fucking say bay murphy forums biased bel...  ...       0      1\n",
              "1  False   arthur rubin want thank like fuck want erase ...  ...       0      1\n",
              "2  False                         anonymous gay afambro fuck  ...       0      1\n",
              "3  False  putting stupid comments articles result accoun...  ...       0      1\n",
              "4  False  boobies tatas taters hooters funbags tits hoot...  ...       0      1\n",
              "\n",
              "[5 rows x 9 columns]"
            ]
          },
          "metadata": {
            "tags": []
          },
          "execution_count": 81
        }
      ]
    },
    {
      "cell_type": "code",
      "metadata": {
        "id": "dMgQOdc1cKIe",
        "colab_type": "code",
        "colab": {}
      },
      "source": [
        "dataset.set_split('train')\n",
        "batch_generator = generate_batches_sorted(dataset, \n",
        "                                  batch_size=args.batch_size, \n",
        "                                  device=args.device)\n",
        "batch_index, batch_dict = next(enumerate(batch_generator))\n",
        "\n",
        "batch_dict['x_data'].size()\n",
        "\n",
        "print(batch_dict['x_data'][-5:])"
      ],
      "execution_count": 0,
      "outputs": []
    },
    {
      "cell_type": "markdown",
      "metadata": {
        "id": "mO1rzhQkoVUO",
        "colab_type": "text"
      },
      "source": [
        "# 8. Simple Baselines"
      ]
    },
    {
      "cell_type": "markdown",
      "metadata": {
        "id": "g-t4Y9C2m-5D",
        "colab_type": "text"
      },
      "source": [
        "## 8.a. Preprocessing"
      ]
    },
    {
      "cell_type": "markdown",
      "metadata": {
        "id": "hMN0KZgzoYT3",
        "colab_type": "text"
      },
      "source": [
        "Un peu de pre-processing pour les methodes"
      ]
    },
    {
      "cell_type": "code",
      "metadata": {
        "id": "DbHjoGF9olz8",
        "colab_type": "code",
        "colab": {}
      },
      "source": [
        "X_train = dataset.train_df['comment_text']\n",
        "X_val = dataset.val_df['comment_text']\n",
        "X_test = dataset.test_df['comment_text']\n",
        "\n",
        "if args.binary:\n",
        "  y_train = dataset.train_df['clean']\n",
        "  y_val = dataset.val_df['clean']\n",
        "  y_test = dataset.test_df['clean']\n",
        "else:\n",
        "  # TODO: Complete the multi-class case\n",
        "  y_train = dataset.train_df['clean', 'identity_hate', 'insult', 'obscene', 'severe_toxic', 'severe_toxic', 'toxic']\n",
        "\n",
        "print(\"Number of clean comments: \", len(y_train[y_train == True]))\n",
        "print(\"Number of toxic comments: \", len(y_train[y_train == False]))\n",
        "\n",
        "print(\"Before cleaning:\", X_train[0])\n",
        "print(\"After training:\", clean_text(X_train[0]))\n",
        "\n",
        "if args.binary:\n",
        "  tmp_y_train = y_train[:]\n",
        "  tmp_y_train[y_train == False] = 1.0\n",
        "  tmp_y_train[y_train == True] = 0.0\n",
        "  y_train = tmp_y_train[:]\n",
        "\n",
        "  tmp_y_val = y_val[:]\n",
        "  tmp_y_val[y_val == False] = 1.0\n",
        "  tmp_y_val[y_val == True] = 0.0\n",
        "  y_val = tmp_y_val[:]\n",
        "\n",
        "  tmp_y_test = y_test[:]\n",
        "  tmp_y_test[y_test == False] = 1.0\n",
        "  tmp_y_test[y_test == True] = 0.0\n",
        "  y_test = tmp_y_test[:]"
      ],
      "execution_count": 0,
      "outputs": []
    },
    {
      "cell_type": "markdown",
      "metadata": {
        "id": "wY7yN7--eao6",
        "colab_type": "text"
      },
      "source": [
        "## 8.b. Naive Bayes "
      ]
    },
    {
      "cell_type": "markdown",
      "metadata": {
        "id": "2cwGM1fbe860",
        "colab_type": "text"
      },
      "source": [
        "Naive Bayes en utilisant TF-IDF."
      ]
    },
    {
      "cell_type": "code",
      "metadata": {
        "id": "8tnObz3aeebT",
        "colab_type": "code",
        "colab": {}
      },
      "source": [
        "text_clf = Pipeline([('vect', CountVectorizer(analyzer=clean_text)),\n",
        "                     ('tfidf', TfidfTransformer()),\n",
        "                     ('clf', MultinomialNB()),\n",
        "                     ])\n",
        "text_clf.fit(X_train, y_train)\n",
        "y_pred_val = text_clf.predict(X_val)\n",
        "y_pred_test = text_clf.predict(X_test)\n",
        "y_score_test = text_clf.predict_proba(X_test)[:, 1]\n",
        "auc = roc_auc_score(y_test, y_score_test)\n",
        "print(metrics.classification_report(y_test, y_pred_test))\n",
        "print(\"Val accuracy: \", metrics.accuracy_score(y_val, y_pred_val))\n",
        "print(\"Test accuracy: \", metrics.accuracy_score(y_test, y_pred_test))\n",
        "print(\"Test ROC-AUC: \", auc)\n",
        "print(\"Test F1 score: \", f1_score(y_test, y_pred_test))"
      ],
      "execution_count": 0,
      "outputs": []
    },
    {
      "cell_type": "markdown",
      "metadata": {
        "id": "zbwyYlS7JEAq",
        "colab_type": "text"
      },
      "source": [
        "## 8.c. Logistic Regression"
      ]
    },
    {
      "cell_type": "markdown",
      "metadata": {
        "id": "XnMdoSU2syuP",
        "colab_type": "text"
      },
      "source": [
        "Regression logistique avec TF-IDF."
      ]
    },
    {
      "cell_type": "code",
      "metadata": {
        "id": "kdALaAnTJGyk",
        "colab_type": "code",
        "colab": {}
      },
      "source": [
        "text_clf = Pipeline([('vect', CountVectorizer(analyzer=clean_text)),\n",
        "                     ('tfidf', TfidfTransformer()),\n",
        "                     ('clf', LogisticRegression()),\n",
        "                     ])\n",
        "text_clf.fit(X_train, y_train)\n",
        "y_pred_val = text_clf.predict(X_val)\n",
        "y_pred_test = text_clf.predict(X_test)\n",
        "y_score_test = text_clf.predict_proba(X_test)[:, 1]\n",
        "auc = roc_auc_score(y_test, y_score_test)\n",
        "print(metrics.classification_report(y_test, y_pred_test))\n",
        "print(\"Val accuracy: \", metrics.accuracy_score(y_val, y_pred_val))\n",
        "print(\"Test accuracy: \", metrics.accuracy_score(y_test, y_pred_test))\n",
        "print(\"ROC-AUC: \", auc)\n",
        "print(\"Test F1 score: \", f1_score(y_test, y_pred_test))"
      ],
      "execution_count": 0,
      "outputs": []
    },
    {
      "cell_type": "markdown",
      "metadata": {
        "id": "H6PELxXfoKJv",
        "colab_type": "text"
      },
      "source": [
        "## 8.d. Gradient Boosting"
      ]
    },
    {
      "cell_type": "markdown",
      "metadata": {
        "id": "DHrTl_nHs2dk",
        "colab_type": "text"
      },
      "source": [
        "Gradient Boosting avec TF-IDF"
      ]
    },
    {
      "cell_type": "code",
      "metadata": {
        "id": "uUtM9UnWoNpO",
        "colab_type": "code",
        "colab": {}
      },
      "source": [
        "text_clf = Pipeline([('vect', CountVectorizer(analyzer=clean_text)),\n",
        "                     ('tfidf', TfidfTransformer()),\n",
        "                     ('clf', GradientBoostingClassifier(n_estimators=200)),\n",
        "                     ])\n",
        "text_clf.fit(X_train, y_train)\n",
        "y_pred_val = text_clf.predict(X_val)\n",
        "y_pred_test = text_clf.predict(X_test)\n",
        "y_score_test = text_clf.predict_proba(X_test)[:, 1]\n",
        "auc = roc_auc_score(y_test, y_score_test)\n",
        "print(metrics.classification_report(y_test, y_pred_test))\n",
        "print(\"Val accuracy: \", metrics.accuracy_score(y_val, y_pred_val))\n",
        "print(\"Test accuracy: \", metrics.accuracy_score(y_test, y_pred_test))\n",
        "print(\"ROC-AUC: \", auc)\n",
        "print(\"Test F1 score: \", f1_score(y_test, y_pred_test))"
      ],
      "execution_count": 0,
      "outputs": []
    },
    {
      "cell_type": "markdown",
      "metadata": {
        "id": "-hHIrRn7v_Jq",
        "colab_type": "text"
      },
      "source": [
        "## 8.e. SVM "
      ]
    },
    {
      "cell_type": "markdown",
      "metadata": {
        "id": "5Dy6g968wFtN",
        "colab_type": "text"
      },
      "source": [
        "SVM avec TF-IDF "
      ]
    },
    {
      "cell_type": "code",
      "metadata": {
        "id": "OMfDWQfQwHa8",
        "colab_type": "code",
        "colab": {}
      },
      "source": [
        "text_clf = Pipeline([('vect', CountVectorizer(analyzer=clean_text)),\n",
        "                     ('tfidf', TfidfTransformer()),\n",
        "                     ('clf', LinearSVC()),\n",
        "                     ])\n",
        "text_clf.fit(X_train, y_train)\n",
        "y_pred_val = text_clf.predict(X_val)\n",
        "y_pred_test = text_clf.predict(X_test)\n",
        "auc = roc_auc_score(y_test, y_score_test)\n",
        "print(metrics.classification_report(y_test, y_pred_test))\n",
        "print(\"Val accuracy: \", metrics.accuracy_score(y_val, y_pred_val))\n",
        "print(\"Test accuracy: \", metrics.accuracy_score(y_test, y_pred_test))\n",
        "print(\"ROC-AUC: \", auc)\n",
        "print(\"Test F1 score: \", f1_score(y_test, y_pred_test))"
      ],
      "execution_count": 0,
      "outputs": []
    },
    {
      "cell_type": "markdown",
      "metadata": {
        "id": "A9-1sadLxALq",
        "colab_type": "text"
      },
      "source": [
        "## 8.e. Random Forest"
      ]
    },
    {
      "cell_type": "markdown",
      "metadata": {
        "id": "GmWRDNpnxJZ1",
        "colab_type": "text"
      },
      "source": [
        "Random Forest avec TF-IDF "
      ]
    },
    {
      "cell_type": "code",
      "metadata": {
        "id": "f9IX-04NxDw-",
        "colab_type": "code",
        "colab": {}
      },
      "source": [
        "text_clf = Pipeline([('vect', CountVectorizer(analyzer=clean_text)),\n",
        "                     ('tfidf', TfidfTransformer()),\n",
        "                     ('clf', RandomForestClassifier(n_estimators=100)),\n",
        "                     ])\n",
        "text_clf.fit(X_train, y_train)\n",
        "y_pred_val = text_clf.predict(X_val)\n",
        "y_pred_test = text_clf.predict(X_test)\n",
        "y_score_test = text_clf.predict_proba(X_test)[:, 1]\n",
        "auc = roc_auc_score(y_test, y_score_test)\n",
        "print(metrics.classification_report(y_test, y_pred_test))\n",
        "print(\"Val accuracy: \", metrics.accuracy_score(y_val, y_pred_val))\n",
        "print(\"Test accuracy: \", metrics.accuracy_score(y_test, y_pred_test))\n",
        "print(\"ROC-AUC: \", auc)\n",
        "print(\"Test F1 score: \", f1_score(y_test, y_pred_test))"
      ],
      "execution_count": 0,
      "outputs": []
    },
    {
      "cell_type": "markdown",
      "metadata": {
        "id": "-IPi6U8B9q0w",
        "colab_type": "text"
      },
      "source": [
        "# 9. Transformers "
      ]
    },
    {
      "cell_type": "markdown",
      "metadata": {
        "id": "SSvTj1hMnRiq",
        "colab_type": "text"
      },
      "source": [
        "La bibliothèque Simple Transformers rend l'utilisation des transformers ridiculement simple"
      ]
    },
    {
      "cell_type": "code",
      "metadata": {
        "id": "k2MiYJRI9slg",
        "colab_type": "code",
        "colab": {}
      },
      "source": [
        "train_df = dataset.train_df.copy()\n",
        "test_df = dataset.test_df.copy()\n",
        "\n",
        "if args.binary:\n",
        "  train_df['labels'] = y_train\n",
        "  test_df['labels'] = y_test\n",
        "\n",
        "else:\n",
        "  train_df['labels'] = list(zip(train_df.toxic.tolist(), train_df.severe_toxic.tolist(), train_df.obscene.tolist(), train_df.threat.tolist(), train_df.insult.tolist(), train_df.identity_hate.tolist()))\n",
        "  test_df['labels'] = list(zip(y_test, test_df.toxic.tolist(), test_df.severe_toxic.tolist(), test_df.obscene.tolist(), test_df.threat.tolist(), test_df.insult.tolist(), test_df.identity_hate.tolist()))\n",
        "\n",
        "train_df['text'] = train_df['comment_text'].apply(lambda x: x.replace('\\n', ' '))\n",
        "test_df['text'] = test_df['comment_text'].apply(lambda x: x.replace('\\n', ' '))\n",
        "\n",
        "train_df.head()\n",
        "\n",
        "if args.binary:\n",
        "  model = ClassificationModel('roberta', 'roberta-base', args={'train_batch_size':64, 'gradient_accumulation_steps':16, 'learning_rate': 1e-4, 'num_train_epochs': 2, 'max_seq_length': 200})\n",
        "else:\n",
        "  model = MultiLabelClassificationModel('roberta', 'roberta-base', num_labels=2, args={'train_batch_size':64, 'gradient_accumulation_steps':16, 'learning_rate': 1e-4, 'num_train_epochs': 2, 'max_seq_length': 200})\n",
        "\n",
        "model.train_model(train_df)\n"
      ],
      "execution_count": 0,
      "outputs": []
    },
    {
      "cell_type": "code",
      "metadata": {
        "id": "8Gye4RJtTIO1",
        "colab_type": "code",
        "colab": {}
      },
      "source": [
        "result, model_outputs, wrong_predictions = model.eval_model(test_df)"
      ],
      "execution_count": 0,
      "outputs": []
    },
    {
      "cell_type": "code",
      "metadata": {
        "id": "5-d40p4jNIaI",
        "colab_type": "code",
        "colab": {}
      },
      "source": [
        "y_pred = model_outputs.copy()\n",
        "y_pred[y_pred < 0.5] = 0.\n",
        "y_pred[y_pred >= 0.5] = 1.\n",
        "y_test = list([list(y) for y in test_df['labels']])\n",
        "M = confusion_multi(torch.Tensor(np.array(y_pred)), torch.Tensor(np.array(y_test)))"
      ],
      "execution_count": 0,
      "outputs": []
    },
    {
      "cell_type": "code",
      "metadata": {
        "id": "Nc_pZI-J8TqF",
        "colab_type": "code",
        "outputId": "cb5334b8-96ac-4b20-a4b7-7d1f72546eec",
        "colab": {
          "base_uri": "https://localhost:8080/",
          "height": 372
        }
      },
      "source": [
        "print(M)"
      ],
      "execution_count": 0,
      "outputs": [
        {
          "output_type": "stream",
          "text": [
            "tensor([[[14074.,   259.],\n",
            "         [  320.,  1302.]],\n",
            "\n",
            "        [[14145.,   289.],\n",
            "         [  312.,  1209.]],\n",
            "\n",
            "        [[15740.,    70.],\n",
            "         [   76.,    69.]],\n",
            "\n",
            "        [[14907.,   211.],\n",
            "         [  113.,   724.]],\n",
            "\n",
            "        [[15920.,     0.],\n",
            "         [   35.,     0.]],\n",
            "\n",
            "        [[14895.,   288.],\n",
            "         [  194.,   578.]],\n",
            "\n",
            "        [[15844.,     0.],\n",
            "         [  111.,     0.]]])\n"
          ],
          "name": "stdout"
        }
      ]
    },
    {
      "cell_type": "markdown",
      "metadata": {
        "id": "r7WUUi6MqLJa",
        "colab_type": "text"
      },
      "source": [
        "# 10. Training loop"
      ]
    },
    {
      "cell_type": "markdown",
      "metadata": {
        "id": "uiDI0qGJ-wc8",
        "colab_type": "text"
      },
      "source": [
        "On initialize tout ça et on créé des jolies barre de progression :D"
      ]
    },
    {
      "cell_type": "code",
      "metadata": {
        "id": "2FQSjlSemqoc",
        "colab_type": "code",
        "outputId": "9ff3bb7c-94aa-49d8-96e6-5a7139854887",
        "colab": {
          "base_uri": "https://localhost:8080/",
          "height": 237,
          "referenced_widgets": [
            "88360ae646084e15ab617a553dc411c1",
            "c4c106e8bac946c4950a0416f55dfd27",
            "7af1cb1a6ddf45489f81c42303e5802e",
            "9d4c760dc7f74696b58f5d3831be1940",
            "2b07d5eedb6248e4812eef32f25dfa40",
            "c3c6bc422fce459c9cc405819a25cb41",
            "c1df7b3ceb3a4a87910c83023d86c36a",
            "baa0e8764b124ba69cc565c4c642ef37",
            "389d9b04e50b4029b08ff07063692c03",
            "36fd162b4b824ab1ae318a114e003f7a",
            "78347e09293b478cb89c558113bc8ada",
            "4dd2e0354550419996b6f3b1fff2d43e",
            "7947704ce7f74f5f826d6eabe8615805",
            "fd309f4b3ee94c9aa98892d5552af1c4",
            "dfdaf8e5589e43cf9ac6c39c68efa3b1",
            "2c2eb91bfa9647cfbe07017930a92655",
            "d558b60f475a4f5aaa86d3e255e409cc",
            "cf2584f426544db78c5147b96457adbb",
            "79464192d77b4730944d0e23090ff0a6",
            "62c345e5bf3d4008a7f12bc4cbfc90dd",
            "aee3f757910942dcaedcc8bdfdb42f87",
            "4dd4ca1c81de4ff392560349f463c378",
            "8f669ff328694e049fa208794617b893",
            "bcd557aef58e4fd6bfbc1b00594a8498"
          ]
        }
      },
      "source": [
        "classifier = classifier.to(args.device)\n",
        "    \n",
        "loss_func = nn.BCEWithLogitsLoss()\n",
        "optimizer = optim.Adam(classifier.parameters(), lr=args.learning_rate)\n",
        "scheduler = optim.lr_scheduler.ReduceLROnPlateau(optimizer=optimizer,\n",
        "                                           mode='min', factor=0.5,\n",
        "                                           patience=5)\n",
        "\n",
        "train_state = make_train_state(args)\n",
        "\n",
        "epoch_bar = tqdm_notebook(desc='training routine', \n",
        "                          total=args.num_epochs,\n",
        "                          position=0)\n",
        "\n",
        "dataset.set_split('train')\n",
        "train_bar = tqdm_notebook(desc='split=train',\n",
        "                          total=dataset.get_num_batches(args.batch_size), \n",
        "                          position=1, \n",
        "                          leave=True)\n",
        "dataset.set_split('val')\n",
        "val_bar = tqdm_notebook(desc='split=val',\n",
        "                        total=dataset.get_num_batches(args.batch_size), \n",
        "                        position=1, \n",
        "                        leave=True)"
      ],
      "execution_count": 0,
      "outputs": [
        {
          "output_type": "stream",
          "text": [
            "/usr/local/lib/python3.6/dist-packages/ipykernel_launcher.py:13: TqdmDeprecationWarning: This function will be removed in tqdm==5.0.0\n",
            "Please use `tqdm.notebook.tqdm` instead of `tqdm.tqdm_notebook`\n",
            "  del sys.path[0]\n"
          ],
          "name": "stderr"
        },
        {
          "output_type": "display_data",
          "data": {
            "application/vnd.jupyter.widget-view+json": {
              "model_id": "88360ae646084e15ab617a553dc411c1",
              "version_minor": 0,
              "version_major": 2
            },
            "text/plain": [
              "HBox(children=(FloatProgress(value=0.0, description='training routine', max=10.0, style=ProgressStyle(descript…"
            ]
          },
          "metadata": {
            "tags": []
          }
        },
        {
          "output_type": "stream",
          "text": [
            "/usr/local/lib/python3.6/dist-packages/ipykernel_launcher.py:19: TqdmDeprecationWarning: This function will be removed in tqdm==5.0.0\n",
            "Please use `tqdm.notebook.tqdm` instead of `tqdm.tqdm_notebook`\n"
          ],
          "name": "stderr"
        },
        {
          "output_type": "display_data",
          "data": {
            "application/vnd.jupyter.widget-view+json": {
              "model_id": "389d9b04e50b4029b08ff07063692c03",
              "version_minor": 0,
              "version_major": 2
            },
            "text/plain": [
              "HBox(children=(FloatProgress(value=0.0, description='split=train', max=1745.0, style=ProgressStyle(description…"
            ]
          },
          "metadata": {
            "tags": []
          }
        },
        {
          "output_type": "stream",
          "text": [
            "/usr/local/lib/python3.6/dist-packages/ipykernel_launcher.py:24: TqdmDeprecationWarning: This function will be removed in tqdm==5.0.0\n",
            "Please use `tqdm.notebook.tqdm` instead of `tqdm.tqdm_notebook`\n"
          ],
          "name": "stderr"
        },
        {
          "output_type": "display_data",
          "data": {
            "application/vnd.jupyter.widget-view+json": {
              "model_id": "d558b60f475a4f5aaa86d3e255e409cc",
              "version_minor": 0,
              "version_major": 2
            },
            "text/plain": [
              "HBox(children=(FloatProgress(value=0.0, description='split=val', max=498.0, style=ProgressStyle(description_wi…"
            ]
          },
          "metadata": {
            "tags": []
          }
        }
      ]
    },
    {
      "cell_type": "markdown",
      "metadata": {
        "id": "ziJbE7oU-1Gu",
        "colab_type": "text"
      },
      "source": [
        "Et c'est partit pour l'entrainement !"
      ]
    },
    {
      "cell_type": "code",
      "metadata": {
        "id": "I3TDWBJSq5S8",
        "colab_type": "code",
        "colab": {}
      },
      "source": [
        "try:\n",
        "    for epoch_index in range(args.num_epochs):\n",
        "        train_state['epoch_index'] = epoch_index\n",
        "\n",
        "        # Iterate over training dataset\n",
        "\n",
        "        # setup: batch generator, set loss and acc to 0, set train mode on\n",
        "\n",
        "        dataset.set_split('train')\n",
        "        batch_generator = generate_batches(dataset, \n",
        "                                           batch_size=args.batch_size, \n",
        "                                           device=args.device, \n",
        "                                           balanced=args.balanced)\n",
        "        running_loss = 0.0\n",
        "        running_acc = 0.0\n",
        "        classifier.train()\n",
        "\n",
        "        for batch_index, batch_dict in enumerate(batch_generator):\n",
        "            # the training routine is these 5 steps:\n",
        "            y_target_cpu = batch_dict['y_target'].cpu().numpy()\n",
        "            # --------------------------------------\n",
        "            # step 1. zero the gradients\n",
        "            optimizer.zero_grad()\n",
        "\n",
        "            # step 2. compute the output\n",
        "            y_pred = classifier(batch_dict['x_data'])\n",
        "            y_target = batch_dict['y_target']\n",
        "            if not(args.binary):\n",
        "              y_pred = y_pred.view(-1)\n",
        "              y_target = y_target.view(-1)\n",
        "\n",
        "            # step 3. compute the loss\n",
        "            loss = loss_func(y_pred, y_target.float())\n",
        "            loss_t = loss.item()\n",
        "            running_loss += (loss_t - running_loss) / (batch_index + 1)\n",
        "\n",
        "            # step 4. use loss to produce gradients\n",
        "            loss.backward()\n",
        "\n",
        "            # step 5. use optimizer to take gradient step\n",
        "            optimizer.step()\n",
        "            # -----------------------------------------\n",
        "            # compute the accuracy\n",
        "            acc_t = compute_accuracy(y_pred, y_target)\n",
        "            running_acc += (acc_t - running_acc) / (batch_index + 1)\n",
        "\n",
        "            # update bar\n",
        "            train_bar.set_postfix(loss=running_loss, acc=running_acc, \n",
        "                                  epoch=epoch_index)\n",
        "            train_bar.update()\n",
        "\n",
        "        train_state['train_loss'].append(running_loss)\n",
        "        train_state['train_acc'].append(running_acc)\n",
        "\n",
        "        # Iterate over val dataset\n",
        "\n",
        "        # setup: batch generator, set loss and acc to 0; set eval mode on\n",
        "        dataset.set_split('val')\n",
        "        batch_generator = generate_batches(dataset, \n",
        "                                           batch_size=args.batch_size, \n",
        "                                           device=args.device)\n",
        "        running_loss = 0.\n",
        "        running_acc = 0.\n",
        "        classifier.eval()\n",
        "\n",
        "        with torch.no_grad():\n",
        "          for batch_index, batch_dict in enumerate(batch_generator):\n",
        "\n",
        "              # compute the output\n",
        "              y_pred = classifier(batch_dict['x_data'])\n",
        "              y_target = batch_dict['y_target']\n",
        "              if not(args.binary):\n",
        "                y_pred = y_pred.view(-1)\n",
        "                y_target = y_target.view(-1)\n",
        "\n",
        "              # step 3. compute the loss\n",
        "              loss = loss_func(y_pred, y_target.float())\n",
        "              loss_t = loss.item()\n",
        "              running_loss += (loss_t - running_loss) / (batch_index + 1)\n",
        "\n",
        "              # compute the accuracy\n",
        "              acc_t = compute_accuracy(y_pred, y_target)\n",
        "              running_acc += (acc_t - running_acc) / (batch_index + 1)\n",
        "              val_bar.set_postfix(loss=running_loss, acc=running_acc, \n",
        "                              epoch=epoch_index)\n",
        "              val_bar.update()\n",
        "\n",
        "        train_state['val_loss'].append(running_loss)\n",
        "        train_state['val_acc'].append(running_acc)\n",
        "\n",
        "        train_state = update_train_state(args=args, model=classifier,\n",
        "                                         train_state=train_state)\n",
        "\n",
        "        scheduler.step(train_state['val_loss'][-1])\n",
        "\n",
        "        if train_state['stop_early']:\n",
        "            break\n",
        "\n",
        "        train_bar.n = 0\n",
        "        val_bar.n = 0\n",
        "        epoch_bar.update()\n",
        "except KeyboardInterrupt:\n",
        "    print(\"Exiting loop\")"
      ],
      "execution_count": 0,
      "outputs": []
    },
    {
      "cell_type": "markdown",
      "metadata": {
        "id": "5_7cGsBW6tFz",
        "colab_type": "text"
      },
      "source": [
        "# 11. Evolution"
      ]
    },
    {
      "cell_type": "markdown",
      "metadata": {
        "id": "zBMXySg1-4cq",
        "colab_type": "text"
      },
      "source": [
        "Une petite étude de l'évolution de la loss et de l'accuracy au cours de epochs"
      ]
    },
    {
      "cell_type": "code",
      "metadata": {
        "id": "5KrvmFPt6uKf",
        "colab_type": "code",
        "colab": {}
      },
      "source": [
        "train_loss = train_state['train_loss']\n",
        "train_acc = train_state['train_acc']\n",
        "val_loss = train_state['val_loss']\n",
        "val_acc = train_state['val_acc']\n",
        "\n",
        "plt.plot(train_loss,label=\"train\")\n",
        "plt.plot(val_loss,label=\"val\")\n",
        "plt.legend()\n",
        "plt.title(\"Evolution of the loss\")\n",
        "plt.xlabel(\"epoch\")\n",
        "plt.show()\n",
        "\n",
        "plt.plot(train_acc,label=\"train\")\n",
        "plt.plot(val_acc,label=\"val\")\n",
        "plt.legend()\n",
        "plt.title(\"Evolution of the accuracy\")\n",
        "plt.xlabel(\"epoch\")\n",
        "plt.show()\n",
        "\n"
      ],
      "execution_count": 0,
      "outputs": []
    },
    {
      "cell_type": "markdown",
      "metadata": {
        "id": "DyL9aM0HQo99",
        "colab_type": "text"
      },
      "source": [
        "On calcule l'AUC. "
      ]
    },
    {
      "cell_type": "code",
      "metadata": {
        "id": "RoZ22QabQoQA",
        "colab_type": "code",
        "colab": {}
      },
      "source": [
        "classifier.eval().cuda()\n",
        "n_chunks = 8\n",
        "dataset.set_split('test')\n",
        "batch_generator = generate_batches(dataset, \n",
        "                                  batch_size=int(dataset.test_size / n_chunks), \n",
        "                                  device=args.device)\n",
        "y_score = np.array([])\n",
        "y_test = np.array([])\n",
        "\n",
        "for batch_dict in batch_generator:\n",
        "  y_score = np.concatenate((y_score, torch.sigmoid(classifier(batch_dict['x_data'])).cpu().detach().numpy()))\n",
        "  y_test = np.concatenate((y_test, batch_dict['y_target'].cpu().detach().numpy()))\n",
        "\n",
        "#y_test = batch_dict['y_target'].cpu().detach().numpy()\n",
        "print(y_score[:20])\n",
        "y_pred_test = np.zeros(len(y_score))\n",
        "y_pred_test[y_score > 0.5] = 1.0\n",
        "print(metrics.classification_report(y_test, y_pred_test))\n",
        "auc = roc_auc_score(y_test, y_score)\n",
        "acc = accuracy_score(y_test, y_pred_test)\n",
        "f1 = f1_score(y_test, y_pred_test)\n",
        "rec = recall_score(y_test, y_pred_test)\n",
        "print(\"Test F1 score: \", f1)\n",
        "print(\"ROC-AUC: \", auc)"
      ],
      "execution_count": 0,
      "outputs": []
    },
    {
      "cell_type": "markdown",
      "metadata": {
        "id": "vE4e89dN3atO",
        "colab_type": "text"
      },
      "source": [
        "## 12. Inference (qualitative)"
      ]
    },
    {
      "cell_type": "markdown",
      "metadata": {
        "id": "0jhJ3izE-8Mx",
        "colab_type": "text"
      },
      "source": [
        "Regardons quelques exemples de prédictions"
      ]
    },
    {
      "cell_type": "code",
      "metadata": {
        "id": "87DTPFy54X-5",
        "colab_type": "code",
        "colab": {}
      },
      "source": [
        "def preprocess_text(text):\n",
        "    text = ' '.join(word.lower() for word in text.split(\" \"))\n",
        "    text = re.sub(r\"([.,!?])\", r\" \\1 \", text)\n",
        "    text = re.sub(r\"[^a-zA-Z.,!?]+\", r\" \", text)\n",
        "    return text"
      ],
      "execution_count": 0,
      "outputs": []
    },
    {
      "cell_type": "code",
      "metadata": {
        "id": "Bzf7zNxSrPI_",
        "colab_type": "code",
        "colab": {}
      },
      "source": [
        "def predict_category(comment, classifier, vectorizer, max_length,i=-1):\n",
        "    comment = preprocess_text(comment)\n",
        "    vectorized_comment = \\\n",
        "        torch.tensor(vectorizer.vectorize(comment, vector_length=max_length))\n",
        "    result = classifier(vectorized_comment.unsqueeze(0), apply_sigmoid=True).squeeze()\n",
        "    \n",
        "    if i == -1:\n",
        "      out = result.item()\n",
        "    else:\n",
        "      out = result[i].item()\n",
        "    return {'probability': out}"
      ],
      "execution_count": 0,
      "outputs": []
    },
    {
      "cell_type": "code",
      "metadata": {
        "id": "yuqzbZph4ixt",
        "colab_type": "code",
        "colab": {}
      },
      "source": [
        "def get_samples_binary(max_s=5):\n",
        "    samples = {}\n",
        "    for cat in dataset.val_df.clean.unique():\n",
        "        samples[cat] = dataset.val_df.comment_text[dataset.val_df.clean==cat].sample(max_s).tolist()\n",
        "    return samples\n",
        "\n",
        "def get_samples_multi(max_s=5):\n",
        "    labels = []\n",
        "    samples = {}\n",
        "    samples[\"clean\"] = dataset.val_df.comment_text[dataset.val_df.clean==True].sample(max_s).tolist()\n",
        "    samples[\"identity_hate\"] = dataset.val_df.comment_text[dataset.val_df.identity_hate==1].sample(max_s).tolist()\n",
        "    samples[\"insult\"] = dataset.val_df.comment_text[dataset.val_df.insult==1].sample(max_s).tolist()\n",
        "    samples[\"obscene\"] = dataset.val_df.comment_text[dataset.val_df.obscene==1].sample(max_s).tolist()\n",
        "    samples[\"severe_toxic\"] = dataset.val_df.comment_text[dataset.val_df.severe_toxic==1].sample(max_s).tolist()\n",
        "    samples[\"threat\"] = dataset.val_df.comment_text[dataset.val_df.threat==1].sample(max_s).tolist()\n",
        "    samples[\"toxic\"] = dataset.val_df.comment_text[dataset.val_df.toxic==1].sample(max_s).tolist()\n",
        "    return samples\n"
      ],
      "execution_count": 0,
      "outputs": []
    },
    {
      "cell_type": "code",
      "metadata": {
        "id": "tAr7Tsp94yXQ",
        "colab_type": "code",
        "colab": {}
      },
      "source": [
        "if args.binary:\n",
        "  val_samples = get_samples_binary(5)\n",
        "  classifier = classifier.to(\"cpu\")\n",
        "\n",
        "  for truth, sample_group in val_samples.items():\n",
        "      print(f\"True Category: {truth}\")\n",
        "      print(\"=\"*30)\n",
        "      for sample in sample_group:\n",
        "          prediction = predict_category(sample, classifier, \n",
        "                                        vectorizer, dataset._max_seq_length + 1)\n",
        "          print(\"Prediction:(p={:0.2f})\".format( prediction['probability']))\n",
        "          print(\"\\t + Sample: {}\".format(sample))\n",
        "      print(\"-\"*30 + \"\\n\")\n",
        "else:\n",
        "  val_samples = get_samples_multi(5)\n",
        "  classifier = classifier.to(\"cpu\")\n",
        "  i = 0\n",
        "  for truth, sample_group in val_samples.items():\n",
        "      print(f\"True Category: {truth}\")\n",
        "      print(\"=\"*30)\n",
        "      for sample in sample_group:\n",
        "          prediction = predict_category(sample, classifier, \n",
        "                                        vectorizer, dataset._max_seq_length + 1,i)\n",
        "          print(\"Prediction:(p={:0.2f})\".format( prediction['probability']))\n",
        "          print(\"\\t + Sample: {}\".format(sample))\n",
        "      i += 1\n",
        "      print(\"-\"*30 + \"\\n\")"
      ],
      "execution_count": 0,
      "outputs": []
    },
    {
      "cell_type": "markdown",
      "metadata": {
        "id": "mGlB_qUKHL9U",
        "colab_type": "text"
      },
      "source": [
        "Below is a biais detector"
      ]
    },
    {
      "cell_type": "code",
      "metadata": {
        "id": "G3Iu47ULFKrj",
        "colab_type": "code",
        "colab": {}
      },
      "source": [
        "comment_list = [\"white people\",\"black people\",\"I am heterosexual\",\"I am homosexual\",\"I am gay\",\"I am a man\",\"I am a woman\"]\n",
        "classifier = classifier.to(\"cpu\")\n",
        "\n",
        "if args.binary:\n",
        "      print(\"=\"*30)\n",
        "      for comment in comment_list:\n",
        "        prediction = predict_category(comment, classifier, \n",
        "                                      vectorizer, dataset._max_seq_length + 1)\n",
        "        print(\"Sample : {}\".format(comment))\n",
        "        print(\"Toxicity:(p={:0.2f})\".format( prediction['probability']))\n",
        "else:\n",
        "      print(\"=\"*30)\n",
        "      for comment in comment_list:\n",
        "        print(\"Sample : {}\".format(comment))\n",
        "        for i in range(7):\n",
        "          prediction = predict_category(comment, classifier, \n",
        "                                            vectorizer, dataset._max_seq_length + 1,i)\n",
        "          print(prediction['probability'])"
      ],
      "execution_count": 0,
      "outputs": []
    },
    {
      "cell_type": "code",
      "metadata": {
        "id": "0TP7D8on-6oZ",
        "colab_type": "code",
        "colab": {}
      },
      "source": [
        "comment = 'lol'#input()\n",
        "classifier = classifier.to(\"cpu\")\n",
        "\n",
        "if args.binary:\n",
        "      print(\"=\"*30)\n",
        "      prediction = predict_category(comment, classifier, \n",
        "                                    vectorizer, dataset._max_seq_length + 1)\n",
        "      print(\"Prediction:(p={:0.2f})\".format( prediction['probability']))\n",
        "else:\n",
        "      print(\"=\"*30)\n",
        "      for i in range(7):\n",
        "        prediction = predict_category(comment, classifier, \n",
        "                                          vectorizer, dataset._max_seq_length + 1,i)\n",
        "        print(prediction['probability'])"
      ],
      "execution_count": 0,
      "outputs": []
    },
    {
      "cell_type": "markdown",
      "metadata": {
        "id": "uwz7x-lu5heB",
        "colab_type": "text"
      },
      "source": [
        "# 12. Confusion (quantitative)"
      ]
    },
    {
      "cell_type": "markdown",
      "metadata": {
        "id": "B8ujuk9g_EAc",
        "colab_type": "text"
      },
      "source": [
        "L'accuracy n'est pas une mesure suffisante dans notre cas, on veut regarder les cas commentaires toxique/non toxique séparemment"
      ]
    },
    {
      "cell_type": "code",
      "metadata": {
        "id": "SteHWTAY44KU",
        "colab_type": "code",
        "colab": {}
      },
      "source": [
        "def confusion_multi(y_pred, y_target):\n",
        "    out_dim = y_pred.size(-1)\n",
        "    M = torch.zeros((out_dim,2,2))\n",
        "    l = len(y_target)\n",
        "    y_target = y_target.cpu()\n",
        "    y_pred_indices = (torch.sigmoid(y_pred)>0.5).cpu()\n",
        "    for j in range(out_dim):\n",
        "      for i in range(l):\n",
        "        M[j,int(y_target[i][j]),int(y_pred_indices[i][j])] += 1\n",
        "    return M\n",
        "\n",
        "\n",
        "def confusion_binary(y_pred, y_target):\n",
        "    M = torch.zeros((1,2,2))\n",
        "    l = len(y_target)\n",
        "    y_target = y_target.cpu()\n",
        "    y_pred_indices = (torch.sigmoid(y_pred)>0.5).cpu()\n",
        "    for i in range(l):\n",
        "      M[0,int(y_target[i]),int(y_pred_indices[i])] += 1\n",
        "    return M\n",
        "\n"
      ],
      "execution_count": 0,
      "outputs": []
    },
    {
      "cell_type": "code",
      "metadata": {
        "id": "9YU33pPG7pvK",
        "colab_type": "code",
        "colab": {}
      },
      "source": [
        "classifier.eval().cuda()\n",
        "dataset.set_split('val')\n",
        "batch_generator = generate_batches(dataset, \n",
        "                                  batch_size=args.batch_size, \n",
        "                                  device=args.device)\n",
        "\n",
        "M = torch.zeros((args.out_dim,2,2))\n",
        "for batch_index, batch_dict in enumerate(batch_generator):\n",
        "\n",
        "  y_pred =  classifier(batch_dict['x_data'])\n",
        "  if args.binary:\n",
        "    M_t = confusion_binary(y_pred, batch_dict['y_target'])\n",
        "  else:\n",
        "    M_t = confusion_multi(y_pred, batch_dict['y_target'])\n",
        "  M += M_t\n"
      ],
      "execution_count": 0,
      "outputs": []
    },
    {
      "cell_type": "code",
      "metadata": {
        "id": "EEbtase3BmuN",
        "colab_type": "code",
        "colab": {}
      },
      "source": [
        "for i in range(args.out_dim):\n",
        "  print(M[i])"
      ],
      "execution_count": 0,
      "outputs": []
    },
    {
      "cell_type": "markdown",
      "metadata": {
        "id": "xG_nVXiYV-W8",
        "colab_type": "text"
      },
      "source": [
        "# 13. Analyse Rationales "
      ]
    },
    {
      "cell_type": "code",
      "metadata": {
        "id": "G_uPQVHpXAlO",
        "colab_type": "code",
        "colab": {}
      },
      "source": [
        "def generate_rationale(comment, generator, vectorizer, max_length,i=-1):\n",
        "    comment = preprocess_text(comment)\n",
        "    vectorized_comment = \\\n",
        "        torch.tensor(vectorizer.vectorize(comment, vector_length=max_length))\n",
        "\n",
        "    init_hidden = generator.initHidden(1)\n",
        "    z = generator.sample(vectorized_comment.unsqueeze(0),init_hidden)\n",
        "    print(z)"
      ],
      "execution_count": 0,
      "outputs": []
    },
    {
      "cell_type": "code",
      "metadata": {
        "id": "zs40eHjCV9d_",
        "colab_type": "code",
        "colab": {}
      },
      "source": [
        "if args.binary:\n",
        "  val_samples = get_samples_binary(5)\n",
        "  classifier = classifier.to(\"cpu\")\n",
        "  generator = generator.to(\"cpu\")\n",
        "\n",
        "  for truth, sample_group in val_samples.items():\n",
        "      print(f\"True Category: {truth}\")\n",
        "      print(\"=\"*30)\n",
        "      for sample in sample_group:\n",
        "          #prediction = predict_category(sample, classifier, \n",
        "                                        #vectorizer, dataset._max_seq_length + 1)\n",
        "          prediction = generate_rationale(sample, generator, \n",
        "                                        vectorizer, dataset._max_seq_length + 1)\n",
        "          print(\"\\t + Sample: {}\".format(sample))\n",
        "      print(\"-\"*30 + \"\\n\")"
      ],
      "execution_count": 0,
      "outputs": []
    },
    {
      "cell_type": "markdown",
      "metadata": {
        "id": "HSRLJ6ygahqc",
        "colab_type": "text"
      },
      "source": [
        "# 14. Results"
      ]
    },
    {
      "cell_type": "code",
      "metadata": {
        "colab_type": "code",
        "id": "JkOFVXGXdBja",
        "colab": {}
      },
      "source": [
        "sid = '10'\n",
        "g = ''\n",
        "num_channels = '-'\n",
        "kernel_size = '-'\n",
        "\n",
        "if args.use_glove:\n",
        "  g = 'G'\n",
        "if args.model == 'CNN1' or args.model == 'GRU1':\n",
        "  num_channels = args.num_channels\n",
        "  kernel_size = args.kernel_size\n",
        "if args.fine_grained:\n",
        "  level = 'char'\n",
        "else:\n",
        "  level = 'words'\n",
        "result = ''\n",
        "if args.binary:\n",
        "  result = sid + ' | ' + args.model + ' | ' + g + str(args.embedding_size) + ' | ' + \\\n",
        "  str(args.num_epochs) + ' | ' + str(args.dropout_p) + ' | ' + str(args.batch_size) + ' | ' + str(args.learning_rate) + ' | ' + \\\n",
        "  str(args.hidden_dim) + ' | ' + str(num_channels) + ' | ' + str(kernel_size) + ' | ' + \\\n",
        "  str(args.max_length) + ' | ' + level + ' | ' + f\"{acc * 100:.2f}\" + ' | ' + f\"{min(val_loss):.3f}\"  + \\\n",
        "  ' | ' + f\"{auc * 100:.2f}\" + ' | ' + f\"{rec * 100:.2f}\" + ' | ' + f\"{f1 * 100:.2f}\" + ' | ' + str(args.balanced)\n",
        "  print(result)\n",
        "else:\n",
        "  acc = train_state['val_acc'][-1]\n",
        "  stats = []\n",
        "  for i in range(M.shape[0]):\n",
        "    # Now we are in each 2 x 2 matrix\n",
        "    # Special treatment for clean/unclean\n",
        "    if i == 0:\n",
        "      stats.append(f\"{100 * M[i, 0, 0] / (M[i, 0, 0] + M[i, 0, 1]):.2f}\")\n",
        "\n",
        "    stats.append(f\"{100 * M[i, 1, 1] / (M[i, 1, 1] + M[i, 1, 0]):.2f}\")\n",
        "  print(stats)\n",
        "  result = sid + ' | ' + args.model + ' | ' + g + str(args.embedding_size) + ' | ' + \\\n",
        "  str(args.num_epochs) + ' | ' + str(args.dropout_p) + ' | ' + str(args.batch_size) + ' | ' + str(args.learning_rate) + ' | ' + \\\n",
        "  str(args.hidden_dim) + ' | ' + str(num_channels) + ' | ' + str(kernel_size) + ' | ' + \\\n",
        "  str(args.max_length) + ' | ' + level + ' | ' + f\"{acc:.2f}\" + '|' + f\"{min(val_loss):.3f}\" + \\\n",
        "  '|' + ' | '.join(stats) "
      ],
      "execution_count": 0,
      "outputs": []
    },
    {
      "cell_type": "markdown",
      "metadata": {
        "id": "ujrh8LcqMNZR",
        "colab_type": "text"
      },
      "source": [
        "Baselines binary:\n",
        "\n",
        "id | Model used | max length | accuracy | Recall | F1 | AUC\n",
        "--- | --- | --- | ---| --- | --- | --- \n",
        "1 | Naive Bayes | 800 | 91.88 | 20.51 | 33.62 | 88.26\n",
        "2 | Logistic Regression | 800 | 95.28 | 58.33 | 71.31 | 97.34\n",
        "3 | SVM | 800 | 95.83 | 69.8 | 77.27 | 92.87\n",
        "4 | Gradient Boosting | 800 | 94.44 | 49.3 | 64.24 | 92.87\n",
        "5 | Random Forest | 800 | 95.04 | 56.45 | 69.70 | 96.85\n"
      ]
    },
    {
      "cell_type": "markdown",
      "metadata": {
        "id": "xwjvjKH6RAcc",
        "colab_type": "text"
      },
      "source": [
        "Binary outputs"
      ]
    },
    {
      "cell_type": "markdown",
      "metadata": {
        "id": "mNYYodjLaj8n",
        "colab_type": "text"
      },
      "source": [
        "Binary output :\n",
        "\n",
        "\n",
        "id | Model used | Embeddings | epochs | dropout | batch size | learning rate | hidden_size | num_channels| kernel size | max length | level | accuracy | loss |AUC | Recall | F1 | Balanced\n",
        "--- | --- | --- | ---| --- | --- | --- | --- | --- | --- | --- | --- | --- | --- | --- | --- | --- | ---\n",
        "10 | MLP1 | G50 | 5 | 0.3 | 64 | 0.001 | 50 | - | - | 800 | words | 91.88 | 0.211 | 94.01 | 75.34 | 65.37 | True\n",
        "10 | FastText | G50 | 5 | 0.3 | 64 | 0.001 | 50 | - | - | 800 | words | 94.30 | 0.183 | 95.27 | 82.43 | 74.63 | True\n",
        "10 | CNN1 | G50 | 5 | 0.3 | 64 | 0.001 | 50 | 128 | 3 | 800 | words | 94.43 | 0.151 | 92.35 | 75.78 | 73.84 | True\n",
        "10 | GRU1 | G50 | 5 | 0.3 | 64 | 0.001 | 50 | 128 | 3 | 800 | words | 94.77 | 0.154 | 96.12 | 80.14 | 75.70 | True\n",
        "10 | GRU2 | G50 | 5 | 0.3 | 64 | 0.001 | 50 | - | - | 800 | words | 94.41 | 0.148 | 95.56 | 79.70 | 74.76 | True\n",
        "10 | LSTM | G50 | 3 | 0.3 | 64 | 0.001 | 50 | - | - | 800 | words | 94.30 | 0.157 | 95.46 | 83.41 | 74.84 | True\n",
        "10 | LSTMAttention | G50 | 2 | 0.3 | 64 | 0.001 | 50 | - | - | 800 | words | 95.24 | 0.137 | 97.08 | 80.70 | 77.52 | True\n",
        "10 | RCNN | G50 | 5 | 0.3 | 64 | 0.001 | 50 | - | - | 800 | words | 94.87 | 0.134 | 96.76 | 81.06 | 76.26 | True\n",
        "\n",
        "\n",
        "\n",
        "\n",
        "On note également que les embeddings entrainé sur ce dataset sont TRES biaisé (black/white, gay, etc...) alors que Glove bcp moins !\n",
        "\n",
        "Multilabel small dataset:\n",
        "\n",
        "\n",
        "id | epochs | clean | unclean | hate | insult | obscene | severe toxic | threat  |  toxic\n",
        "--- | --- | --- | --- | --- | --- | --- | --- | --- | --- \n",
        "1 | 20 | 84 % |  86 % | 1.3 % | 60 % |  65 % | 12 % |0  % | 83%\n",
        "2 | 20 | 83 % | 87% | 0.6 % | 53 % | 55 % | 5% | 0% | 85 %\n",
        "3 | 2 | 89 % | 83 % | 0% | 67% | 78% | 8% | 0% | 81% \n",
        "3 | 4 | 86 % | 91 % | 0% | 67% | 77% | 10% | 0% | 90% \n",
        "4 | 5 | 89 % | 94 % | 0% | 73% | 81% | 7 % | 0% | 94 % \n",
        "5 | 5 | 88 % | 93 % | 0% | 58% | 71% | 9 % | 0% | 89 % \n",
        "5 | 6 | 91 % | 89 % | 0% | 72% | 73% | 19 % | 0% | 88 % \n",
        "6 | 5 | 90 % | 95 % | 0% | 75% | 87% | 50 % | 0% | 86 % \n",
        "7 | 5 | 90 % | 90 % | 1.7% | 67% | 77% | 20 % | 1% | 89 % \n",
        "8 | 4 | 92 % | 94 % | 10% | 77% | 84% | 28 % | 0% | 92 % \n",
        "\n",
        "Multilabel with weighted sampling: \n",
        "\n",
        "id | Model used | Embeddings | epochs | dropout | batch size | learning rate | hidden_size | num_channels| kernel size | max length | level | accuracy | loss |clean | unclean | hate | insult | obscene | severe toxic | threat  |  toxic\n",
        "--- | --- | --- | ---| --- | --- | --- | --- | --- | --- | --- | --- | --- | --- | --- | --- | --- | --- | --- | --- | --- | --- \n",
        "10 | MLP1 | 50 | 5 | 0.3 | 64 | 0.001 | 50 | - | - | 800 | words | 95.47|0.127|92.87 | 81.42 | 2.02 | 67.97 | 72.08 | 7.99 | 0.00 | 77.07\n",
        "10 | FastText | 50 | 5 | 0.3 | 64 | 0.001 | 50 | - | - | 800 | words | 96.80|0.102|93.38 | 81.79 | 0.34 | 64.49 | 71.67 | 6.51 | 0.00 | 79.89\n",
        "10 | CNN1 | 50 | 5 | 0.3 | 64 | 0.001 | 50 | 128 | 3 | 800 | words | 96.59|0.089|94.86 | 82.72 | 0.00 | 68.59 | 78.51 | 3.26 | 0.00 | 82.50\n",
        "10 | GRU1 | 50 | 5 | 0.3 | 64 | 0.001 | 50 | 128 | 3 | 800 | words | 97.13|0.080|95.36 | 82.35 | 33.33 | 66.65 | 80.42 | 33.43 | 15.53 | 77.60\n",
        "10 | GRU2 | 50 | 5 | 0.3 | 64 | 0.001 | 50 | - | - | 800 | words | 97.38|0.087|96.81 | 78.97 | 31.42 | 59.24 | 73.12 | 38.99 | 28.16 | 76.82\n",
        "10 | LSTM | 50 | 5 | 0.3 | 64 | 0.001 | 50 | - | - | 800 | words | 97.49|0.075|96.69 | 79.81 | 15.25 | 64.45 | 78.73 | 31.75 | 0.00 | 79.88\n",
        "10 | LSTMAttention | 50 | 5 | 0.3 | 64 | 0.001 | 50 | - | - | 800 | words | 97.23|0.074|95.63 | 82.07 | 0.34 | 65.34 | 73.88 | 51.19 | 0.98 | 81.80\n",
        "10 | RCNN | 50 | 5 | 0.3 | 64 | 0.001 | 50 | - | - | 800 | words | 97.43|0.083|96.91 | 76.97 | 27.27 | 56.67 | 73.76 | 42.90 | 21.36 | 74.08\n",
        "10 | GRU1 | 50 | 10 | 0.3 | 64 | 0.001 | 50 | 128 | 3 | 800 | char | 96.59|0.090|93.91 | 78.85 | 29.29 | 65.17 | 78.77 | 39.64 | 18.45 | 75.48\n"
      ]
    }
  ]
}